{
 "cells": [
  {
   "cell_type": "markdown",
   "metadata": {
    "id": "XvhEhpGm9U8z"
   },
   "source": [
    "# Введение в искусственные нейронные сети\n",
    "# Урок 2. Keras"
   ]
  },
  {
   "cell_type": "markdown",
   "metadata": {
    "id": "NRSQbmXD9U98"
   },
   "source": [
    "## Практическое задание\n",
    "\n",
    "Используем набор примеров fashion-MNIST\n",
    "\n",
    "1.  Опишите - какой результата получен в нейросети в зависимости от:\n",
    "  -  числа нейронов в слое(для 2-хслойной сети), \n",
    "  - числа слоев (2, 3, 5, 10) при близких размерах сети (близкое число тренируемых парметров).\n",
    "  - фиксируйте для тренировочного и тестового набора метрики accuracy.\n",
    "2.  Проверьте работу разных оптимизаторов (SGD, Adam, RMSProp) для одной из моделей п.1.Фиксируйте для тренировочного и тестового набора метрики accuracy.\n",
    "\n",
    "3. Сделайте вывод - что помогло вам улучшить качество классификации в нейросети на тестовом наборе? \n",
    "\n",
    "4. Для одного варианта сетей сформируйте матрицу ошибок по классам. Оцените качество модели по каждому классу отдельно (полнота , точность). Сделайте вывод."
   ]
  },
  {
   "cell_type": "code",
   "execution_count": 2,
   "metadata": {
    "colab": {
     "base_uri": "https://localhost:8080/"
    },
    "id": "TQMMZ_jw9U9N",
    "outputId": "9ee2b8ec-8a83-46a3-98aa-c041eff34970"
   },
   "outputs": [
    {
     "name": "stdout",
     "output_type": "stream",
     "text": [
      "Downloading data from https://storage.googleapis.com/tensorflow/tf-keras-datasets/train-labels-idx1-ubyte.gz\n",
      "32768/29515 [=================================] - 0s 0us/step\n",
      "40960/29515 [=========================================] - 0s 0us/step\n",
      "Downloading data from https://storage.googleapis.com/tensorflow/tf-keras-datasets/train-images-idx3-ubyte.gz\n",
      "26427392/26421880 [==============================] - 0s 0us/step\n",
      "26435584/26421880 [==============================] - 0s 0us/step\n",
      "Downloading data from https://storage.googleapis.com/tensorflow/tf-keras-datasets/t10k-labels-idx1-ubyte.gz\n",
      "16384/5148 [===============================================================================================] - 0s 0us/step\n",
      "Downloading data from https://storage.googleapis.com/tensorflow/tf-keras-datasets/t10k-images-idx3-ubyte.gz\n",
      "4423680/4422102 [==============================] - 0s 0us/step\n",
      "4431872/4422102 [==============================] - 0s 0us/step\n",
      "(60000, 784)\n",
      "(10000, 784)\n"
     ]
    }
   ],
   "source": [
    "import numpy as np\n",
    "import pandas as pd\n",
    "import matplotlib.pyplot as plt\n",
    "import keras\n",
    "\n",
    "from keras.datasets import fashion_mnist  # наборы для работы\n",
    "from keras.models import Sequential\n",
    "from keras.layers import Dense\n",
    "from tensorflow.keras.utils import to_categorical\n",
    "\n",
    "(train_imagesi,train_labels),(test_imagesi,test_labels) = fashion_mnist.load_data()\n",
    "\n",
    "# Normalize the images.\n",
    "train_imagesi = (train_imagesi / 127) - 1\n",
    "test_imagesi = (test_imagesi / 127) - 1\n",
    "\n",
    "# Flatten the images.\n",
    "train_images = train_imagesi.reshape((-1, 784))\n",
    "test_images = test_imagesi.reshape((-1, 784))\n",
    "\n",
    "print(train_images.shape) # (60000, 784)\n",
    "print(test_images.shape)  # (10000, 784)"
   ]
  },
  {
   "cell_type": "markdown",
   "metadata": {
    "id": "HN8DNX38v4JC"
   },
   "source": [
    "Загрузка Fashion_MNIST"
   ]
  },
  {
   "cell_type": "code",
   "execution_count": 3,
   "metadata": {
    "id": "sCo5qCltOUcF"
   },
   "outputs": [],
   "source": [
    "class_names = [\"Футболка / топ\", \"Шорты\", \"Свитер\", \n",
    "               \"Платье\", \"Плащ\", \"Сандали\", \"Рубашка\",\n",
    "               \"Кроссовок\", \"Сумка\", \"Ботинок\"]\n"
   ]
  },
  {
   "cell_type": "code",
   "execution_count": 4,
   "metadata": {
    "colab": {
     "base_uri": "https://localhost:8080/"
    },
    "id": "OPmZhq1sU1Oa",
    "outputId": "b2b0096d-facb-490f-89e8-3e0b3c8b876f"
   },
   "outputs": [
    {
     "data": {
      "text/plain": [
       "(60000, 28, 28)"
      ]
     },
     "execution_count": 4,
     "metadata": {
      "tags": []
     },
     "output_type": "execute_result"
    }
   ],
   "source": [
    "train_imagesi.shape"
   ]
  },
  {
   "cell_type": "code",
   "execution_count": 5,
   "metadata": {
    "colab": {
     "base_uri": "https://localhost:8080/",
     "height": 1000
    },
    "id": "GiGEpehcOnNC",
    "outputId": "4a98b026-b7e7-4783-b4d2-dc144d6eb221"
   },
   "outputs": [
    {
     "data": {
      "image/png": "[encoded data removed]",
      "text/plain": [
       "<Figure size 432x288 with 1 Axes>"
      ]
     },
     "metadata": {
      "needs_background": "light",
      "tags": []
     },
     "output_type": "display_data"
    },
    {
     "name": "stdout",
     "output_type": "stream",
     "text": [
      "Ботинок\n"
     ]
    },
    {
     "data": {
      "image/png": "[encoded data removed]",
      "text/plain": [
       "<Figure size 432x288 with 1 Axes>"
      ]
     },
     "metadata": {
      "needs_background": "light",
      "tags": []
     },
     "output_type": "display_data"
    },
    {
     "name": "stdout",
     "output_type": "stream",
     "text": [
      "Футболка / топ\n"
     ]
    },
    {
     "data": {
      "image/png": "[encoded data removed]",
      "text/plain": [
       "<Figure size 432x288 with 1 Axes>"
      ]
     },
     "metadata": {
      "needs_background": "light",
      "tags": []
     },
     "output_type": "display_data"
    },
    {
     "name": "stdout",
     "output_type": "stream",
     "text": [
      "Футболка / топ\n"
     ]
    },
    {
     "data": {
      "image/png": "[encoded data removed]",
      "text/plain": [
       "<Figure size 432x288 with 1 Axes>"
      ]
     },
     "metadata": {
      "needs_background": "light",
      "tags": []
     },
     "output_type": "display_data"
    },
    {
     "name": "stdout",
     "output_type": "stream",
     "text": [
      "Платье\n"
     ]
    },
    {
     "data": {
      "image/png": "[encoded data removed]",
      "text/plain": [
       "<Figure size 432x288 with 1 Axes>"
      ]
     },
     "metadata": {
      "needs_background": "light",
      "tags": []
     },
     "output_type": "display_data"
    },
    {
     "name": "stdout",
     "output_type": "stream",
     "text": [
      "Футболка / топ\n"
     ]
    },
    {
     "data": {
      "image/png": "[encoded data removed]",
      "text/plain": [
       "<Figure size 432x288 with 1 Axes>"
      ]
     },
     "metadata": {
      "needs_background": "light",
      "tags": []
     },
     "output_type": "display_data"
    },
    {
     "name": "stdout",
     "output_type": "stream",
     "text": [
      "Свитер\n"
     ]
    },
    {
     "data": {
      "image/png": "[encoded data removed]",
      "text/plain": [
       "<Figure size 432x288 with 1 Axes>"
      ]
     },
     "metadata": {
      "needs_background": "light",
      "tags": []
     },
     "output_type": "display_data"
    },
    {
     "name": "stdout",
     "output_type": "stream",
     "text": [
      "Кроссовок\n"
     ]
    },
    {
     "data": {
      "image/png": "[encoded data removed]",
      "text/plain": [
       "<Figure size 432x288 with 1 Axes>"
      ]
     },
     "metadata": {
      "needs_background": "light",
      "tags": []
     },
     "output_type": "display_data"
    },
    {
     "name": "stdout",
     "output_type": "stream",
     "text": [
      "Свитер\n"
     ]
    },
    {
     "data": {
      "image/png": "[encoded data removed]",
      "text/plain": [
       "<Figure size 432x288 with 1 Axes>"
      ]
     },
     "metadata": {
      "needs_background": "light",
      "tags": []
     },
     "output_type": "display_data"
    },
    {
     "name": "stdout",
     "output_type": "stream",
     "text": [
      "Сандали\n"
     ]
    },
    {
     "data": {
      "image/png": "[encoded data removed]",
      "text/plain": [
       "<Figure size 432x288 with 1 Axes>"
      ]
     },
     "metadata": {
      "needs_background": "light",
      "tags": []
     },
     "output_type": "display_data"
    },
    {
     "name": "stdout",
     "output_type": "stream",
     "text": [
      "Сандали\n"
     ]
    },
    {
     "data": {
      "image/png": "[encoded data removed]",
      "text/plain": [
       "<Figure size 432x288 with 1 Axes>"
      ]
     },
     "metadata": {
      "needs_background": "light",
      "tags": []
     },
     "output_type": "display_data"
    },
    {
     "name": "stdout",
     "output_type": "stream",
     "text": [
      "Футболка / топ\n"
     ]
    },
    {
     "data": {
      "image/png": "[encoded data removed]",
      "text/plain": [
       "<Figure size 432x288 with 1 Axes>"
      ]
     },
     "metadata": {
      "needs_background": "light",
      "tags": []
     },
     "output_type": "display_data"
    },
    {
     "name": "stdout",
     "output_type": "stream",
     "text": [
      "Ботинок\n"
     ]
    },
    {
     "data": {
      "image/png": "[encoded data removed]",
      "text/plain": [
       "<Figure size 432x288 with 1 Axes>"
      ]
     },
     "metadata": {
      "needs_background": "light",
      "tags": []
     },
     "output_type": "display_data"
    },
    {
     "name": "stdout",
     "output_type": "stream",
     "text": [
      "Сандали\n"
     ]
    },
    {
     "data": {
      "image/png": "[encoded data removed]",
      "text/plain": [
       "<Figure size 432x288 with 1 Axes>"
      ]
     },
     "metadata": {
      "needs_background": "light",
      "tags": []
     },
     "output_type": "display_data"
    },
    {
     "name": "stdout",
     "output_type": "stream",
     "text": [
      "Сандали\n"
     ]
    },
    {
     "data": {
      "image/png": "[encoded data removed]",
      "text/plain": [
       "<Figure size 432x288 with 1 Axes>"
      ]
     },
     "metadata": {
      "needs_background": "light",
      "tags": []
     },
     "output_type": "display_data"
    },
    {
     "name": "stdout",
     "output_type": "stream",
     "text": [
      "Кроссовок\n"
     ]
    },
    {
     "data": {
      "image/png": "[encoded data removed]",
      "text/plain": [
       "<Figure size 432x288 with 1 Axes>"
      ]
     },
     "metadata": {
      "needs_background": "light",
      "tags": []
     },
     "output_type": "display_data"
    },
    {
     "name": "stdout",
     "output_type": "stream",
     "text": [
      "Ботинок\n"
     ]
    },
    {
     "data": {
      "image/png": "[encoded data removed]",
      "text/plain": [
       "<Figure size 432x288 with 1 Axes>"
      ]
     },
     "metadata": {
      "needs_background": "light",
      "tags": []
     },
     "output_type": "display_data"
    },
    {
     "name": "stdout",
     "output_type": "stream",
     "text": [
      "Шорты\n"
     ]
    },
    {
     "data": {
      "image/png": "[encoded data removed]",
      "text/plain": [
       "<Figure size 432x288 with 1 Axes>"
      ]
     },
     "metadata": {
      "needs_background": "light",
      "tags": []
     },
     "output_type": "display_data"
    },
    {
     "name": "stdout",
     "output_type": "stream",
     "text": [
      "Футболка / топ\n"
     ]
    },
    {
     "data": {
      "image/png": "[encoded data removed]",
      "text/plain": [
       "<Figure size 432x288 with 1 Axes>"
      ]
     },
     "metadata": {
      "needs_background": "light",
      "tags": []
     },
     "output_type": "display_data"
    },
    {
     "name": "stdout",
     "output_type": "stream",
     "text": [
      "Рубашка\n"
     ]
    },
    {
     "data": {
      "image/png": "[encoded data removed]",
      "text/plain": [
       "<Figure size 432x288 with 1 Axes>"
      ]
     },
     "metadata": {
      "needs_background": "light",
      "tags": []
     },
     "output_type": "display_data"
    },
    {
     "name": "stdout",
     "output_type": "stream",
     "text": [
      "Плащ\n"
     ]
    },
    {
     "data": {
      "image/png": "[encoded data removed]",
      "text/plain": [
       "<Figure size 432x288 with 1 Axes>"
      ]
     },
     "metadata": {
      "needs_background": "light",
      "tags": []
     },
     "output_type": "display_data"
    },
    {
     "name": "stdout",
     "output_type": "stream",
     "text": [
      "Платье\n"
     ]
    },
    {
     "data": {
      "image/png": "[encoded data removed]",
      "text/plain": [
       "<Figure size 432x288 with 1 Axes>"
      ]
     },
     "metadata": {
      "needs_background": "light",
      "tags": []
     },
     "output_type": "display_data"
    },
    {
     "name": "stdout",
     "output_type": "stream",
     "text": [
      "Шорты\n"
     ]
    },
    {
     "data": {
      "image/png": "[encoded data removed]",
      "text/plain": [
       "<Figure size 432x288 with 1 Axes>"
      ]
     },
     "metadata": {
      "needs_background": "light",
      "tags": []
     },
     "output_type": "display_data"
    },
    {
     "name": "stdout",
     "output_type": "stream",
     "text": [
      "Плащ\n"
     ]
    },
    {
     "data": {
      "image/png": "[encoded data removed]",
      "text/plain": [
       "<Figure size 432x288 with 1 Axes>"
      ]
     },
     "metadata": {
      "needs_background": "light",
      "tags": []
     },
     "output_type": "display_data"
    },
    {
     "name": "stdout",
     "output_type": "stream",
     "text": [
      "Сумка\n"
     ]
    },
    {
     "data": {
      "image/png": "[encoded data removed]",
      "text/plain": [
       "<Figure size 432x288 with 1 Axes>"
      ]
     },
     "metadata": {
      "needs_background": "light",
      "tags": []
     },
     "output_type": "display_data"
    },
    {
     "name": "stdout",
     "output_type": "stream",
     "text": [
      "Плащ\n"
     ]
    }
   ],
   "source": [
    "for _ in range(25):\n",
    "  plt.imshow(train_imagesi[_,:,:])\n",
    "  plt.show()\n",
    "  print(class_names[train_labels[_]])"
   ]
  },
  {
   "cell_type": "code",
   "execution_count": 6,
   "metadata": {
    "colab": {
     "base_uri": "https://localhost:8080/",
     "height": 36
    },
    "id": "3fwDFMMPJDFE",
    "outputId": "fd85ba5f-8ad9-4967-fca5-74fceef8e4a2"
   },
   "outputs": [
    {
     "data": {
      "application/vnd.google.colaboratory.intrinsic+json": {
       "type": "string"
      },
      "text/plain": [
       "'tensorflow'"
      ]
     },
     "execution_count": 6,
     "metadata": {
      "tags": []
     },
     "output_type": "execute_result"
    }
   ],
   "source": [
    "keras.backend.backend()"
   ]
  },
  {
   "cell_type": "markdown",
   "metadata": {
    "id": "Y6btW5Oz9U9W"
   },
   "source": [
    "**Создание модели**"
   ]
  },
  {
   "cell_type": "code",
   "execution_count": 7,
   "metadata": {
    "id": "sZS6quxYiUGK"
   },
   "outputs": [],
   "source": [
    "models_dict = {\"models_is\": [2, 3, 5, 10], \"models\": {\"models_2\": [], \"models_3\": [], \"models_5\": [], \"models_10\": []}}\n",
    "preds_dict = {\"model_names\": [], \"y_preds\": [], \"y_classes\": []}"
   ]
  },
  {
   "cell_type": "markdown",
   "metadata": {
    "id": "rlO6abtO0oFX"
   },
   "source": [
    "Размер набора входных данных для обучения "
   ]
  },
  {
   "cell_type": "code",
   "execution_count": 8,
   "metadata": {
    "colab": {
     "base_uri": "https://localhost:8080/"
    },
    "id": "XLsN2KNiNHEf",
    "outputId": "d0e41a38-3086-42bd-fe8b-c2423a9c136c"
   },
   "outputs": [
    {
     "data": {
      "text/plain": [
       "(60000, 784)"
      ]
     },
     "execution_count": 8,
     "metadata": {
      "tags": []
     },
     "output_type": "execute_result"
    }
   ],
   "source": [
    "train_images.shape"
   ]
  },
  {
   "cell_type": "code",
   "execution_count": 9,
   "metadata": {
    "id": "qhm8BQ23pAHD"
   },
   "outputs": [],
   "source": [
    "for _ in range(4):\n",
    "  for _i in models_dict[\"models_is\"]:\n",
    "    model = Sequential(name=f'model_{_i}_{_}')\n",
    "    model.add(Dense(128, activation='relu', input_shape=(784,)))  \n",
    "    # входной слой + поносвязный слой из 128 нейронов с активацией ReLU\n",
    "    for k in range(_i):\n",
    "      model.add(Dense(10+(10-k)*10, activation='tanh')) \n",
    "      # Скрытый слой k из 10+(10-k)*10 нейронов с активацией tanh\n",
    "    model.add(Dense(10, activation='softmax')) \n",
    "    # выходной слой из 10 нейронов (сколько классов, столько нейронов) + активация softmax\n",
    "    model.compile(\n",
    "      optimizer='adam',\n",
    "      loss='categorical_crossentropy',\n",
    "      metrics=['accuracy'],\n",
    "    )\n",
    "    models_dict[\"models\"][f\"models_{_i}\"].append(model)"
   ]
  },
  {
   "cell_type": "code",
   "execution_count": 10,
   "metadata": {
    "colab": {
     "base_uri": "https://localhost:8080/"
    },
    "id": "c-SFDZAXq7CA",
    "outputId": "36fe70ab-9370-4c20-823b-e3967ad7a904"
   },
   "outputs": [
    {
     "name": "stdout",
     "output_type": "stream",
     "text": [
      "4\n",
      "4\n",
      "4\n",
      "4\n"
     ]
    }
   ],
   "source": [
    "for _i in models_dict[\"models_is\"]:\n",
    "    print(len(models_dict['models'][f'models_{_i}']))"
   ]
  },
  {
   "cell_type": "code",
   "execution_count": 16,
   "metadata": {
    "colab": {
     "base_uri": "https://localhost:8080/"
    },
    "id": "N3m_yFmop80g",
    "outputId": "49514b66-2f4d-4363-89ec-32436a01aded"
   },
   "outputs": [
    {
     "name": "stdout",
     "output_type": "stream",
     "text": [
      "Model: \"model_2_0\"\n",
      "_________________________________________________________________\n",
      "Layer (type)                 Output Shape              Param #   \n",
      "=================================================================\n",
      "dense (Dense)                (None, 128)               100480    \n",
      "_________________________________________________________________\n",
      "dense_1 (Dense)              (None, 110)               14190     \n",
      "_________________________________________________________________\n",
      "dense_2 (Dense)              (None, 100)               11100     \n",
      "_________________________________________________________________\n",
      "dense_3 (Dense)              (None, 10)                1010      \n",
      "=================================================================\n",
      "Total params: 126,780\n",
      "Trainable params: 126,780\n",
      "Non-trainable params: 0\n",
      "_________________________________________________________________\n",
      "Model: \"model_3_0\"\n",
      "_________________________________________________________________\n",
      "Layer (type)                 Output Shape              Param #   \n",
      "=================================================================\n",
      "dense_4 (Dense)              (None, 128)               100480    \n",
      "_________________________________________________________________\n",
      "dense_5 (Dense)              (None, 110)               14190     \n",
      "_________________________________________________________________\n",
      "dense_6 (Dense)              (None, 100)               11100     \n",
      "_________________________________________________________________\n",
      "dense_7 (Dense)              (None, 90)                9090      \n",
      "_________________________________________________________________\n",
      "dense_8 (Dense)              (None, 10)                910       \n",
      "=================================================================\n",
      "Total params: 135,770\n",
      "Trainable params: 135,770\n",
      "Non-trainable params: 0\n",
      "_________________________________________________________________\n",
      "Model: \"model_5_0\"\n",
      "_________________________________________________________________\n",
      "Layer (type)                 Output Shape              Param #   \n",
      "=================================================================\n",
      "dense_9 (Dense)              (None, 128)               100480    \n",
      "_________________________________________________________________\n",
      "dense_10 (Dense)             (None, 110)               14190     \n",
      "_________________________________________________________________\n",
      "dense_11 (Dense)             (None, 100)               11100     \n",
      "_________________________________________________________________\n",
      "dense_12 (Dense)             (None, 90)                9090      \n",
      "_________________________________________________________________\n",
      "dense_13 (Dense)             (None, 80)                7280      \n",
      "_________________________________________________________________\n",
      "dense_14 (Dense)             (None, 70)                5670      \n",
      "_________________________________________________________________\n",
      "dense_15 (Dense)             (None, 10)                710       \n",
      "=================================================================\n",
      "Total params: 148,520\n",
      "Trainable params: 148,520\n",
      "Non-trainable params: 0\n",
      "_________________________________________________________________\n",
      "Model: \"model_10_0\"\n",
      "_________________________________________________________________\n",
      "Layer (type)                 Output Shape              Param #   \n",
      "=================================================================\n",
      "dense_16 (Dense)             (None, 128)               100480    \n",
      "_________________________________________________________________\n",
      "dense_17 (Dense)             (None, 110)               14190     \n",
      "_________________________________________________________________\n",
      "dense_18 (Dense)             (None, 100)               11100     \n",
      "_________________________________________________________________\n",
      "dense_19 (Dense)             (None, 90)                9090      \n",
      "_________________________________________________________________\n",
      "dense_20 (Dense)             (None, 80)                7280      \n",
      "_________________________________________________________________\n",
      "dense_21 (Dense)             (None, 70)                5670      \n",
      "_________________________________________________________________\n",
      "dense_22 (Dense)             (None, 60)                4260      \n",
      "_________________________________________________________________\n",
      "dense_23 (Dense)             (None, 50)                3050      \n",
      "_________________________________________________________________\n",
      "dense_24 (Dense)             (None, 40)                2040      \n",
      "_________________________________________________________________\n",
      "dense_25 (Dense)             (None, 30)                1230      \n",
      "_________________________________________________________________\n",
      "dense_26 (Dense)             (None, 20)                620       \n",
      "_________________________________________________________________\n",
      "dense_27 (Dense)             (None, 10)                210       \n",
      "=================================================================\n",
      "Total params: 159,220\n",
      "Trainable params: 159,220\n",
      "Non-trainable params: 0\n",
      "_________________________________________________________________\n"
     ]
    }
   ],
   "source": [
    "for model in models_dict[\"models\"].keys():\n",
    "  models_dict[\"models\"][model][0].summary()"
   ]
  },
  {
   "cell_type": "markdown",
   "metadata": {
    "id": "D-ZKLY37Ulq7"
   },
   "source": [
    "Можно подсмотреть как наша модель описана после ее создания"
   ]
  },
  {
   "cell_type": "code",
   "execution_count": 17,
   "metadata": {
    "colab": {
     "base_uri": "https://localhost:8080/"
    },
    "id": "p8zwmaHKzVUH",
    "outputId": "c2d51b38-d3ab-4439-eed8-37b5b8bc5eb2"
   },
   "outputs": [
    {
     "name": "stdout",
     "output_type": "stream",
     "text": [
      "{'name': 'model_2_0', 'layers': [{'class_name': 'InputLayer', 'config': {'batch_input_shape': (None, 784), 'dtype': 'float32', 'sparse': False, 'ragged': False, 'name': 'dense_input'}}, {'class_name': 'Dense', 'config': {'name': 'dense', 'trainable': True, 'batch_input_shape': (None, 784), 'dtype': 'float32', 'units': 128, 'activation': 'relu', 'use_bias': True, 'kernel_initializer': {'class_name': 'GlorotUniform', 'config': {'seed': None}}, 'bias_initializer': {'class_name': 'Zeros', 'config': {}}, 'kernel_regularizer': None, 'bias_regularizer': None, 'activity_regularizer': None, 'kernel_constraint': None, 'bias_constraint': None}}, {'class_name': 'Dense', 'config': {'name': 'dense_1', 'trainable': True, 'dtype': 'float32', 'units': 110, 'activation': 'tanh', 'use_bias': True, 'kernel_initializer': {'class_name': 'GlorotUniform', 'config': {'seed': None}}, 'bias_initializer': {'class_name': 'Zeros', 'config': {}}, 'kernel_regularizer': None, 'bias_regularizer': None, 'activity_regularizer': None, 'kernel_constraint': None, 'bias_constraint': None}}, {'class_name': 'Dense', 'config': {'name': 'dense_2', 'trainable': True, 'dtype': 'float32', 'units': 100, 'activation': 'tanh', 'use_bias': True, 'kernel_initializer': {'class_name': 'GlorotUniform', 'config': {'seed': None}}, 'bias_initializer': {'class_name': 'Zeros', 'config': {}}, 'kernel_regularizer': None, 'bias_regularizer': None, 'activity_regularizer': None, 'kernel_constraint': None, 'bias_constraint': None}}, {'class_name': 'Dense', 'config': {'name': 'dense_3', 'trainable': True, 'dtype': 'float32', 'units': 10, 'activation': 'softmax', 'use_bias': True, 'kernel_initializer': {'class_name': 'GlorotUniform', 'config': {'seed': None}}, 'bias_initializer': {'class_name': 'Zeros', 'config': {}}, 'kernel_regularizer': None, 'bias_regularizer': None, 'activity_regularizer': None, 'kernel_constraint': None, 'bias_constraint': None}}]}\n",
      "{'name': 'model_3_0', 'layers': [{'class_name': 'InputLayer', 'config': {'batch_input_shape': (None, 784), 'dtype': 'float32', 'sparse': False, 'ragged': False, 'name': 'dense_4_input'}}, {'class_name': 'Dense', 'config': {'name': 'dense_4', 'trainable': True, 'batch_input_shape': (None, 784), 'dtype': 'float32', 'units': 128, 'activation': 'relu', 'use_bias': True, 'kernel_initializer': {'class_name': 'GlorotUniform', 'config': {'seed': None}}, 'bias_initializer': {'class_name': 'Zeros', 'config': {}}, 'kernel_regularizer': None, 'bias_regularizer': None, 'activity_regularizer': None, 'kernel_constraint': None, 'bias_constraint': None}}, {'class_name': 'Dense', 'config': {'name': 'dense_5', 'trainable': True, 'dtype': 'float32', 'units': 110, 'activation': 'tanh', 'use_bias': True, 'kernel_initializer': {'class_name': 'GlorotUniform', 'config': {'seed': None}}, 'bias_initializer': {'class_name': 'Zeros', 'config': {}}, 'kernel_regularizer': None, 'bias_regularizer': None, 'activity_regularizer': None, 'kernel_constraint': None, 'bias_constraint': None}}, {'class_name': 'Dense', 'config': {'name': 'dense_6', 'trainable': True, 'dtype': 'float32', 'units': 100, 'activation': 'tanh', 'use_bias': True, 'kernel_initializer': {'class_name': 'GlorotUniform', 'config': {'seed': None}}, 'bias_initializer': {'class_name': 'Zeros', 'config': {}}, 'kernel_regularizer': None, 'bias_regularizer': None, 'activity_regularizer': None, 'kernel_constraint': None, 'bias_constraint': None}}, {'class_name': 'Dense', 'config': {'name': 'dense_7', 'trainable': True, 'dtype': 'float32', 'units': 90, 'activation': 'tanh', 'use_bias': True, 'kernel_initializer': {'class_name': 'GlorotUniform', 'config': {'seed': None}}, 'bias_initializer': {'class_name': 'Zeros', 'config': {}}, 'kernel_regularizer': None, 'bias_regularizer': None, 'activity_regularizer': None, 'kernel_constraint': None, 'bias_constraint': None}}, {'class_name': 'Dense', 'config': {'name': 'dense_8', 'trainable': True, 'dtype': 'float32', 'units': 10, 'activation': 'softmax', 'use_bias': True, 'kernel_initializer': {'class_name': 'GlorotUniform', 'config': {'seed': None}}, 'bias_initializer': {'class_name': 'Zeros', 'config': {}}, 'kernel_regularizer': None, 'bias_regularizer': None, 'activity_regularizer': None, 'kernel_constraint': None, 'bias_constraint': None}}]}\n",
      "{'name': 'model_5_0', 'layers': [{'class_name': 'InputLayer', 'config': {'batch_input_shape': (None, 784), 'dtype': 'float32', 'sparse': False, 'ragged': False, 'name': 'dense_9_input'}}, {'class_name': 'Dense', 'config': {'name': 'dense_9', 'trainable': True, 'batch_input_shape': (None, 784), 'dtype': 'float32', 'units': 128, 'activation': 'relu', 'use_bias': True, 'kernel_initializer': {'class_name': 'GlorotUniform', 'config': {'seed': None}}, 'bias_initializer': {'class_name': 'Zeros', 'config': {}}, 'kernel_regularizer': None, 'bias_regularizer': None, 'activity_regularizer': None, 'kernel_constraint': None, 'bias_constraint': None}}, {'class_name': 'Dense', 'config': {'name': 'dense_10', 'trainable': True, 'dtype': 'float32', 'units': 110, 'activation': 'tanh', 'use_bias': True, 'kernel_initializer': {'class_name': 'GlorotUniform', 'config': {'seed': None}}, 'bias_initializer': {'class_name': 'Zeros', 'config': {}}, 'kernel_regularizer': None, 'bias_regularizer': None, 'activity_regularizer': None, 'kernel_constraint': None, 'bias_constraint': None}}, {'class_name': 'Dense', 'config': {'name': 'dense_11', 'trainable': True, 'dtype': 'float32', 'units': 100, 'activation': 'tanh', 'use_bias': True, 'kernel_initializer': {'class_name': 'GlorotUniform', 'config': {'seed': None}}, 'bias_initializer': {'class_name': 'Zeros', 'config': {}}, 'kernel_regularizer': None, 'bias_regularizer': None, 'activity_regularizer': None, 'kernel_constraint': None, 'bias_constraint': None}}, {'class_name': 'Dense', 'config': {'name': 'dense_12', 'trainable': True, 'dtype': 'float32', 'units': 90, 'activation': 'tanh', 'use_bias': True, 'kernel_initializer': {'class_name': 'GlorotUniform', 'config': {'seed': None}}, 'bias_initializer': {'class_name': 'Zeros', 'config': {}}, 'kernel_regularizer': None, 'bias_regularizer': None, 'activity_regularizer': None, 'kernel_constraint': None, 'bias_constraint': None}}, {'class_name': 'Dense', 'config': {'name': 'dense_13', 'trainable': True, 'dtype': 'float32', 'units': 80, 'activation': 'tanh', 'use_bias': True, 'kernel_initializer': {'class_name': 'GlorotUniform', 'config': {'seed': None}}, 'bias_initializer': {'class_name': 'Zeros', 'config': {}}, 'kernel_regularizer': None, 'bias_regularizer': None, 'activity_regularizer': None, 'kernel_constraint': None, 'bias_constraint': None}}, {'class_name': 'Dense', 'config': {'name': 'dense_14', 'trainable': True, 'dtype': 'float32', 'units': 70, 'activation': 'tanh', 'use_bias': True, 'kernel_initializer': {'class_name': 'GlorotUniform', 'config': {'seed': None}}, 'bias_initializer': {'class_name': 'Zeros', 'config': {}}, 'kernel_regularizer': None, 'bias_regularizer': None, 'activity_regularizer': None, 'kernel_constraint': None, 'bias_constraint': None}}, {'class_name': 'Dense', 'config': {'name': 'dense_15', 'trainable': True, 'dtype': 'float32', 'units': 10, 'activation': 'softmax', 'use_bias': True, 'kernel_initializer': {'class_name': 'GlorotUniform', 'config': {'seed': None}}, 'bias_initializer': {'class_name': 'Zeros', 'config': {}}, 'kernel_regularizer': None, 'bias_regularizer': None, 'activity_regularizer': None, 'kernel_constraint': None, 'bias_constraint': None}}]}\n",
      "{'name': 'model_10_0', 'layers': [{'class_name': 'InputLayer', 'config': {'batch_input_shape': (None, 784), 'dtype': 'float32', 'sparse': False, 'ragged': False, 'name': 'dense_16_input'}}, {'class_name': 'Dense', 'config': {'name': 'dense_16', 'trainable': True, 'batch_input_shape': (None, 784), 'dtype': 'float32', 'units': 128, 'activation': 'relu', 'use_bias': True, 'kernel_initializer': {'class_name': 'GlorotUniform', 'config': {'seed': None}}, 'bias_initializer': {'class_name': 'Zeros', 'config': {}}, 'kernel_regularizer': None, 'bias_regularizer': None, 'activity_regularizer': None, 'kernel_constraint': None, 'bias_constraint': None}}, {'class_name': 'Dense', 'config': {'name': 'dense_17', 'trainable': True, 'dtype': 'float32', 'units': 110, 'activation': 'tanh', 'use_bias': True, 'kernel_initializer': {'class_name': 'GlorotUniform', 'config': {'seed': None}}, 'bias_initializer': {'class_name': 'Zeros', 'config': {}}, 'kernel_regularizer': None, 'bias_regularizer': None, 'activity_regularizer': None, 'kernel_constraint': None, 'bias_constraint': None}}, {'class_name': 'Dense', 'config': {'name': 'dense_18', 'trainable': True, 'dtype': 'float32', 'units': 100, 'activation': 'tanh', 'use_bias': True, 'kernel_initializer': {'class_name': 'GlorotUniform', 'config': {'seed': None}}, 'bias_initializer': {'class_name': 'Zeros', 'config': {}}, 'kernel_regularizer': None, 'bias_regularizer': None, 'activity_regularizer': None, 'kernel_constraint': None, 'bias_constraint': None}}, {'class_name': 'Dense', 'config': {'name': 'dense_19', 'trainable': True, 'dtype': 'float32', 'units': 90, 'activation': 'tanh', 'use_bias': True, 'kernel_initializer': {'class_name': 'GlorotUniform', 'config': {'seed': None}}, 'bias_initializer': {'class_name': 'Zeros', 'config': {}}, 'kernel_regularizer': None, 'bias_regularizer': None, 'activity_regularizer': None, 'kernel_constraint': None, 'bias_constraint': None}}, {'class_name': 'Dense', 'config': {'name': 'dense_20', 'trainable': True, 'dtype': 'float32', 'units': 80, 'activation': 'tanh', 'use_bias': True, 'kernel_initializer': {'class_name': 'GlorotUniform', 'config': {'seed': None}}, 'bias_initializer': {'class_name': 'Zeros', 'config': {}}, 'kernel_regularizer': None, 'bias_regularizer': None, 'activity_regularizer': None, 'kernel_constraint': None, 'bias_constraint': None}}, {'class_name': 'Dense', 'config': {'name': 'dense_21', 'trainable': True, 'dtype': 'float32', 'units': 70, 'activation': 'tanh', 'use_bias': True, 'kernel_initializer': {'class_name': 'GlorotUniform', 'config': {'seed': None}}, 'bias_initializer': {'class_name': 'Zeros', 'config': {}}, 'kernel_regularizer': None, 'bias_regularizer': None, 'activity_regularizer': None, 'kernel_constraint': None, 'bias_constraint': None}}, {'class_name': 'Dense', 'config': {'name': 'dense_22', 'trainable': True, 'dtype': 'float32', 'units': 60, 'activation': 'tanh', 'use_bias': True, 'kernel_initializer': {'class_name': 'GlorotUniform', 'config': {'seed': None}}, 'bias_initializer': {'class_name': 'Zeros', 'config': {}}, 'kernel_regularizer': None, 'bias_regularizer': None, 'activity_regularizer': None, 'kernel_constraint': None, 'bias_constraint': None}}, {'class_name': 'Dense', 'config': {'name': 'dense_23', 'trainable': True, 'dtype': 'float32', 'units': 50, 'activation': 'tanh', 'use_bias': True, 'kernel_initializer': {'class_name': 'GlorotUniform', 'config': {'seed': None}}, 'bias_initializer': {'class_name': 'Zeros', 'config': {}}, 'kernel_regularizer': None, 'bias_regularizer': None, 'activity_regularizer': None, 'kernel_constraint': None, 'bias_constraint': None}}, {'class_name': 'Dense', 'config': {'name': 'dense_24', 'trainable': True, 'dtype': 'float32', 'units': 40, 'activation': 'tanh', 'use_bias': True, 'kernel_initializer': {'class_name': 'GlorotUniform', 'config': {'seed': None}}, 'bias_initializer': {'class_name': 'Zeros', 'config': {}}, 'kernel_regularizer': None, 'bias_regularizer': None, 'activity_regularizer': None, 'kernel_constraint': None, 'bias_constraint': None}}, {'class_name': 'Dense', 'config': {'name': 'dense_25', 'trainable': True, 'dtype': 'float32', 'units': 30, 'activation': 'tanh', 'use_bias': True, 'kernel_initializer': {'class_name': 'GlorotUniform', 'config': {'seed': None}}, 'bias_initializer': {'class_name': 'Zeros', 'config': {}}, 'kernel_regularizer': None, 'bias_regularizer': None, 'activity_regularizer': None, 'kernel_constraint': None, 'bias_constraint': None}}, {'class_name': 'Dense', 'config': {'name': 'dense_26', 'trainable': True, 'dtype': 'float32', 'units': 20, 'activation': 'tanh', 'use_bias': True, 'kernel_initializer': {'class_name': 'GlorotUniform', 'config': {'seed': None}}, 'bias_initializer': {'class_name': 'Zeros', 'config': {}}, 'kernel_regularizer': None, 'bias_regularizer': None, 'activity_regularizer': None, 'kernel_constraint': None, 'bias_constraint': None}}, {'class_name': 'Dense', 'config': {'name': 'dense_27', 'trainable': True, 'dtype': 'float32', 'units': 10, 'activation': 'softmax', 'use_bias': True, 'kernel_initializer': {'class_name': 'GlorotUniform', 'config': {'seed': None}}, 'bias_initializer': {'class_name': 'Zeros', 'config': {}}, 'kernel_regularizer': None, 'bias_regularizer': None, 'activity_regularizer': None, 'kernel_constraint': None, 'bias_constraint': None}}]}\n"
     ]
    }
   ],
   "source": [
    "for model in models_dict[\"models\"].keys():\n",
    "  print(models_dict[\"models\"][model][0].get_config())"
   ]
  },
  {
   "cell_type": "markdown",
   "metadata": {
    "id": "Og3zBOXKUt6Q"
   },
   "source": [
    "Превратим выходы в векторые (OHE в keras - from keras.utils import to_categorical)"
   ]
  },
  {
   "cell_type": "code",
   "execution_count": 18,
   "metadata": {
    "colab": {
     "base_uri": "https://localhost:8080/"
    },
    "id": "r4vfB93ZMa7k",
    "outputId": "6ba99905-bd7e-42ad-d85b-79eaed290023"
   },
   "outputs": [
    {
     "data": {
      "text/plain": [
       "array([9, 0, 0, 3, 0], dtype=uint8)"
      ]
     },
     "execution_count": 18,
     "metadata": {
      "tags": []
     },
     "output_type": "execute_result"
    }
   ],
   "source": [
    "train_labels[:5]"
   ]
  },
  {
   "cell_type": "code",
   "execution_count": 19,
   "metadata": {
    "id": "fXgYOrUwGwzG"
   },
   "outputs": [],
   "source": [
    "y_t = to_categorical(train_labels)\n",
    "y_tt = to_categorical(test_labels)"
   ]
  },
  {
   "cell_type": "code",
   "execution_count": 22,
   "metadata": {
    "colab": {
     "base_uri": "https://localhost:8080/"
    },
    "id": "HWKHT3kpG6yw",
    "outputId": "5c1cef34-b815-4b60-be2d-c38906a9c50a"
   },
   "outputs": [
    {
     "data": {
      "text/plain": [
       "array([[0., 0., 0., 0., 0., 0., 0., 0., 0., 1.],\n",
       "       [1., 0., 0., 0., 0., 0., 0., 0., 0., 0.],\n",
       "       [1., 0., 0., 0., 0., 0., 0., 0., 0., 0.]], dtype=float32)"
      ]
     },
     "execution_count": 22,
     "metadata": {
      "tags": []
     },
     "output_type": "execute_result"
    }
   ],
   "source": [
    "y_t[:3,:]"
   ]
  },
  {
   "cell_type": "code",
   "execution_count": 35,
   "metadata": {
    "colab": {
     "base_uri": "https://localhost:8080/"
    },
    "id": "zQzEV6Iv6oKV",
    "outputId": "c708803d-e379-433d-9bdb-288f2874acd5"
   },
   "outputs": [
    {
     "name": "stdout",
     "output_type": "stream",
     "text": [
      "model_2_0\n",
      "model_2_1\n",
      "model_2_2\n",
      "model_2_3\n",
      "[<keras.engine.sequential.Sequential object at 0x7fd267dd7350>, <keras.engine.sequential.Sequential object at 0x7fd267bfa610>, <keras.engine.sequential.Sequential object at 0x7fd2688b8690>, <keras.engine.sequential.Sequential object at 0x7fd2682f2f50>]\n",
      "model_3_0\n",
      "model_3_1\n",
      "model_3_2\n",
      "model_3_3\n",
      "[<keras.engine.sequential.Sequential object at 0x7fd267dd7350>, <keras.engine.sequential.Sequential object at 0x7fd267bfa610>, <keras.engine.sequential.Sequential object at 0x7fd2688b8690>, <keras.engine.sequential.Sequential object at 0x7fd2682f2f50>]\n",
      "model_5_0\n",
      "model_5_1\n",
      "model_5_2\n",
      "model_5_3\n",
      "[<keras.engine.sequential.Sequential object at 0x7fd267dd7350>, <keras.engine.sequential.Sequential object at 0x7fd267bfa610>, <keras.engine.sequential.Sequential object at 0x7fd2688b8690>, <keras.engine.sequential.Sequential object at 0x7fd2682f2f50>]\n",
      "model_10_0\n",
      "model_10_1\n",
      "model_10_2\n",
      "model_10_3\n",
      "[<keras.engine.sequential.Sequential object at 0x7fd267dd7350>, <keras.engine.sequential.Sequential object at 0x7fd267bfa610>, <keras.engine.sequential.Sequential object at 0x7fd2688b8690>, <keras.engine.sequential.Sequential object at 0x7fd2682f2f50>]\n"
     ]
    }
   ],
   "source": [
    "for models in models_dict[\"models\"].items():\n",
    "  for model in models[1]:\n",
    "    print(model.get_config()[\"name\"])\n",
    "  print(_[1])"
   ]
  },
  {
   "cell_type": "markdown",
   "metadata": {
    "id": "Xk1EavOKVBqI"
   },
   "source": [
    "Предсказания модели до обучения"
   ]
  },
  {
   "cell_type": "code",
   "execution_count": 37,
   "metadata": {
    "colab": {
     "base_uri": "https://localhost:8080/"
    },
    "id": "x6q31tJQLuol",
    "outputId": "a0bceda0-5fc8-4263-a5a4-8f1562063116"
   },
   "outputs": [
    {
     "name": "stdout",
     "output_type": "stream",
     "text": [
      "model_2_0\n",
      "model_2_1\n",
      "model_2_2\n",
      "model_2_3\n",
      "model_3_0\n",
      "WARNING:tensorflow:5 out of the last 6 calls to <function Model.make_predict_function.<locals>.predict_function at 0x7fd21b1a8560> triggered tf.function retracing. Tracing is expensive and the excessive number of tracings could be due to (1) creating @tf.function repeatedly in a loop, (2) passing tensors with different shapes, (3) passing Python objects instead of tensors. For (1), please define your @tf.function outside of the loop. For (2), @tf.function has experimental_relax_shapes=True option that relaxes argument shapes that can avoid unnecessary retracing. For (3), please refer to https://www.tensorflow.org/guide/function#controlling_retracing and https://www.tensorflow.org/api_docs/python/tf/function for  more details.\n",
      "model_3_1\n",
      "WARNING:tensorflow:6 out of the last 7 calls to <function Model.make_predict_function.<locals>.predict_function at 0x7fd21b898a70> triggered tf.function retracing. Tracing is expensive and the excessive number of tracings could be due to (1) creating @tf.function repeatedly in a loop, (2) passing tensors with different shapes, (3) passing Python objects instead of tensors. For (1), please define your @tf.function outside of the loop. For (2), @tf.function has experimental_relax_shapes=True option that relaxes argument shapes that can avoid unnecessary retracing. For (3), please refer to https://www.tensorflow.org/guide/function#controlling_retracing and https://www.tensorflow.org/api_docs/python/tf/function for  more details.\n",
      "model_3_2\n",
      "model_3_3\n",
      "model_5_0\n",
      "model_5_1\n",
      "model_5_2\n",
      "model_5_3\n",
      "model_10_0\n",
      "model_10_1\n",
      "model_10_2\n",
      "model_10_3\n"
     ]
    },
    {
     "data": {
      "text/plain": [
       "{'model_names': ['model_2_0',\n",
       "  'model_2_1',\n",
       "  'model_2_2',\n",
       "  'model_2_3',\n",
       "  'model_3_0',\n",
       "  'model_3_1',\n",
       "  'model_3_2',\n",
       "  'model_3_3',\n",
       "  'model_5_0',\n",
       "  'model_5_1',\n",
       "  'model_5_2',\n",
       "  'model_5_3',\n",
       "  'model_10_0',\n",
       "  'model_10_1',\n",
       "  'model_10_2',\n",
       "  'model_10_3'],\n",
       " 'y_classes': [array([2, 6, 7]),\n",
       "  array([5, 1, 5]),\n",
       "  array([8, 2, 2]),\n",
       "  array([0, 5, 0]),\n",
       "  array([2, 2, 2]),\n",
       "  array([9, 4, 9]),\n",
       "  array([5, 4, 5]),\n",
       "  array([9, 9, 9]),\n",
       "  array([7, 0, 3]),\n",
       "  array([6, 4, 6]),\n",
       "  array([9, 4, 4]),\n",
       "  array([3, 8, 9]),\n",
       "  array([7, 5, 3]),\n",
       "  array([4, 9, 7]),\n",
       "  array([8, 0, 0]),\n",
       "  array([3, 7, 3])],\n",
       " 'y_preds': [array([[0.05590706, 0.06588965, 0.26337615, 0.07776198, 0.07375304,\n",
       "          0.13229239, 0.09824526, 0.11089592, 0.05757785, 0.06430073],\n",
       "         [0.11373514, 0.12895294, 0.06516464, 0.04178649, 0.05016603,\n",
       "          0.06652349, 0.20669518, 0.06489376, 0.16498394, 0.09709833],\n",
       "         [0.12571704, 0.04511725, 0.07901161, 0.05328916, 0.13779834,\n",
       "          0.05694011, 0.1396456 , 0.17937076, 0.08408241, 0.0990277 ]],\n",
       "        dtype=float32),\n",
       "  array([[0.18222825, 0.07503058, 0.10452144, 0.06442881, 0.1268109 ,\n",
       "          0.2336128 , 0.0299334 , 0.04145145, 0.08544714, 0.05653528],\n",
       "         [0.06348635, 0.15537167, 0.10139795, 0.1405316 , 0.07942119,\n",
       "          0.12680042, 0.02460911, 0.05825594, 0.09575014, 0.15437569],\n",
       "         [0.06649391, 0.08519838, 0.09409089, 0.10774631, 0.06866958,\n",
       "          0.27906334, 0.02640269, 0.07277736, 0.03373771, 0.16581985]],\n",
       "        dtype=float32),\n",
       "  array([[0.06550889, 0.09360565, 0.13744475, 0.10405431, 0.05106926,\n",
       "          0.10798893, 0.06383816, 0.11104773, 0.16090557, 0.10453677],\n",
       "         [0.0572426 , 0.135748  , 0.17908694, 0.07774635, 0.02829756,\n",
       "          0.1210363 , 0.06377256, 0.08829045, 0.13769887, 0.11108037],\n",
       "         [0.04332767, 0.12920372, 0.30504262, 0.0522533 , 0.02754469,\n",
       "          0.06059095, 0.03882067, 0.23253593, 0.04312689, 0.06755361]],\n",
       "        dtype=float32),\n",
       "  array([[0.23211497, 0.12992206, 0.06013841, 0.10476191, 0.03577821,\n",
       "          0.0593561 , 0.07119778, 0.12801434, 0.04948519, 0.12923104],\n",
       "         [0.10800128, 0.07387196, 0.03466423, 0.03548998, 0.05236369,\n",
       "          0.47390085, 0.0864445 , 0.05462518, 0.03377311, 0.0468652 ],\n",
       "         [0.29043892, 0.10788017, 0.04402396, 0.06499145, 0.04137459,\n",
       "          0.11929302, 0.07547766, 0.09526373, 0.03450824, 0.12674828]],\n",
       "        dtype=float32),\n",
       "  array([[0.05039245, 0.06769624, 0.23509626, 0.10034909, 0.17526126,\n",
       "          0.09810213, 0.05511981, 0.08637993, 0.07046706, 0.06113579],\n",
       "         [0.06919342, 0.07249478, 0.23548591, 0.09034391, 0.10233837,\n",
       "          0.18007076, 0.03714292, 0.08000523, 0.06546236, 0.06746242],\n",
       "         [0.03839696, 0.04737397, 0.22784115, 0.09440872, 0.1483881 ,\n",
       "          0.07764673, 0.05878807, 0.09523707, 0.09303026, 0.11888885]],\n",
       "        dtype=float32),\n",
       "  array([[0.09719559, 0.07701964, 0.13496722, 0.08283398, 0.03745862,\n",
       "          0.07354424, 0.08912355, 0.06659362, 0.16760182, 0.17366177],\n",
       "         [0.10579799, 0.12606613, 0.08627778, 0.05362014, 0.19864236,\n",
       "          0.08062714, 0.10760353, 0.09052198, 0.02783918, 0.12300371],\n",
       "         [0.10061234, 0.12533695, 0.07161485, 0.13294734, 0.1192864 ,\n",
       "          0.09432484, 0.10270588, 0.05226562, 0.06607046, 0.13483533]],\n",
       "        dtype=float32),\n",
       "  array([[0.04097556, 0.0775632 , 0.04754715, 0.18809454, 0.11005008,\n",
       "          0.21061112, 0.07627863, 0.12414204, 0.03215465, 0.09258306],\n",
       "         [0.03554828, 0.15173826, 0.07831269, 0.06658632, 0.19858755,\n",
       "          0.15724881, 0.07448643, 0.14191124, 0.05411082, 0.04146966],\n",
       "         [0.03475706, 0.171341  , 0.04956052, 0.0614691 , 0.18219969,\n",
       "          0.19487534, 0.08436583, 0.16523859, 0.03439045, 0.02180243]],\n",
       "        dtype=float32),\n",
       "  array([[0.1433889 , 0.05245712, 0.15446049, 0.07151879, 0.06965704,\n",
       "          0.06975696, 0.1055143 , 0.05659824, 0.0860515 , 0.19059664],\n",
       "         [0.14853281, 0.05706233, 0.20187801, 0.05120797, 0.0379415 ,\n",
       "          0.07002907, 0.04335384, 0.06174007, 0.06300348, 0.26525092],\n",
       "         [0.06216804, 0.0446405 , 0.13728486, 0.05225426, 0.10046352,\n",
       "          0.03919679, 0.06643919, 0.06516389, 0.07630701, 0.356082  ]],\n",
       "        dtype=float32),\n",
       "  array([[0.09094062, 0.1392329 , 0.12941669, 0.08938471, 0.07047446,\n",
       "          0.0360293 , 0.08016098, 0.1860358 , 0.12739792, 0.05092663],\n",
       "         [0.130043  , 0.05751045, 0.12295289, 0.10748729, 0.09532738,\n",
       "          0.0788681 , 0.10351475, 0.11692654, 0.10597055, 0.08139908],\n",
       "         [0.0961947 , 0.1322633 , 0.06513605, 0.15741295, 0.10467125,\n",
       "          0.08603734, 0.08215569, 0.15287393, 0.06689554, 0.05635922]],\n",
       "        dtype=float32),\n",
       "  array([[0.11049744, 0.06568689, 0.09296145, 0.03030205, 0.10032851,\n",
       "          0.10312627, 0.23061582, 0.06316321, 0.08821253, 0.11510585],\n",
       "         [0.11171219, 0.04636648, 0.1195384 , 0.06884409, 0.13947539,\n",
       "          0.08795646, 0.13926429, 0.06596405, 0.09470181, 0.12617688],\n",
       "         [0.11761126, 0.13992499, 0.09449391, 0.05513489, 0.0815483 ,\n",
       "          0.09712736, 0.18998396, 0.0506442 , 0.08446918, 0.08906189]],\n",
       "        dtype=float32),\n",
       "  array([[0.08280713, 0.09675062, 0.02646175, 0.14384095, 0.13991024,\n",
       "          0.0957774 , 0.04326576, 0.0530036 , 0.11453439, 0.20364818],\n",
       "         [0.09265572, 0.08305188, 0.07387771, 0.13614592, 0.14434287,\n",
       "          0.09283768, 0.06507717, 0.14250387, 0.06685909, 0.10264814],\n",
       "         [0.06051037, 0.09613542, 0.075493  , 0.11957773, 0.18050127,\n",
       "          0.09354115, 0.06708938, 0.10761393, 0.08663675, 0.11290101]],\n",
       "        dtype=float32),\n",
       "  array([[0.07098715, 0.06283268, 0.10912223, 0.19912124, 0.10134848,\n",
       "          0.08839607, 0.05360596, 0.06380996, 0.15225308, 0.09852316],\n",
       "         [0.07257023, 0.06971231, 0.06784754, 0.07362409, 0.09274495,\n",
       "          0.11201386, 0.09510176, 0.08296496, 0.20634465, 0.12707564],\n",
       "         [0.10008734, 0.09430414, 0.08591389, 0.08049754, 0.08662808,\n",
       "          0.12387995, 0.10962731, 0.11589   , 0.07209612, 0.13107562]],\n",
       "        dtype=float32),\n",
       "  array([[0.0797893 , 0.06205625, 0.08551634, 0.11436057, 0.08955663,\n",
       "          0.13614218, 0.10458093, 0.14287528, 0.08161366, 0.10350886],\n",
       "         [0.06226851, 0.06188858, 0.08768029, 0.10587385, 0.11116976,\n",
       "          0.15928209, 0.14269842, 0.08053362, 0.09685106, 0.09175383],\n",
       "         [0.07770931, 0.07934652, 0.09324364, 0.14913043, 0.10176983,\n",
       "          0.0983791 , 0.11630981, 0.08552233, 0.10322855, 0.09536048]],\n",
       "        dtype=float32),\n",
       "  array([[0.08221721, 0.09073263, 0.08868793, 0.12829393, 0.1286972 ,\n",
       "          0.07961596, 0.09094018, 0.12667622, 0.078197  , 0.10594181],\n",
       "         [0.11181543, 0.1653752 , 0.0806734 , 0.09897777, 0.08140205,\n",
       "          0.07834997, 0.05344376, 0.05573684, 0.10315621, 0.17106937],\n",
       "         [0.07653119, 0.08693311, 0.09022398, 0.094183  , 0.09660404,\n",
       "          0.1011366 , 0.10418303, 0.1837797 , 0.09460225, 0.07182314]],\n",
       "        dtype=float32),\n",
       "  array([[0.17241915, 0.07356009, 0.07163526, 0.10520184, 0.07762741,\n",
       "          0.04605084, 0.05527451, 0.1138352 , 0.19299112, 0.09140454],\n",
       "         [0.17822431, 0.09566486, 0.06425089, 0.13065511, 0.14133273,\n",
       "          0.05606123, 0.07870153, 0.05771735, 0.05920349, 0.1381885 ],\n",
       "         [0.17934896, 0.11376835, 0.06138368, 0.13981386, 0.1043503 ,\n",
       "          0.0250055 , 0.0678502 , 0.08868303, 0.10573171, 0.11406439]],\n",
       "        dtype=float32),\n",
       "  array([[0.1300476 , 0.08335211, 0.08866514, 0.17017527, 0.0914573 ,\n",
       "          0.05368755, 0.11119106, 0.09551434, 0.09335557, 0.08255404],\n",
       "         [0.10951734, 0.07874004, 0.09776232, 0.0993536 , 0.08868054,\n",
       "          0.0932342 , 0.09610971, 0.11529402, 0.10773911, 0.11356915],\n",
       "         [0.11293885, 0.09297153, 0.1104515 , 0.12840171, 0.11649   ,\n",
       "          0.07157298, 0.09313981, 0.07801786, 0.10166781, 0.09434795]],\n",
       "        dtype=float32)]}"
      ]
     },
     "execution_count": 37,
     "metadata": {
      "tags": []
     },
     "output_type": "execute_result"
    }
   ],
   "source": [
    "for models in models_dict[\"models\"].items():\n",
    "  for model in models[1]:\n",
    "    print(model.get_config()[\"name\"])\n",
    "    y_pred = model.predict(test_images[:3,:])\n",
    "    y_class = np.argmax(y_pred, axis=1)\n",
    "    preds_dict[\"model_names\"].append(model.get_config()[\"name\"])\n",
    "    preds_dict[\"y_preds\"].append(y_pred)\n",
    "    preds_dict[\"y_classes\"].append(y_class)\n",
    "preds_dict"
   ]
  },
  {
   "cell_type": "markdown",
   "metadata": {
    "id": "emVGoAdNVSK-"
   },
   "source": [
    "Сделаем цикл тренировки модели"
   ]
  },
  {
   "cell_type": "code",
   "execution_count": 38,
   "metadata": {
    "colab": {
     "base_uri": "https://localhost:8080/"
    },
    "id": "9lCF4zXv9U90",
    "outputId": "f0175582-c23b-44af-ba76-998fdbc66dcc"
   },
   "outputs": [
    {
     "name": "stdout",
     "output_type": "stream",
     "text": [
      "Epoch 1/15\n",
      "1500/1500 [==============================] - 14s 4ms/step - loss: 0.6032 - accuracy: 0.7825 - val_loss: 0.4089 - val_accuracy: 0.8534\n",
      "Epoch 2/15\n",
      "1500/1500 [==============================] - 5s 4ms/step - loss: 0.3924 - accuracy: 0.8558 - val_loss: 0.3809 - val_accuracy: 0.8603\n",
      "Epoch 3/15\n",
      "1500/1500 [==============================] - 6s 4ms/step - loss: 0.3567 - accuracy: 0.8683 - val_loss: 0.3850 - val_accuracy: 0.8612\n",
      "Epoch 4/15\n",
      "1500/1500 [==============================] - 5s 4ms/step - loss: 0.3270 - accuracy: 0.8794 - val_loss: 0.3552 - val_accuracy: 0.8699\n",
      "Epoch 5/15\n",
      "1500/1500 [==============================] - 6s 4ms/step - loss: 0.3053 - accuracy: 0.8853 - val_loss: 0.3492 - val_accuracy: 0.8702\n",
      "Epoch 6/15\n",
      "1500/1500 [==============================] - 5s 4ms/step - loss: 0.2948 - accuracy: 0.8896 - val_loss: 0.3602 - val_accuracy: 0.8698\n",
      "Epoch 7/15\n",
      "1500/1500 [==============================] - 5s 4ms/step - loss: 0.2787 - accuracy: 0.8958 - val_loss: 0.3297 - val_accuracy: 0.8801\n",
      "Epoch 8/15\n",
      "1500/1500 [==============================] - 5s 4ms/step - loss: 0.2604 - accuracy: 0.9040 - val_loss: 0.3283 - val_accuracy: 0.8785\n",
      "Epoch 9/15\n",
      "1500/1500 [==============================] - 5s 4ms/step - loss: 0.2517 - accuracy: 0.9058 - val_loss: 0.3500 - val_accuracy: 0.8790\n",
      "Epoch 10/15\n",
      "1500/1500 [==============================] - 6s 4ms/step - loss: 0.2442 - accuracy: 0.9091 - val_loss: 0.3216 - val_accuracy: 0.8876\n",
      "Epoch 11/15\n",
      "1500/1500 [==============================] - 5s 4ms/step - loss: 0.2349 - accuracy: 0.9112 - val_loss: 0.3427 - val_accuracy: 0.8821\n",
      "Epoch 12/15\n",
      "1500/1500 [==============================] - 5s 4ms/step - loss: 0.2244 - accuracy: 0.9173 - val_loss: 0.3620 - val_accuracy: 0.8740\n",
      "Epoch 13/15\n",
      "1500/1500 [==============================] - 5s 4ms/step - loss: 0.2224 - accuracy: 0.9160 - val_loss: 0.3417 - val_accuracy: 0.8817\n",
      "Epoch 14/15\n",
      "1500/1500 [==============================] - 5s 4ms/step - loss: 0.2217 - accuracy: 0.9180 - val_loss: 0.3555 - val_accuracy: 0.8777\n",
      "Epoch 15/15\n",
      "1500/1500 [==============================] - 5s 4ms/step - loss: 0.2061 - accuracy: 0.9243 - val_loss: 0.3422 - val_accuracy: 0.8870\n",
      "313/313 [==============================] - 1s 3ms/step - loss: 0.3689 - accuracy: 0.8769\n",
      "[9 2 1 1 6]\n",
      "[9 2 1 1 6]\n",
      "Epoch 1/15\n",
      "1500/1500 [==============================] - 6s 4ms/step - loss: 0.6280 - accuracy: 0.7758 - val_loss: 0.4437 - val_accuracy: 0.8367\n",
      "Epoch 2/15\n",
      "1500/1500 [==============================] - 6s 4ms/step - loss: 0.3943 - accuracy: 0.8541 - val_loss: 0.3930 - val_accuracy: 0.8564\n",
      "Epoch 3/15\n",
      "1500/1500 [==============================] - 6s 4ms/step - loss: 0.3364 - accuracy: 0.8758 - val_loss: 0.3836 - val_accuracy: 0.8634\n",
      "Epoch 4/15\n",
      "1500/1500 [==============================] - 5s 4ms/step - loss: 0.3268 - accuracy: 0.8784 - val_loss: 0.3635 - val_accuracy: 0.8675\n",
      "Epoch 5/15\n",
      "1500/1500 [==============================] - 6s 4ms/step - loss: 0.2975 - accuracy: 0.8891 - val_loss: 0.3370 - val_accuracy: 0.8798\n",
      "Epoch 6/15\n",
      "1500/1500 [==============================] - 6s 4ms/step - loss: 0.2840 - accuracy: 0.8939 - val_loss: 0.3383 - val_accuracy: 0.8803\n",
      "Epoch 7/15\n",
      "1500/1500 [==============================] - 5s 4ms/step - loss: 0.2718 - accuracy: 0.8972 - val_loss: 0.3267 - val_accuracy: 0.8827\n",
      "Epoch 8/15\n",
      "1500/1500 [==============================] - 6s 4ms/step - loss: 0.2611 - accuracy: 0.9024 - val_loss: 0.3234 - val_accuracy: 0.8848\n",
      "Epoch 9/15\n",
      "1500/1500 [==============================] - 6s 4ms/step - loss: 0.2526 - accuracy: 0.9040 - val_loss: 0.3323 - val_accuracy: 0.8815\n",
      "Epoch 10/15\n",
      "1500/1500 [==============================] - 5s 4ms/step - loss: 0.2417 - accuracy: 0.9099 - val_loss: 0.3255 - val_accuracy: 0.8848\n",
      "Epoch 11/15\n",
      "1500/1500 [==============================] - 5s 4ms/step - loss: 0.2305 - accuracy: 0.9139 - val_loss: 0.3327 - val_accuracy: 0.8846\n",
      "Epoch 12/15\n",
      "1500/1500 [==============================] - 6s 4ms/step - loss: 0.2197 - accuracy: 0.9191 - val_loss: 0.3295 - val_accuracy: 0.8832\n",
      "Epoch 13/15\n",
      "1500/1500 [==============================] - 5s 4ms/step - loss: 0.2128 - accuracy: 0.9219 - val_loss: 0.3430 - val_accuracy: 0.8803\n",
      "Epoch 14/15\n",
      "1500/1500 [==============================] - 5s 4ms/step - loss: 0.2111 - accuracy: 0.9198 - val_loss: 0.3342 - val_accuracy: 0.8886\n",
      "Epoch 15/15\n",
      "1500/1500 [==============================] - 6s 4ms/step - loss: 0.2062 - accuracy: 0.9236 - val_loss: 0.3393 - val_accuracy: 0.8832\n",
      "313/313 [==============================] - 1s 3ms/step - loss: 0.3650 - accuracy: 0.8806\n",
      "[9 2 1 1 6]\n",
      "[9 2 1 1 6]\n",
      "Epoch 1/15\n",
      "1500/1500 [==============================] - 7s 4ms/step - loss: 0.6141 - accuracy: 0.7781 - val_loss: 0.4202 - val_accuracy: 0.8395\n",
      "Epoch 2/15\n",
      "1500/1500 [==============================] - 5s 4ms/step - loss: 0.3947 - accuracy: 0.8529 - val_loss: 0.3860 - val_accuracy: 0.8618\n",
      "Epoch 3/15\n",
      "1500/1500 [==============================] - 6s 4ms/step - loss: 0.3507 - accuracy: 0.8718 - val_loss: 0.3706 - val_accuracy: 0.8618\n",
      "Epoch 4/15\n",
      "1500/1500 [==============================] - 6s 4ms/step - loss: 0.3172 - accuracy: 0.8809 - val_loss: 0.3473 - val_accuracy: 0.8763\n",
      "Epoch 5/15\n",
      "1500/1500 [==============================] - 6s 4ms/step - loss: 0.3039 - accuracy: 0.8883 - val_loss: 0.3735 - val_accuracy: 0.8668\n",
      "Epoch 6/15\n",
      "1500/1500 [==============================] - 5s 4ms/step - loss: 0.2841 - accuracy: 0.8953 - val_loss: 0.3372 - val_accuracy: 0.8763\n",
      "Epoch 7/15\n",
      "1500/1500 [==============================] - 5s 4ms/step - loss: 0.2774 - accuracy: 0.8947 - val_loss: 0.3295 - val_accuracy: 0.8798\n",
      "Epoch 8/15\n",
      "1500/1500 [==============================] - 6s 4ms/step - loss: 0.2616 - accuracy: 0.9017 - val_loss: 0.3400 - val_accuracy: 0.8767\n",
      "Epoch 9/15\n",
      "1500/1500 [==============================] - 5s 3ms/step - loss: 0.2490 - accuracy: 0.9075 - val_loss: 0.3353 - val_accuracy: 0.8827\n",
      "Epoch 10/15\n",
      "1500/1500 [==============================] - 5s 4ms/step - loss: 0.2415 - accuracy: 0.9094 - val_loss: 0.3436 - val_accuracy: 0.8806\n",
      "Epoch 11/15\n",
      "1500/1500 [==============================] - 5s 4ms/step - loss: 0.2352 - accuracy: 0.9113 - val_loss: 0.3326 - val_accuracy: 0.8817\n",
      "Epoch 12/15\n",
      "1500/1500 [==============================] - 6s 4ms/step - loss: 0.2214 - accuracy: 0.9162 - val_loss: 0.3272 - val_accuracy: 0.8882\n",
      "Epoch 13/15\n",
      "1500/1500 [==============================] - 6s 4ms/step - loss: 0.2171 - accuracy: 0.9189 - val_loss: 0.3380 - val_accuracy: 0.8831\n",
      "Epoch 14/15\n",
      "1500/1500 [==============================] - 5s 4ms/step - loss: 0.2049 - accuracy: 0.9238 - val_loss: 0.3553 - val_accuracy: 0.8821\n",
      "Epoch 15/15\n",
      "1500/1500 [==============================] - 6s 4ms/step - loss: 0.2054 - accuracy: 0.9230 - val_loss: 0.3513 - val_accuracy: 0.8787\n",
      "313/313 [==============================] - 1s 3ms/step - loss: 0.3684 - accuracy: 0.8761\n",
      "[9 2 1 1 6]\n",
      "[9 2 1 1 6]\n",
      "Epoch 1/15\n",
      "1500/1500 [==============================] - 7s 4ms/step - loss: 0.6291 - accuracy: 0.7738 - val_loss: 0.4023 - val_accuracy: 0.8508\n",
      "Epoch 2/15\n",
      "1500/1500 [==============================] - 6s 4ms/step - loss: 0.3886 - accuracy: 0.8562 - val_loss: 0.3951 - val_accuracy: 0.8531\n",
      "Epoch 3/15\n",
      "1500/1500 [==============================] - 5s 4ms/step - loss: 0.3503 - accuracy: 0.8722 - val_loss: 0.3630 - val_accuracy: 0.8666\n",
      "Epoch 4/15\n",
      "1500/1500 [==============================] - 6s 4ms/step - loss: 0.3232 - accuracy: 0.8768 - val_loss: 0.3591 - val_accuracy: 0.8705\n",
      "Epoch 5/15\n",
      "1500/1500 [==============================] - 5s 4ms/step - loss: 0.3035 - accuracy: 0.8878 - val_loss: 0.3436 - val_accuracy: 0.8735\n",
      "Epoch 6/15\n",
      "1500/1500 [==============================] - 6s 4ms/step - loss: 0.2887 - accuracy: 0.8923 - val_loss: 0.3779 - val_accuracy: 0.8651\n",
      "Epoch 7/15\n",
      "1500/1500 [==============================] - 5s 4ms/step - loss: 0.2780 - accuracy: 0.8940 - val_loss: 0.3472 - val_accuracy: 0.8768\n",
      "Epoch 8/15\n",
      "1500/1500 [==============================] - 6s 4ms/step - loss: 0.2694 - accuracy: 0.8986 - val_loss: 0.3383 - val_accuracy: 0.8787\n",
      "Epoch 9/15\n",
      "1500/1500 [==============================] - 6s 4ms/step - loss: 0.2505 - accuracy: 0.9062 - val_loss: 0.3389 - val_accuracy: 0.8825\n",
      "Epoch 10/15\n",
      "1500/1500 [==============================] - 5s 4ms/step - loss: 0.2445 - accuracy: 0.9091 - val_loss: 0.3656 - val_accuracy: 0.8703\n",
      "Epoch 11/15\n",
      "1500/1500 [==============================] - 5s 4ms/step - loss: 0.2330 - accuracy: 0.9122 - val_loss: 0.3524 - val_accuracy: 0.8775\n",
      "Epoch 12/15\n",
      "1500/1500 [==============================] - 5s 4ms/step - loss: 0.2288 - accuracy: 0.9142 - val_loss: 0.3440 - val_accuracy: 0.8813\n",
      "Epoch 13/15\n",
      "1500/1500 [==============================] - 6s 4ms/step - loss: 0.2235 - accuracy: 0.9167 - val_loss: 0.3430 - val_accuracy: 0.8810\n",
      "Epoch 14/15\n",
      "1500/1500 [==============================] - 6s 4ms/step - loss: 0.2174 - accuracy: 0.9182 - val_loss: 0.3310 - val_accuracy: 0.8884\n",
      "Epoch 15/15\n",
      "1500/1500 [==============================] - 5s 4ms/step - loss: 0.2079 - accuracy: 0.9232 - val_loss: 0.3345 - val_accuracy: 0.8863\n",
      "313/313 [==============================] - 1s 3ms/step - loss: 0.3542 - accuracy: 0.8808\n",
      "[9 2 1 1 6]\n",
      "[9 2 1 1 6]\n",
      "Epoch 1/15\n",
      "1500/1500 [==============================] - 7s 4ms/step - loss: 0.6337 - accuracy: 0.7718 - val_loss: 0.4453 - val_accuracy: 0.8409\n",
      "Epoch 2/15\n",
      "1500/1500 [==============================] - 6s 4ms/step - loss: 0.3934 - accuracy: 0.8570 - val_loss: 0.4581 - val_accuracy: 0.8362\n",
      "Epoch 3/15\n",
      "1500/1500 [==============================] - 6s 4ms/step - loss: 0.3547 - accuracy: 0.8705 - val_loss: 0.3605 - val_accuracy: 0.8677\n",
      "Epoch 4/15\n",
      "1500/1500 [==============================] - 6s 4ms/step - loss: 0.3302 - accuracy: 0.8785 - val_loss: 0.3691 - val_accuracy: 0.8612\n",
      "Epoch 5/15\n",
      "1500/1500 [==============================] - 6s 4ms/step - loss: 0.3220 - accuracy: 0.8809 - val_loss: 0.3602 - val_accuracy: 0.8758\n",
      "Epoch 6/15\n",
      "1500/1500 [==============================] - 6s 4ms/step - loss: 0.3045 - accuracy: 0.8865 - val_loss: 0.3554 - val_accuracy: 0.8676\n",
      "Epoch 7/15\n",
      "1500/1500 [==============================] - 6s 4ms/step - loss: 0.2859 - accuracy: 0.8950 - val_loss: 0.3536 - val_accuracy: 0.8711\n",
      "Epoch 8/15\n",
      "1500/1500 [==============================] - 6s 4ms/step - loss: 0.2826 - accuracy: 0.8944 - val_loss: 0.3470 - val_accuracy: 0.8790\n",
      "Epoch 9/15\n",
      "1500/1500 [==============================] - 6s 4ms/step - loss: 0.2668 - accuracy: 0.9005 - val_loss: 0.3616 - val_accuracy: 0.8757\n",
      "Epoch 10/15\n",
      "1500/1500 [==============================] - 6s 4ms/step - loss: 0.2566 - accuracy: 0.9045 - val_loss: 0.3464 - val_accuracy: 0.8805\n",
      "Epoch 11/15\n",
      "1500/1500 [==============================] - 6s 4ms/step - loss: 0.2470 - accuracy: 0.9090 - val_loss: 0.3416 - val_accuracy: 0.8771\n",
      "Epoch 12/15\n",
      "1500/1500 [==============================] - 6s 4ms/step - loss: 0.2399 - accuracy: 0.9114 - val_loss: 0.3431 - val_accuracy: 0.8810\n",
      "Epoch 13/15\n",
      "1500/1500 [==============================] - 6s 4ms/step - loss: 0.2369 - accuracy: 0.9122 - val_loss: 0.3672 - val_accuracy: 0.8710\n",
      "Epoch 14/15\n",
      "1500/1500 [==============================] - 6s 4ms/step - loss: 0.2271 - accuracy: 0.9154 - val_loss: 0.3575 - val_accuracy: 0.8799\n",
      "Epoch 15/15\n",
      "1500/1500 [==============================] - 6s 4ms/step - loss: 0.2225 - accuracy: 0.9167 - val_loss: 0.3486 - val_accuracy: 0.8825\n",
      "313/313 [==============================] - 1s 3ms/step - loss: 0.3756 - accuracy: 0.8760\n",
      "[9 2 1 1 6]\n",
      "[9 2 1 1 6]\n",
      "Epoch 1/15\n",
      "1500/1500 [==============================] - 7s 4ms/step - loss: 0.6321 - accuracy: 0.7684 - val_loss: 0.4481 - val_accuracy: 0.8362\n",
      "Epoch 2/15\n",
      "1500/1500 [==============================] - 6s 4ms/step - loss: 0.3976 - accuracy: 0.8532 - val_loss: 0.3804 - val_accuracy: 0.8662\n",
      "Epoch 3/15\n",
      "1500/1500 [==============================] - 6s 4ms/step - loss: 0.3558 - accuracy: 0.8693 - val_loss: 0.3649 - val_accuracy: 0.8687\n",
      "Epoch 4/15\n",
      "1500/1500 [==============================] - 6s 4ms/step - loss: 0.3337 - accuracy: 0.8784 - val_loss: 0.3678 - val_accuracy: 0.8689\n",
      "Epoch 5/15\n",
      "1500/1500 [==============================] - 6s 4ms/step - loss: 0.3126 - accuracy: 0.8839 - val_loss: 0.3508 - val_accuracy: 0.8746\n",
      "Epoch 6/15\n",
      "1500/1500 [==============================] - 6s 4ms/step - loss: 0.2896 - accuracy: 0.8933 - val_loss: 0.3460 - val_accuracy: 0.8779\n",
      "Epoch 7/15\n",
      "1500/1500 [==============================] - 6s 4ms/step - loss: 0.2868 - accuracy: 0.8947 - val_loss: 0.3435 - val_accuracy: 0.8765\n",
      "Epoch 8/15\n",
      "1500/1500 [==============================] - 6s 4ms/step - loss: 0.2746 - accuracy: 0.8987 - val_loss: 0.3870 - val_accuracy: 0.8596\n",
      "Epoch 9/15\n",
      "1500/1500 [==============================] - 6s 4ms/step - loss: 0.2686 - accuracy: 0.9003 - val_loss: 0.3361 - val_accuracy: 0.8805\n",
      "Epoch 10/15\n",
      "1500/1500 [==============================] - 6s 4ms/step - loss: 0.2507 - accuracy: 0.9057 - val_loss: 0.3392 - val_accuracy: 0.8814\n",
      "Epoch 11/15\n",
      "1500/1500 [==============================] - 6s 4ms/step - loss: 0.2425 - accuracy: 0.9107 - val_loss: 0.3923 - val_accuracy: 0.8700\n",
      "Epoch 12/15\n",
      "1500/1500 [==============================] - 6s 4ms/step - loss: 0.2372 - accuracy: 0.9125 - val_loss: 0.3405 - val_accuracy: 0.8839\n",
      "Epoch 13/15\n",
      "1500/1500 [==============================] - 6s 4ms/step - loss: 0.2336 - accuracy: 0.9129 - val_loss: 0.3340 - val_accuracy: 0.8842\n",
      "Epoch 14/15\n",
      "1500/1500 [==============================] - 6s 4ms/step - loss: 0.2214 - accuracy: 0.9178 - val_loss: 0.3424 - val_accuracy: 0.8835\n",
      "Epoch 15/15\n",
      "1500/1500 [==============================] - 6s 4ms/step - loss: 0.2162 - accuracy: 0.9206 - val_loss: 0.3482 - val_accuracy: 0.8848\n",
      "313/313 [==============================] - 1s 3ms/step - loss: 0.3747 - accuracy: 0.8766\n",
      "[9 2 1 1 6]\n",
      "[9 2 1 1 6]\n",
      "Epoch 1/15\n",
      "1500/1500 [==============================] - 7s 4ms/step - loss: 0.6360 - accuracy: 0.7701 - val_loss: 0.4767 - val_accuracy: 0.8278\n",
      "Epoch 2/15\n",
      "1500/1500 [==============================] - 6s 4ms/step - loss: 0.3981 - accuracy: 0.8562 - val_loss: 0.4142 - val_accuracy: 0.8460\n",
      "Epoch 3/15\n",
      "1500/1500 [==============================] - 6s 4ms/step - loss: 0.3576 - accuracy: 0.8671 - val_loss: 0.3836 - val_accuracy: 0.8627\n",
      "Epoch 4/15\n",
      "1500/1500 [==============================] - 6s 4ms/step - loss: 0.3303 - accuracy: 0.8769 - val_loss: 0.3425 - val_accuracy: 0.8751\n",
      "Epoch 5/15\n",
      "1500/1500 [==============================] - 6s 4ms/step - loss: 0.3123 - accuracy: 0.8837 - val_loss: 0.3408 - val_accuracy: 0.8757\n",
      "Epoch 6/15\n",
      "1500/1500 [==============================] - 6s 4ms/step - loss: 0.3000 - accuracy: 0.8892 - val_loss: 0.3761 - val_accuracy: 0.8675\n",
      "Epoch 7/15\n",
      "1500/1500 [==============================] - 6s 4ms/step - loss: 0.2900 - accuracy: 0.8914 - val_loss: 0.3428 - val_accuracy: 0.8794\n",
      "Epoch 8/15\n",
      "1500/1500 [==============================] - 6s 4ms/step - loss: 0.2731 - accuracy: 0.8981 - val_loss: 0.3608 - val_accuracy: 0.8731\n",
      "Epoch 9/15\n",
      "1500/1500 [==============================] - 6s 4ms/step - loss: 0.2613 - accuracy: 0.9033 - val_loss: 0.3299 - val_accuracy: 0.8820\n",
      "Epoch 10/15\n",
      "1500/1500 [==============================] - 6s 4ms/step - loss: 0.2536 - accuracy: 0.9048 - val_loss: 0.3537 - val_accuracy: 0.8748\n",
      "Epoch 11/15\n",
      "1500/1500 [==============================] - 6s 4ms/step - loss: 0.2390 - accuracy: 0.9113 - val_loss: 0.3610 - val_accuracy: 0.8730\n",
      "Epoch 12/15\n",
      "1500/1500 [==============================] - 6s 4ms/step - loss: 0.2393 - accuracy: 0.9119 - val_loss: 0.3319 - val_accuracy: 0.8857\n",
      "Epoch 13/15\n",
      "1500/1500 [==============================] - 6s 4ms/step - loss: 0.2307 - accuracy: 0.9129 - val_loss: 0.3401 - val_accuracy: 0.8829\n",
      "Epoch 14/15\n",
      "1500/1500 [==============================] - 6s 4ms/step - loss: 0.2187 - accuracy: 0.9199 - val_loss: 0.3283 - val_accuracy: 0.8853\n",
      "Epoch 15/15\n",
      "1500/1500 [==============================] - 6s 4ms/step - loss: 0.2218 - accuracy: 0.9181 - val_loss: 0.3346 - val_accuracy: 0.8855\n",
      "313/313 [==============================] - 1s 4ms/step - loss: 0.3507 - accuracy: 0.8819\n",
      "[9 2 1 1 6]\n",
      "[9 2 1 1 6]\n",
      "Epoch 1/15\n",
      "1500/1500 [==============================] - 7s 4ms/step - loss: 0.6334 - accuracy: 0.7720 - val_loss: 0.4124 - val_accuracy: 0.8482\n",
      "Epoch 2/15\n",
      "1500/1500 [==============================] - 6s 4ms/step - loss: 0.3974 - accuracy: 0.8532 - val_loss: 0.3985 - val_accuracy: 0.8558\n",
      "Epoch 3/15\n",
      "1500/1500 [==============================] - 6s 4ms/step - loss: 0.3538 - accuracy: 0.8693 - val_loss: 0.3810 - val_accuracy: 0.8588\n",
      "Epoch 4/15\n",
      "1500/1500 [==============================] - 6s 4ms/step - loss: 0.3329 - accuracy: 0.8754 - val_loss: 0.3428 - val_accuracy: 0.8758\n",
      "Epoch 5/15\n",
      "1500/1500 [==============================] - 6s 4ms/step - loss: 0.3185 - accuracy: 0.8810 - val_loss: 0.3510 - val_accuracy: 0.8785\n",
      "Epoch 6/15\n",
      "1500/1500 [==============================] - 6s 4ms/step - loss: 0.2949 - accuracy: 0.8899 - val_loss: 0.3494 - val_accuracy: 0.8743\n",
      "Epoch 7/15\n",
      "1500/1500 [==============================] - 6s 4ms/step - loss: 0.2906 - accuracy: 0.8939 - val_loss: 0.3626 - val_accuracy: 0.8691\n",
      "Epoch 8/15\n",
      "1500/1500 [==============================] - 6s 4ms/step - loss: 0.2776 - accuracy: 0.8985 - val_loss: 0.3373 - val_accuracy: 0.8773\n",
      "Epoch 9/15\n",
      "1500/1500 [==============================] - 6s 4ms/step - loss: 0.2606 - accuracy: 0.9030 - val_loss: 0.3589 - val_accuracy: 0.8770\n",
      "Epoch 10/15\n",
      "1500/1500 [==============================] - 6s 4ms/step - loss: 0.2592 - accuracy: 0.9032 - val_loss: 0.3390 - val_accuracy: 0.8825\n",
      "Epoch 11/15\n",
      "1500/1500 [==============================] - 6s 4ms/step - loss: 0.2539 - accuracy: 0.9066 - val_loss: 0.3254 - val_accuracy: 0.8820\n",
      "Epoch 12/15\n",
      "1500/1500 [==============================] - 6s 4ms/step - loss: 0.2472 - accuracy: 0.9070 - val_loss: 0.3354 - val_accuracy: 0.8784\n",
      "Epoch 13/15\n",
      "1500/1500 [==============================] - 6s 4ms/step - loss: 0.2371 - accuracy: 0.9087 - val_loss: 0.3324 - val_accuracy: 0.8816\n",
      "Epoch 14/15\n",
      "1500/1500 [==============================] - 6s 4ms/step - loss: 0.2320 - accuracy: 0.9134 - val_loss: 0.3286 - val_accuracy: 0.8839\n",
      "Epoch 15/15\n",
      "1500/1500 [==============================] - 6s 4ms/step - loss: 0.2217 - accuracy: 0.9177 - val_loss: 0.3371 - val_accuracy: 0.8837\n",
      "313/313 [==============================] - 1s 4ms/step - loss: 0.3648 - accuracy: 0.8738\n",
      "[9 2 1 1 6]\n",
      "[9 2 1 1 6]\n",
      "Epoch 1/15\n",
      "1500/1500 [==============================] - 8s 5ms/step - loss: 0.6545 - accuracy: 0.7698 - val_loss: 0.4405 - val_accuracy: 0.8415\n",
      "Epoch 2/15\n",
      "1500/1500 [==============================] - 7s 5ms/step - loss: 0.4188 - accuracy: 0.8464 - val_loss: 0.4260 - val_accuracy: 0.8539\n",
      "Epoch 3/15\n",
      "1500/1500 [==============================] - 6s 4ms/step - loss: 0.3854 - accuracy: 0.8586 - val_loss: 0.4348 - val_accuracy: 0.8332\n",
      "Epoch 4/15\n",
      "1500/1500 [==============================] - 6s 4ms/step - loss: 0.3554 - accuracy: 0.8700 - val_loss: 0.3556 - val_accuracy: 0.8716\n",
      "Epoch 5/15\n",
      "1500/1500 [==============================] - 7s 5ms/step - loss: 0.3307 - accuracy: 0.8772 - val_loss: 0.3618 - val_accuracy: 0.8709\n",
      "Epoch 6/15\n",
      "1500/1500 [==============================] - 7s 5ms/step - loss: 0.3211 - accuracy: 0.8814 - val_loss: 0.3516 - val_accuracy: 0.8741\n",
      "Epoch 7/15\n",
      "1500/1500 [==============================] - 6s 4ms/step - loss: 0.3097 - accuracy: 0.8868 - val_loss: 0.3989 - val_accuracy: 0.8568\n",
      "Epoch 8/15\n",
      "1500/1500 [==============================] - 6s 4ms/step - loss: 0.3023 - accuracy: 0.8907 - val_loss: 0.3601 - val_accuracy: 0.8726\n",
      "Epoch 9/15\n",
      "1500/1500 [==============================] - 7s 5ms/step - loss: 0.2874 - accuracy: 0.8936 - val_loss: 0.3423 - val_accuracy: 0.8813\n",
      "Epoch 10/15\n",
      "1500/1500 [==============================] - 7s 5ms/step - loss: 0.2738 - accuracy: 0.8986 - val_loss: 0.3585 - val_accuracy: 0.8750\n",
      "Epoch 11/15\n",
      "1500/1500 [==============================] - 6s 4ms/step - loss: 0.2678 - accuracy: 0.8999 - val_loss: 0.3381 - val_accuracy: 0.8843\n",
      "Epoch 12/15\n",
      "1500/1500 [==============================] - 6s 4ms/step - loss: 0.2614 - accuracy: 0.9040 - val_loss: 0.3538 - val_accuracy: 0.8779\n",
      "Epoch 13/15\n",
      "1500/1500 [==============================] - 6s 4ms/step - loss: 0.2557 - accuracy: 0.9060 - val_loss: 0.3478 - val_accuracy: 0.8784\n",
      "Epoch 14/15\n",
      "1500/1500 [==============================] - 7s 5ms/step - loss: 0.2550 - accuracy: 0.9072 - val_loss: 0.3564 - val_accuracy: 0.8788\n",
      "Epoch 15/15\n",
      "1500/1500 [==============================] - 7s 5ms/step - loss: 0.2567 - accuracy: 0.9048 - val_loss: 0.3640 - val_accuracy: 0.8751\n",
      "313/313 [==============================] - 2s 4ms/step - loss: 0.3950 - accuracy: 0.8629\n",
      "[9 2 1 1 6]\n",
      "[9 2 1 1 6]\n",
      "Epoch 1/15\n",
      "1500/1500 [==============================] - 8s 5ms/step - loss: 0.6645 - accuracy: 0.7617 - val_loss: 0.4467 - val_accuracy: 0.8363\n",
      "Epoch 2/15\n",
      "1500/1500 [==============================] - 6s 4ms/step - loss: 0.4232 - accuracy: 0.8437 - val_loss: 0.4460 - val_accuracy: 0.8401\n",
      "Epoch 3/15\n",
      "1500/1500 [==============================] - 7s 5ms/step - loss: 0.3753 - accuracy: 0.8642 - val_loss: 0.3734 - val_accuracy: 0.8574\n",
      "Epoch 4/15\n",
      "1500/1500 [==============================] - 7s 5ms/step - loss: 0.3493 - accuracy: 0.8712 - val_loss: 0.4119 - val_accuracy: 0.8583\n",
      "Epoch 5/15\n",
      "1500/1500 [==============================] - 6s 4ms/step - loss: 0.3370 - accuracy: 0.8773 - val_loss: 0.3834 - val_accuracy: 0.8641\n",
      "Epoch 6/15\n",
      "1500/1500 [==============================] - 7s 5ms/step - loss: 0.3160 - accuracy: 0.8863 - val_loss: 0.3967 - val_accuracy: 0.8564\n",
      "Epoch 7/15\n",
      "1500/1500 [==============================] - 6s 4ms/step - loss: 0.3067 - accuracy: 0.8865 - val_loss: 0.3671 - val_accuracy: 0.8684\n",
      "Epoch 8/15\n",
      "1500/1500 [==============================] - 7s 5ms/step - loss: 0.2945 - accuracy: 0.8916 - val_loss: 0.3617 - val_accuracy: 0.8736\n",
      "Epoch 9/15\n",
      "1500/1500 [==============================] - 7s 4ms/step - loss: 0.2977 - accuracy: 0.8897 - val_loss: 0.3657 - val_accuracy: 0.8711\n",
      "Epoch 10/15\n",
      "1500/1500 [==============================] - 7s 5ms/step - loss: 0.2844 - accuracy: 0.8974 - val_loss: 0.3369 - val_accuracy: 0.8808\n",
      "Epoch 11/15\n",
      "1500/1500 [==============================] - 6s 4ms/step - loss: 0.2675 - accuracy: 0.9006 - val_loss: 0.3453 - val_accuracy: 0.8780\n",
      "Epoch 12/15\n",
      "1500/1500 [==============================] - 7s 5ms/step - loss: 0.2619 - accuracy: 0.9013 - val_loss: 0.3717 - val_accuracy: 0.8752\n",
      "Epoch 13/15\n",
      "1500/1500 [==============================] - 6s 4ms/step - loss: 0.2553 - accuracy: 0.9064 - val_loss: 0.3497 - val_accuracy: 0.8798\n",
      "Epoch 14/15\n",
      "1500/1500 [==============================] - 7s 4ms/step - loss: 0.2546 - accuracy: 0.9081 - val_loss: 0.3583 - val_accuracy: 0.8774\n",
      "Epoch 15/15\n",
      "1500/1500 [==============================] - 7s 5ms/step - loss: 0.2545 - accuracy: 0.9065 - val_loss: 0.3520 - val_accuracy: 0.8802\n",
      "313/313 [==============================] - 2s 4ms/step - loss: 0.3824 - accuracy: 0.8700\n",
      "[9 2 1 1 6]\n",
      "[9 2 1 1 6]\n",
      "Epoch 1/15\n",
      "1500/1500 [==============================] - 8s 5ms/step - loss: 0.6733 - accuracy: 0.7610 - val_loss: 0.4383 - val_accuracy: 0.8391\n",
      "Epoch 2/15\n",
      "1500/1500 [==============================] - 7s 5ms/step - loss: 0.4189 - accuracy: 0.8490 - val_loss: 0.4260 - val_accuracy: 0.8439\n",
      "Epoch 3/15\n",
      "1500/1500 [==============================] - 7s 5ms/step - loss: 0.3779 - accuracy: 0.8639 - val_loss: 0.3852 - val_accuracy: 0.8662\n",
      "Epoch 4/15\n",
      "1500/1500 [==============================] - 7s 5ms/step - loss: 0.3513 - accuracy: 0.8708 - val_loss: 0.3866 - val_accuracy: 0.8594\n",
      "Epoch 5/15\n",
      "1500/1500 [==============================] - 7s 5ms/step - loss: 0.3322 - accuracy: 0.8787 - val_loss: 0.3656 - val_accuracy: 0.8698\n",
      "Epoch 6/15\n",
      "1500/1500 [==============================] - 6s 4ms/step - loss: 0.3200 - accuracy: 0.8812 - val_loss: 0.3516 - val_accuracy: 0.8726\n",
      "Epoch 7/15\n",
      "1500/1500 [==============================] - 6s 4ms/step - loss: 0.3017 - accuracy: 0.8900 - val_loss: 0.3823 - val_accuracy: 0.8685\n",
      "Epoch 8/15\n",
      "1500/1500 [==============================] - 6s 4ms/step - loss: 0.2979 - accuracy: 0.8914 - val_loss: 0.3561 - val_accuracy: 0.8742\n",
      "Epoch 9/15\n",
      "1500/1500 [==============================] - 7s 5ms/step - loss: 0.2888 - accuracy: 0.8908 - val_loss: 0.3665 - val_accuracy: 0.8731\n",
      "Epoch 10/15\n",
      "1500/1500 [==============================] - 6s 4ms/step - loss: 0.2754 - accuracy: 0.8988 - val_loss: 0.3482 - val_accuracy: 0.8798\n",
      "Epoch 11/15\n",
      "1500/1500 [==============================] - 7s 5ms/step - loss: 0.2705 - accuracy: 0.8980 - val_loss: 0.3650 - val_accuracy: 0.8735\n",
      "Epoch 12/15\n",
      "1500/1500 [==============================] - 7s 5ms/step - loss: 0.2602 - accuracy: 0.9035 - val_loss: 0.3487 - val_accuracy: 0.8756\n",
      "Epoch 13/15\n",
      "1500/1500 [==============================] - 7s 5ms/step - loss: 0.2553 - accuracy: 0.9064 - val_loss: 0.3457 - val_accuracy: 0.8826\n",
      "Epoch 14/15\n",
      "1500/1500 [==============================] - 7s 5ms/step - loss: 0.2440 - accuracy: 0.9105 - val_loss: 0.3384 - val_accuracy: 0.8842\n",
      "Epoch 15/15\n",
      "1500/1500 [==============================] - 7s 4ms/step - loss: 0.2503 - accuracy: 0.9075 - val_loss: 0.3473 - val_accuracy: 0.8811\n",
      "313/313 [==============================] - 2s 4ms/step - loss: 0.3755 - accuracy: 0.8723\n",
      "[9 2 1 1 6]\n",
      "[9 2 1 1 6]\n",
      "Epoch 1/15\n",
      "1500/1500 [==============================] - 8s 5ms/step - loss: 0.6597 - accuracy: 0.7643 - val_loss: 0.4500 - val_accuracy: 0.8407\n",
      "Epoch 2/15\n",
      "1500/1500 [==============================] - 7s 5ms/step - loss: 0.4195 - accuracy: 0.8446 - val_loss: 0.3943 - val_accuracy: 0.8611\n",
      "Epoch 3/15\n",
      "1500/1500 [==============================] - 6s 4ms/step - loss: 0.3684 - accuracy: 0.8651 - val_loss: 0.4063 - val_accuracy: 0.8550\n",
      "Epoch 4/15\n",
      "1500/1500 [==============================] - 7s 4ms/step - loss: 0.3490 - accuracy: 0.8705 - val_loss: 0.3707 - val_accuracy: 0.8686\n",
      "Epoch 5/15\n",
      "1500/1500 [==============================] - 7s 4ms/step - loss: 0.3385 - accuracy: 0.8798 - val_loss: 0.3704 - val_accuracy: 0.8714\n",
      "Epoch 6/15\n",
      "1500/1500 [==============================] - 6s 4ms/step - loss: 0.3221 - accuracy: 0.8813 - val_loss: 0.3792 - val_accuracy: 0.8670\n",
      "Epoch 7/15\n",
      "1500/1500 [==============================] - 7s 5ms/step - loss: 0.3062 - accuracy: 0.8870 - val_loss: 0.3584 - val_accuracy: 0.8732\n",
      "Epoch 8/15\n",
      "1500/1500 [==============================] - 7s 4ms/step - loss: 0.3013 - accuracy: 0.8883 - val_loss: 0.3600 - val_accuracy: 0.8713\n",
      "Epoch 9/15\n",
      "1500/1500 [==============================] - 7s 4ms/step - loss: 0.2872 - accuracy: 0.8950 - val_loss: 0.3569 - val_accuracy: 0.8783\n",
      "Epoch 10/15\n",
      "1500/1500 [==============================] - 7s 5ms/step - loss: 0.2825 - accuracy: 0.8974 - val_loss: 0.3430 - val_accuracy: 0.8746\n",
      "Epoch 11/15\n",
      "1500/1500 [==============================] - 6s 4ms/step - loss: 0.2733 - accuracy: 0.8996 - val_loss: 0.3653 - val_accuracy: 0.8781\n",
      "Epoch 12/15\n",
      "1500/1500 [==============================] - 6s 4ms/step - loss: 0.2688 - accuracy: 0.8987 - val_loss: 0.3315 - val_accuracy: 0.8812\n",
      "Epoch 13/15\n",
      "1500/1500 [==============================] - 7s 5ms/step - loss: 0.2532 - accuracy: 0.9065 - val_loss: 0.3675 - val_accuracy: 0.8768\n",
      "Epoch 14/15\n",
      "1500/1500 [==============================] - 7s 5ms/step - loss: 0.2545 - accuracy: 0.9051 - val_loss: 0.3368 - val_accuracy: 0.8818\n",
      "Epoch 15/15\n",
      "1500/1500 [==============================] - 7s 4ms/step - loss: 0.2562 - accuracy: 0.9055 - val_loss: 0.3522 - val_accuracy: 0.8826\n",
      "313/313 [==============================] - 2s 4ms/step - loss: 0.3726 - accuracy: 0.8768\n",
      "[9 2 1 1 6]\n",
      "[9 2 1 1 6]\n",
      "Epoch 1/15\n",
      "1500/1500 [==============================] - 10s 6ms/step - loss: 0.8111 - accuracy: 0.7465 - val_loss: 0.5369 - val_accuracy: 0.8171\n",
      "Epoch 2/15\n",
      "1500/1500 [==============================] - 8s 6ms/step - loss: 0.4740 - accuracy: 0.8365 - val_loss: 0.4453 - val_accuracy: 0.8492\n",
      "Epoch 3/15\n",
      "1500/1500 [==============================] - 8s 5ms/step - loss: 0.4191 - accuracy: 0.8544 - val_loss: 0.4174 - val_accuracy: 0.8524\n",
      "Epoch 4/15\n",
      "1500/1500 [==============================] - 8s 6ms/step - loss: 0.4004 - accuracy: 0.8591 - val_loss: 0.4169 - val_accuracy: 0.8581\n",
      "Epoch 5/15\n",
      "1500/1500 [==============================] - 8s 5ms/step - loss: 0.3821 - accuracy: 0.8642 - val_loss: 0.3815 - val_accuracy: 0.8677\n",
      "Epoch 6/15\n",
      "1500/1500 [==============================] - 8s 6ms/step - loss: 0.3552 - accuracy: 0.8737 - val_loss: 0.3925 - val_accuracy: 0.8672\n",
      "Epoch 7/15\n",
      "1500/1500 [==============================] - 8s 6ms/step - loss: 0.3508 - accuracy: 0.8757 - val_loss: 0.3853 - val_accuracy: 0.8677\n",
      "Epoch 8/15\n",
      "1500/1500 [==============================] - 8s 5ms/step - loss: 0.3450 - accuracy: 0.8777 - val_loss: 0.3991 - val_accuracy: 0.8650\n",
      "Epoch 9/15\n",
      "1500/1500 [==============================] - 8s 5ms/step - loss: 0.3291 - accuracy: 0.8853 - val_loss: 0.4476 - val_accuracy: 0.8455\n",
      "Epoch 10/15\n",
      "1500/1500 [==============================] - 8s 5ms/step - loss: 0.3381 - accuracy: 0.8818 - val_loss: 0.3707 - val_accuracy: 0.8707\n",
      "Epoch 11/15\n",
      "1500/1500 [==============================] - 8s 6ms/step - loss: 0.3204 - accuracy: 0.8846 - val_loss: 0.3962 - val_accuracy: 0.8593\n",
      "Epoch 12/15\n",
      "1500/1500 [==============================] - 8s 5ms/step - loss: 0.3133 - accuracy: 0.8881 - val_loss: 0.3850 - val_accuracy: 0.8655\n",
      "Epoch 13/15\n",
      "1500/1500 [==============================] - 8s 6ms/step - loss: 0.3145 - accuracy: 0.8858 - val_loss: 0.3764 - val_accuracy: 0.8732\n",
      "Epoch 14/15\n",
      "1500/1500 [==============================] - 8s 6ms/step - loss: 0.3029 - accuracy: 0.8909 - val_loss: 0.3770 - val_accuracy: 0.8717\n",
      "Epoch 15/15\n",
      "1500/1500 [==============================] - 8s 5ms/step - loss: 0.3064 - accuracy: 0.8904 - val_loss: 0.3805 - val_accuracy: 0.8717\n",
      "313/313 [==============================] - 2s 4ms/step - loss: 0.4035 - accuracy: 0.8642\n",
      "[9 2 1 1 6]\n",
      "[9 2 1 1 6]\n",
      "Epoch 1/15\n",
      "1500/1500 [==============================] - 10s 6ms/step - loss: 0.8177 - accuracy: 0.7428 - val_loss: 0.4823 - val_accuracy: 0.8376\n",
      "Epoch 2/15\n",
      "1500/1500 [==============================] - 8s 5ms/step - loss: 0.4724 - accuracy: 0.8363 - val_loss: 0.4643 - val_accuracy: 0.8420\n",
      "Epoch 3/15\n",
      "1500/1500 [==============================] - 8s 5ms/step - loss: 0.4204 - accuracy: 0.8532 - val_loss: 0.4494 - val_accuracy: 0.8488\n",
      "Epoch 4/15\n",
      "1500/1500 [==============================] - 9s 6ms/step - loss: 0.4035 - accuracy: 0.8581 - val_loss: 0.4202 - val_accuracy: 0.8512\n",
      "Epoch 5/15\n",
      "1500/1500 [==============================] - 8s 6ms/step - loss: 0.3832 - accuracy: 0.8629 - val_loss: 0.3913 - val_accuracy: 0.8602\n",
      "Epoch 6/15\n",
      "1500/1500 [==============================] - 8s 5ms/step - loss: 0.3674 - accuracy: 0.8721 - val_loss: 0.3913 - val_accuracy: 0.8666\n",
      "Epoch 7/15\n",
      "1500/1500 [==============================] - 8s 6ms/step - loss: 0.3636 - accuracy: 0.8734 - val_loss: 0.3822 - val_accuracy: 0.8715\n",
      "Epoch 8/15\n",
      "1500/1500 [==============================] - 8s 6ms/step - loss: 0.3500 - accuracy: 0.8771 - val_loss: 0.3777 - val_accuracy: 0.8748\n",
      "Epoch 9/15\n",
      "1500/1500 [==============================] - 8s 6ms/step - loss: 0.3364 - accuracy: 0.8815 - val_loss: 0.3738 - val_accuracy: 0.8688\n",
      "Epoch 10/15\n",
      "1500/1500 [==============================] - 8s 5ms/step - loss: 0.3274 - accuracy: 0.8834 - val_loss: 0.3863 - val_accuracy: 0.8672\n",
      "Epoch 11/15\n",
      "1500/1500 [==============================] - 8s 5ms/step - loss: 0.3150 - accuracy: 0.8895 - val_loss: 0.3835 - val_accuracy: 0.8658\n",
      "Epoch 12/15\n",
      "1500/1500 [==============================] - 8s 5ms/step - loss: 0.3113 - accuracy: 0.8892 - val_loss: 0.3807 - val_accuracy: 0.8734\n",
      "Epoch 13/15\n",
      "1500/1500 [==============================] - 8s 6ms/step - loss: 0.3187 - accuracy: 0.8856 - val_loss: 0.3704 - val_accuracy: 0.8769\n",
      "Epoch 14/15\n",
      "1500/1500 [==============================] - 8s 5ms/step - loss: 0.3079 - accuracy: 0.8912 - val_loss: 0.3830 - val_accuracy: 0.8666\n",
      "Epoch 15/15\n",
      "1500/1500 [==============================] - 8s 6ms/step - loss: 0.2951 - accuracy: 0.8939 - val_loss: 0.3799 - val_accuracy: 0.8710\n",
      "313/313 [==============================] - 2s 4ms/step - loss: 0.4078 - accuracy: 0.8646\n",
      "[9 2 1 1 6]\n",
      "[9 2 1 1 6]\n",
      "Epoch 1/15\n",
      "1500/1500 [==============================] - 10s 6ms/step - loss: 0.8212 - accuracy: 0.7408 - val_loss: 0.5188 - val_accuracy: 0.8170\n",
      "Epoch 2/15\n",
      "1500/1500 [==============================] - 8s 6ms/step - loss: 0.4769 - accuracy: 0.8351 - val_loss: 0.4609 - val_accuracy: 0.8415\n",
      "Epoch 3/15\n",
      "1500/1500 [==============================] - 8s 5ms/step - loss: 0.4249 - accuracy: 0.8515 - val_loss: 0.4493 - val_accuracy: 0.8343\n",
      "Epoch 4/15\n",
      "1500/1500 [==============================] - 8s 5ms/step - loss: 0.3952 - accuracy: 0.8586 - val_loss: 0.4014 - val_accuracy: 0.8544\n",
      "Epoch 5/15\n",
      "1500/1500 [==============================] - 8s 6ms/step - loss: 0.3771 - accuracy: 0.8663 - val_loss: 0.4002 - val_accuracy: 0.8661\n",
      "Epoch 6/15\n",
      "1500/1500 [==============================] - 8s 6ms/step - loss: 0.3514 - accuracy: 0.8717 - val_loss: 0.3938 - val_accuracy: 0.8595\n",
      "Epoch 7/15\n",
      "1500/1500 [==============================] - 8s 6ms/step - loss: 0.3570 - accuracy: 0.8735 - val_loss: 0.3884 - val_accuracy: 0.8698\n",
      "Epoch 8/15\n",
      "1500/1500 [==============================] - 8s 6ms/step - loss: 0.3568 - accuracy: 0.8757 - val_loss: 0.3846 - val_accuracy: 0.8686\n",
      "Epoch 9/15\n",
      "1500/1500 [==============================] - 8s 5ms/step - loss: 0.3348 - accuracy: 0.8829 - val_loss: 0.3672 - val_accuracy: 0.8760\n",
      "Epoch 10/15\n",
      "1500/1500 [==============================] - 8s 5ms/step - loss: 0.3401 - accuracy: 0.8815 - val_loss: 0.3774 - val_accuracy: 0.8714\n",
      "Epoch 11/15\n",
      "1500/1500 [==============================] - 8s 6ms/step - loss: 0.3229 - accuracy: 0.8865 - val_loss: 0.3620 - val_accuracy: 0.8767\n",
      "Epoch 12/15\n",
      "1500/1500 [==============================] - 8s 6ms/step - loss: 0.3108 - accuracy: 0.8910 - val_loss: 0.3801 - val_accuracy: 0.8713\n",
      "Epoch 13/15\n",
      "1500/1500 [==============================] - 8s 5ms/step - loss: 0.3124 - accuracy: 0.8901 - val_loss: 0.4222 - val_accuracy: 0.8603\n",
      "Epoch 14/15\n",
      "1500/1500 [==============================] - 8s 6ms/step - loss: 0.3144 - accuracy: 0.8892 - val_loss: 0.3671 - val_accuracy: 0.8806\n",
      "Epoch 15/15\n",
      "1500/1500 [==============================] - 8s 5ms/step - loss: 0.3060 - accuracy: 0.8909 - val_loss: 0.3539 - val_accuracy: 0.8787\n",
      "313/313 [==============================] - 2s 4ms/step - loss: 0.3792 - accuracy: 0.8680\n",
      "[9 2 1 1 6]\n",
      "[9 2 1 1 6]\n",
      "Epoch 1/15\n",
      "1500/1500 [==============================] - 10s 6ms/step - loss: 0.8385 - accuracy: 0.7316 - val_loss: 0.5262 - val_accuracy: 0.8170\n",
      "Epoch 2/15\n",
      "1500/1500 [==============================] - 8s 6ms/step - loss: 0.4895 - accuracy: 0.8347 - val_loss: 0.4786 - val_accuracy: 0.8309\n",
      "Epoch 3/15\n",
      "1500/1500 [==============================] - 8s 6ms/step - loss: 0.4205 - accuracy: 0.8513 - val_loss: 0.4436 - val_accuracy: 0.8479\n",
      "Epoch 4/15\n",
      "1500/1500 [==============================] - 8s 6ms/step - loss: 0.3957 - accuracy: 0.8609 - val_loss: 0.4186 - val_accuracy: 0.8531\n",
      "Epoch 5/15\n",
      "1500/1500 [==============================] - 8s 5ms/step - loss: 0.3750 - accuracy: 0.8690 - val_loss: 0.4486 - val_accuracy: 0.8501\n",
      "Epoch 6/15\n",
      "1500/1500 [==============================] - 8s 5ms/step - loss: 0.3698 - accuracy: 0.8707 - val_loss: 0.4238 - val_accuracy: 0.8490\n",
      "Epoch 7/15\n",
      "1500/1500 [==============================] - 8s 5ms/step - loss: 0.3510 - accuracy: 0.8755 - val_loss: 0.4016 - val_accuracy: 0.8612\n",
      "Epoch 8/15\n",
      "1500/1500 [==============================] - 9s 6ms/step - loss: 0.3481 - accuracy: 0.8778 - val_loss: 0.3959 - val_accuracy: 0.8629\n",
      "Epoch 9/15\n",
      "1500/1500 [==============================] - 8s 6ms/step - loss: 0.3436 - accuracy: 0.8782 - val_loss: 0.3811 - val_accuracy: 0.8707\n",
      "Epoch 10/15\n",
      "1500/1500 [==============================] - 9s 6ms/step - loss: 0.3393 - accuracy: 0.8787 - val_loss: 0.3840 - val_accuracy: 0.8707\n",
      "Epoch 11/15\n",
      "1500/1500 [==============================] - 8s 5ms/step - loss: 0.3415 - accuracy: 0.8781 - val_loss: 0.3825 - val_accuracy: 0.8646\n",
      "Epoch 12/15\n",
      "1500/1500 [==============================] - 9s 6ms/step - loss: 0.3191 - accuracy: 0.8877 - val_loss: 0.3646 - val_accuracy: 0.8705\n",
      "Epoch 13/15\n",
      "1500/1500 [==============================] - 8s 5ms/step - loss: 0.3195 - accuracy: 0.8873 - val_loss: 0.3929 - val_accuracy: 0.8658\n",
      "Epoch 14/15\n",
      "1500/1500 [==============================] - 8s 5ms/step - loss: 0.3193 - accuracy: 0.8894 - val_loss: 0.3807 - val_accuracy: 0.8694\n",
      "Epoch 15/15\n",
      "1500/1500 [==============================] - 8s 6ms/step - loss: 0.3111 - accuracy: 0.8908 - val_loss: 0.3837 - val_accuracy: 0.8717\n",
      "313/313 [==============================] - 2s 4ms/step - loss: 0.4172 - accuracy: 0.8571\n",
      "[9 2 1 1 6]\n",
      "[9 2 1 1 6]\n"
     ]
    }
   ],
   "source": [
    "for models in models_dict[\"models\"].items():\n",
    "  for model in models[1]:\n",
    "    # Train the model.\n",
    "    model.fit(  \n",
    "      train_images[:,:],\n",
    "      y_t[:,:],\n",
    "      epochs=15,\n",
    "      batch_size=32,\n",
    "      validation_split=0.2\n",
    "    )\n",
    "\n",
    "    # Evaluate the model.\n",
    "    model.evaluate( \n",
    "      test_images,\n",
    "      y_tt\n",
    "    )\n",
    "\n",
    "    # Predict on the first 5 test images.\n",
    "    predictions = model.predict(test_images[:5])\n",
    "\n",
    "    # Print our model's predictions.\n",
    "    print(np.argmax(predictions, axis=1)) # \n",
    "\n",
    "    # Check our predictions against the ground truths.\n",
    "    print(test_labels[:5]) # "
   ]
  },
  {
   "cell_type": "code",
   "execution_count": 39,
   "metadata": {
    "colab": {
     "base_uri": "https://localhost:8080/"
    },
    "id": "cirH3ro2FnK0",
    "outputId": "1e99402b-6bee-4562-c64d-78ce57b24a96"
   },
   "outputs": [
    {
     "name": "stdout",
     "output_type": "stream",
     "text": [
      "model_2_0\n",
      "model_2_1\n",
      "model_2_2\n",
      "model_2_3\n",
      "model_3_0\n",
      "model_3_1\n",
      "model_3_2\n",
      "model_3_3\n",
      "model_5_0\n",
      "model_5_1\n",
      "model_5_2\n",
      "model_5_3\n",
      "model_10_0\n",
      "model_10_1\n",
      "model_10_2\n",
      "model_10_3\n"
     ]
    },
    {
     "data": {
      "text/plain": [
       "{'fit_model_names': ['model_2_0',\n",
       "  'model_2_1',\n",
       "  'model_2_2',\n",
       "  'model_2_3',\n",
       "  'model_3_0',\n",
       "  'model_3_1',\n",
       "  'model_3_2',\n",
       "  'model_3_3',\n",
       "  'model_5_0',\n",
       "  'model_5_1',\n",
       "  'model_5_2',\n",
       "  'model_5_3',\n",
       "  'model_10_0',\n",
       "  'model_10_1',\n",
       "  'model_10_2',\n",
       "  'model_10_3'],\n",
       " 'fit_y_classes': [array([9, 2, 1]),\n",
       "  array([9, 2, 1]),\n",
       "  array([9, 2, 1]),\n",
       "  array([9, 2, 1]),\n",
       "  array([9, 2, 1]),\n",
       "  array([9, 2, 1]),\n",
       "  array([9, 2, 1]),\n",
       "  array([9, 2, 1]),\n",
       "  array([9, 2, 1]),\n",
       "  array([9, 2, 1]),\n",
       "  array([9, 2, 1]),\n",
       "  array([9, 2, 1]),\n",
       "  array([9, 2, 1]),\n",
       "  array([9, 2, 1]),\n",
       "  array([9, 2, 1]),\n",
       "  array([9, 2, 1])],\n",
       " 'fit_y_preds': [array([[2.9882762e-07, 2.1187757e-06, 2.1185919e-08, 1.5587803e-07,\n",
       "          5.5198353e-07, 2.9619805e-05, 8.3502513e-08, 4.9475871e-04,\n",
       "          2.1211847e-07, 9.9947220e-01],\n",
       "         [9.0384588e-04, 9.7383062e-09, 9.9830222e-01, 9.8611981e-06,\n",
       "          4.3021221e-04, 2.6943155e-06, 3.2960362e-04, 1.3874189e-06,\n",
       "          1.9744970e-05, 4.1042659e-07],\n",
       "         [1.9499824e-07, 9.9999535e-01, 5.9351947e-08, 2.8077272e-06,\n",
       "          8.9095573e-07, 1.5846864e-09, 5.8808496e-07, 8.8139247e-09,\n",
       "          5.4796491e-08, 1.0491964e-07]], dtype=float32),\n",
       "  array([[8.0750465e-07, 5.7306330e-05, 2.8667583e-07, 3.0263830e-06,\n",
       "          5.3908803e-07, 1.6071965e-03, 6.6782906e-07, 2.3365011e-02,\n",
       "          1.8586943e-05, 9.7494656e-01],\n",
       "         [5.4339616e-04, 2.9184940e-07, 9.9461454e-01, 3.1975349e-05,\n",
       "          5.2892760e-04, 1.0004184e-06, 4.2758216e-03, 1.1932362e-07,\n",
       "          3.7039861e-06, 2.0779551e-07],\n",
       "         [2.6986623e-05, 9.9989796e-01, 4.0061170e-07, 6.2271087e-05,\n",
       "          2.9691275e-06, 1.2347325e-06, 7.3874168e-07, 3.4725642e-07,\n",
       "          5.6116610e-06, 1.5668660e-06]], dtype=float32),\n",
       "  array([[8.9178784e-06, 6.6830817e-06, 7.6233016e-07, 6.9866774e-06,\n",
       "          3.2610723e-07, 3.5470489e-03, 2.4474703e-06, 6.5247803e-03,\n",
       "          5.9895219e-06, 9.8989606e-01],\n",
       "         [2.0934361e-04, 5.1994750e-08, 9.9557352e-01, 4.4292647e-06,\n",
       "          1.5521545e-03, 4.5391323e-07, 2.6390199e-03, 2.9433161e-07,\n",
       "          1.9629933e-05, 1.1360180e-06],\n",
       "         [4.9791070e-06, 9.9997842e-01, 8.8041645e-07, 1.1488442e-05,\n",
       "          8.0626768e-07, 2.1416024e-07, 2.4166968e-06, 3.2147176e-07,\n",
       "          7.8475004e-08, 2.5058819e-07]], dtype=float32),\n",
       "  array([[6.4197832e-07, 7.5214548e-06, 8.0534214e-08, 2.1125264e-07,\n",
       "          7.3180045e-06, 4.1120165e-04, 6.2569887e-07, 9.6499879e-04,\n",
       "          1.2412928e-06, 9.9860626e-01],\n",
       "         [3.2477290e-04, 8.0865721e-07, 9.9747640e-01, 1.3600820e-06,\n",
       "          5.8080687e-04, 3.2220936e-07, 1.6097577e-03, 1.3609020e-06,\n",
       "          1.7017783e-06, 2.7774499e-06],\n",
       "         [8.6098335e-06, 9.9997389e-01, 1.6286577e-06, 1.0532774e-05,\n",
       "          3.7253690e-06, 4.0712735e-08, 1.4506029e-06, 1.6211219e-08,\n",
       "          2.2012609e-08, 1.2843400e-07]], dtype=float32),\n",
       "  array([[3.82967499e-07, 6.89157459e-05, 8.11189693e-06, 3.89947782e-05,\n",
       "          3.75398577e-06, 1.39230498e-04, 6.47203251e-06, 1.38315151e-03,\n",
       "          8.75708849e-07, 9.98350143e-01],\n",
       "         [8.67716689e-03, 2.76358173e-06, 9.85916674e-01, 1.52335793e-04,\n",
       "          6.43055013e-04, 2.56182648e-05, 4.56657307e-03, 3.04232685e-06,\n",
       "          1.19361175e-05, 7.92209903e-07],\n",
       "         [5.71840137e-05, 9.99874473e-01, 3.59106298e-06, 2.84987818e-05,\n",
       "          2.61098612e-05, 5.68350451e-08, 7.72737621e-06, 3.11622443e-07,\n",
       "          2.99896755e-07, 1.74001264e-06]], dtype=float32),\n",
       "  array([[9.01833275e-08, 1.60138961e-06, 4.30910774e-07, 2.45551564e-05,\n",
       "          2.93637527e-06, 1.81496958e-03, 4.11847424e-07, 1.50358692e-01,\n",
       "          5.61775159e-05, 8.47740114e-01],\n",
       "         [8.90709052e-04, 2.87060948e-06, 9.94674683e-01, 2.57408992e-05,\n",
       "          2.65401532e-03, 9.10848576e-06, 1.72722153e-03, 5.29298131e-06,\n",
       "          8.97956943e-06, 1.38224812e-06],\n",
       "         [1.51813765e-05, 9.99964476e-01, 5.44774866e-06, 2.62400113e-06,\n",
       "          6.78120341e-06, 2.25124936e-07, 4.68746066e-06, 2.89039662e-07,\n",
       "          1.10387887e-07, 1.16652352e-07]], dtype=float32),\n",
       "  array([[5.53789221e-07, 1.75552905e-05, 1.59009164e-06, 3.75603065e-07,\n",
       "          1.07183382e-06, 5.19992085e-04, 2.98039140e-07, 8.51069402e-04,\n",
       "          8.27601252e-06, 9.98599112e-01],\n",
       "         [1.84313991e-04, 5.85883015e-07, 9.89607394e-01, 1.91209765e-05,\n",
       "          8.24358314e-03, 9.34380841e-06, 1.47562835e-03, 2.71519471e-04,\n",
       "          1.66788130e-04, 2.16978606e-05],\n",
       "         [3.98095544e-05, 9.99881983e-01, 1.64618159e-05, 4.77698668e-05,\n",
       "          3.87830096e-06, 5.57522526e-07, 8.89080547e-06, 1.00261325e-07,\n",
       "          8.19371024e-08, 4.06179538e-07]], dtype=float32),\n",
       "  array([[1.0163069e-05, 9.5252935e-06, 6.8180293e-06, 8.9027435e-07,\n",
       "          1.2402814e-06, 6.4654122e-03, 5.5589376e-06, 7.0535867e-03,\n",
       "          1.6422624e-05, 9.8643041e-01],\n",
       "         [1.4116019e-03, 2.1810731e-06, 9.9313110e-01, 1.3682803e-05,\n",
       "          1.8830909e-03, 5.6712906e-06, 3.4843632e-03, 7.7075802e-06,\n",
       "          5.7451762e-05, 3.0787792e-06],\n",
       "         [4.0098080e-06, 9.9991715e-01, 2.2108875e-06, 6.4141634e-05,\n",
       "          9.6923086e-06, 3.6642285e-07, 1.4092217e-06, 6.3139856e-07,\n",
       "          3.9907025e-08, 2.5406797e-07]], dtype=float32),\n",
       "  array([[3.01694072e-05, 1.74524321e-04, 6.72263377e-06, 2.57133729e-06,\n",
       "          3.54877716e-06, 6.33008825e-03, 2.87118492e-05, 2.91726482e-03,\n",
       "          1.13170026e-05, 9.90495086e-01],\n",
       "         [1.85279781e-03, 2.30945116e-05, 9.91396129e-01, 1.04222119e-04,\n",
       "          4.33882140e-03, 2.41950283e-06, 2.17564520e-03, 3.10836731e-05,\n",
       "          7.50355975e-05, 6.96712448e-07],\n",
       "         [1.20236014e-04, 9.99434054e-01, 1.61625831e-05, 3.51019582e-04,\n",
       "          3.56255478e-05, 5.42609405e-06, 1.00739508e-05, 9.43005944e-06,\n",
       "          2.45970364e-06, 1.54889767e-05]], dtype=float32),\n",
       "  array([[6.7290143e-06, 8.6531054e-06, 8.3296618e-06, 2.8353898e-06,\n",
       "          9.1529855e-06, 3.9557874e-04, 5.4204829e-06, 6.7710960e-03,\n",
       "          6.7611127e-06, 9.9278545e-01],\n",
       "         [1.8296980e-03, 9.5256786e-05, 9.8498547e-01, 3.0869027e-04,\n",
       "          6.1911107e-03, 6.8505396e-06, 6.5234448e-03, 1.3184174e-05,\n",
       "          4.3493943e-05, 2.7855572e-06],\n",
       "         [5.0630915e-06, 9.9985659e-01, 1.9074427e-05, 5.4192358e-05,\n",
       "          2.1266886e-05, 8.1083926e-06, 2.4148692e-05, 1.2511060e-06,\n",
       "          6.2893882e-06, 3.9831766e-06]], dtype=float32),\n",
       "  array([[1.9256549e-05, 1.6574723e-04, 1.8513068e-05, 5.5905243e-06,\n",
       "          7.5352368e-06, 2.3851346e-03, 1.6271873e-05, 1.2309733e-03,\n",
       "          3.1420601e-05, 9.9611950e-01],\n",
       "         [1.0187598e-03, 2.2448245e-05, 9.8846078e-01, 8.6262444e-05,\n",
       "          7.9027852e-03, 5.1774623e-05, 2.2544253e-03, 1.2361593e-04,\n",
       "          3.4663903e-05, 4.4487180e-05],\n",
       "         [2.8945526e-05, 9.9983811e-01, 1.4380795e-05, 7.4961863e-05,\n",
       "          8.2000815e-06, 2.2261040e-06, 1.0859159e-05, 1.4786056e-05,\n",
       "          2.9431494e-06, 4.4282347e-06]], dtype=float32),\n",
       "  array([[3.6965972e-05, 3.9860759e-05, 6.0740790e-06, 4.9708647e-06,\n",
       "          8.5374726e-05, 7.8589749e-04, 6.4836931e-06, 7.4769987e-04,\n",
       "          2.8185486e-05, 9.9825841e-01],\n",
       "         [8.4216258e-04, 8.7264081e-05, 9.8970348e-01, 2.2255076e-04,\n",
       "          3.7397975e-03, 2.9333129e-05, 5.3294250e-03, 2.3164794e-05,\n",
       "          2.1341588e-05, 1.4826477e-06],\n",
       "         [3.2846598e-05, 9.9986112e-01, 6.7031306e-06, 1.9564764e-05,\n",
       "          2.2929857e-05, 8.7945691e-06, 4.6023483e-06, 2.8392074e-06,\n",
       "          2.6261782e-06, 3.7951238e-05]], dtype=float32),\n",
       "  array([[1.24939223e-04, 9.47884982e-05, 1.66640766e-05, 1.61175085e-05,\n",
       "          6.91716923e-06, 8.74201709e-04, 1.75575697e-05, 1.36673115e-02,\n",
       "          2.35951171e-04, 9.84945416e-01],\n",
       "         [3.54853971e-03, 1.83686425e-04, 9.75682497e-01, 7.21481920e-04,\n",
       "          3.54472478e-03, 2.30569776e-06, 1.55741815e-02, 3.27690592e-04,\n",
       "          4.03787708e-04, 1.11616737e-05],\n",
       "         [1.84755510e-04, 9.98886168e-01, 1.46414255e-04, 4.16812225e-04,\n",
       "          1.17624593e-04, 4.89160957e-05, 9.79980687e-05, 3.94206893e-07,\n",
       "          3.02435765e-05, 7.06525752e-05]], dtype=float32),\n",
       "  array([[2.1551881e-05, 4.0174884e-04, 1.1600373e-05, 1.5707328e-05,\n",
       "          6.9170012e-05, 5.4651001e-03, 3.7177790e-06, 1.4817691e-02,\n",
       "          9.6817726e-05, 9.7909683e-01],\n",
       "         [2.7847316e-03, 6.2013307e-04, 9.8091060e-01, 2.2304339e-04,\n",
       "          4.8643597e-03, 2.9366658e-04, 8.9746490e-03, 8.4930973e-04,\n",
       "          2.3257430e-04, 2.4695389e-04],\n",
       "         [3.5003581e-05, 9.9853444e-01, 3.1531238e-04, 5.3755014e-04,\n",
       "          1.6830023e-04, 2.6853246e-04, 2.3735665e-05, 8.0073573e-07,\n",
       "          2.6201174e-05, 9.0038840e-05]], dtype=float32),\n",
       "  array([[3.8210128e-05, 1.1897880e-05, 3.0772786e-05, 2.1675889e-05,\n",
       "          1.2926621e-05, 7.2928547e-04, 2.0536609e-05, 4.1228510e-03,\n",
       "          1.1139477e-04, 9.9490052e-01],\n",
       "         [1.7237967e-03, 4.5865268e-04, 9.6996313e-01, 5.0496437e-05,\n",
       "          1.6185589e-02, 2.9576855e-04, 1.1034151e-02, 2.7610351e-05,\n",
       "          4.1218744e-05, 2.1957277e-04],\n",
       "         [7.0350201e-05, 9.9938703e-01, 5.2411018e-05, 2.1953482e-04,\n",
       "          1.3862251e-05, 6.1318766e-05, 1.4266219e-06, 1.0618927e-04,\n",
       "          5.4981672e-05, 3.2831649e-05]], dtype=float32),\n",
       "  array([[5.3626456e-05, 8.2371691e-05, 1.8113582e-05, 4.0100654e-06,\n",
       "          8.1973158e-06, 3.6099956e-03, 1.3418318e-05, 3.8484354e-02,\n",
       "          1.4131317e-04, 9.5758462e-01],\n",
       "         [2.3231423e-03, 7.5882540e-06, 9.7992629e-01, 2.1948540e-04,\n",
       "          8.8748746e-03, 2.1362161e-04, 7.7625993e-03, 3.7347313e-04,\n",
       "          1.9933570e-04, 9.9622193e-05],\n",
       "         [2.0220847e-04, 9.9891996e-01, 2.5939738e-05, 2.6533051e-04,\n",
       "          1.3699905e-04, 5.9652946e-05, 3.1739823e-04, 2.6916489e-06,\n",
       "          5.0513681e-06, 6.4829532e-05]], dtype=float32)],\n",
       " 'model_names': ['model_2_0',\n",
       "  'model_2_1',\n",
       "  'model_2_2',\n",
       "  'model_2_3',\n",
       "  'model_3_0',\n",
       "  'model_3_1',\n",
       "  'model_3_2',\n",
       "  'model_3_3',\n",
       "  'model_5_0',\n",
       "  'model_5_1',\n",
       "  'model_5_2',\n",
       "  'model_5_3',\n",
       "  'model_10_0',\n",
       "  'model_10_1',\n",
       "  'model_10_2',\n",
       "  'model_10_3'],\n",
       " 'y_classes': [array([2, 6, 7]),\n",
       "  array([5, 1, 5]),\n",
       "  array([8, 2, 2]),\n",
       "  array([0, 5, 0]),\n",
       "  array([2, 2, 2]),\n",
       "  array([9, 4, 9]),\n",
       "  array([5, 4, 5]),\n",
       "  array([9, 9, 9]),\n",
       "  array([7, 0, 3]),\n",
       "  array([6, 4, 6]),\n",
       "  array([9, 4, 4]),\n",
       "  array([3, 8, 9]),\n",
       "  array([7, 5, 3]),\n",
       "  array([4, 9, 7]),\n",
       "  array([8, 0, 0]),\n",
       "  array([3, 7, 3])],\n",
       " 'y_preds': [array([[0.05590706, 0.06588965, 0.26337615, 0.07776198, 0.07375304,\n",
       "          0.13229239, 0.09824526, 0.11089592, 0.05757785, 0.06430073],\n",
       "         [0.11373514, 0.12895294, 0.06516464, 0.04178649, 0.05016603,\n",
       "          0.06652349, 0.20669518, 0.06489376, 0.16498394, 0.09709833],\n",
       "         [0.12571704, 0.04511725, 0.07901161, 0.05328916, 0.13779834,\n",
       "          0.05694011, 0.1396456 , 0.17937076, 0.08408241, 0.0990277 ]],\n",
       "        dtype=float32),\n",
       "  array([[0.18222825, 0.07503058, 0.10452144, 0.06442881, 0.1268109 ,\n",
       "          0.2336128 , 0.0299334 , 0.04145145, 0.08544714, 0.05653528],\n",
       "         [0.06348635, 0.15537167, 0.10139795, 0.1405316 , 0.07942119,\n",
       "          0.12680042, 0.02460911, 0.05825594, 0.09575014, 0.15437569],\n",
       "         [0.06649391, 0.08519838, 0.09409089, 0.10774631, 0.06866958,\n",
       "          0.27906334, 0.02640269, 0.07277736, 0.03373771, 0.16581985]],\n",
       "        dtype=float32),\n",
       "  array([[0.06550889, 0.09360565, 0.13744475, 0.10405431, 0.05106926,\n",
       "          0.10798893, 0.06383816, 0.11104773, 0.16090557, 0.10453677],\n",
       "         [0.0572426 , 0.135748  , 0.17908694, 0.07774635, 0.02829756,\n",
       "          0.1210363 , 0.06377256, 0.08829045, 0.13769887, 0.11108037],\n",
       "         [0.04332767, 0.12920372, 0.30504262, 0.0522533 , 0.02754469,\n",
       "          0.06059095, 0.03882067, 0.23253593, 0.04312689, 0.06755361]],\n",
       "        dtype=float32),\n",
       "  array([[0.23211497, 0.12992206, 0.06013841, 0.10476191, 0.03577821,\n",
       "          0.0593561 , 0.07119778, 0.12801434, 0.04948519, 0.12923104],\n",
       "         [0.10800128, 0.07387196, 0.03466423, 0.03548998, 0.05236369,\n",
       "          0.47390085, 0.0864445 , 0.05462518, 0.03377311, 0.0468652 ],\n",
       "         [0.29043892, 0.10788017, 0.04402396, 0.06499145, 0.04137459,\n",
       "          0.11929302, 0.07547766, 0.09526373, 0.03450824, 0.12674828]],\n",
       "        dtype=float32),\n",
       "  array([[0.05039245, 0.06769624, 0.23509626, 0.10034909, 0.17526126,\n",
       "          0.09810213, 0.05511981, 0.08637993, 0.07046706, 0.06113579],\n",
       "         [0.06919342, 0.07249478, 0.23548591, 0.09034391, 0.10233837,\n",
       "          0.18007076, 0.03714292, 0.08000523, 0.06546236, 0.06746242],\n",
       "         [0.03839696, 0.04737397, 0.22784115, 0.09440872, 0.1483881 ,\n",
       "          0.07764673, 0.05878807, 0.09523707, 0.09303026, 0.11888885]],\n",
       "        dtype=float32),\n",
       "  array([[0.09719559, 0.07701964, 0.13496722, 0.08283398, 0.03745862,\n",
       "          0.07354424, 0.08912355, 0.06659362, 0.16760182, 0.17366177],\n",
       "         [0.10579799, 0.12606613, 0.08627778, 0.05362014, 0.19864236,\n",
       "          0.08062714, 0.10760353, 0.09052198, 0.02783918, 0.12300371],\n",
       "         [0.10061234, 0.12533695, 0.07161485, 0.13294734, 0.1192864 ,\n",
       "          0.09432484, 0.10270588, 0.05226562, 0.06607046, 0.13483533]],\n",
       "        dtype=float32),\n",
       "  array([[0.04097556, 0.0775632 , 0.04754715, 0.18809454, 0.11005008,\n",
       "          0.21061112, 0.07627863, 0.12414204, 0.03215465, 0.09258306],\n",
       "         [0.03554828, 0.15173826, 0.07831269, 0.06658632, 0.19858755,\n",
       "          0.15724881, 0.07448643, 0.14191124, 0.05411082, 0.04146966],\n",
       "         [0.03475706, 0.171341  , 0.04956052, 0.0614691 , 0.18219969,\n",
       "          0.19487534, 0.08436583, 0.16523859, 0.03439045, 0.02180243]],\n",
       "        dtype=float32),\n",
       "  array([[0.1433889 , 0.05245712, 0.15446049, 0.07151879, 0.06965704,\n",
       "          0.06975696, 0.1055143 , 0.05659824, 0.0860515 , 0.19059664],\n",
       "         [0.14853281, 0.05706233, 0.20187801, 0.05120797, 0.0379415 ,\n",
       "          0.07002907, 0.04335384, 0.06174007, 0.06300348, 0.26525092],\n",
       "         [0.06216804, 0.0446405 , 0.13728486, 0.05225426, 0.10046352,\n",
       "          0.03919679, 0.06643919, 0.06516389, 0.07630701, 0.356082  ]],\n",
       "        dtype=float32),\n",
       "  array([[0.09094062, 0.1392329 , 0.12941669, 0.08938471, 0.07047446,\n",
       "          0.0360293 , 0.08016098, 0.1860358 , 0.12739792, 0.05092663],\n",
       "         [0.130043  , 0.05751045, 0.12295289, 0.10748729, 0.09532738,\n",
       "          0.0788681 , 0.10351475, 0.11692654, 0.10597055, 0.08139908],\n",
       "         [0.0961947 , 0.1322633 , 0.06513605, 0.15741295, 0.10467125,\n",
       "          0.08603734, 0.08215569, 0.15287393, 0.06689554, 0.05635922]],\n",
       "        dtype=float32),\n",
       "  array([[0.11049744, 0.06568689, 0.09296145, 0.03030205, 0.10032851,\n",
       "          0.10312627, 0.23061582, 0.06316321, 0.08821253, 0.11510585],\n",
       "         [0.11171219, 0.04636648, 0.1195384 , 0.06884409, 0.13947539,\n",
       "          0.08795646, 0.13926429, 0.06596405, 0.09470181, 0.12617688],\n",
       "         [0.11761126, 0.13992499, 0.09449391, 0.05513489, 0.0815483 ,\n",
       "          0.09712736, 0.18998396, 0.0506442 , 0.08446918, 0.08906189]],\n",
       "        dtype=float32),\n",
       "  array([[0.08280713, 0.09675062, 0.02646175, 0.14384095, 0.13991024,\n",
       "          0.0957774 , 0.04326576, 0.0530036 , 0.11453439, 0.20364818],\n",
       "         [0.09265572, 0.08305188, 0.07387771, 0.13614592, 0.14434287,\n",
       "          0.09283768, 0.06507717, 0.14250387, 0.06685909, 0.10264814],\n",
       "         [0.06051037, 0.09613542, 0.075493  , 0.11957773, 0.18050127,\n",
       "          0.09354115, 0.06708938, 0.10761393, 0.08663675, 0.11290101]],\n",
       "        dtype=float32),\n",
       "  array([[0.07098715, 0.06283268, 0.10912223, 0.19912124, 0.10134848,\n",
       "          0.08839607, 0.05360596, 0.06380996, 0.15225308, 0.09852316],\n",
       "         [0.07257023, 0.06971231, 0.06784754, 0.07362409, 0.09274495,\n",
       "          0.11201386, 0.09510176, 0.08296496, 0.20634465, 0.12707564],\n",
       "         [0.10008734, 0.09430414, 0.08591389, 0.08049754, 0.08662808,\n",
       "          0.12387995, 0.10962731, 0.11589   , 0.07209612, 0.13107562]],\n",
       "        dtype=float32),\n",
       "  array([[0.0797893 , 0.06205625, 0.08551634, 0.11436057, 0.08955663,\n",
       "          0.13614218, 0.10458093, 0.14287528, 0.08161366, 0.10350886],\n",
       "         [0.06226851, 0.06188858, 0.08768029, 0.10587385, 0.11116976,\n",
       "          0.15928209, 0.14269842, 0.08053362, 0.09685106, 0.09175383],\n",
       "         [0.07770931, 0.07934652, 0.09324364, 0.14913043, 0.10176983,\n",
       "          0.0983791 , 0.11630981, 0.08552233, 0.10322855, 0.09536048]],\n",
       "        dtype=float32),\n",
       "  array([[0.08221721, 0.09073263, 0.08868793, 0.12829393, 0.1286972 ,\n",
       "          0.07961596, 0.09094018, 0.12667622, 0.078197  , 0.10594181],\n",
       "         [0.11181543, 0.1653752 , 0.0806734 , 0.09897777, 0.08140205,\n",
       "          0.07834997, 0.05344376, 0.05573684, 0.10315621, 0.17106937],\n",
       "         [0.07653119, 0.08693311, 0.09022398, 0.094183  , 0.09660404,\n",
       "          0.1011366 , 0.10418303, 0.1837797 , 0.09460225, 0.07182314]],\n",
       "        dtype=float32),\n",
       "  array([[0.17241915, 0.07356009, 0.07163526, 0.10520184, 0.07762741,\n",
       "          0.04605084, 0.05527451, 0.1138352 , 0.19299112, 0.09140454],\n",
       "         [0.17822431, 0.09566486, 0.06425089, 0.13065511, 0.14133273,\n",
       "          0.05606123, 0.07870153, 0.05771735, 0.05920349, 0.1381885 ],\n",
       "         [0.17934896, 0.11376835, 0.06138368, 0.13981386, 0.1043503 ,\n",
       "          0.0250055 , 0.0678502 , 0.08868303, 0.10573171, 0.11406439]],\n",
       "        dtype=float32),\n",
       "  array([[0.1300476 , 0.08335211, 0.08866514, 0.17017527, 0.0914573 ,\n",
       "          0.05368755, 0.11119106, 0.09551434, 0.09335557, 0.08255404],\n",
       "         [0.10951734, 0.07874004, 0.09776232, 0.0993536 , 0.08868054,\n",
       "          0.0932342 , 0.09610971, 0.11529402, 0.10773911, 0.11356915],\n",
       "         [0.11293885, 0.09297153, 0.1104515 , 0.12840171, 0.11649   ,\n",
       "          0.07157298, 0.09313981, 0.07801786, 0.10166781, 0.09434795]],\n",
       "        dtype=float32)]}"
      ]
     },
     "execution_count": 39,
     "metadata": {
      "tags": []
     },
     "output_type": "execute_result"
    }
   ],
   "source": [
    "preds_dict[\"fit_model_names\"] = []\n",
    "preds_dict[\"fit_y_preds\"] = []\n",
    "preds_dict[\"fit_y_classes\"] = []\n",
    "for models in models_dict[\"models\"].items():\n",
    "  for model in models[1]:\n",
    "    print(model.get_config()[\"name\"])\n",
    "    y_pred = model.predict(test_images[:3,:])\n",
    "    y_class = np.argmax(y_pred, axis=1)\n",
    "    preds_dict[\"fit_model_names\"].append(model.get_config()[\"name\"])\n",
    "    preds_dict[\"fit_y_preds\"].append(y_pred)\n",
    "    preds_dict[\"fit_y_classes\"].append(y_class)\n",
    "preds_dict"
   ]
  },
  {
   "cell_type": "markdown",
   "metadata": {
    "id": "EpxXh0NiVg8p"
   },
   "source": [
    "Сохраним модель на диск"
   ]
  },
  {
   "cell_type": "code",
   "execution_count": 40,
   "metadata": {
    "id": "He1a5EemElpX"
   },
   "outputs": [],
   "source": [
    "# сохранить веса модели.\n",
    "for models in models_dict[\"models\"].items():\n",
    "  for model in models[1]:\n",
    "    \n",
    "    model.save_weights(f\"{model.get_config()['name']}_weights.h5\")\n",
    "\n",
    "# загрузить веса модели:\n",
    "# model.load_weights('model.h5')\n"
   ]
  },
  {
   "cell_type": "code",
   "execution_count": 49,
   "metadata": {
    "colab": {
     "base_uri": "https://localhost:8080/"
    },
    "id": "Dgz-f9ULSX9Q",
    "outputId": "b641fcbc-8fe3-4ffb-fae1-320c7c9ed9f9"
   },
   "outputs": [
    {
     "name": "stdout",
     "output_type": "stream",
     "text": [
      "313/313 [==============================] - 1s 3ms/step - loss: 0.3404 - accuracy: 0.8889\n",
      "313/313 [==============================] - 1s 3ms/step - loss: 0.3357 - accuracy: 0.8891\n",
      "313/313 [==============================] - 1s 3ms/step - loss: 0.3345 - accuracy: 0.8919\n",
      "313/313 [==============================] - 1s 3ms/step - loss: 0.3304 - accuracy: 0.8934\n",
      "313/313 [==============================] - 1s 3ms/step - loss: 0.3417 - accuracy: 0.8878\n",
      "313/313 [==============================] - 1s 3ms/step - loss: 0.3372 - accuracy: 0.8892\n",
      "313/313 [==============================] - 1s 3ms/step - loss: 0.3369 - accuracy: 0.8892\n",
      "313/313 [==============================] - 1s 3ms/step - loss: 0.3343 - accuracy: 0.8878\n",
      "313/313 [==============================] - 1s 3ms/step - loss: 0.3531 - accuracy: 0.8848\n",
      "313/313 [==============================] - 1s 3ms/step - loss: 0.3485 - accuracy: 0.8844\n",
      "313/313 [==============================] - 1s 3ms/step - loss: 0.3440 - accuracy: 0.8860\n",
      "313/313 [==============================] - 1s 4ms/step - loss: 0.3457 - accuracy: 0.8873\n",
      "313/313 [==============================] - 1s 4ms/step - loss: 0.3545 - accuracy: 0.8791\n",
      "313/313 [==============================] - 1s 4ms/step - loss: 0.3622 - accuracy: 0.8784\n",
      "313/313 [==============================] - 1s 4ms/step - loss: 0.3532 - accuracy: 0.8793\n",
      "313/313 [==============================] - 1s 4ms/step - loss: 0.3625 - accuracy: 0.8766\n"
     ]
    }
   ],
   "source": [
    "for models in models_dict[\"models\"].items():\n",
    "  for model in models[1]:\n",
    "    model.evaluate(\n",
    "      test_images,\n",
    "      to_categorical(test_labels)\n",
    "    )"
   ]
  },
  {
   "cell_type": "code",
   "execution_count": 56,
   "metadata": {
    "colab": {
     "base_uri": "https://localhost:8080/"
    },
    "id": "p_MdbEQJT7Gs",
    "outputId": "5d17bf29-8083-4b71-e5a0-ab213bf2f91c"
   },
   "outputs": [
    {
     "name": "stdout",
     "output_type": "stream",
     "text": [
      "model_2_0\n",
      "model_2_1\n",
      "model_2_2\n",
      "model_2_3\n",
      "model_3_0\n",
      "model_3_1\n",
      "model_3_2\n",
      "model_3_3\n",
      "model_5_0\n",
      "model_5_1\n",
      "model_5_2\n",
      "model_5_3\n",
      "model_10_0\n",
      "model_10_1\n",
      "model_10_2\n",
      "model_10_3\n"
     ]
    }
   ],
   "source": [
    "for models in models_dict[\"models\"].items():\n",
    "  for model in models[1]:\n",
    "    print(model.get_config()[\"name\"])"
   ]
  },
  {
   "cell_type": "code",
   "execution_count": 57,
   "metadata": {
    "colab": {
     "base_uri": "https://localhost:8080/"
    },
    "id": "JrjBsULqRXon",
    "outputId": "283856be-49db-401f-f18d-fbe0e547ca58"
   },
   "outputs": [
    {
     "name": "stdout",
     "output_type": "stream",
     "text": [
      "Epoch 1/15\n",
      "1500/1500 [==============================] - 5s 4ms/step - loss: 0.2077 - accuracy: 0.9216 - val_loss: 0.3363 - val_accuracy: 0.8860\n",
      "Epoch 2/15\n",
      "1500/1500 [==============================] - 6s 4ms/step - loss: 0.2019 - accuracy: 0.9246 - val_loss: 0.3355 - val_accuracy: 0.8887\n",
      "Epoch 3/15\n",
      "1500/1500 [==============================] - 5s 3ms/step - loss: 0.1934 - accuracy: 0.9275 - val_loss: 0.3385 - val_accuracy: 0.8870\n",
      "Epoch 4/15\n",
      "1500/1500 [==============================] - 5s 3ms/step - loss: 0.1905 - accuracy: 0.9289 - val_loss: 0.3334 - val_accuracy: 0.8861\n",
      "Epoch 5/15\n",
      "1500/1500 [==============================] - 5s 4ms/step - loss: 0.1887 - accuracy: 0.9292 - val_loss: 0.3577 - val_accuracy: 0.8817\n",
      "Epoch 6/15\n",
      "1500/1500 [==============================] - 5s 4ms/step - loss: 0.1812 - accuracy: 0.9336 - val_loss: 0.3626 - val_accuracy: 0.8830\n",
      "Epoch 7/15\n",
      "1500/1500 [==============================] - 6s 4ms/step - loss: 0.1800 - accuracy: 0.9324 - val_loss: 0.3419 - val_accuracy: 0.8875\n",
      "Epoch 8/15\n",
      "1500/1500 [==============================] - 5s 4ms/step - loss: 0.1770 - accuracy: 0.9337 - val_loss: 0.3469 - val_accuracy: 0.8893\n",
      "Epoch 9/15\n",
      "1500/1500 [==============================] - 6s 4ms/step - loss: 0.1720 - accuracy: 0.9359 - val_loss: 0.3574 - val_accuracy: 0.8858\n",
      "Epoch 10/15\n",
      "1500/1500 [==============================] - 5s 3ms/step - loss: 0.1702 - accuracy: 0.9374 - val_loss: 0.3640 - val_accuracy: 0.8853\n",
      "Epoch 11/15\n",
      "1500/1500 [==============================] - 6s 4ms/step - loss: 0.1679 - accuracy: 0.9386 - val_loss: 0.3692 - val_accuracy: 0.8867\n",
      "Epoch 12/15\n",
      "1500/1500 [==============================] - 6s 4ms/step - loss: 0.1622 - accuracy: 0.9388 - val_loss: 0.3704 - val_accuracy: 0.8868\n",
      "Epoch 13/15\n",
      "1500/1500 [==============================] - 5s 3ms/step - loss: 0.1588 - accuracy: 0.9406 - val_loss: 0.3653 - val_accuracy: 0.8863\n",
      "Epoch 14/15\n",
      "1500/1500 [==============================] - 5s 3ms/step - loss: 0.1568 - accuracy: 0.9417 - val_loss: 0.3615 - val_accuracy: 0.8911\n",
      "Epoch 15/15\n",
      "1500/1500 [==============================] - 5s 3ms/step - loss: 0.1522 - accuracy: 0.9436 - val_loss: 0.3895 - val_accuracy: 0.8860\n",
      "313/313 [==============================] - 1s 3ms/step - loss: 0.4130 - accuracy: 0.8793\n",
      "[9 2 1 1 6]\n",
      "[9 2 1 1 6]\n",
      "Epoch 1/15\n",
      "1500/1500 [==============================] - 6s 4ms/step - loss: 0.2034 - accuracy: 0.9240 - val_loss: 0.3372 - val_accuracy: 0.8882\n",
      "Epoch 2/15\n",
      "1500/1500 [==============================] - 5s 3ms/step - loss: 0.1936 - accuracy: 0.9275 - val_loss: 0.3457 - val_accuracy: 0.8867\n",
      "Epoch 3/15\n",
      "1500/1500 [==============================] - 6s 4ms/step - loss: 0.1931 - accuracy: 0.9281 - val_loss: 0.3348 - val_accuracy: 0.8858\n",
      "Epoch 4/15\n",
      "1500/1500 [==============================] - 6s 4ms/step - loss: 0.1853 - accuracy: 0.9316 - val_loss: 0.3416 - val_accuracy: 0.8855\n",
      "Epoch 5/15\n",
      "1500/1500 [==============================] - 6s 4ms/step - loss: 0.1818 - accuracy: 0.9314 - val_loss: 0.3600 - val_accuracy: 0.8858\n",
      "Epoch 6/15\n",
      "1500/1500 [==============================] - 6s 4ms/step - loss: 0.1758 - accuracy: 0.9351 - val_loss: 0.3584 - val_accuracy: 0.8862\n",
      "Epoch 7/15\n",
      "1500/1500 [==============================] - 5s 3ms/step - loss: 0.1731 - accuracy: 0.9360 - val_loss: 0.3588 - val_accuracy: 0.8880\n",
      "Epoch 8/15\n",
      "1500/1500 [==============================] - 5s 4ms/step - loss: 0.1683 - accuracy: 0.9365 - val_loss: 0.3693 - val_accuracy: 0.8794\n",
      "Epoch 9/15\n",
      "1500/1500 [==============================] - 5s 4ms/step - loss: 0.1648 - accuracy: 0.9379 - val_loss: 0.3593 - val_accuracy: 0.8868\n",
      "Epoch 10/15\n",
      "1500/1500 [==============================] - 6s 4ms/step - loss: 0.1630 - accuracy: 0.9390 - val_loss: 0.3603 - val_accuracy: 0.8863\n",
      "Epoch 11/15\n",
      "1500/1500 [==============================] - 6s 4ms/step - loss: 0.1576 - accuracy: 0.9417 - val_loss: 0.3703 - val_accuracy: 0.8849\n",
      "Epoch 12/15\n",
      "1500/1500 [==============================] - 6s 4ms/step - loss: 0.1551 - accuracy: 0.9436 - val_loss: 0.3651 - val_accuracy: 0.8877\n",
      "Epoch 13/15\n",
      "1500/1500 [==============================] - 5s 3ms/step - loss: 0.1531 - accuracy: 0.9433 - val_loss: 0.3801 - val_accuracy: 0.8832\n",
      "Epoch 14/15\n",
      "1500/1500 [==============================] - 6s 4ms/step - loss: 0.1481 - accuracy: 0.9451 - val_loss: 0.3797 - val_accuracy: 0.8858\n",
      "Epoch 15/15\n",
      "1500/1500 [==============================] - 5s 4ms/step - loss: 0.1494 - accuracy: 0.9443 - val_loss: 0.3696 - val_accuracy: 0.8865\n",
      "313/313 [==============================] - 1s 3ms/step - loss: 0.3963 - accuracy: 0.8809\n",
      "[9 2 1 1 6]\n",
      "[9 2 1 1 6]\n",
      "Epoch 1/15\n",
      "1500/1500 [==============================] - 6s 4ms/step - loss: 0.2018 - accuracy: 0.9248 - val_loss: 0.3356 - val_accuracy: 0.8873\n",
      "Epoch 2/15\n",
      "1500/1500 [==============================] - 6s 4ms/step - loss: 0.1967 - accuracy: 0.9259 - val_loss: 0.3546 - val_accuracy: 0.8817\n",
      "Epoch 3/15\n",
      "1500/1500 [==============================] - 6s 4ms/step - loss: 0.1882 - accuracy: 0.9279 - val_loss: 0.3650 - val_accuracy: 0.8801\n",
      "Epoch 4/15\n",
      "1500/1500 [==============================] - 5s 3ms/step - loss: 0.1887 - accuracy: 0.9286 - val_loss: 0.3529 - val_accuracy: 0.8827\n",
      "Epoch 5/15\n",
      "1500/1500 [==============================] - 5s 4ms/step - loss: 0.1827 - accuracy: 0.9323 - val_loss: 0.3769 - val_accuracy: 0.8799\n",
      "Epoch 6/15\n",
      "1500/1500 [==============================] - 5s 4ms/step - loss: 0.1797 - accuracy: 0.9324 - val_loss: 0.3421 - val_accuracy: 0.8888\n",
      "Epoch 7/15\n",
      "1500/1500 [==============================] - 5s 4ms/step - loss: 0.1729 - accuracy: 0.9351 - val_loss: 0.3615 - val_accuracy: 0.8838\n",
      "Epoch 8/15\n",
      "1500/1500 [==============================] - 6s 4ms/step - loss: 0.1709 - accuracy: 0.9344 - val_loss: 0.3524 - val_accuracy: 0.8884\n",
      "Epoch 9/15\n",
      "1500/1500 [==============================] - 6s 4ms/step - loss: 0.1656 - accuracy: 0.9373 - val_loss: 0.3499 - val_accuracy: 0.8911\n",
      "Epoch 10/15\n",
      "1500/1500 [==============================] - 5s 3ms/step - loss: 0.1611 - accuracy: 0.9400 - val_loss: 0.3494 - val_accuracy: 0.8858\n",
      "Epoch 11/15\n",
      "1500/1500 [==============================] - 6s 4ms/step - loss: 0.1567 - accuracy: 0.9402 - val_loss: 0.3709 - val_accuracy: 0.8870\n",
      "Epoch 12/15\n",
      "1500/1500 [==============================] - 5s 4ms/step - loss: 0.1585 - accuracy: 0.9402 - val_loss: 0.3751 - val_accuracy: 0.8856\n",
      "Epoch 13/15\n",
      "1500/1500 [==============================] - 5s 4ms/step - loss: 0.1575 - accuracy: 0.9405 - val_loss: 0.3674 - val_accuracy: 0.8869\n",
      "Epoch 14/15\n",
      "1500/1500 [==============================] - 6s 4ms/step - loss: 0.1501 - accuracy: 0.9442 - val_loss: 0.3710 - val_accuracy: 0.8826\n",
      "Epoch 15/15\n",
      "1500/1500 [==============================] - 5s 4ms/step - loss: 0.1493 - accuracy: 0.9436 - val_loss: 0.3935 - val_accuracy: 0.8854\n",
      "313/313 [==============================] - 1s 3ms/step - loss: 0.4336 - accuracy: 0.8784\n",
      "[9 2 1 1 6]\n",
      "[9 2 1 1 6]\n",
      "Epoch 1/15\n",
      "1500/1500 [==============================] - 5s 4ms/step - loss: 0.2123 - accuracy: 0.9204 - val_loss: 0.3312 - val_accuracy: 0.8862\n",
      "Epoch 2/15\n",
      "1500/1500 [==============================] - 6s 4ms/step - loss: 0.2004 - accuracy: 0.9250 - val_loss: 0.3525 - val_accuracy: 0.8826\n",
      "Epoch 3/15\n",
      "1500/1500 [==============================] - 5s 4ms/step - loss: 0.1966 - accuracy: 0.9257 - val_loss: 0.3435 - val_accuracy: 0.8860\n",
      "Epoch 4/15\n",
      "1500/1500 [==============================] - 6s 4ms/step - loss: 0.1908 - accuracy: 0.9284 - val_loss: 0.3617 - val_accuracy: 0.8848\n",
      "Epoch 5/15\n",
      "1500/1500 [==============================] - 5s 4ms/step - loss: 0.1908 - accuracy: 0.9287 - val_loss: 0.3506 - val_accuracy: 0.8848\n",
      "Epoch 6/15\n",
      "1500/1500 [==============================] - 5s 4ms/step - loss: 0.1856 - accuracy: 0.9309 - val_loss: 0.3397 - val_accuracy: 0.8878\n",
      "Epoch 7/15\n",
      "1500/1500 [==============================] - 6s 4ms/step - loss: 0.1814 - accuracy: 0.9318 - val_loss: 0.3463 - val_accuracy: 0.8879\n",
      "Epoch 8/15\n",
      "1500/1500 [==============================] - 5s 4ms/step - loss: 0.1730 - accuracy: 0.9346 - val_loss: 0.3679 - val_accuracy: 0.8822\n",
      "Epoch 9/15\n",
      "1500/1500 [==============================] - 6s 4ms/step - loss: 0.1726 - accuracy: 0.9354 - val_loss: 0.3558 - val_accuracy: 0.8894\n",
      "Epoch 10/15\n",
      "1500/1500 [==============================] - 6s 4ms/step - loss: 0.1680 - accuracy: 0.9368 - val_loss: 0.3435 - val_accuracy: 0.8910\n",
      "Epoch 11/15\n",
      "1500/1500 [==============================] - 5s 4ms/step - loss: 0.1622 - accuracy: 0.9396 - val_loss: 0.3517 - val_accuracy: 0.8906\n",
      "Epoch 12/15\n",
      "1500/1500 [==============================] - 5s 4ms/step - loss: 0.1602 - accuracy: 0.9391 - val_loss: 0.3508 - val_accuracy: 0.8880\n",
      "Epoch 13/15\n",
      "1500/1500 [==============================] - 6s 4ms/step - loss: 0.1564 - accuracy: 0.9421 - val_loss: 0.3591 - val_accuracy: 0.8884\n",
      "Epoch 14/15\n",
      "1500/1500 [==============================] - 6s 4ms/step - loss: 0.1580 - accuracy: 0.9402 - val_loss: 0.4011 - val_accuracy: 0.8826\n",
      "Epoch 15/15\n",
      "1500/1500 [==============================] - 6s 4ms/step - loss: 0.1524 - accuracy: 0.9441 - val_loss: 0.3635 - val_accuracy: 0.8892\n",
      "313/313 [==============================] - 1s 3ms/step - loss: 0.3923 - accuracy: 0.8811\n",
      "[9 2 1 1 6]\n",
      "[9 2 1 1 6]\n",
      "Epoch 1/15\n",
      "1500/1500 [==============================] - 6s 4ms/step - loss: 0.2231 - accuracy: 0.9170 - val_loss: 0.3301 - val_accuracy: 0.8850\n",
      "Epoch 2/15\n",
      "1500/1500 [==============================] - 6s 4ms/step - loss: 0.2133 - accuracy: 0.9226 - val_loss: 0.3328 - val_accuracy: 0.8852\n",
      "Epoch 3/15\n",
      "1500/1500 [==============================] - 6s 4ms/step - loss: 0.2128 - accuracy: 0.9207 - val_loss: 0.3521 - val_accuracy: 0.8800\n",
      "Epoch 4/15\n",
      "1500/1500 [==============================] - 6s 4ms/step - loss: 0.2082 - accuracy: 0.9229 - val_loss: 0.3531 - val_accuracy: 0.8838\n",
      "Epoch 5/15\n",
      "1500/1500 [==============================] - 6s 4ms/step - loss: 0.2051 - accuracy: 0.9234 - val_loss: 0.3462 - val_accuracy: 0.8853\n",
      "Epoch 6/15\n",
      "1500/1500 [==============================] - 6s 4ms/step - loss: 0.1956 - accuracy: 0.9269 - val_loss: 0.3609 - val_accuracy: 0.8769\n",
      "Epoch 7/15\n",
      "1500/1500 [==============================] - 6s 4ms/step - loss: 0.1946 - accuracy: 0.9265 - val_loss: 0.3693 - val_accuracy: 0.8848\n",
      "Epoch 8/15\n",
      "1500/1500 [==============================] - 6s 4ms/step - loss: 0.1898 - accuracy: 0.9291 - val_loss: 0.3411 - val_accuracy: 0.8873\n",
      "Epoch 9/15\n",
      "1500/1500 [==============================] - 6s 4ms/step - loss: 0.1890 - accuracy: 0.9290 - val_loss: 0.3479 - val_accuracy: 0.8855\n",
      "Epoch 10/15\n",
      "1500/1500 [==============================] - 6s 4ms/step - loss: 0.1862 - accuracy: 0.9315 - val_loss: 0.3578 - val_accuracy: 0.8860\n",
      "Epoch 11/15\n",
      "1500/1500 [==============================] - 6s 4ms/step - loss: 0.1804 - accuracy: 0.9335 - val_loss: 0.3566 - val_accuracy: 0.8884\n",
      "Epoch 12/15\n",
      "1500/1500 [==============================] - 6s 4ms/step - loss: 0.1793 - accuracy: 0.9328 - val_loss: 0.3754 - val_accuracy: 0.8792\n",
      "Epoch 13/15\n",
      "1500/1500 [==============================] - 6s 4ms/step - loss: 0.1720 - accuracy: 0.9362 - val_loss: 0.3668 - val_accuracy: 0.8870\n",
      "Epoch 14/15\n",
      "1500/1500 [==============================] - 6s 4ms/step - loss: 0.1728 - accuracy: 0.9353 - val_loss: 0.3472 - val_accuracy: 0.8882\n",
      "Epoch 15/15\n",
      "1500/1500 [==============================] - 6s 4ms/step - loss: 0.1684 - accuracy: 0.9383 - val_loss: 0.3612 - val_accuracy: 0.8846\n",
      "313/313 [==============================] - 1s 3ms/step - loss: 0.3856 - accuracy: 0.8790\n",
      "[9 2 1 1 6]\n",
      "[9 2 1 1 6]\n",
      "Epoch 1/15\n",
      "1500/1500 [==============================] - 6s 4ms/step - loss: 0.2198 - accuracy: 0.9200 - val_loss: 0.3530 - val_accuracy: 0.8844\n",
      "Epoch 2/15\n",
      "1500/1500 [==============================] - 6s 4ms/step - loss: 0.2145 - accuracy: 0.9214 - val_loss: 0.3397 - val_accuracy: 0.8854\n",
      "Epoch 3/15\n",
      "1500/1500 [==============================] - 6s 4ms/step - loss: 0.2101 - accuracy: 0.9218 - val_loss: 0.3475 - val_accuracy: 0.8823\n",
      "Epoch 4/15\n",
      "1500/1500 [==============================] - 6s 4ms/step - loss: 0.2034 - accuracy: 0.9241 - val_loss: 0.3471 - val_accuracy: 0.8837\n",
      "Epoch 5/15\n",
      "1500/1500 [==============================] - 6s 4ms/step - loss: 0.1992 - accuracy: 0.9256 - val_loss: 0.3504 - val_accuracy: 0.8883\n",
      "Epoch 6/15\n",
      "1500/1500 [==============================] - 6s 4ms/step - loss: 0.1934 - accuracy: 0.9272 - val_loss: 0.3464 - val_accuracy: 0.8882\n",
      "Epoch 7/15\n",
      "1500/1500 [==============================] - 6s 4ms/step - loss: 0.1935 - accuracy: 0.9279 - val_loss: 0.3600 - val_accuracy: 0.8818\n",
      "Epoch 8/15\n",
      "1500/1500 [==============================] - 6s 4ms/step - loss: 0.1892 - accuracy: 0.9289 - val_loss: 0.3509 - val_accuracy: 0.8855\n",
      "Epoch 9/15\n",
      "1500/1500 [==============================] - 6s 4ms/step - loss: 0.1848 - accuracy: 0.9327 - val_loss: 0.3655 - val_accuracy: 0.8852\n",
      "Epoch 10/15\n",
      "1500/1500 [==============================] - 6s 4ms/step - loss: 0.1833 - accuracy: 0.9314 - val_loss: 0.3745 - val_accuracy: 0.8834\n",
      "Epoch 11/15\n",
      "1500/1500 [==============================] - 6s 4ms/step - loss: 0.1766 - accuracy: 0.9362 - val_loss: 0.3630 - val_accuracy: 0.8867\n",
      "Epoch 12/15\n",
      "1500/1500 [==============================] - 6s 4ms/step - loss: 0.1773 - accuracy: 0.9339 - val_loss: 0.3727 - val_accuracy: 0.8789\n",
      "Epoch 13/15\n",
      "1500/1500 [==============================] - 6s 4ms/step - loss: 0.1753 - accuracy: 0.9355 - val_loss: 0.3646 - val_accuracy: 0.8843\n",
      "Epoch 14/15\n",
      "1500/1500 [==============================] - 6s 4ms/step - loss: 0.1722 - accuracy: 0.9357 - val_loss: 0.3691 - val_accuracy: 0.8858\n",
      "Epoch 15/15\n",
      "1500/1500 [==============================] - 6s 4ms/step - loss: 0.1666 - accuracy: 0.9385 - val_loss: 0.3703 - val_accuracy: 0.8831\n",
      "313/313 [==============================] - 1s 3ms/step - loss: 0.3914 - accuracy: 0.8808\n",
      "[9 2 1 1 6]\n",
      "[9 2 1 1 6]\n",
      "Epoch 1/15\n",
      "1500/1500 [==============================] - 6s 4ms/step - loss: 0.2174 - accuracy: 0.9182 - val_loss: 0.3773 - val_accuracy: 0.8764\n",
      "Epoch 2/15\n",
      "1500/1500 [==============================] - 6s 4ms/step - loss: 0.2098 - accuracy: 0.9211 - val_loss: 0.3565 - val_accuracy: 0.8767\n",
      "Epoch 3/15\n",
      "1500/1500 [==============================] - 6s 4ms/step - loss: 0.2093 - accuracy: 0.9226 - val_loss: 0.3278 - val_accuracy: 0.8887\n",
      "Epoch 4/15\n",
      "1500/1500 [==============================] - 6s 4ms/step - loss: 0.2001 - accuracy: 0.9255 - val_loss: 0.3596 - val_accuracy: 0.8814\n",
      "Epoch 5/15\n",
      "1500/1500 [==============================] - 6s 4ms/step - loss: 0.1986 - accuracy: 0.9245 - val_loss: 0.3409 - val_accuracy: 0.8862\n",
      "Epoch 6/15\n",
      "1500/1500 [==============================] - 6s 4ms/step - loss: 0.1928 - accuracy: 0.9285 - val_loss: 0.3403 - val_accuracy: 0.8871\n",
      "Epoch 7/15\n",
      "1500/1500 [==============================] - 6s 4ms/step - loss: 0.1930 - accuracy: 0.9264 - val_loss: 0.3588 - val_accuracy: 0.8863\n",
      "Epoch 8/15\n",
      "1500/1500 [==============================] - 6s 4ms/step - loss: 0.1872 - accuracy: 0.9299 - val_loss: 0.3387 - val_accuracy: 0.8880\n",
      "Epoch 9/15\n",
      "1500/1500 [==============================] - 6s 4ms/step - loss: 0.1835 - accuracy: 0.9319 - val_loss: 0.3611 - val_accuracy: 0.8820\n",
      "Epoch 10/15\n",
      "1500/1500 [==============================] - 6s 4ms/step - loss: 0.1808 - accuracy: 0.9313 - val_loss: 0.3578 - val_accuracy: 0.8849\n",
      "Epoch 11/15\n",
      "1500/1500 [==============================] - 6s 4ms/step - loss: 0.1750 - accuracy: 0.9337 - val_loss: 0.3652 - val_accuracy: 0.8873\n",
      "Epoch 12/15\n",
      "1500/1500 [==============================] - 6s 4ms/step - loss: 0.1760 - accuracy: 0.9345 - val_loss: 0.3698 - val_accuracy: 0.8827\n",
      "Epoch 13/15\n",
      "1500/1500 [==============================] - 6s 4ms/step - loss: 0.1716 - accuracy: 0.9346 - val_loss: 0.3685 - val_accuracy: 0.8767\n",
      "Epoch 14/15\n",
      "1500/1500 [==============================] - 6s 4ms/step - loss: 0.1715 - accuracy: 0.9361 - val_loss: 0.3640 - val_accuracy: 0.8827\n",
      "Epoch 15/15\n",
      "1500/1500 [==============================] - 6s 4ms/step - loss: 0.1657 - accuracy: 0.9387 - val_loss: 0.3738 - val_accuracy: 0.8821\n",
      "313/313 [==============================] - 1s 3ms/step - loss: 0.3980 - accuracy: 0.8738\n",
      "[9 2 1 1 6]\n",
      "[9 2 1 1 6]\n",
      "Epoch 1/15\n",
      "1500/1500 [==============================] - 6s 4ms/step - loss: 0.2257 - accuracy: 0.9162 - val_loss: 0.3443 - val_accuracy: 0.8807\n",
      "Epoch 2/15\n",
      "1500/1500 [==============================] - 6s 4ms/step - loss: 0.2175 - accuracy: 0.9186 - val_loss: 0.3363 - val_accuracy: 0.8851\n",
      "Epoch 3/15\n",
      "1500/1500 [==============================] - 6s 4ms/step - loss: 0.2130 - accuracy: 0.9210 - val_loss: 0.3317 - val_accuracy: 0.8868\n",
      "Epoch 4/15\n",
      "1500/1500 [==============================] - 6s 4ms/step - loss: 0.2127 - accuracy: 0.9201 - val_loss: 0.3331 - val_accuracy: 0.8846\n",
      "Epoch 5/15\n",
      "1500/1500 [==============================] - 6s 4ms/step - loss: 0.2060 - accuracy: 0.9229 - val_loss: 0.3316 - val_accuracy: 0.8882\n",
      "Epoch 6/15\n",
      "1500/1500 [==============================] - 6s 4ms/step - loss: 0.2007 - accuracy: 0.9245 - val_loss: 0.3491 - val_accuracy: 0.8849\n",
      "Epoch 7/15\n",
      "1500/1500 [==============================] - 6s 4ms/step - loss: 0.2012 - accuracy: 0.9257 - val_loss: 0.3415 - val_accuracy: 0.8863\n",
      "Epoch 8/15\n",
      "1500/1500 [==============================] - 6s 4ms/step - loss: 0.1925 - accuracy: 0.9277 - val_loss: 0.3527 - val_accuracy: 0.8840\n",
      "Epoch 9/15\n",
      "1500/1500 [==============================] - 6s 4ms/step - loss: 0.1898 - accuracy: 0.9290 - val_loss: 0.3536 - val_accuracy: 0.8818\n",
      "Epoch 10/15\n",
      "1500/1500 [==============================] - 6s 4ms/step - loss: 0.1891 - accuracy: 0.9288 - val_loss: 0.3756 - val_accuracy: 0.8786\n",
      "Epoch 11/15\n",
      "1500/1500 [==============================] - 6s 4ms/step - loss: 0.1873 - accuracy: 0.9287 - val_loss: 0.3477 - val_accuracy: 0.8874\n",
      "Epoch 12/15\n",
      "1500/1500 [==============================] - 6s 4ms/step - loss: 0.1832 - accuracy: 0.9315 - val_loss: 0.3656 - val_accuracy: 0.8798\n",
      "Epoch 13/15\n",
      "1500/1500 [==============================] - 6s 4ms/step - loss: 0.1768 - accuracy: 0.9330 - val_loss: 0.3616 - val_accuracy: 0.8836\n",
      "Epoch 14/15\n",
      "1500/1500 [==============================] - 6s 4ms/step - loss: 0.1755 - accuracy: 0.9344 - val_loss: 0.3536 - val_accuracy: 0.8867\n",
      "Epoch 15/15\n",
      "1500/1500 [==============================] - 6s 4ms/step - loss: 0.1729 - accuracy: 0.9351 - val_loss: 0.3526 - val_accuracy: 0.8881\n",
      "313/313 [==============================] - 1s 3ms/step - loss: 0.3822 - accuracy: 0.8825\n",
      "[9 2 1 1 6]\n",
      "[9 2 1 1 6]\n",
      "Epoch 1/15\n",
      "1500/1500 [==============================] - 7s 5ms/step - loss: 0.2497 - accuracy: 0.9084 - val_loss: 0.3480 - val_accuracy: 0.8748\n",
      "Epoch 2/15\n",
      "1500/1500 [==============================] - 6s 4ms/step - loss: 0.2443 - accuracy: 0.9097 - val_loss: 0.3803 - val_accuracy: 0.8726\n",
      "Epoch 3/15\n",
      "1500/1500 [==============================] - 7s 5ms/step - loss: 0.2412 - accuracy: 0.9116 - val_loss: 0.3553 - val_accuracy: 0.8770\n",
      "Epoch 4/15\n",
      "1500/1500 [==============================] - 6s 4ms/step - loss: 0.2337 - accuracy: 0.9135 - val_loss: 0.3540 - val_accuracy: 0.8825\n",
      "Epoch 5/15\n",
      "1500/1500 [==============================] - 7s 5ms/step - loss: 0.2291 - accuracy: 0.9161 - val_loss: 0.3392 - val_accuracy: 0.8860\n",
      "Epoch 6/15\n",
      "1500/1500 [==============================] - 7s 5ms/step - loss: 0.2275 - accuracy: 0.9156 - val_loss: 0.3504 - val_accuracy: 0.8803\n",
      "Epoch 7/15\n",
      "1500/1500 [==============================] - 7s 4ms/step - loss: 0.2251 - accuracy: 0.9171 - val_loss: 0.3650 - val_accuracy: 0.8823\n",
      "Epoch 8/15\n",
      "1500/1500 [==============================] - 7s 5ms/step - loss: 0.2175 - accuracy: 0.9211 - val_loss: 0.3805 - val_accuracy: 0.8749\n",
      "Epoch 9/15\n",
      "1500/1500 [==============================] - 7s 5ms/step - loss: 0.2214 - accuracy: 0.9189 - val_loss: 0.3521 - val_accuracy: 0.8832\n",
      "Epoch 10/15\n",
      "1500/1500 [==============================] - 6s 4ms/step - loss: 0.2173 - accuracy: 0.9198 - val_loss: 0.3616 - val_accuracy: 0.8815\n",
      "Epoch 11/15\n",
      "1500/1500 [==============================] - 6s 4ms/step - loss: 0.2113 - accuracy: 0.9221 - val_loss: 0.3450 - val_accuracy: 0.8867\n",
      "Epoch 12/15\n",
      "1500/1500 [==============================] - 6s 4ms/step - loss: 0.2144 - accuracy: 0.9218 - val_loss: 0.3769 - val_accuracy: 0.8802\n",
      "Epoch 13/15\n",
      "1500/1500 [==============================] - 7s 5ms/step - loss: 0.2087 - accuracy: 0.9239 - val_loss: 0.3448 - val_accuracy: 0.8894\n",
      "Epoch 14/15\n",
      "1500/1500 [==============================] - 7s 4ms/step - loss: 0.2115 - accuracy: 0.9218 - val_loss: 0.3795 - val_accuracy: 0.8798\n",
      "Epoch 15/15\n",
      "1500/1500 [==============================] - 6s 4ms/step - loss: 0.2071 - accuracy: 0.9234 - val_loss: 0.3483 - val_accuracy: 0.8879\n",
      "313/313 [==============================] - 1s 4ms/step - loss: 0.3723 - accuracy: 0.8841\n",
      "[9 2 1 1 0]\n",
      "[9 2 1 1 6]\n",
      "Epoch 1/15\n",
      "1500/1500 [==============================] - 6s 4ms/step - loss: 0.2501 - accuracy: 0.9076 - val_loss: 0.3836 - val_accuracy: 0.8730\n",
      "Epoch 2/15\n",
      "1500/1500 [==============================] - 6s 4ms/step - loss: 0.2461 - accuracy: 0.9093 - val_loss: 0.3640 - val_accuracy: 0.8807\n",
      "Epoch 3/15\n",
      "1500/1500 [==============================] - 7s 5ms/step - loss: 0.2407 - accuracy: 0.9120 - val_loss: 0.3500 - val_accuracy: 0.8794\n",
      "Epoch 4/15\n",
      "1500/1500 [==============================] - 7s 5ms/step - loss: 0.2389 - accuracy: 0.9130 - val_loss: 0.3555 - val_accuracy: 0.8794\n",
      "Epoch 5/15\n",
      "1500/1500 [==============================] - 7s 5ms/step - loss: 0.2365 - accuracy: 0.9127 - val_loss: 0.3517 - val_accuracy: 0.8792\n",
      "Epoch 6/15\n",
      "1500/1500 [==============================] - 6s 4ms/step - loss: 0.2323 - accuracy: 0.9145 - val_loss: 0.3529 - val_accuracy: 0.8841\n",
      "Epoch 7/15\n",
      "1500/1500 [==============================] - 7s 5ms/step - loss: 0.2257 - accuracy: 0.9163 - val_loss: 0.3449 - val_accuracy: 0.8856\n",
      "Epoch 8/15\n",
      "1500/1500 [==============================] - 6s 4ms/step - loss: 0.2231 - accuracy: 0.9180 - val_loss: 0.3516 - val_accuracy: 0.8871\n",
      "Epoch 9/15\n",
      "1500/1500 [==============================] - 6s 4ms/step - loss: 0.2252 - accuracy: 0.9165 - val_loss: 0.3498 - val_accuracy: 0.8827\n",
      "Epoch 10/15\n",
      "1500/1500 [==============================] - 7s 5ms/step - loss: 0.2227 - accuracy: 0.9180 - val_loss: 0.3534 - val_accuracy: 0.8832\n",
      "Epoch 11/15\n",
      "1500/1500 [==============================] - 7s 4ms/step - loss: 0.2153 - accuracy: 0.9208 - val_loss: 0.3721 - val_accuracy: 0.8822\n",
      "Epoch 12/15\n",
      "1500/1500 [==============================] - 7s 5ms/step - loss: 0.2176 - accuracy: 0.9198 - val_loss: 0.3547 - val_accuracy: 0.8831\n",
      "Epoch 13/15\n",
      "1500/1500 [==============================] - 6s 4ms/step - loss: 0.2121 - accuracy: 0.9222 - val_loss: 0.3674 - val_accuracy: 0.8805\n",
      "Epoch 14/15\n",
      "1500/1500 [==============================] - 6s 4ms/step - loss: 0.2104 - accuracy: 0.9230 - val_loss: 0.3470 - val_accuracy: 0.8831\n",
      "Epoch 15/15\n",
      "1500/1500 [==============================] - 6s 4ms/step - loss: 0.2056 - accuracy: 0.9243 - val_loss: 0.3548 - val_accuracy: 0.8852\n",
      "313/313 [==============================] - 1s 4ms/step - loss: 0.3801 - accuracy: 0.8777\n",
      "[9 2 1 1 6]\n",
      "[9 2 1 1 6]\n",
      "Epoch 1/15\n",
      "1500/1500 [==============================] - 7s 5ms/step - loss: 0.2501 - accuracy: 0.9082 - val_loss: 0.3593 - val_accuracy: 0.8786\n",
      "Epoch 2/15\n",
      "1500/1500 [==============================] - 6s 4ms/step - loss: 0.2433 - accuracy: 0.9096 - val_loss: 0.3640 - val_accuracy: 0.8764\n",
      "Epoch 3/15\n",
      "1500/1500 [==============================] - 7s 5ms/step - loss: 0.2430 - accuracy: 0.9108 - val_loss: 0.3436 - val_accuracy: 0.8823\n",
      "Epoch 4/15\n",
      "1500/1500 [==============================] - 6s 4ms/step - loss: 0.2348 - accuracy: 0.9142 - val_loss: 0.3416 - val_accuracy: 0.8789\n",
      "Epoch 5/15\n",
      "1500/1500 [==============================] - 7s 5ms/step - loss: 0.2307 - accuracy: 0.9157 - val_loss: 0.3608 - val_accuracy: 0.8804\n",
      "Epoch 6/15\n",
      "1500/1500 [==============================] - 7s 5ms/step - loss: 0.2263 - accuracy: 0.9166 - val_loss: 0.3469 - val_accuracy: 0.8834\n",
      "Epoch 7/15\n",
      "1500/1500 [==============================] - 6s 4ms/step - loss: 0.2254 - accuracy: 0.9165 - val_loss: 0.3422 - val_accuracy: 0.8821\n",
      "Epoch 8/15\n",
      "1500/1500 [==============================] - 6s 4ms/step - loss: 0.2196 - accuracy: 0.9194 - val_loss: 0.3349 - val_accuracy: 0.8855\n",
      "Epoch 9/15\n",
      "1500/1500 [==============================] - 6s 4ms/step - loss: 0.2178 - accuracy: 0.9202 - val_loss: 0.3413 - val_accuracy: 0.8857\n",
      "Epoch 10/15\n",
      "1500/1500 [==============================] - 7s 5ms/step - loss: 0.2205 - accuracy: 0.9175 - val_loss: 0.3479 - val_accuracy: 0.8841\n",
      "Epoch 11/15\n",
      "1500/1500 [==============================] - 7s 5ms/step - loss: 0.2148 - accuracy: 0.9209 - val_loss: 0.3518 - val_accuracy: 0.8840\n",
      "Epoch 12/15\n",
      "1500/1500 [==============================] - 7s 5ms/step - loss: 0.2104 - accuracy: 0.9223 - val_loss: 0.3496 - val_accuracy: 0.8844\n",
      "Epoch 13/15\n",
      "1500/1500 [==============================] - 7s 5ms/step - loss: 0.2080 - accuracy: 0.9227 - val_loss: 0.3424 - val_accuracy: 0.8874\n",
      "Epoch 14/15\n",
      "1500/1500 [==============================] - 7s 5ms/step - loss: 0.2045 - accuracy: 0.9259 - val_loss: 0.3691 - val_accuracy: 0.8788\n",
      "Epoch 15/15\n",
      "1500/1500 [==============================] - 6s 4ms/step - loss: 0.2050 - accuracy: 0.9235 - val_loss: 0.3532 - val_accuracy: 0.8852\n",
      "313/313 [==============================] - 1s 4ms/step - loss: 0.3823 - accuracy: 0.8779\n",
      "[9 2 1 1 6]\n",
      "[9 2 1 1 6]\n",
      "Epoch 1/15\n",
      "1500/1500 [==============================] - 6s 4ms/step - loss: 0.2499 - accuracy: 0.9071 - val_loss: 0.3330 - val_accuracy: 0.8869\n",
      "Epoch 2/15\n",
      "1500/1500 [==============================] - 6s 4ms/step - loss: 0.2418 - accuracy: 0.9112 - val_loss: 0.3588 - val_accuracy: 0.8788\n",
      "Epoch 3/15\n",
      "1500/1500 [==============================] - 6s 4ms/step - loss: 0.2384 - accuracy: 0.9125 - val_loss: 0.3494 - val_accuracy: 0.8824\n",
      "Epoch 4/15\n",
      "1500/1500 [==============================] - 7s 5ms/step - loss: 0.2347 - accuracy: 0.9134 - val_loss: 0.3472 - val_accuracy: 0.8856\n",
      "Epoch 5/15\n",
      "1500/1500 [==============================] - 6s 4ms/step - loss: 0.2285 - accuracy: 0.9166 - val_loss: 0.3781 - val_accuracy: 0.8749\n",
      "Epoch 6/15\n",
      "1500/1500 [==============================] - 7s 5ms/step - loss: 0.2268 - accuracy: 0.9157 - val_loss: 0.3482 - val_accuracy: 0.8852\n",
      "Epoch 7/15\n",
      "1500/1500 [==============================] - 7s 5ms/step - loss: 0.2254 - accuracy: 0.9162 - val_loss: 0.3485 - val_accuracy: 0.8800\n",
      "Epoch 8/15\n",
      "1500/1500 [==============================] - 6s 4ms/step - loss: 0.2230 - accuracy: 0.9179 - val_loss: 0.3524 - val_accuracy: 0.8819\n",
      "Epoch 9/15\n",
      "1500/1500 [==============================] - 6s 4ms/step - loss: 0.2165 - accuracy: 0.9194 - val_loss: 0.3461 - val_accuracy: 0.8857\n",
      "Epoch 10/15\n",
      "1500/1500 [==============================] - 6s 4ms/step - loss: 0.2127 - accuracy: 0.9209 - val_loss: 0.3824 - val_accuracy: 0.8781\n",
      "Epoch 11/15\n",
      "1500/1500 [==============================] - 6s 4ms/step - loss: 0.2136 - accuracy: 0.9223 - val_loss: 0.3582 - val_accuracy: 0.8845\n",
      "Epoch 12/15\n",
      "1500/1500 [==============================] - 6s 4ms/step - loss: 0.2089 - accuracy: 0.9226 - val_loss: 0.3709 - val_accuracy: 0.8816\n",
      "Epoch 13/15\n",
      "1500/1500 [==============================] - 6s 4ms/step - loss: 0.2103 - accuracy: 0.9219 - val_loss: 0.3511 - val_accuracy: 0.8848\n",
      "Epoch 14/15\n",
      "1500/1500 [==============================] - 7s 5ms/step - loss: 0.2026 - accuracy: 0.9252 - val_loss: 0.3545 - val_accuracy: 0.8881\n",
      "Epoch 15/15\n",
      "1500/1500 [==============================] - 7s 5ms/step - loss: 0.2023 - accuracy: 0.9245 - val_loss: 0.3545 - val_accuracy: 0.8852\n",
      "313/313 [==============================] - 1s 4ms/step - loss: 0.3825 - accuracy: 0.8767\n",
      "[9 2 1 1 6]\n",
      "[9 2 1 1 6]\n",
      "Epoch 1/15\n",
      "1500/1500 [==============================] - 8s 6ms/step - loss: 0.3057 - accuracy: 0.8911 - val_loss: 0.3688 - val_accuracy: 0.8742\n",
      "Epoch 2/15\n",
      "1500/1500 [==============================] - 8s 5ms/step - loss: 0.2980 - accuracy: 0.8947 - val_loss: 0.3939 - val_accuracy: 0.8672\n",
      "Epoch 3/15\n",
      "1500/1500 [==============================] - 8s 5ms/step - loss: 0.2948 - accuracy: 0.8953 - val_loss: 0.3924 - val_accuracy: 0.8691\n",
      "Epoch 4/15\n",
      "1500/1500 [==============================] - 8s 5ms/step - loss: 0.3036 - accuracy: 0.8923 - val_loss: 0.3787 - val_accuracy: 0.8710\n",
      "Epoch 5/15\n",
      "1500/1500 [==============================] - 8s 5ms/step - loss: 0.2926 - accuracy: 0.8949 - val_loss: 0.3812 - val_accuracy: 0.8685\n",
      "Epoch 6/15\n",
      "1500/1500 [==============================] - 8s 6ms/step - loss: 0.3002 - accuracy: 0.8940 - val_loss: 0.3668 - val_accuracy: 0.8736\n",
      "Epoch 7/15\n",
      "1500/1500 [==============================] - 8s 5ms/step - loss: 0.2999 - accuracy: 0.8945 - val_loss: 0.3790 - val_accuracy: 0.8728\n",
      "Epoch 8/15\n",
      "1500/1500 [==============================] - 8s 5ms/step - loss: 0.2837 - accuracy: 0.8989 - val_loss: 0.4001 - val_accuracy: 0.8683\n",
      "Epoch 9/15\n",
      "1500/1500 [==============================] - 8s 5ms/step - loss: 0.2844 - accuracy: 0.8994 - val_loss: 0.3669 - val_accuracy: 0.8777\n",
      "Epoch 10/15\n",
      "1500/1500 [==============================] - 8s 5ms/step - loss: 0.2812 - accuracy: 0.8985 - val_loss: 0.3786 - val_accuracy: 0.8742\n",
      "Epoch 11/15\n",
      "1500/1500 [==============================] - 8s 5ms/step - loss: 0.2812 - accuracy: 0.8999 - val_loss: 0.3718 - val_accuracy: 0.8779\n",
      "Epoch 12/15\n",
      "1500/1500 [==============================] - 8s 5ms/step - loss: 0.2840 - accuracy: 0.8989 - val_loss: 0.3726 - val_accuracy: 0.8742\n",
      "Epoch 13/15\n",
      "1500/1500 [==============================] - 8s 5ms/step - loss: 0.2813 - accuracy: 0.9011 - val_loss: 0.3792 - val_accuracy: 0.8752\n",
      "Epoch 14/15\n",
      "1500/1500 [==============================] - 8s 5ms/step - loss: 0.2805 - accuracy: 0.9003 - val_loss: 0.3681 - val_accuracy: 0.8757\n",
      "Epoch 15/15\n",
      "1500/1500 [==============================] - 8s 5ms/step - loss: 0.2763 - accuracy: 0.9013 - val_loss: 0.3906 - val_accuracy: 0.8708\n",
      "313/313 [==============================] - 1s 4ms/step - loss: 0.4170 - accuracy: 0.8664\n",
      "[9 2 1 1 6]\n",
      "[9 2 1 1 6]\n",
      "Epoch 1/15\n",
      "1500/1500 [==============================] - 8s 6ms/step - loss: 0.3014 - accuracy: 0.8927 - val_loss: 0.3970 - val_accuracy: 0.8595\n",
      "Epoch 2/15\n",
      "1500/1500 [==============================] - 8s 6ms/step - loss: 0.3020 - accuracy: 0.8932 - val_loss: 0.3716 - val_accuracy: 0.8707\n",
      "Epoch 3/15\n",
      "1500/1500 [==============================] - 8s 5ms/step - loss: 0.3032 - accuracy: 0.8904 - val_loss: 0.3710 - val_accuracy: 0.8774\n",
      "Epoch 4/15\n",
      "1500/1500 [==============================] - 8s 6ms/step - loss: 0.2955 - accuracy: 0.8942 - val_loss: 0.3619 - val_accuracy: 0.8766\n",
      "Epoch 5/15\n",
      "1500/1500 [==============================] - 8s 5ms/step - loss: 0.2885 - accuracy: 0.8966 - val_loss: 0.3799 - val_accuracy: 0.8701\n",
      "Epoch 6/15\n",
      "1500/1500 [==============================] - 8s 6ms/step - loss: 0.2876 - accuracy: 0.8970 - val_loss: 0.4480 - val_accuracy: 0.8512\n",
      "Epoch 7/15\n",
      "1500/1500 [==============================] - 8s 6ms/step - loss: 0.2900 - accuracy: 0.8973 - val_loss: 0.3783 - val_accuracy: 0.8759\n",
      "Epoch 8/15\n",
      "1500/1500 [==============================] - 8s 6ms/step - loss: 0.2800 - accuracy: 0.9010 - val_loss: 0.3641 - val_accuracy: 0.8836\n",
      "Epoch 9/15\n",
      "1500/1500 [==============================] - 8s 6ms/step - loss: 0.2824 - accuracy: 0.8994 - val_loss: 0.3531 - val_accuracy: 0.8817\n",
      "Epoch 10/15\n",
      "1500/1500 [==============================] - 8s 5ms/step - loss: 0.2765 - accuracy: 0.9023 - val_loss: 0.3637 - val_accuracy: 0.8793\n",
      "Epoch 11/15\n",
      "1500/1500 [==============================] - 8s 5ms/step - loss: 0.2817 - accuracy: 0.8995 - val_loss: 0.3619 - val_accuracy: 0.8748\n",
      "Epoch 12/15\n",
      "1500/1500 [==============================] - 8s 5ms/step - loss: 0.2733 - accuracy: 0.9039 - val_loss: 0.3501 - val_accuracy: 0.8817\n",
      "Epoch 13/15\n",
      "1500/1500 [==============================] - 8s 6ms/step - loss: 0.2708 - accuracy: 0.9036 - val_loss: 0.3562 - val_accuracy: 0.8844\n",
      "Epoch 14/15\n",
      "1500/1500 [==============================] - 8s 5ms/step - loss: 0.2772 - accuracy: 0.9014 - val_loss: 0.3632 - val_accuracy: 0.8775\n",
      "Epoch 15/15\n",
      "1500/1500 [==============================] - 8s 5ms/step - loss: 0.2723 - accuracy: 0.9025 - val_loss: 0.3896 - val_accuracy: 0.8698\n",
      "313/313 [==============================] - 1s 4ms/step - loss: 0.4041 - accuracy: 0.8631\n",
      "[9 2 1 1 6]\n",
      "[9 2 1 1 6]\n",
      "Epoch 1/15\n",
      "1500/1500 [==============================] - 8s 5ms/step - loss: 0.2998 - accuracy: 0.8939 - val_loss: 0.3841 - val_accuracy: 0.8660\n",
      "Epoch 2/15\n",
      "1500/1500 [==============================] - 8s 5ms/step - loss: 0.3101 - accuracy: 0.8915 - val_loss: 0.3698 - val_accuracy: 0.8797\n",
      "Epoch 3/15\n",
      "1500/1500 [==============================] - 8s 5ms/step - loss: 0.2914 - accuracy: 0.8969 - val_loss: 0.3686 - val_accuracy: 0.8734\n",
      "Epoch 4/15\n",
      "1500/1500 [==============================] - 8s 5ms/step - loss: 0.2890 - accuracy: 0.8975 - val_loss: 0.3767 - val_accuracy: 0.8747\n",
      "Epoch 5/15\n",
      "1500/1500 [==============================] - 8s 5ms/step - loss: 0.2894 - accuracy: 0.8965 - val_loss: 0.3566 - val_accuracy: 0.8789\n",
      "Epoch 6/15\n",
      "1500/1500 [==============================] - 8s 6ms/step - loss: 0.2951 - accuracy: 0.8972 - val_loss: 0.3723 - val_accuracy: 0.8668\n",
      "Epoch 7/15\n",
      "1500/1500 [==============================] - 8s 6ms/step - loss: 0.2880 - accuracy: 0.8976 - val_loss: 0.3562 - val_accuracy: 0.8831\n",
      "Epoch 8/15\n",
      "1500/1500 [==============================] - 8s 5ms/step - loss: 0.2799 - accuracy: 0.9010 - val_loss: 0.3661 - val_accuracy: 0.8742\n",
      "Epoch 9/15\n",
      "1500/1500 [==============================] - 8s 6ms/step - loss: 0.2855 - accuracy: 0.8998 - val_loss: 0.3832 - val_accuracy: 0.8708\n",
      "Epoch 10/15\n",
      "1500/1500 [==============================] - 8s 5ms/step - loss: 0.2739 - accuracy: 0.9037 - val_loss: 0.3537 - val_accuracy: 0.8849\n",
      "Epoch 11/15\n",
      "1500/1500 [==============================] - 9s 6ms/step - loss: 0.2870 - accuracy: 0.8984 - val_loss: 0.3581 - val_accuracy: 0.8804\n",
      "Epoch 12/15\n",
      "1500/1500 [==============================] - 8s 6ms/step - loss: 0.2837 - accuracy: 0.9007 - val_loss: 0.3753 - val_accuracy: 0.8733\n",
      "Epoch 13/15\n",
      "1500/1500 [==============================] - 8s 6ms/step - loss: 0.2790 - accuracy: 0.9013 - val_loss: 0.4289 - val_accuracy: 0.8511\n",
      "Epoch 14/15\n",
      "1500/1500 [==============================] - 9s 6ms/step - loss: 0.2735 - accuracy: 0.9041 - val_loss: 0.3734 - val_accuracy: 0.8743\n",
      "Epoch 15/15\n",
      "1500/1500 [==============================] - 9s 6ms/step - loss: 0.2731 - accuracy: 0.9038 - val_loss: 0.4023 - val_accuracy: 0.8622\n",
      "313/313 [==============================] - 1s 4ms/step - loss: 0.4253 - accuracy: 0.8592\n",
      "[9 2 1 1 6]\n",
      "[9 2 1 1 6]\n",
      "Epoch 1/15\n",
      "1500/1500 [==============================] - 9s 6ms/step - loss: 0.3114 - accuracy: 0.8880 - val_loss: 0.4073 - val_accuracy: 0.8595\n",
      "Epoch 2/15\n",
      "1500/1500 [==============================] - 8s 5ms/step - loss: 0.3077 - accuracy: 0.8894 - val_loss: 0.3723 - val_accuracy: 0.8734\n",
      "Epoch 3/15\n",
      "1500/1500 [==============================] - 9s 6ms/step - loss: 0.2964 - accuracy: 0.8939 - val_loss: 0.3635 - val_accuracy: 0.8796\n",
      "Epoch 4/15\n",
      "1500/1500 [==============================] - 9s 6ms/step - loss: 0.2955 - accuracy: 0.8963 - val_loss: 0.3613 - val_accuracy: 0.8785\n",
      "Epoch 5/15\n",
      "1500/1500 [==============================] - 8s 6ms/step - loss: 0.2921 - accuracy: 0.8967 - val_loss: 0.3573 - val_accuracy: 0.8799\n",
      "Epoch 6/15\n",
      "1500/1500 [==============================] - 8s 6ms/step - loss: 0.2969 - accuracy: 0.8949 - val_loss: 0.3771 - val_accuracy: 0.8728\n",
      "Epoch 7/15\n",
      "1500/1500 [==============================] - 9s 6ms/step - loss: 0.2898 - accuracy: 0.8960 - val_loss: 0.3759 - val_accuracy: 0.8745\n",
      "Epoch 8/15\n",
      "1500/1500 [==============================] - 8s 5ms/step - loss: 0.2911 - accuracy: 0.8970 - val_loss: 0.3769 - val_accuracy: 0.8797\n",
      "Epoch 9/15\n",
      "1500/1500 [==============================] - 8s 6ms/step - loss: 0.2933 - accuracy: 0.8961 - val_loss: 0.3685 - val_accuracy: 0.8796\n",
      "Epoch 10/15\n",
      "1500/1500 [==============================] - 8s 5ms/step - loss: 0.2816 - accuracy: 0.9004 - val_loss: 0.3651 - val_accuracy: 0.8798\n",
      "Epoch 11/15\n",
      "1500/1500 [==============================] - 9s 6ms/step - loss: 0.2757 - accuracy: 0.9010 - val_loss: 0.3474 - val_accuracy: 0.8827\n",
      "Epoch 12/15\n",
      "1500/1500 [==============================] - 8s 5ms/step - loss: 0.2855 - accuracy: 0.8984 - val_loss: 0.3818 - val_accuracy: 0.8790\n",
      "Epoch 13/15\n",
      "1500/1500 [==============================] - 8s 5ms/step - loss: 0.2797 - accuracy: 0.9013 - val_loss: 0.3763 - val_accuracy: 0.8746\n",
      "Epoch 14/15\n",
      "1500/1500 [==============================] - 9s 6ms/step - loss: 0.2718 - accuracy: 0.9026 - val_loss: 0.3704 - val_accuracy: 0.8796\n",
      "Epoch 15/15\n",
      "1500/1500 [==============================] - 8s 5ms/step - loss: 0.2802 - accuracy: 0.9010 - val_loss: 0.3702 - val_accuracy: 0.8801\n",
      "313/313 [==============================] - 1s 4ms/step - loss: 0.4005 - accuracy: 0.8727\n",
      "[9 2 1 1 6]\n",
      "[9 2 1 1 6]\n"
     ]
    }
   ],
   "source": [
    "# Train the model. Вернем результаты по потерям и метрикам для всех эпох в hh \n",
    "hh_dict =  {\"hh_models\": []}\n",
    "for models in models_dict[\"models\"].items():\n",
    "  for model in models[1]:\n",
    "    hh_dict['hh_models'].append(model.fit( \n",
    "      train_images,\n",
    "      to_categorical(train_labels),\n",
    "      epochs=15,\n",
    "      batch_size=32, validation_split=0.2\n",
    "    ))\n",
    "\n",
    "    # Evaluate the model.\n",
    "    model.evaluate(\n",
    "      test_images,\n",
    "      to_categorical(test_labels)\n",
    "    )\n",
    "\n",
    "    # Predict on the first 5 test images.\n",
    "    predictions = model.predict(test_images[:5])\n",
    "\n",
    "    # Print our model's predictions.\n",
    "    print(np.argmax(predictions, axis=1)) # [7, 2, 1, 0, 4]\n",
    "\n",
    "    # Check our predictions against the ground truths.\n",
    "    print(test_labels[:5]) # [7, 2, 1, 0, 4]"
   ]
  },
  {
   "cell_type": "code",
   "execution_count": null,
   "metadata": {
    "id": "YV3ShlQkGyzm"
   },
   "outputs": [],
   "source": [
    " "
   ]
  },
  {
   "cell_type": "code",
   "execution_count": 41,
   "metadata": {
    "colab": {
     "base_uri": "https://localhost:8080/"
    },
    "id": "z3Qc2u0mHfBJ",
    "outputId": "2966873a-1361-44da-8dba-d1001dfe2c52"
   },
   "outputs": [
    {
     "name": "stdout",
     "output_type": "stream",
     "text": [
      "Epoch 1/3\n",
      "47/47 [==============================] - 1s 9ms/step - loss: 0.1683 - accuracy: 0.9386 - val_loss: 0.3129 - val_accuracy: 0.8955\n",
      "Epoch 2/3\n",
      "47/47 [==============================] - 0s 8ms/step - loss: 0.1498 - accuracy: 0.9457 - val_loss: 0.3130 - val_accuracy: 0.8942\n",
      "Epoch 3/3\n",
      "47/47 [==============================] - 0s 8ms/step - loss: 0.1442 - accuracy: 0.9485 - val_loss: 0.3124 - val_accuracy: 0.8958\n",
      "Epoch 1/3\n",
      "47/47 [==============================] - 1s 9ms/step - loss: 0.1696 - accuracy: 0.9379 - val_loss: 0.3105 - val_accuracy: 0.8924\n",
      "Epoch 2/3\n",
      "47/47 [==============================] - 0s 8ms/step - loss: 0.1481 - accuracy: 0.9473 - val_loss: 0.3089 - val_accuracy: 0.8952\n",
      "Epoch 3/3\n",
      "47/47 [==============================] - 0s 8ms/step - loss: 0.1418 - accuracy: 0.9498 - val_loss: 0.3091 - val_accuracy: 0.8948\n",
      "Epoch 1/3\n",
      "47/47 [==============================] - 1s 9ms/step - loss: 0.1764 - accuracy: 0.9341 - val_loss: 0.3094 - val_accuracy: 0.8938\n",
      "Epoch 2/3\n",
      "47/47 [==============================] - 0s 8ms/step - loss: 0.1486 - accuracy: 0.9462 - val_loss: 0.3106 - val_accuracy: 0.8946\n",
      "Epoch 3/3\n",
      "47/47 [==============================] - 0s 8ms/step - loss: 0.1417 - accuracy: 0.9490 - val_loss: 0.3123 - val_accuracy: 0.8956\n",
      "Epoch 1/3\n",
      "47/47 [==============================] - 1s 9ms/step - loss: 0.1710 - accuracy: 0.9371 - val_loss: 0.3084 - val_accuracy: 0.8958\n",
      "Epoch 2/3\n",
      "47/47 [==============================] - 0s 8ms/step - loss: 0.1542 - accuracy: 0.9435 - val_loss: 0.3059 - val_accuracy: 0.8972\n",
      "Epoch 3/3\n",
      "47/47 [==============================] - 0s 8ms/step - loss: 0.1480 - accuracy: 0.9458 - val_loss: 0.3071 - val_accuracy: 0.8978\n",
      "Epoch 1/3\n",
      "47/47 [==============================] - 1s 9ms/step - loss: 0.1878 - accuracy: 0.9314 - val_loss: 0.3130 - val_accuracy: 0.8918\n",
      "Epoch 2/3\n",
      "47/47 [==============================] - 0s 8ms/step - loss: 0.1662 - accuracy: 0.9395 - val_loss: 0.3125 - val_accuracy: 0.8941\n",
      "Epoch 3/3\n",
      "47/47 [==============================] - 0s 8ms/step - loss: 0.1597 - accuracy: 0.9420 - val_loss: 0.3118 - val_accuracy: 0.8949\n",
      "Epoch 1/3\n",
      "47/47 [==============================] - 1s 9ms/step - loss: 0.1860 - accuracy: 0.9317 - val_loss: 0.3184 - val_accuracy: 0.8918\n",
      "Epoch 2/3\n",
      "47/47 [==============================] - 0s 9ms/step - loss: 0.1627 - accuracy: 0.9417 - val_loss: 0.3157 - val_accuracy: 0.8954\n",
      "Epoch 3/3\n",
      "47/47 [==============================] - 0s 8ms/step - loss: 0.1550 - accuracy: 0.9442 - val_loss: 0.3153 - val_accuracy: 0.8962\n",
      "Epoch 1/3\n",
      "47/47 [==============================] - 1s 10ms/step - loss: 0.1812 - accuracy: 0.9336 - val_loss: 0.3119 - val_accuracy: 0.8928\n",
      "Epoch 2/3\n",
      "47/47 [==============================] - 0s 9ms/step - loss: 0.1610 - accuracy: 0.9410 - val_loss: 0.3116 - val_accuracy: 0.8936\n",
      "Epoch 3/3\n",
      "47/47 [==============================] - 0s 9ms/step - loss: 0.1548 - accuracy: 0.9430 - val_loss: 0.3121 - val_accuracy: 0.8943\n",
      "Epoch 1/3\n",
      "47/47 [==============================] - 1s 10ms/step - loss: 0.1919 - accuracy: 0.9283 - val_loss: 0.3084 - val_accuracy: 0.8933\n",
      "Epoch 2/3\n",
      "47/47 [==============================] - 0s 8ms/step - loss: 0.1703 - accuracy: 0.9380 - val_loss: 0.3067 - val_accuracy: 0.8947\n",
      "Epoch 3/3\n",
      "47/47 [==============================] - 0s 9ms/step - loss: 0.1628 - accuracy: 0.9409 - val_loss: 0.3077 - val_accuracy: 0.8952\n",
      "Epoch 1/3\n",
      "47/47 [==============================] - 1s 10ms/step - loss: 0.2223 - accuracy: 0.9192 - val_loss: 0.3263 - val_accuracy: 0.8867\n",
      "Epoch 2/3\n",
      "47/47 [==============================] - 0s 9ms/step - loss: 0.1952 - accuracy: 0.9291 - val_loss: 0.3240 - val_accuracy: 0.8899\n",
      "Epoch 3/3\n",
      "47/47 [==============================] - 0s 9ms/step - loss: 0.1871 - accuracy: 0.9323 - val_loss: 0.3228 - val_accuracy: 0.8915\n",
      "Epoch 1/3\n",
      "47/47 [==============================] - 1s 10ms/step - loss: 0.2181 - accuracy: 0.9187 - val_loss: 0.3194 - val_accuracy: 0.8903\n",
      "Epoch 2/3\n",
      "47/47 [==============================] - 0s 9ms/step - loss: 0.1910 - accuracy: 0.9290 - val_loss: 0.3190 - val_accuracy: 0.8924\n",
      "Epoch 3/3\n",
      "47/47 [==============================] - 0s 9ms/step - loss: 0.1842 - accuracy: 0.9321 - val_loss: 0.3193 - val_accuracy: 0.8927\n",
      "Epoch 1/3\n",
      "47/47 [==============================] - 1s 10ms/step - loss: 0.2154 - accuracy: 0.9221 - val_loss: 0.3161 - val_accuracy: 0.8928\n",
      "Epoch 2/3\n",
      "47/47 [==============================] - 0s 9ms/step - loss: 0.1895 - accuracy: 0.9312 - val_loss: 0.3125 - val_accuracy: 0.8945\n",
      "Epoch 3/3\n",
      "47/47 [==============================] - 0s 9ms/step - loss: 0.1822 - accuracy: 0.9331 - val_loss: 0.3108 - val_accuracy: 0.8957\n",
      "Epoch 1/3\n",
      "47/47 [==============================] - 1s 10ms/step - loss: 0.2056 - accuracy: 0.9239 - val_loss: 0.3196 - val_accuracy: 0.8912\n",
      "Epoch 2/3\n",
      "47/47 [==============================] - 0s 9ms/step - loss: 0.1872 - accuracy: 0.9307 - val_loss: 0.3177 - val_accuracy: 0.8938\n",
      "Epoch 3/3\n",
      "47/47 [==============================] - 0s 9ms/step - loss: 0.1808 - accuracy: 0.9333 - val_loss: 0.3181 - val_accuracy: 0.8945\n",
      "Epoch 1/3\n",
      "47/47 [==============================] - 1s 12ms/step - loss: 0.2632 - accuracy: 0.9059 - val_loss: 0.3373 - val_accuracy: 0.8840\n",
      "Epoch 2/3\n",
      "47/47 [==============================] - 1s 13ms/step - loss: 0.2426 - accuracy: 0.9133 - val_loss: 0.3348 - val_accuracy: 0.8844\n",
      "Epoch 3/3\n",
      "47/47 [==============================] - 1s 11ms/step - loss: 0.2353 - accuracy: 0.9159 - val_loss: 0.3351 - val_accuracy: 0.8854\n",
      "Epoch 1/3\n",
      "47/47 [==============================] - 1s 14ms/step - loss: 0.2749 - accuracy: 0.9025 - val_loss: 0.3420 - val_accuracy: 0.8811\n",
      "Epoch 2/3\n",
      "47/47 [==============================] - 1s 11ms/step - loss: 0.2463 - accuracy: 0.9113 - val_loss: 0.3365 - val_accuracy: 0.8840\n",
      "Epoch 3/3\n",
      "47/47 [==============================] - 1s 11ms/step - loss: 0.2365 - accuracy: 0.9150 - val_loss: 0.3352 - val_accuracy: 0.8862\n",
      "Epoch 1/3\n",
      "47/47 [==============================] - 1s 12ms/step - loss: 0.2717 - accuracy: 0.9054 - val_loss: 0.3352 - val_accuracy: 0.8865\n",
      "Epoch 2/3\n",
      "47/47 [==============================] - 1s 11ms/step - loss: 0.2445 - accuracy: 0.9126 - val_loss: 0.3277 - val_accuracy: 0.8877\n",
      "Epoch 3/3\n",
      "47/47 [==============================] - 1s 11ms/step - loss: 0.2363 - accuracy: 0.9153 - val_loss: 0.3271 - val_accuracy: 0.8897\n",
      "Epoch 1/3\n",
      "47/47 [==============================] - 1s 12ms/step - loss: 0.2866 - accuracy: 0.9005 - val_loss: 0.3358 - val_accuracy: 0.8867\n",
      "Epoch 2/3\n",
      "47/47 [==============================] - 1s 11ms/step - loss: 0.2536 - accuracy: 0.9104 - val_loss: 0.3298 - val_accuracy: 0.8896\n",
      "Epoch 3/3\n",
      "47/47 [==============================] - 1s 11ms/step - loss: 0.2441 - accuracy: 0.9129 - val_loss: 0.3301 - val_accuracy: 0.8894\n"
     ]
    }
   ],
   "source": [
    "for models in models_dict[\"models\"].items():\n",
    "  for model in models[1]:\n",
    "    model.fit(\n",
    "        train_images,\n",
    "        y_t,\n",
    "        epochs=3,\n",
    "        batch_size=1024,\n",
    "        validation_split=0.2\n",
    "        )"
   ]
  },
  {
   "cell_type": "code",
   "execution_count": 50,
   "metadata": {
    "colab": {
     "base_uri": "https://localhost:8080/",
     "height": 261
    },
    "id": "5fBO1Yh2PyIK",
    "outputId": "01d5f254-5e5e-41a6-b4a7-4920cab1722a"
   },
   "outputs": [
    {
     "ename": "TypeError",
     "evalue": "ignored",
     "output_type": "error",
     "traceback": [
      "\u001b[0;31m---------------------------------------------------------------------------\u001b[0m",
      "\u001b[0;31mTypeError\u001b[0m                                 Traceback (most recent call last)",
      "\u001b[0;32m<ipython-input-50-abc8cc657125>\u001b[0m in \u001b[0;36m<module>\u001b[0;34m()\u001b[0m\n\u001b[1;32m      2\u001b[0m   \u001b[0;32mfor\u001b[0m \u001b[0mmodel\u001b[0m \u001b[0;32min\u001b[0m \u001b[0mmodels\u001b[0m\u001b[0;34m[\u001b[0m\u001b[0;36m1\u001b[0m\u001b[0;34m]\u001b[0m\u001b[0;34m:\u001b[0m\u001b[0;34m\u001b[0m\u001b[0;34m\u001b[0m\u001b[0m\n\u001b[1;32m      3\u001b[0m     \u001b[0mplt\u001b[0m\u001b[0;34m.\u001b[0m\u001b[0mfigure\u001b[0m\u001b[0;34m(\u001b[0m\u001b[0mfigsize\u001b[0m\u001b[0;34m=\u001b[0m\u001b[0;34m(\u001b[0m\u001b[0;36m15\u001b[0m\u001b[0;34m,\u001b[0m\u001b[0;36m7\u001b[0m\u001b[0;34m)\u001b[0m\u001b[0;34m)\u001b[0m\u001b[0;34m\u001b[0m\u001b[0;34m\u001b[0m\u001b[0m\n\u001b[0;32m----> 4\u001b[0;31m     \u001b[0mplt\u001b[0m\u001b[0;34m.\u001b[0m\u001b[0mplot\u001b[0m\u001b[0;34m(\u001b[0m\u001b[0mmodel\u001b[0m\u001b[0;34m.\u001b[0m\u001b[0mhistory\u001b[0m\u001b[0;34m[\u001b[0m\u001b[0;34m'loss'\u001b[0m\u001b[0;34m]\u001b[0m\u001b[0;34m,\u001b[0m \u001b[0mlabel\u001b[0m \u001b[0;34m=\u001b[0m \u001b[0;34m'потери для тренировки'\u001b[0m\u001b[0;34m)\u001b[0m\u001b[0;34m\u001b[0m\u001b[0;34m\u001b[0m\u001b[0m\n\u001b[0m\u001b[1;32m      5\u001b[0m     \u001b[0mplt\u001b[0m\u001b[0;34m.\u001b[0m\u001b[0mplot\u001b[0m\u001b[0;34m(\u001b[0m\u001b[0mmodel\u001b[0m\u001b[0;34m.\u001b[0m\u001b[0mhistory\u001b[0m\u001b[0;34m[\u001b[0m\u001b[0;34m'val_loss'\u001b[0m\u001b[0;34m]\u001b[0m\u001b[0;34m,\u001b[0m \u001b[0mlabel\u001b[0m \u001b[0;34m=\u001b[0m \u001b[0;34m'потери для валидации'\u001b[0m\u001b[0;34m)\u001b[0m\u001b[0;34m\u001b[0m\u001b[0;34m\u001b[0m\u001b[0m\n\u001b[1;32m      6\u001b[0m     \u001b[0mplt\u001b[0m\u001b[0;34m.\u001b[0m\u001b[0mxlabel\u001b[0m\u001b[0;34m(\u001b[0m\u001b[0;34m'эпох'\u001b[0m\u001b[0;34m)\u001b[0m\u001b[0;34m\u001b[0m\u001b[0;34m\u001b[0m\u001b[0m\n",
      "\u001b[0;31mTypeError\u001b[0m: 'History' object is not subscriptable"
     ]
    },
    {
     "data": {
      "text/plain": [
       "<Figure size 1080x504 with 0 Axes>"
      ]
     },
     "metadata": {
      "tags": []
     },
     "output_type": "display_data"
    }
   ],
   "source": [
    "for models in models_dict[\"models\"].items():\n",
    "  for model in models[1]:\n",
    "    plt.figure(figsize=(15,7))\n",
    "    plt.plot(model.history['loss'], label = 'потери для тренировки')\n",
    "    plt.plot(model.history['val_loss'], label = 'потери для валидации')\n",
    "    plt.xlabel('эпох')\n",
    "    plt.ylabel('loss')\n",
    "    plt.legend()\n",
    "    plt.grid('On')\n",
    "    plt.title('потери от эпох')\n",
    "    plt.show()\n"
   ]
  },
  {
   "cell_type": "markdown",
   "metadata": {
    "id": "lJpjFH7hVw8Q"
   },
   "source": [
    "Покажем как выглядит кривая обучения"
   ]
  },
  {
   "cell_type": "code",
   "execution_count": 47,
   "metadata": {
    "colab": {
     "base_uri": "https://localhost:8080/",
     "height": 171
    },
    "id": "SY4AWQmgPEbr",
    "outputId": "29b7dd20-cffa-4981-f3e8-ff45f7856295"
   },
   "outputs": [
    {
     "ename": "TypeError",
     "evalue": "ignored",
     "output_type": "error",
     "traceback": [
      "\u001b[0;31m---------------------------------------------------------------------------\u001b[0m",
      "\u001b[0;31mTypeError\u001b[0m                                 Traceback (most recent call last)",
      "\u001b[0;32m<ipython-input-47-2278d270cb42>\u001b[0m in \u001b[0;36m<module>\u001b[0;34m()\u001b[0m\n\u001b[0;32m----> 1\u001b[0;31m \u001b[0mmodels_dict\u001b[0m\u001b[0;34m[\u001b[0m\u001b[0;34m\"models\"\u001b[0m\u001b[0;34m]\u001b[0m\u001b[0;34m[\u001b[0m\u001b[0;34m\"models_2\"\u001b[0m\u001b[0;34m]\u001b[0m\u001b[0;34m[\u001b[0m\u001b[0;36m0\u001b[0m\u001b[0;34m]\u001b[0m\u001b[0;34m.\u001b[0m\u001b[0mhistory\u001b[0m\u001b[0;34m(\u001b[0m\u001b[0;34m)\u001b[0m\u001b[0;34m\u001b[0m\u001b[0;34m\u001b[0m\u001b[0m\n\u001b[0m",
      "\u001b[0;31mTypeError\u001b[0m: 'History' object is not callable"
     ]
    }
   ],
   "source": [
    "models_dict[\"models\"][\"models_2\"][0].history"
   ]
  },
  {
   "cell_type": "code",
   "execution_count": null,
   "metadata": {
    "colab": {
     "base_uri": "https://localhost:8080/"
    },
    "id": "6qh30hSNwohn",
    "outputId": "958e834f-c410-4420-a51f-01ebfa602726"
   },
   "outputs": [
    {
     "data": {
      "text/plain": [
       "<keras.callbacks.History at 0x7ff4a0098990>"
      ]
     },
     "execution_count": 54,
     "metadata": {
      "tags": []
     },
     "output_type": "execute_result"
    }
   ],
   "source": [
    "hh"
   ]
  },
  {
   "cell_type": "markdown",
   "metadata": {
    "id": "a8zh5g-GBQIp"
   },
   "source": [
    "Эксперимент с разными оптимизаторами для одной начальной модели:\n",
    "\n",
    "  - создаем модель model\n",
    "  - сохраняем ее веса (это начальная точка) model.save_weights('model.h5')\n",
    "  - создаем рабочую модель modeli куда будем загружать эти вес (она должна быть идентичной структуры) \n",
    "  - загружаем веса modeli.load_weights('model.h5')\n",
    "  - компилируем modeli с одним из оптимизаторов\n",
    "  - вычисляем ошибку для modeli без обучения (т.к. все модели начинают с одной точки, то все ошибки должны быть одинаковые, но будем контролировать это и считаем каждый раз заново)\n",
    "  - проводим обучение модели и пишем ошибки в истории hh\n",
    "  - выводим ошибки для 0-го момента и каждой эпохи обучения по тестовой и валидационной частям данных\n",
    "\n",
    "\n",
    "\n",
    "Оптимизаторы:\n",
    "* SGD() (с или без моментум)\n",
    "* RMSprop()\n",
    "* Adam()\n",
    "* Adagrad()\n",
    "…\n"
   ]
  },
  {
   "cell_type": "code",
   "execution_count": null,
   "metadata": {
    "colab": {
     "base_uri": "https://localhost:8080/",
     "height": 458
    },
    "id": "jaqCLGg3w_Nl",
    "outputId": "8c4dd85a-fb5e-4067-bfe1-b12b0bd50edf"
   },
   "outputs": [
    {
     "data": {
      "image/png": "[encoded data removed]",
      "text/plain": [
       "<Figure size 1152x504 with 1 Axes>"
      ]
     },
     "metadata": {
      "needs_background": "light",
      "tags": []
     },
     "output_type": "display_data"
    }
   ],
   "source": [
    "# создаем модель model\n",
    "model = Sequential([\n",
    "                      Dense( 64, activation='relu', input_shape=(784,)),\n",
    "                      Dense(64, activation='tanh'),\n",
    "                      Dense(10, activation='softmax'),\n",
    "                      ])\n",
    "# сохраняем ее веса (это начальная точка) model.save_weights('model.h5')\n",
    "model.save_weights('model.h5')\n",
    "\n",
    "plt.figure(figsize=(16,7))\n",
    "\n",
    "# число рабочих эпох\n",
    "epochs = 15\n",
    "# вектор для вывод результатов\n",
    "epoch = np.arange(epochs+1)\n",
    "\n",
    "# будем изменять оптимизаторы\n",
    "for i_optim in [keras.optimizers.RMSprop(),keras.optimizers.SGD( ),keras.optimizers.Adam( ),keras.optimizers.Nadam( )]:\n",
    "  # создаем рабочую модель modeli куда будем загружать эти вес (она должна быть идентичной структуры)\n",
    "  modeli = Sequential([\n",
    "                      Dense(64, activation='relu', input_shape=(784,)),\n",
    "                      Dense(64, activation='tanh'),\n",
    "                      Dense(10, activation='softmax'),\n",
    "                      ])\n",
    "  # загружаем веса modeli.load_weights('model.h5')\n",
    "  modeli.load_weights('model.h5')\n",
    "  # компилируем modeli с одним из оптимизаторов\n",
    "  modeli.compile(\n",
    "      optimizer=i_optim,\n",
    "      loss='categorical_crossentropy',\n",
    "      metrics=['accuracy'],\n",
    "      )\n",
    "  # вычисляем ошибку для modeli без обучения\n",
    "  hh0_tr = modeli.evaluate(  train_images[:48000,:], to_categorical(train_labels[:48000]),verbose = 0)\n",
    "  hh0_val = modeli.evaluate(  train_images[48000:,:], to_categorical(train_labels[48000:]),verbose = 0)\n",
    "  # проводим обучение модели \n",
    "  hh = modeli.fit(\n",
    "                  train_images,\n",
    "                  to_categorical(train_labels),\n",
    "                  epochs=epochs,\n",
    "                  batch_size=32, validation_split=0.2, verbose = 0\n",
    "                  )\n",
    "  # картинки\n",
    "  plt.plot(epoch,np.log([hh0_tr[0]]+hh.history['loss']),'-',label = modeli.optimizer.get_config()['name']+' train')\n",
    "  plt.plot(epoch,np.log([hh0_val[0]]+hh.history['val_loss']),'--',label = modeli.optimizer.get_config()['name']+' val')\n",
    "plt.legend()\n",
    "plt.grid('On')\n",
    "\n",
    "plt.title('нейросети от оптимизатора log(loss)')\n",
    "plt.xlabel('epoch')\n",
    "plt.ylabel('log(loss)')\n",
    "plt.show()\n"
   ]
  },
  {
   "cell_type": "code",
   "execution_count": null,
   "metadata": {
    "colab": {
     "base_uri": "https://localhost:8080/"
    },
    "id": "viS_E5s6z2UU",
    "outputId": "ef8d7745-9ff8-44af-9d6d-1373493d0bec"
   },
   "outputs": [
    {
     "data": {
      "text/plain": [
       "{'beta_1': 0.9,\n",
       " 'beta_2': 0.999,\n",
       " 'decay': 0.004,\n",
       " 'epsilon': 1e-07,\n",
       " 'learning_rate': 0.001,\n",
       " 'name': 'Nadam'}"
      ]
     },
     "execution_count": 56,
     "metadata": {
      "tags": []
     },
     "output_type": "execute_result"
    }
   ],
   "source": [
    " modeli.optimizer.get_config()"
   ]
  },
  {
   "cell_type": "markdown",
   "metadata": {
    "id": "eUVhmimFvp-k"
   },
   "source": [
    "Посмотрим на результат предсказаний  (inference) для обученной модели (последняя в цикле)"
   ]
  },
  {
   "cell_type": "code",
   "execution_count": null,
   "metadata": {
    "colab": {
     "base_uri": "https://localhost:8080/",
     "height": 208
    },
    "id": "wj7fhqd3FKFe",
    "outputId": "a36c4f94-a224-4865-82f1-4e3e8c520e9e"
   },
   "outputs": [
    {
     "data": {
      "image/png": "[encoded data removed]",
      "text/plain": [
       "<Figure size 1080x360 with 5 Axes>"
      ]
     },
     "metadata": {
      "needs_background": "light",
      "tags": []
     },
     "output_type": "display_data"
    }
   ],
   "source": [
    "N = 5\n",
    "y_pred = modeli.predict(test_images[:N,:])\n",
    "y_pred_class = np.argmax(y_pred,axis=1)\n",
    "plt.figure(figsize =(3*N,5))\n",
    "for i in range(N):\n",
    "  plt.subplot(1,N,i+1)\n",
    "  plt.imshow(test_images[i,:].reshape(28,28))\n",
    "  plt.xlabel(str(y_pred_class[i]))\n",
    "plt.show()  "
   ]
  },
  {
   "cell_type": "code",
   "execution_count": null,
   "metadata": {
    "colab": {
     "base_uri": "https://localhost:8080/"
    },
    "id": "Q561c6eaGxcB",
    "outputId": "13b4597c-40db-4220-bf3a-109ea9ffcb20"
   },
   "outputs": [
    {
     "data": {
      "text/plain": [
       "array([9, 2, 1, 1, 6])"
      ]
     },
     "execution_count": 58,
     "metadata": {
      "tags": []
     },
     "output_type": "execute_result"
    }
   ],
   "source": [
    "y_pred_class"
   ]
  },
  {
   "cell_type": "markdown",
   "metadata": {
    "id": "ws3OtgYMfpXI"
   },
   "source": [
    "Вариант синтаксиса:"
   ]
  },
  {
   "cell_type": "code",
   "execution_count": null,
   "metadata": {
    "colab": {
     "base_uri": "https://localhost:8080/"
    },
    "id": "IvO2kuDRerfX",
    "outputId": "2f64d770-6b7e-49f4-fd35-c93be36b66ae"
   },
   "outputs": [
    {
     "data": {
      "text/plain": [
       "array([9, 2, 1, 1, 6])"
      ]
     },
     "execution_count": 59,
     "metadata": {
      "tags": []
     },
     "output_type": "execute_result"
    }
   ],
   "source": [
    "y_predi = modeli(test_images[:N,:])\n",
    "np.argmax(y_predi,axis=1)"
   ]
  },
  {
   "cell_type": "code",
   "execution_count": null,
   "metadata": {
    "id": "JgK8bM4QNkl-"
   },
   "outputs": [],
   "source": []
  }
 ],
 "metadata": {
  "accelerator": "GPU",
  "colab": {
   "collapsed_sections": [],
   "name": "intro_neural_network_task2.ipynb",
   "provenance": []
  },
  "kernelspec": {
   "display_name": "Python 3",
   "language": "python",
   "name": "python3"
  },
  "language_info": {
   "codemirror_mode": {
    "name": "ipython",
    "version": 3
   },
   "file_extension": ".py",
   "mimetype": "text/x-python",
   "name": "python",
   "nbconvert_exporter": "python",
   "pygments_lexer": "ipython3",
   "version": "3.7.10"
  }
 },
 "nbformat": 4,
 "nbformat_minor": 4
}
