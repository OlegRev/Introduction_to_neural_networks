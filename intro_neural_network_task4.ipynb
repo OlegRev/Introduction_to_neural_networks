{
  "nbformat": 4,
  "nbformat_minor": 0,
  "metadata": {
    "accelerator": "GPU",
    "colab": {
      "name": "intro_neural_network_task4.ipynb",
      "provenance": [],
      "collapsed_sections": []
    },
    "kernelspec": {
      "display_name": "Python 3",
      "language": "python",
      "name": "python3"
    },
    "language_info": {
      "codemirror_mode": {
        "name": "ipython",
        "version": 3
      },
      "file_extension": ".py",
      "mimetype": "text/x-python",
      "name": "python",
      "nbconvert_exporter": "python",
      "pygments_lexer": "ipython3",
      "version": "3.8.11"
    }
  },
  "cells": [
    {
      "cell_type": "markdown",
      "metadata": {
        "id": "GJqW1sHnm591"
      },
      "source": [
        "# Введение в искусственные нейронные сети\n",
        "# Урок 4. Сверточные нейронные сети"
      ]
    },
    {
      "cell_type": "markdown",
      "metadata": {
        "id": "PHqn01Vpm5-c"
      },
      "source": [
        "## Практическое задание\n",
        "\n",
        "Вариант 1. (простой)\n",
        "\n",
        "- обучить сверточную нейронную сеть в стиле AlexNet (с падением размера ядра свертки и последовательностью блоков свертка-пулинг  (conv-pool)-(conv-pool)-...) на датасете fashion-mnist\n",
        "- оценить рост точности при увеличении ширины сети (больше ядер)\n",
        "- оценить рост точности при увеличении глубины сети (больше слоев)\n",
        "- сравнить с точностью полносвязной сети для этой выборки\n",
        "    </li>\n",
        "\n",
        "Вариант 2. (сложный)\n",
        "- реализовать нейронную сеть или стек из сверток (Concatenate) на сifar10.\n",
        "- оценить рост точности при увеличении ширины сети (больше ядер), больше нитей.\n",
        "- оценить рост точности при увеличении глубины сети (больше слоев)\n",
        "    </li>\n",
        "</ol>"
      ]
    },
    {
      "cell_type": "code",
      "metadata": {
        "id": "iGu1gJYrtSam",
        "colab": {
          "base_uri": "https://localhost:8080/"
        },
        "outputId": "79a769d9-4504-479c-9a28-b097c19b5279"
      },
      "source": [
        "import tensorflow as tf\n",
        "import numpy as np\n",
        "import pandas as pd\n",
        "import matplotlib.pyplot as plt\n",
        "\n",
        "from tensorflow import keras\n",
        "from tensorflow.keras.datasets import fashion_mnist\n",
        "from tensorflow.keras.utils import to_categorical\n",
        "from tensorflow.keras.models import Sequential, Model\n",
        "from tensorflow.keras import models, layers\n",
        "from tensorflow.keras.layers import Conv2D, Input\n",
        "from tensorflow.keras.layers import GlobalMaxPooling2D, MaxPooling2D, AveragePooling2D, GlobalAveragePooling2D \n",
        "\n",
        "print(tf.__version__)"
      ],
      "execution_count": 89,
      "outputs": [
        {
          "output_type": "stream",
          "text": [
            "2.5.0\n"
          ],
          "name": "stdout"
        }
      ]
    },
    {
      "cell_type": "code",
      "metadata": {
        "id": "Jo051wX_n4Wa"
      },
      "source": [
        "class_names = ['T-shirt/top', 'Trouser', 'Pullover', 'Dress', 'Coat',\n",
        "               'Sandal', 'Shirt', 'Sneaker', 'Bag', 'Ankle boot']"
      ],
      "execution_count": 3,
      "outputs": []
    },
    {
      "cell_type": "code",
      "metadata": {
        "id": "PdX4riMptTXy",
        "colab": {
          "base_uri": "https://localhost:8080/"
        },
        "outputId": "16a18a25-3c8d-45eb-f148-1217cfab192c"
      },
      "source": [
        "# загрузка тренировочных и тестовых данных\n",
        "(train_images,train_labels),(test_images,test_labels)=fashion_mnist.load_data()\n",
        "\n",
        "# конвертация чисел из uint8 в float32\n",
        "train_images = train_images.astype('float32')\n",
        "test_images = test_images.astype('float32')\n",
        "\n",
        "# нормализация данных [0, 1]\n",
        "train_images /= 255 \n",
        "test_images /= 255 \n",
        "\n",
        "print(f'train_images shape:\\t{train_images.shape}\\n'\n",
        "      f'test_images shape:\\t{test_images.shape}\\n\\n')\n",
        "\n",
        "# трансформация лейблов в one-hot encoding\n",
        "train_labels = to_categorical(train_labels, 10) \n",
        "test_labels = to_categorical(test_labels, 10) \n",
        "\n",
        "# изменение размерности массива в 4D массив\n",
        "train_images = train_images.reshape(train_images.shape[0], 28,28,1)\n",
        "test_images = test_images.reshape(test_images.shape[0], 28,28,1)\n",
        "\n",
        "print(f'train_images shape:\\t{train_images.shape}\\n'\n",
        "      f'test_images shape:\\t{test_images.shape}\\n'\n",
        "      f'train_labels shape:\\t{train_labels.shape}\\n'\n",
        "      f'test_labels shape:\\t{test_labels.shape}') "
      ],
      "execution_count": 4,
      "outputs": [
        {
          "output_type": "stream",
          "text": [
            "Downloading data from https://storage.googleapis.com/tensorflow/tf-keras-datasets/train-labels-idx1-ubyte.gz\n",
            "32768/29515 [=================================] - 0s 0us/step\n",
            "Downloading data from https://storage.googleapis.com/tensorflow/tf-keras-datasets/train-images-idx3-ubyte.gz\n",
            "26427392/26421880 [==============================] - 0s 0us/step\n",
            "Downloading data from https://storage.googleapis.com/tensorflow/tf-keras-datasets/t10k-labels-idx1-ubyte.gz\n",
            "8192/5148 [===============================================] - 0s 0us/step\n",
            "Downloading data from https://storage.googleapis.com/tensorflow/tf-keras-datasets/t10k-images-idx3-ubyte.gz\n",
            "4423680/4422102 [==============================] - 0s 0us/step\n",
            "train_images shape:\t(60000, 28, 28)\n",
            "test_images shape:\t(10000, 28, 28)\n",
            "\n",
            "\n",
            "train_images shape:\t(60000, 28, 28, 1)\n",
            "test_images shape:\t(10000, 28, 28, 1)\n",
            "train_labels shape:\t(60000, 10)\n",
            "test_labels shape:\t(10000, 10)\n"
          ],
          "name": "stdout"
        }
      ]
    },
    {
      "cell_type": "code",
      "metadata": {
        "tags": [],
        "id": "8A1hw9YVn4Wd"
      },
      "source": [
        "def model_width_analysis (filters_1, filters_2, epochs=21):\n",
        "    \"\"\"Анализ ширины модели\"\"\"\n",
        "    model_name=f'model_wa{filters_1}_{filters_2}'\n",
        "    # инициализация пустой модели\n",
        "    model = Sequential(name=model_name)\n",
        "\n",
        "    # первый сверточный слой\n",
        "    model.add(layers.Conv2D(filters_1, kernel_size=(5, 5), strides=(1, 1), activation='tanh', input_shape=(28,28,1), padding=\"same\"))\n",
        "\n",
        "    # второй пуллинговый слой\n",
        "    model.add(layers.AveragePooling2D(pool_size=(2, 2), strides=(1, 1), padding='valid'))\n",
        "\n",
        "    # пятый полносвязный слой\n",
        "    model.add(layers.Conv2D(filters_2, kernel_size=(5, 5), strides=(1, 1), activation='tanh', padding='valid'))\n",
        "\n",
        "    # сглаживание CNN выхода чтобы можно было его присоединить к полносвязногому слою\n",
        "    model.add(layers.Flatten())\n",
        "\n",
        "    # шестой полносвязный слой\n",
        "    model.add(layers.Dense(84, activation='tanh'))\n",
        "\n",
        "    # выходной слой с функцией активации softmax\n",
        "    model.add(layers.Dense(10, activation='softmax'))\n",
        "\n",
        "    # компилияция модели\n",
        "    model.compile(loss=keras.losses.categorical_crossentropy, optimizer='SGD', metrics=[\"accuracy\"])\n",
        "\n",
        "\n",
        "    hist = model.fit(x=train_images,\n",
        "                     y=train_labels,\n",
        "                     epochs=epochs,\n",
        "                     batch_size=128,\n",
        "                     validation_data=(test_images,\n",
        "                                      test_labels),\n",
        "                     verbose=1)\n",
        "\n",
        "    m_loss, m_accuracy  = model.evaluate(test_images, test_labels) \n",
        "\n",
        "    print(f\"Test loss {m_loss:.4f}, accuracy {m_accuracy * 100:.2f}\")  \n",
        "    return model_name, model, hist, m_loss, m_accuracy \n",
        "\n",
        "    \n",
        "def model_depth_analysis(n, epochs=21):\n",
        "    \"\"\"Анализ глубины модели\"\"\"\n",
        "    model_name=f'model_da{n}'\n",
        "    model = Sequential()\n",
        "    \n",
        "    for _ in range(n):\n",
        "        model.add(layers.Conv2D(6, kernel_size=(5, 5), strides=(1, 1), activation='tanh', input_shape=(28,28,1), padding=\"same\"))\n",
        "        model.add(layers.AveragePooling2D(pool_size=(2, 2), strides=(1, 1), padding='valid'))\n",
        "        model.add(layers.Conv2D(6, kernel_size=(5, 5), strides=(1, 1), activation='tanh', padding='valid'))\n",
        "\n",
        "    # сглаживание CNN выхода чтобы можно было его присоединить к полносвязногому слою\n",
        "    model.add(layers.Flatten())\n",
        "\n",
        "    # шестой полносвязный слой\n",
        "    model.add(layers.Dense(84, activation='tanh'))\n",
        "\n",
        "    # выходной слой с функцией активации softmax\n",
        "    model.add(layers.Dense(10, activation='softmax'))  \n",
        "    \n",
        "    # компилияция модели\n",
        "    model.compile(loss=keras.losses.categorical_crossentropy, optimizer='SGD', metrics=[\"accuracy\"])      \n",
        "    hist = model.fit(x=train_images,\n",
        "                     y=train_labels, \n",
        "                     epochs=epochs, \n",
        "                     batch_size=128, \n",
        "                     validation_data=(test_images, test_labels), \n",
        "                     verbose=1)  \n",
        "    \n",
        "    m_loss, m_accuracy  = model.evaluate(test_images, test_labels) \n",
        "\n",
        "    print(f\"Test loss {m_loss:.4f}, accuracy {m_accuracy * 100:.2f}\")  \n",
        "    return model_name, model, hist, m_loss, m_accuracy \n",
        "\n",
        "\n",
        "def plot_history(history):\n",
        "    keys_list = list(history.history.keys())\n",
        "    plt.figure()\n",
        "    plt.xlabel('Epoch')\n",
        "    plt.ylabel('Accuracy')\n",
        "    plt.plot(history.epoch, \n",
        "           np.array(history.history[keys_list[1]]),\n",
        "           label='train accuracy')\n",
        "    plt.plot(history.epoch, \n",
        "           np.array(history.history[keys_list[-1]]),\n",
        "           label = 'val accuracy')\n",
        "    plt.legend()\n",
        "    #plt.ylim([0, 5])\n",
        "    plt.show()\n",
        "\n"
      ],
      "execution_count": 68,
      "outputs": []
    },
    {
      "cell_type": "markdown",
      "metadata": {
        "tags": [],
        "id": "7xvcI9Lxn4Wg"
      },
      "source": [
        "## Анализ ширины модели"
      ]
    },
    {
      "cell_type": "code",
      "metadata": {
        "id": "NfxPBLFzn4Wg"
      },
      "source": [
        "width_analysis_list = [(2, 4), (5, 10), (8, 16), (10, 20), (15, 30)]\n",
        "models_dict = {'model_names': [], 'models':[], 'model_historys':[], 'model_loss':[], 'model_accuracy': []}"
      ],
      "execution_count": 49,
      "outputs": []
    },
    {
      "cell_type": "code",
      "metadata": {
        "colab": {
          "base_uri": "https://localhost:8080/"
        },
        "id": "IN4xmLw0n4Wh",
        "outputId": "4c36ca71-8060-469d-86f6-c80c69cdda70"
      },
      "source": [
        "\n",
        "for f_1, f_2 in width_analysis_list:   \n",
        "    model_name, model, hist, model_loss, model_accuracy = model_width_analysis(f_1, f_2)\n",
        "    models_dict['model_names'].append(model_name)\n",
        "    models_dict['models'].append(model)\n",
        "    models_dict['model_historys'].append(hist)\n",
        "    models_dict['model_loss'].append(model_loss)\n",
        "    models_dict['model_accuracy'].append(model_accuracy)\n",
        "\n",
        "    \n"
      ],
      "execution_count": 50,
      "outputs": [
        {
          "output_type": "stream",
          "text": [
            "Epoch 1/21\n",
            "469/469 [==============================] - 2s 4ms/step - loss: 0.7899 - accuracy: 0.7309 - val_loss: 0.6073 - val_accuracy: 0.7825\n",
            "Epoch 2/21\n",
            "469/469 [==============================] - 2s 4ms/step - loss: 0.5390 - accuracy: 0.8080 - val_loss: 0.5284 - val_accuracy: 0.8117\n",
            "Epoch 3/21\n",
            "469/469 [==============================] - 2s 4ms/step - loss: 0.4821 - accuracy: 0.8294 - val_loss: 0.4878 - val_accuracy: 0.8297\n",
            "Epoch 4/21\n",
            "469/469 [==============================] - 2s 4ms/step - loss: 0.4483 - accuracy: 0.8435 - val_loss: 0.4610 - val_accuracy: 0.8412\n",
            "Epoch 5/21\n",
            "469/469 [==============================] - 2s 4ms/step - loss: 0.4256 - accuracy: 0.8503 - val_loss: 0.4454 - val_accuracy: 0.8437\n",
            "Epoch 6/21\n",
            "469/469 [==============================] - 2s 4ms/step - loss: 0.4082 - accuracy: 0.8563 - val_loss: 0.4303 - val_accuracy: 0.8484\n",
            "Epoch 7/21\n",
            "469/469 [==============================] - 2s 4ms/step - loss: 0.3938 - accuracy: 0.8626 - val_loss: 0.4169 - val_accuracy: 0.8528\n",
            "Epoch 8/21\n",
            "469/469 [==============================] - 2s 4ms/step - loss: 0.3822 - accuracy: 0.8659 - val_loss: 0.4102 - val_accuracy: 0.8537\n",
            "Epoch 9/21\n",
            "469/469 [==============================] - 2s 4ms/step - loss: 0.3720 - accuracy: 0.8693 - val_loss: 0.4028 - val_accuracy: 0.8550\n",
            "Epoch 10/21\n",
            "469/469 [==============================] - 2s 4ms/step - loss: 0.3631 - accuracy: 0.8721 - val_loss: 0.3912 - val_accuracy: 0.8612\n",
            "Epoch 11/21\n",
            "469/469 [==============================] - 2s 4ms/step - loss: 0.3551 - accuracy: 0.8747 - val_loss: 0.3857 - val_accuracy: 0.8642\n",
            "Epoch 12/21\n",
            "469/469 [==============================] - 2s 4ms/step - loss: 0.3481 - accuracy: 0.8765 - val_loss: 0.3823 - val_accuracy: 0.8632\n",
            "Epoch 13/21\n",
            "469/469 [==============================] - 2s 4ms/step - loss: 0.3417 - accuracy: 0.8789 - val_loss: 0.3736 - val_accuracy: 0.8688\n",
            "Epoch 14/21\n",
            "469/469 [==============================] - 2s 4ms/step - loss: 0.3357 - accuracy: 0.8806 - val_loss: 0.3700 - val_accuracy: 0.8696\n",
            "Epoch 15/21\n",
            "469/469 [==============================] - 2s 4ms/step - loss: 0.3302 - accuracy: 0.8831 - val_loss: 0.3655 - val_accuracy: 0.8698\n",
            "Epoch 16/21\n",
            "469/469 [==============================] - 2s 4ms/step - loss: 0.3248 - accuracy: 0.8844 - val_loss: 0.3625 - val_accuracy: 0.8706\n",
            "Epoch 17/21\n",
            "469/469 [==============================] - 2s 4ms/step - loss: 0.3201 - accuracy: 0.8863 - val_loss: 0.3580 - val_accuracy: 0.8722\n",
            "Epoch 18/21\n",
            "469/469 [==============================] - 2s 4ms/step - loss: 0.3153 - accuracy: 0.8879 - val_loss: 0.3558 - val_accuracy: 0.8725\n",
            "Epoch 19/21\n",
            "469/469 [==============================] - 2s 4ms/step - loss: 0.3112 - accuracy: 0.8891 - val_loss: 0.3536 - val_accuracy: 0.8716\n",
            "Epoch 20/21\n",
            "469/469 [==============================] - 2s 4ms/step - loss: 0.3070 - accuracy: 0.8899 - val_loss: 0.3500 - val_accuracy: 0.8742\n",
            "Epoch 21/21\n",
            "469/469 [==============================] - 2s 4ms/step - loss: 0.3033 - accuracy: 0.8924 - val_loss: 0.3448 - val_accuracy: 0.8760\n",
            "313/313 [==============================] - 1s 3ms/step - loss: 0.3448 - accuracy: 0.8760\n",
            "Test loss 0.3448, accuracy 87.60\n",
            "Epoch 1/21\n",
            "469/469 [==============================] - 3s 5ms/step - loss: 0.7606 - accuracy: 0.7337 - val_loss: 0.5652 - val_accuracy: 0.7973\n",
            "Epoch 2/21\n",
            "469/469 [==============================] - 2s 4ms/step - loss: 0.5049 - accuracy: 0.8212 - val_loss: 0.5010 - val_accuracy: 0.8205\n",
            "Epoch 3/21\n",
            "469/469 [==============================] - 2s 4ms/step - loss: 0.4514 - accuracy: 0.8401 - val_loss: 0.4561 - val_accuracy: 0.8377\n",
            "Epoch 4/21\n",
            "469/469 [==============================] - 2s 4ms/step - loss: 0.4206 - accuracy: 0.8523 - val_loss: 0.4340 - val_accuracy: 0.8464\n",
            "Epoch 5/21\n",
            "469/469 [==============================] - 2s 4ms/step - loss: 0.3993 - accuracy: 0.8593 - val_loss: 0.4231 - val_accuracy: 0.8508\n",
            "Epoch 6/21\n",
            "469/469 [==============================] - 2s 4ms/step - loss: 0.3837 - accuracy: 0.8634 - val_loss: 0.4054 - val_accuracy: 0.8569\n",
            "Epoch 7/21\n",
            "469/469 [==============================] - 2s 4ms/step - loss: 0.3699 - accuracy: 0.8691 - val_loss: 0.3972 - val_accuracy: 0.8564\n",
            "Epoch 8/21\n",
            "469/469 [==============================] - 2s 4ms/step - loss: 0.3597 - accuracy: 0.8720 - val_loss: 0.3872 - val_accuracy: 0.8616\n",
            "Epoch 9/21\n",
            "469/469 [==============================] - 2s 4ms/step - loss: 0.3496 - accuracy: 0.8762 - val_loss: 0.3842 - val_accuracy: 0.8629\n",
            "Epoch 10/21\n",
            "469/469 [==============================] - 2s 4ms/step - loss: 0.3422 - accuracy: 0.8781 - val_loss: 0.3777 - val_accuracy: 0.8667\n",
            "Epoch 11/21\n",
            "469/469 [==============================] - 2s 4ms/step - loss: 0.3341 - accuracy: 0.8808 - val_loss: 0.3672 - val_accuracy: 0.8682\n",
            "Epoch 12/21\n",
            "469/469 [==============================] - 2s 4ms/step - loss: 0.3270 - accuracy: 0.8842 - val_loss: 0.3610 - val_accuracy: 0.8680\n",
            "Epoch 13/21\n",
            "469/469 [==============================] - 2s 4ms/step - loss: 0.3202 - accuracy: 0.8860 - val_loss: 0.3549 - val_accuracy: 0.8739\n",
            "Epoch 14/21\n",
            "469/469 [==============================] - 2s 4ms/step - loss: 0.3143 - accuracy: 0.8874 - val_loss: 0.3554 - val_accuracy: 0.8706\n",
            "Epoch 15/21\n",
            "469/469 [==============================] - 2s 4ms/step - loss: 0.3084 - accuracy: 0.8894 - val_loss: 0.3482 - val_accuracy: 0.8726\n",
            "Epoch 16/21\n",
            "469/469 [==============================] - 2s 4ms/step - loss: 0.3032 - accuracy: 0.8920 - val_loss: 0.3410 - val_accuracy: 0.8769\n",
            "Epoch 17/21\n",
            "469/469 [==============================] - 2s 4ms/step - loss: 0.2977 - accuracy: 0.8940 - val_loss: 0.3397 - val_accuracy: 0.8767\n",
            "Epoch 18/21\n",
            "469/469 [==============================] - 2s 4ms/step - loss: 0.2927 - accuracy: 0.8949 - val_loss: 0.3545 - val_accuracy: 0.8738\n",
            "Epoch 19/21\n",
            "469/469 [==============================] - 2s 4ms/step - loss: 0.2878 - accuracy: 0.8968 - val_loss: 0.3374 - val_accuracy: 0.8785\n",
            "Epoch 20/21\n",
            "469/469 [==============================] - 2s 4ms/step - loss: 0.2830 - accuracy: 0.8994 - val_loss: 0.3284 - val_accuracy: 0.8783\n",
            "Epoch 21/21\n",
            "469/469 [==============================] - 2s 4ms/step - loss: 0.2790 - accuracy: 0.8996 - val_loss: 0.3318 - val_accuracy: 0.8793\n",
            "313/313 [==============================] - 1s 3ms/step - loss: 0.3318 - accuracy: 0.8793\n",
            "Test loss 0.3318, accuracy 87.93\n",
            "Epoch 1/21\n",
            "469/469 [==============================] - 2s 5ms/step - loss: 0.7133 - accuracy: 0.7544 - val_loss: 0.5481 - val_accuracy: 0.8022\n",
            "Epoch 2/21\n",
            "469/469 [==============================] - 2s 4ms/step - loss: 0.4914 - accuracy: 0.8249 - val_loss: 0.5299 - val_accuracy: 0.7959\n",
            "Epoch 3/21\n",
            "469/469 [==============================] - 2s 4ms/step - loss: 0.4461 - accuracy: 0.8421 - val_loss: 0.4514 - val_accuracy: 0.8416\n",
            "Epoch 4/21\n",
            "469/469 [==============================] - 2s 4ms/step - loss: 0.4183 - accuracy: 0.8517 - val_loss: 0.4289 - val_accuracy: 0.8509\n",
            "Epoch 5/21\n",
            "469/469 [==============================] - 2s 4ms/step - loss: 0.3983 - accuracy: 0.8590 - val_loss: 0.4206 - val_accuracy: 0.8526\n",
            "Epoch 6/21\n",
            "469/469 [==============================] - 2s 4ms/step - loss: 0.3827 - accuracy: 0.8648 - val_loss: 0.4056 - val_accuracy: 0.8586\n",
            "Epoch 7/21\n",
            "469/469 [==============================] - 2s 5ms/step - loss: 0.3693 - accuracy: 0.8691 - val_loss: 0.3982 - val_accuracy: 0.8606\n",
            "Epoch 8/21\n",
            "469/469 [==============================] - 2s 5ms/step - loss: 0.3575 - accuracy: 0.8739 - val_loss: 0.3871 - val_accuracy: 0.8625\n",
            "Epoch 9/21\n",
            "469/469 [==============================] - 2s 4ms/step - loss: 0.3478 - accuracy: 0.8776 - val_loss: 0.3787 - val_accuracy: 0.8637\n",
            "Epoch 10/21\n",
            "469/469 [==============================] - 2s 4ms/step - loss: 0.3389 - accuracy: 0.8796 - val_loss: 0.3713 - val_accuracy: 0.8690\n",
            "Epoch 11/21\n",
            "469/469 [==============================] - 2s 4ms/step - loss: 0.3307 - accuracy: 0.8826 - val_loss: 0.3687 - val_accuracy: 0.8688\n",
            "Epoch 12/21\n",
            "469/469 [==============================] - 2s 5ms/step - loss: 0.3233 - accuracy: 0.8852 - val_loss: 0.3584 - val_accuracy: 0.8745\n",
            "Epoch 13/21\n",
            "469/469 [==============================] - 2s 5ms/step - loss: 0.3160 - accuracy: 0.8874 - val_loss: 0.3522 - val_accuracy: 0.8742\n",
            "Epoch 14/21\n",
            "469/469 [==============================] - 2s 4ms/step - loss: 0.3099 - accuracy: 0.8898 - val_loss: 0.3466 - val_accuracy: 0.8771\n",
            "Epoch 15/21\n",
            "469/469 [==============================] - 2s 5ms/step - loss: 0.3040 - accuracy: 0.8911 - val_loss: 0.3611 - val_accuracy: 0.8690\n",
            "Epoch 16/21\n",
            "469/469 [==============================] - 2s 4ms/step - loss: 0.2985 - accuracy: 0.8931 - val_loss: 0.3501 - val_accuracy: 0.8728\n",
            "Epoch 17/21\n",
            "469/469 [==============================] - 2s 4ms/step - loss: 0.2926 - accuracy: 0.8961 - val_loss: 0.3355 - val_accuracy: 0.8806\n",
            "Epoch 18/21\n",
            "469/469 [==============================] - 2s 4ms/step - loss: 0.2874 - accuracy: 0.8978 - val_loss: 0.3405 - val_accuracy: 0.8774\n",
            "Epoch 19/21\n",
            "469/469 [==============================] - 2s 4ms/step - loss: 0.2828 - accuracy: 0.9001 - val_loss: 0.3305 - val_accuracy: 0.8780\n",
            "Epoch 20/21\n",
            "469/469 [==============================] - 2s 4ms/step - loss: 0.2783 - accuracy: 0.9010 - val_loss: 0.3278 - val_accuracy: 0.8829\n",
            "Epoch 21/21\n",
            "469/469 [==============================] - 2s 4ms/step - loss: 0.2743 - accuracy: 0.9022 - val_loss: 0.3232 - val_accuracy: 0.8823\n",
            "313/313 [==============================] - 1s 3ms/step - loss: 0.3232 - accuracy: 0.8823\n",
            "Test loss 0.3232, accuracy 88.23\n",
            "Epoch 1/21\n",
            "469/469 [==============================] - 3s 5ms/step - loss: 0.7446 - accuracy: 0.7371 - val_loss: 0.5939 - val_accuracy: 0.7690\n",
            "Epoch 2/21\n",
            "469/469 [==============================] - 2s 5ms/step - loss: 0.5042 - accuracy: 0.8180 - val_loss: 0.4971 - val_accuracy: 0.8214\n",
            "Epoch 3/21\n",
            "469/469 [==============================] - 2s 5ms/step - loss: 0.4539 - accuracy: 0.8378 - val_loss: 0.4671 - val_accuracy: 0.8320\n",
            "Epoch 4/21\n",
            "469/469 [==============================] - 2s 5ms/step - loss: 0.4242 - accuracy: 0.8495 - val_loss: 0.4386 - val_accuracy: 0.8416\n",
            "Epoch 5/21\n",
            "469/469 [==============================] - 2s 5ms/step - loss: 0.4020 - accuracy: 0.8571 - val_loss: 0.4409 - val_accuracy: 0.8412\n",
            "Epoch 6/21\n",
            "469/469 [==============================] - 2s 5ms/step - loss: 0.3862 - accuracy: 0.8623 - val_loss: 0.4265 - val_accuracy: 0.8476\n",
            "Epoch 7/21\n",
            "469/469 [==============================] - 2s 5ms/step - loss: 0.3716 - accuracy: 0.8679 - val_loss: 0.4000 - val_accuracy: 0.8563\n",
            "Epoch 8/21\n",
            "469/469 [==============================] - 2s 5ms/step - loss: 0.3600 - accuracy: 0.8710 - val_loss: 0.3972 - val_accuracy: 0.8601\n",
            "Epoch 9/21\n",
            "469/469 [==============================] - 2s 5ms/step - loss: 0.3501 - accuracy: 0.8754 - val_loss: 0.3896 - val_accuracy: 0.8617\n",
            "Epoch 10/21\n",
            "469/469 [==============================] - 2s 4ms/step - loss: 0.3408 - accuracy: 0.8791 - val_loss: 0.3845 - val_accuracy: 0.8622\n",
            "Epoch 11/21\n",
            "469/469 [==============================] - 2s 4ms/step - loss: 0.3328 - accuracy: 0.8821 - val_loss: 0.3746 - val_accuracy: 0.8684\n",
            "Epoch 12/21\n",
            "469/469 [==============================] - 2s 5ms/step - loss: 0.3260 - accuracy: 0.8837 - val_loss: 0.3718 - val_accuracy: 0.8667\n",
            "Epoch 13/21\n",
            "469/469 [==============================] - 2s 5ms/step - loss: 0.3195 - accuracy: 0.8874 - val_loss: 0.3612 - val_accuracy: 0.8707\n",
            "Epoch 14/21\n",
            "469/469 [==============================] - 2s 5ms/step - loss: 0.3128 - accuracy: 0.8886 - val_loss: 0.3566 - val_accuracy: 0.8721\n",
            "Epoch 15/21\n",
            "469/469 [==============================] - 2s 4ms/step - loss: 0.3079 - accuracy: 0.8907 - val_loss: 0.3590 - val_accuracy: 0.8712\n",
            "Epoch 16/21\n",
            "469/469 [==============================] - 2s 5ms/step - loss: 0.3016 - accuracy: 0.8923 - val_loss: 0.3473 - val_accuracy: 0.8747\n",
            "Epoch 17/21\n",
            "469/469 [==============================] - 2s 4ms/step - loss: 0.2971 - accuracy: 0.8943 - val_loss: 0.3456 - val_accuracy: 0.8772\n",
            "Epoch 18/21\n",
            "469/469 [==============================] - 2s 4ms/step - loss: 0.2917 - accuracy: 0.8961 - val_loss: 0.3396 - val_accuracy: 0.8781\n",
            "Epoch 19/21\n",
            "469/469 [==============================] - 2s 5ms/step - loss: 0.2869 - accuracy: 0.8973 - val_loss: 0.3372 - val_accuracy: 0.8789\n",
            "Epoch 20/21\n",
            "469/469 [==============================] - 2s 5ms/step - loss: 0.2823 - accuracy: 0.8994 - val_loss: 0.3414 - val_accuracy: 0.8769\n",
            "Epoch 21/21\n",
            "469/469 [==============================] - 2s 5ms/step - loss: 0.2773 - accuracy: 0.9016 - val_loss: 0.3306 - val_accuracy: 0.8825\n",
            "313/313 [==============================] - 1s 2ms/step - loss: 0.3306 - accuracy: 0.8825\n",
            "Test loss 0.3306, accuracy 88.25\n",
            "Epoch 1/21\n",
            "469/469 [==============================] - 3s 6ms/step - loss: 0.7352 - accuracy: 0.7387 - val_loss: 0.5648 - val_accuracy: 0.7934\n",
            "Epoch 2/21\n",
            "469/469 [==============================] - 3s 6ms/step - loss: 0.4981 - accuracy: 0.8210 - val_loss: 0.5017 - val_accuracy: 0.8161\n",
            "Epoch 3/21\n",
            "469/469 [==============================] - 3s 6ms/step - loss: 0.4448 - accuracy: 0.8409 - val_loss: 0.4803 - val_accuracy: 0.8235\n",
            "Epoch 4/21\n",
            "469/469 [==============================] - 3s 6ms/step - loss: 0.4163 - accuracy: 0.8514 - val_loss: 0.4606 - val_accuracy: 0.8312\n",
            "Epoch 5/21\n",
            "469/469 [==============================] - 3s 6ms/step - loss: 0.3957 - accuracy: 0.8596 - val_loss: 0.4209 - val_accuracy: 0.8504\n",
            "Epoch 6/21\n",
            "469/469 [==============================] - 3s 6ms/step - loss: 0.3798 - accuracy: 0.8662 - val_loss: 0.4102 - val_accuracy: 0.8573\n",
            "Epoch 7/21\n",
            "469/469 [==============================] - 3s 6ms/step - loss: 0.3657 - accuracy: 0.8708 - val_loss: 0.4057 - val_accuracy: 0.8559\n",
            "Epoch 8/21\n",
            "469/469 [==============================] - 3s 6ms/step - loss: 0.3542 - accuracy: 0.8743 - val_loss: 0.3958 - val_accuracy: 0.8616\n",
            "Epoch 9/21\n",
            "469/469 [==============================] - 3s 6ms/step - loss: 0.3449 - accuracy: 0.8776 - val_loss: 0.3833 - val_accuracy: 0.8615\n",
            "Epoch 10/21\n",
            "469/469 [==============================] - 3s 6ms/step - loss: 0.3361 - accuracy: 0.8806 - val_loss: 0.3860 - val_accuracy: 0.8602\n",
            "Epoch 11/21\n",
            "469/469 [==============================] - 3s 6ms/step - loss: 0.3279 - accuracy: 0.8838 - val_loss: 0.3823 - val_accuracy: 0.8631\n",
            "Epoch 12/21\n",
            "469/469 [==============================] - 3s 6ms/step - loss: 0.3211 - accuracy: 0.8853 - val_loss: 0.3610 - val_accuracy: 0.8727\n",
            "Epoch 13/21\n",
            "469/469 [==============================] - 3s 6ms/step - loss: 0.3145 - accuracy: 0.8878 - val_loss: 0.3603 - val_accuracy: 0.8749\n",
            "Epoch 14/21\n",
            "469/469 [==============================] - 3s 6ms/step - loss: 0.3085 - accuracy: 0.8909 - val_loss: 0.3568 - val_accuracy: 0.8710\n",
            "Epoch 15/21\n",
            "469/469 [==============================] - 3s 6ms/step - loss: 0.3028 - accuracy: 0.8921 - val_loss: 0.3491 - val_accuracy: 0.8734\n",
            "Epoch 16/21\n",
            "469/469 [==============================] - 3s 6ms/step - loss: 0.2966 - accuracy: 0.8944 - val_loss: 0.3483 - val_accuracy: 0.8758\n",
            "Epoch 17/21\n",
            "469/469 [==============================] - 3s 6ms/step - loss: 0.2914 - accuracy: 0.8967 - val_loss: 0.3426 - val_accuracy: 0.8782\n",
            "Epoch 18/21\n",
            "469/469 [==============================] - 3s 6ms/step - loss: 0.2869 - accuracy: 0.8980 - val_loss: 0.3406 - val_accuracy: 0.8770\n",
            "Epoch 19/21\n",
            "469/469 [==============================] - 3s 6ms/step - loss: 0.2818 - accuracy: 0.9000 - val_loss: 0.3380 - val_accuracy: 0.8806\n",
            "Epoch 20/21\n",
            "469/469 [==============================] - 3s 6ms/step - loss: 0.2776 - accuracy: 0.9012 - val_loss: 0.3413 - val_accuracy: 0.8758\n",
            "Epoch 21/21\n",
            "469/469 [==============================] - 3s 6ms/step - loss: 0.2731 - accuracy: 0.9031 - val_loss: 0.3394 - val_accuracy: 0.8779\n",
            "313/313 [==============================] - 1s 3ms/step - loss: 0.3394 - accuracy: 0.8779\n",
            "Test loss 0.3394, accuracy 87.79\n"
          ],
          "name": "stdout"
        }
      ]
    },
    {
      "cell_type": "markdown",
      "metadata": {
        "id": "o50qloMEn4Wi"
      },
      "source": [
        "## Выводы:\n",
        "С увеличением ширины идет уменьшение ошибки предикта, но есть предел ширины модели для данной задачи при ширине больше 8_16 ядер идет увеличение ошибки."
      ]
    },
    {
      "cell_type": "code",
      "metadata": {
        "id": "eGvHYbiB9ivt"
      },
      "source": [
        "models_df = pd.DataFrame(models_dict)\n",
        "#models_df.to_csv('./models_df.csv')"
      ],
      "execution_count": null,
      "outputs": []
    },
    {
      "cell_type": "code",
      "metadata": {
        "colab": {
          "base_uri": "https://localhost:8080/",
          "height": 338
        },
        "id": "3cgNv_NX85Bm",
        "outputId": "bdef071a-e3fa-4f43-8da4-a56009d51760"
      },
      "source": [
        "plt.plot(models_df['model_names'][:5], models_df['model_loss'][:5], label='Loss')\n",
        "plt.xticks(rotation=45)\n",
        "plt.legend()"
      ],
      "execution_count": 86,
      "outputs": [
        {
          "output_type": "execute_result",
          "data": {
            "text/plain": [
              "<matplotlib.legend.Legend at 0x7f7865a3f990>"
            ]
          },
          "metadata": {
            "tags": []
          },
          "execution_count": 86
        },
        {
          "output_type": "display_data",
          "data": {
            "image/png": "[encoded data removed]",
            "text/plain": [
              "<Figure size 432x288 with 1 Axes>"
            ]
          },
          "metadata": {
            "tags": [],
            "needs_background": "light"
          }
        }
      ]
    },
    {
      "cell_type": "markdown",
      "metadata": {
        "tags": [],
        "id": "Kyib3G05n4Wj"
      },
      "source": [
        "## Анализ глубины модели"
      ]
    },
    {
      "cell_type": "code",
      "metadata": {
        "colab": {
          "base_uri": "https://localhost:8080/"
        },
        "id": "FevgBescn4Wj",
        "outputId": "b258cf03-ab9b-4622-d9ec-6e436895d499"
      },
      "source": [
        "depth_analysis_list = [_ for _ in range(1,6)]\n",
        "depth_analysis_list"
      ],
      "execution_count": 51,
      "outputs": [
        {
          "output_type": "execute_result",
          "data": {
            "text/plain": [
              "[1, 2, 3, 4, 5]"
            ]
          },
          "metadata": {
            "tags": []
          },
          "execution_count": 51
        }
      ]
    },
    {
      "cell_type": "code",
      "metadata": {
        "colab": {
          "base_uri": "https://localhost:8080/"
        },
        "id": "ss-gCJaDn4Wl",
        "outputId": "1db0ebe7-0e5b-4643-88a0-70f0086a6a26"
      },
      "source": [
        "for n in depth_analysis_list:   \n",
        "    model_name, model, hist, model_loss, model_accuracy = model_depth_analysis(n)\n",
        "    models_dict['model_names'].append(model_name)\n",
        "    models_dict['models'].append(model)\n",
        "    models_dict['model_historys'].append(hist)\n",
        "    models_dict['model_loss'].append(model_loss)\n",
        "    models_dict['model_accuracy'].append(model_accuracy)\n",
        "    \n"
      ],
      "execution_count": 53,
      "outputs": [
        {
          "output_type": "stream",
          "text": [
            "Epoch 1/21\n",
            "469/469 [==============================] - 2s 5ms/step - loss: 0.8048 - accuracy: 0.7279 - val_loss: 0.5883 - val_accuracy: 0.7890\n",
            "Epoch 2/21\n",
            "469/469 [==============================] - 2s 4ms/step - loss: 0.5222 - accuracy: 0.8158 - val_loss: 0.5181 - val_accuracy: 0.8124\n",
            "Epoch 3/21\n",
            "469/469 [==============================] - 2s 4ms/step - loss: 0.4638 - accuracy: 0.8364 - val_loss: 0.4728 - val_accuracy: 0.8346\n",
            "Epoch 4/21\n",
            "469/469 [==============================] - 2s 4ms/step - loss: 0.4309 - accuracy: 0.8501 - val_loss: 0.4506 - val_accuracy: 0.8409\n",
            "Epoch 5/21\n",
            "469/469 [==============================] - 2s 4ms/step - loss: 0.4091 - accuracy: 0.8565 - val_loss: 0.4370 - val_accuracy: 0.8426\n",
            "Epoch 6/21\n",
            "469/469 [==============================] - 2s 4ms/step - loss: 0.3919 - accuracy: 0.8623 - val_loss: 0.4140 - val_accuracy: 0.8537\n",
            "Epoch 7/21\n",
            "469/469 [==============================] - 2s 4ms/step - loss: 0.3785 - accuracy: 0.8669 - val_loss: 0.4038 - val_accuracy: 0.8575\n",
            "Epoch 8/21\n",
            "469/469 [==============================] - 2s 4ms/step - loss: 0.3664 - accuracy: 0.8715 - val_loss: 0.3999 - val_accuracy: 0.8556\n",
            "Epoch 9/21\n",
            "469/469 [==============================] - 2s 4ms/step - loss: 0.3568 - accuracy: 0.8743 - val_loss: 0.3898 - val_accuracy: 0.8602\n",
            "Epoch 10/21\n",
            "469/469 [==============================] - 2s 4ms/step - loss: 0.3473 - accuracy: 0.8772 - val_loss: 0.3825 - val_accuracy: 0.8642\n",
            "Epoch 11/21\n",
            "469/469 [==============================] - 2s 4ms/step - loss: 0.3400 - accuracy: 0.8802 - val_loss: 0.3783 - val_accuracy: 0.8629\n",
            "Epoch 12/21\n",
            "469/469 [==============================] - 2s 4ms/step - loss: 0.3326 - accuracy: 0.8830 - val_loss: 0.3712 - val_accuracy: 0.8680\n",
            "Epoch 13/21\n",
            "469/469 [==============================] - 2s 4ms/step - loss: 0.3262 - accuracy: 0.8843 - val_loss: 0.3621 - val_accuracy: 0.8703\n",
            "Epoch 14/21\n",
            "469/469 [==============================] - 2s 4ms/step - loss: 0.3200 - accuracy: 0.8867 - val_loss: 0.3635 - val_accuracy: 0.8703\n",
            "Epoch 15/21\n",
            "469/469 [==============================] - 2s 4ms/step - loss: 0.3148 - accuracy: 0.8885 - val_loss: 0.3585 - val_accuracy: 0.8729\n",
            "Epoch 16/21\n",
            "469/469 [==============================] - 2s 4ms/step - loss: 0.3093 - accuracy: 0.8904 - val_loss: 0.3554 - val_accuracy: 0.8722\n",
            "Epoch 17/21\n",
            "469/469 [==============================] - 2s 4ms/step - loss: 0.3045 - accuracy: 0.8921 - val_loss: 0.3457 - val_accuracy: 0.8767\n",
            "Epoch 18/21\n",
            "469/469 [==============================] - 2s 4ms/step - loss: 0.2996 - accuracy: 0.8936 - val_loss: 0.3467 - val_accuracy: 0.8773\n",
            "Epoch 19/21\n",
            "469/469 [==============================] - 2s 4ms/step - loss: 0.2950 - accuracy: 0.8952 - val_loss: 0.3405 - val_accuracy: 0.8795\n",
            "Epoch 20/21\n",
            "469/469 [==============================] - 2s 4ms/step - loss: 0.2910 - accuracy: 0.8960 - val_loss: 0.3389 - val_accuracy: 0.8797\n",
            "Epoch 21/21\n",
            "469/469 [==============================] - 2s 4ms/step - loss: 0.2868 - accuracy: 0.8984 - val_loss: 0.3335 - val_accuracy: 0.8820\n",
            "313/313 [==============================] - 1s 2ms/step - loss: 0.3335 - accuracy: 0.8819\n",
            "Test loss 0.3335, accuracy 88.19\n",
            "Epoch 1/21\n",
            "469/469 [==============================] - 3s 5ms/step - loss: 0.8338 - accuracy: 0.7054 - val_loss: 0.6273 - val_accuracy: 0.7709\n",
            "Epoch 2/21\n",
            "469/469 [==============================] - 2s 5ms/step - loss: 0.5579 - accuracy: 0.7983 - val_loss: 0.5509 - val_accuracy: 0.8060\n",
            "Epoch 3/21\n",
            "469/469 [==============================] - 2s 5ms/step - loss: 0.5025 - accuracy: 0.8201 - val_loss: 0.5104 - val_accuracy: 0.8199\n",
            "Epoch 4/21\n",
            "469/469 [==============================] - 2s 5ms/step - loss: 0.4683 - accuracy: 0.8318 - val_loss: 0.5011 - val_accuracy: 0.8173\n",
            "Epoch 5/21\n",
            "469/469 [==============================] - 2s 5ms/step - loss: 0.4441 - accuracy: 0.8419 - val_loss: 0.4622 - val_accuracy: 0.8377\n",
            "Epoch 6/21\n",
            "469/469 [==============================] - 2s 5ms/step - loss: 0.4256 - accuracy: 0.8474 - val_loss: 0.4453 - val_accuracy: 0.8433\n",
            "Epoch 7/21\n",
            "469/469 [==============================] - 2s 5ms/step - loss: 0.4113 - accuracy: 0.8524 - val_loss: 0.4391 - val_accuracy: 0.8477\n",
            "Epoch 8/21\n",
            "469/469 [==============================] - 2s 5ms/step - loss: 0.3987 - accuracy: 0.8567 - val_loss: 0.4272 - val_accuracy: 0.8477\n",
            "Epoch 9/21\n",
            "469/469 [==============================] - 2s 5ms/step - loss: 0.3879 - accuracy: 0.8606 - val_loss: 0.4237 - val_accuracy: 0.8498\n",
            "Epoch 10/21\n",
            "469/469 [==============================] - 2s 5ms/step - loss: 0.3786 - accuracy: 0.8632 - val_loss: 0.4073 - val_accuracy: 0.8563\n",
            "Epoch 11/21\n",
            "469/469 [==============================] - 2s 5ms/step - loss: 0.3703 - accuracy: 0.8674 - val_loss: 0.4078 - val_accuracy: 0.8569\n",
            "Epoch 12/21\n",
            "469/469 [==============================] - 2s 5ms/step - loss: 0.3622 - accuracy: 0.8685 - val_loss: 0.4013 - val_accuracy: 0.8563\n",
            "Epoch 13/21\n",
            "469/469 [==============================] - 2s 5ms/step - loss: 0.3564 - accuracy: 0.8718 - val_loss: 0.3892 - val_accuracy: 0.8619\n",
            "Epoch 14/21\n",
            "469/469 [==============================] - 2s 5ms/step - loss: 0.3493 - accuracy: 0.8739 - val_loss: 0.3930 - val_accuracy: 0.8587\n",
            "Epoch 15/21\n",
            "469/469 [==============================] - 2s 5ms/step - loss: 0.3440 - accuracy: 0.8761 - val_loss: 0.3805 - val_accuracy: 0.8635\n",
            "Epoch 16/21\n",
            "469/469 [==============================] - 2s 5ms/step - loss: 0.3381 - accuracy: 0.8789 - val_loss: 0.3800 - val_accuracy: 0.8620\n",
            "Epoch 17/21\n",
            "469/469 [==============================] - 2s 5ms/step - loss: 0.3336 - accuracy: 0.8795 - val_loss: 0.3692 - val_accuracy: 0.8675\n",
            "Epoch 18/21\n",
            "469/469 [==============================] - 2s 5ms/step - loss: 0.3280 - accuracy: 0.8818 - val_loss: 0.3704 - val_accuracy: 0.8669\n",
            "Epoch 19/21\n",
            "469/469 [==============================] - 2s 5ms/step - loss: 0.3242 - accuracy: 0.8832 - val_loss: 0.3666 - val_accuracy: 0.8692\n",
            "Epoch 20/21\n",
            "469/469 [==============================] - 2s 5ms/step - loss: 0.3195 - accuracy: 0.8855 - val_loss: 0.3612 - val_accuracy: 0.8696\n",
            "Epoch 21/21\n",
            "469/469 [==============================] - 2s 5ms/step - loss: 0.3153 - accuracy: 0.8862 - val_loss: 0.3599 - val_accuracy: 0.8695\n",
            "313/313 [==============================] - 1s 3ms/step - loss: 0.3599 - accuracy: 0.8695\n",
            "Test loss 0.3599, accuracy 86.95\n",
            "Epoch 1/21\n",
            "469/469 [==============================] - 3s 6ms/step - loss: 1.0061 - accuracy: 0.6360 - val_loss: 0.7681 - val_accuracy: 0.7172\n",
            "Epoch 2/21\n",
            "469/469 [==============================] - 3s 6ms/step - loss: 0.6689 - accuracy: 0.7531 - val_loss: 0.6399 - val_accuracy: 0.7647\n",
            "Epoch 3/21\n",
            "469/469 [==============================] - 3s 6ms/step - loss: 0.5783 - accuracy: 0.7903 - val_loss: 0.5856 - val_accuracy: 0.7816\n",
            "Epoch 4/21\n",
            "469/469 [==============================] - 3s 6ms/step - loss: 0.5269 - accuracy: 0.8100 - val_loss: 0.5353 - val_accuracy: 0.8058\n",
            "Epoch 5/21\n",
            "469/469 [==============================] - 3s 6ms/step - loss: 0.4917 - accuracy: 0.8227 - val_loss: 0.5069 - val_accuracy: 0.8171\n",
            "Epoch 6/21\n",
            "469/469 [==============================] - 3s 6ms/step - loss: 0.4688 - accuracy: 0.8305 - val_loss: 0.4931 - val_accuracy: 0.8200\n",
            "Epoch 7/21\n",
            "469/469 [==============================] - 3s 6ms/step - loss: 0.4500 - accuracy: 0.8377 - val_loss: 0.4724 - val_accuracy: 0.8304\n",
            "Epoch 8/21\n",
            "469/469 [==============================] - 3s 6ms/step - loss: 0.4353 - accuracy: 0.8421 - val_loss: 0.4607 - val_accuracy: 0.8345\n",
            "Epoch 9/21\n",
            "469/469 [==============================] - 3s 6ms/step - loss: 0.4222 - accuracy: 0.8480 - val_loss: 0.4536 - val_accuracy: 0.8351\n",
            "Epoch 10/21\n",
            "469/469 [==============================] - 3s 5ms/step - loss: 0.4113 - accuracy: 0.8492 - val_loss: 0.4372 - val_accuracy: 0.8416\n",
            "Epoch 11/21\n",
            "469/469 [==============================] - 3s 6ms/step - loss: 0.4016 - accuracy: 0.8542 - val_loss: 0.4318 - val_accuracy: 0.8465\n",
            "Epoch 12/21\n",
            "469/469 [==============================] - 3s 5ms/step - loss: 0.3923 - accuracy: 0.8586 - val_loss: 0.4188 - val_accuracy: 0.8490\n",
            "Epoch 13/21\n",
            "469/469 [==============================] - 3s 6ms/step - loss: 0.3847 - accuracy: 0.8607 - val_loss: 0.4138 - val_accuracy: 0.8510\n",
            "Epoch 14/21\n",
            "469/469 [==============================] - 3s 6ms/step - loss: 0.3770 - accuracy: 0.8637 - val_loss: 0.4029 - val_accuracy: 0.8541\n",
            "Epoch 15/21\n",
            "469/469 [==============================] - 3s 5ms/step - loss: 0.3701 - accuracy: 0.8659 - val_loss: 0.4064 - val_accuracy: 0.8511\n",
            "Epoch 16/21\n",
            "469/469 [==============================] - 3s 6ms/step - loss: 0.3636 - accuracy: 0.8676 - val_loss: 0.3991 - val_accuracy: 0.8557\n",
            "Epoch 17/21\n",
            "469/469 [==============================] - 3s 5ms/step - loss: 0.3576 - accuracy: 0.8708 - val_loss: 0.4144 - val_accuracy: 0.8492\n",
            "Epoch 18/21\n",
            "469/469 [==============================] - 3s 6ms/step - loss: 0.3528 - accuracy: 0.8722 - val_loss: 0.3991 - val_accuracy: 0.8536\n",
            "Epoch 19/21\n",
            "469/469 [==============================] - 3s 5ms/step - loss: 0.3478 - accuracy: 0.8733 - val_loss: 0.3814 - val_accuracy: 0.8638\n",
            "Epoch 20/21\n",
            "469/469 [==============================] - 3s 5ms/step - loss: 0.3421 - accuracy: 0.8770 - val_loss: 0.3751 - val_accuracy: 0.8640\n",
            "Epoch 21/21\n",
            "469/469 [==============================] - 3s 6ms/step - loss: 0.3387 - accuracy: 0.8778 - val_loss: 0.3782 - val_accuracy: 0.8625\n",
            "313/313 [==============================] - 1s 3ms/step - loss: 0.3782 - accuracy: 0.8625\n",
            "Test loss 0.3782, accuracy 86.25\n",
            "Epoch 1/21\n",
            "469/469 [==============================] - 4s 7ms/step - loss: 1.0740 - accuracy: 0.6208 - val_loss: 0.7618 - val_accuracy: 0.7265\n",
            "Epoch 2/21\n",
            "469/469 [==============================] - 3s 6ms/step - loss: 0.6681 - accuracy: 0.7570 - val_loss: 0.6521 - val_accuracy: 0.7648\n",
            "Epoch 3/21\n",
            "469/469 [==============================] - 3s 6ms/step - loss: 0.5891 - accuracy: 0.7901 - val_loss: 0.5976 - val_accuracy: 0.7892\n",
            "Epoch 4/21\n",
            "469/469 [==============================] - 3s 6ms/step - loss: 0.5458 - accuracy: 0.8062 - val_loss: 0.5549 - val_accuracy: 0.8008\n",
            "Epoch 5/21\n",
            "469/469 [==============================] - 3s 6ms/step - loss: 0.5175 - accuracy: 0.8161 - val_loss: 0.5372 - val_accuracy: 0.8076\n",
            "Epoch 6/21\n",
            "469/469 [==============================] - 3s 6ms/step - loss: 0.4964 - accuracy: 0.8223 - val_loss: 0.5182 - val_accuracy: 0.8158\n",
            "Epoch 7/21\n",
            "469/469 [==============================] - 3s 6ms/step - loss: 0.4757 - accuracy: 0.8302 - val_loss: 0.4933 - val_accuracy: 0.8245\n",
            "Epoch 8/21\n",
            "469/469 [==============================] - 3s 6ms/step - loss: 0.4612 - accuracy: 0.8341 - val_loss: 0.4934 - val_accuracy: 0.8207\n",
            "Epoch 9/21\n",
            "469/469 [==============================] - 3s 6ms/step - loss: 0.4489 - accuracy: 0.8378 - val_loss: 0.4718 - val_accuracy: 0.8311\n",
            "Epoch 10/21\n",
            "469/469 [==============================] - 3s 6ms/step - loss: 0.4356 - accuracy: 0.8434 - val_loss: 0.4891 - val_accuracy: 0.8271\n",
            "Epoch 11/21\n",
            "469/469 [==============================] - 3s 6ms/step - loss: 0.4279 - accuracy: 0.8456 - val_loss: 0.4504 - val_accuracy: 0.8388\n",
            "Epoch 12/21\n",
            "469/469 [==============================] - 3s 6ms/step - loss: 0.4176 - accuracy: 0.8495 - val_loss: 0.4375 - val_accuracy: 0.8407\n",
            "Epoch 13/21\n",
            "469/469 [==============================] - 3s 6ms/step - loss: 0.4102 - accuracy: 0.8518 - val_loss: 0.4588 - val_accuracy: 0.8337\n",
            "Epoch 14/21\n",
            "469/469 [==============================] - 3s 6ms/step - loss: 0.4028 - accuracy: 0.8546 - val_loss: 0.4433 - val_accuracy: 0.8358\n",
            "Epoch 15/21\n",
            "469/469 [==============================] - 3s 6ms/step - loss: 0.3970 - accuracy: 0.8571 - val_loss: 0.4315 - val_accuracy: 0.8469\n",
            "Epoch 16/21\n",
            "469/469 [==============================] - 3s 7ms/step - loss: 0.3899 - accuracy: 0.8588 - val_loss: 0.4132 - val_accuracy: 0.8481\n",
            "Epoch 17/21\n",
            "469/469 [==============================] - 3s 7ms/step - loss: 0.3860 - accuracy: 0.8607 - val_loss: 0.4098 - val_accuracy: 0.8523\n",
            "Epoch 18/21\n",
            "469/469 [==============================] - 3s 7ms/step - loss: 0.3797 - accuracy: 0.8629 - val_loss: 0.4030 - val_accuracy: 0.8530\n",
            "Epoch 19/21\n",
            "469/469 [==============================] - 3s 7ms/step - loss: 0.3753 - accuracy: 0.8648 - val_loss: 0.4178 - val_accuracy: 0.8488\n",
            "Epoch 20/21\n",
            "469/469 [==============================] - 3s 7ms/step - loss: 0.3702 - accuracy: 0.8666 - val_loss: 0.4018 - val_accuracy: 0.8528\n",
            "Epoch 21/21\n",
            "469/469 [==============================] - 3s 7ms/step - loss: 0.3670 - accuracy: 0.8678 - val_loss: 0.4091 - val_accuracy: 0.8496\n",
            "313/313 [==============================] - 1s 3ms/step - loss: 0.4091 - accuracy: 0.8496\n",
            "Test loss 0.4091, accuracy 84.96\n",
            "Epoch 1/21\n",
            "469/469 [==============================] - 4s 7ms/step - loss: 1.4273 - accuracy: 0.4977 - val_loss: 0.9684 - val_accuracy: 0.6743\n",
            "Epoch 2/21\n",
            "469/469 [==============================] - 3s 7ms/step - loss: 0.8322 - accuracy: 0.7046 - val_loss: 0.7753 - val_accuracy: 0.7208\n",
            "Epoch 3/21\n",
            "469/469 [==============================] - 3s 7ms/step - loss: 0.7065 - accuracy: 0.7408 - val_loss: 0.7147 - val_accuracy: 0.7291\n",
            "Epoch 4/21\n",
            "469/469 [==============================] - 3s 7ms/step - loss: 0.6328 - accuracy: 0.7667 - val_loss: 0.6570 - val_accuracy: 0.7597\n",
            "Epoch 5/21\n",
            "469/469 [==============================] - 3s 7ms/step - loss: 0.5773 - accuracy: 0.7899 - val_loss: 0.5677 - val_accuracy: 0.7904\n",
            "Epoch 6/21\n",
            "469/469 [==============================] - 3s 7ms/step - loss: 0.5434 - accuracy: 0.8014 - val_loss: 0.5544 - val_accuracy: 0.7962\n",
            "Epoch 7/21\n",
            "469/469 [==============================] - 3s 7ms/step - loss: 0.5178 - accuracy: 0.8112 - val_loss: 0.5206 - val_accuracy: 0.8104\n",
            "Epoch 8/21\n",
            "469/469 [==============================] - 3s 7ms/step - loss: 0.4955 - accuracy: 0.8209 - val_loss: 0.5038 - val_accuracy: 0.8188\n",
            "Epoch 9/21\n",
            "469/469 [==============================] - 3s 7ms/step - loss: 0.4782 - accuracy: 0.8284 - val_loss: 0.5018 - val_accuracy: 0.8212\n",
            "Epoch 10/21\n",
            "469/469 [==============================] - 3s 7ms/step - loss: 0.4678 - accuracy: 0.8313 - val_loss: 0.4783 - val_accuracy: 0.8244\n",
            "Epoch 11/21\n",
            "469/469 [==============================] - 3s 7ms/step - loss: 0.4549 - accuracy: 0.8365 - val_loss: 0.4729 - val_accuracy: 0.8251\n",
            "Epoch 12/21\n",
            "469/469 [==============================] - 3s 7ms/step - loss: 0.4439 - accuracy: 0.8400 - val_loss: 0.4972 - val_accuracy: 0.8185\n",
            "Epoch 13/21\n",
            "469/469 [==============================] - 3s 7ms/step - loss: 0.4335 - accuracy: 0.8436 - val_loss: 0.4819 - val_accuracy: 0.8230\n",
            "Epoch 14/21\n",
            "469/469 [==============================] - 3s 7ms/step - loss: 0.4258 - accuracy: 0.8465 - val_loss: 0.4718 - val_accuracy: 0.8266\n",
            "Epoch 15/21\n",
            "469/469 [==============================] - 3s 7ms/step - loss: 0.4186 - accuracy: 0.8482 - val_loss: 0.4484 - val_accuracy: 0.8398\n",
            "Epoch 16/21\n",
            "469/469 [==============================] - 3s 7ms/step - loss: 0.4113 - accuracy: 0.8504 - val_loss: 0.4268 - val_accuracy: 0.8465\n",
            "Epoch 17/21\n",
            "469/469 [==============================] - 3s 7ms/step - loss: 0.4042 - accuracy: 0.8530 - val_loss: 0.4498 - val_accuracy: 0.8368\n",
            "Epoch 18/21\n",
            "469/469 [==============================] - 3s 7ms/step - loss: 0.4002 - accuracy: 0.8543 - val_loss: 0.4253 - val_accuracy: 0.8467\n",
            "Epoch 19/21\n",
            "469/469 [==============================] - 3s 7ms/step - loss: 0.3948 - accuracy: 0.8565 - val_loss: 0.4421 - val_accuracy: 0.8383\n",
            "Epoch 20/21\n",
            "469/469 [==============================] - 3s 7ms/step - loss: 0.3892 - accuracy: 0.8587 - val_loss: 0.4374 - val_accuracy: 0.8415\n",
            "Epoch 21/21\n",
            "469/469 [==============================] - 3s 7ms/step - loss: 0.3852 - accuracy: 0.8598 - val_loss: 0.4334 - val_accuracy: 0.8388\n",
            "313/313 [==============================] - 1s 3ms/step - loss: 0.4334 - accuracy: 0.8388\n",
            "Test loss 0.4334, accuracy 83.88\n"
          ],
          "name": "stdout"
        }
      ]
    },
    {
      "cell_type": "markdown",
      "metadata": {
        "id": "ZWS0jLRzn4Wl"
      },
      "source": [
        "## Выводы:\n",
        "С увеличением глубины модели идет уменьшение точности и увеличение ошибки"
      ]
    },
    {
      "cell_type": "code",
      "metadata": {
        "colab": {
          "base_uri": "https://localhost:8080/",
          "height": 320
        },
        "id": "2203iKZwn4Wm",
        "outputId": "aa5dcf80-a3ff-4509-98cb-30bb171da875"
      },
      "source": [
        "plt.plot(models_df['model_names'][5:], models_df['model_loss'][5:], label='Loss')\n",
        "plt.plot(models_df['model_names'][5:], models_df['model_accuracy'][5:], label = 'accuracy')\n",
        "plt.xticks(rotation=45)\n",
        "plt.legend()"
      ],
      "execution_count": 88,
      "outputs": [
        {
          "output_type": "execute_result",
          "data": {
            "text/plain": [
              "<matplotlib.legend.Legend at 0x7f7865a6db50>"
            ]
          },
          "metadata": {
            "tags": []
          },
          "execution_count": 88
        },
        {
          "output_type": "display_data",
          "data": {
            "image/png": "[encoded data removed]",
            "text/plain": [
              "<Figure size 432x288 with 1 Axes>"
            ]
          },
          "metadata": {
            "tags": [],
            "needs_background": "light"
          }
        }
      ]
    },
    {
      "cell_type": "code",
      "metadata": {
        "colab": {
          "base_uri": "https://localhost:8080/",
          "height": 363
        },
        "id": "l5UzbvFEn4Wm",
        "outputId": "11c5cef6-05b2-416e-c141-81a0f4ed87e4"
      },
      "source": [
        "models_df"
      ],
      "execution_count": 55,
      "outputs": [
        {
          "output_type": "execute_result",
          "data": {
            "text/html": [
              "<div>\n",
              "<style scoped>\n",
              "    .dataframe tbody tr th:only-of-type {\n",
              "        vertical-align: middle;\n",
              "    }\n",
              "\n",
              "    .dataframe tbody tr th {\n",
              "        vertical-align: top;\n",
              "    }\n",
              "\n",
              "    .dataframe thead th {\n",
              "        text-align: right;\n",
              "    }\n",
              "</style>\n",
              "<table border=\"1\" class=\"dataframe\">\n",
              "  <thead>\n",
              "    <tr style=\"text-align: right;\">\n",
              "      <th></th>\n",
              "      <th>model_names</th>\n",
              "      <th>models</th>\n",
              "      <th>model_historys</th>\n",
              "      <th>model_loss</th>\n",
              "      <th>model_accuracy</th>\n",
              "    </tr>\n",
              "  </thead>\n",
              "  <tbody>\n",
              "    <tr>\n",
              "      <th>0</th>\n",
              "      <td>model_wa2_4</td>\n",
              "      <td>&lt;tensorflow.python.keras.engine.sequential.Seq...</td>\n",
              "      <td>&lt;tensorflow.python.keras.callbacks.History obj...</td>\n",
              "      <td>0.344797</td>\n",
              "      <td>0.8760</td>\n",
              "    </tr>\n",
              "    <tr>\n",
              "      <th>1</th>\n",
              "      <td>model_wa5_10</td>\n",
              "      <td>&lt;tensorflow.python.keras.engine.sequential.Seq...</td>\n",
              "      <td>&lt;tensorflow.python.keras.callbacks.History obj...</td>\n",
              "      <td>0.331801</td>\n",
              "      <td>0.8793</td>\n",
              "    </tr>\n",
              "    <tr>\n",
              "      <th>2</th>\n",
              "      <td>model_wa8_16</td>\n",
              "      <td>&lt;tensorflow.python.keras.engine.sequential.Seq...</td>\n",
              "      <td>&lt;tensorflow.python.keras.callbacks.History obj...</td>\n",
              "      <td>0.323166</td>\n",
              "      <td>0.8823</td>\n",
              "    </tr>\n",
              "    <tr>\n",
              "      <th>3</th>\n",
              "      <td>model_wa10_20</td>\n",
              "      <td>&lt;tensorflow.python.keras.engine.sequential.Seq...</td>\n",
              "      <td>&lt;tensorflow.python.keras.callbacks.History obj...</td>\n",
              "      <td>0.330618</td>\n",
              "      <td>0.8825</td>\n",
              "    </tr>\n",
              "    <tr>\n",
              "      <th>4</th>\n",
              "      <td>model_wa15_30</td>\n",
              "      <td>&lt;tensorflow.python.keras.engine.sequential.Seq...</td>\n",
              "      <td>&lt;tensorflow.python.keras.callbacks.History obj...</td>\n",
              "      <td>0.339413</td>\n",
              "      <td>0.8779</td>\n",
              "    </tr>\n",
              "    <tr>\n",
              "      <th>5</th>\n",
              "      <td>model_da1</td>\n",
              "      <td>&lt;tensorflow.python.keras.engine.sequential.Seq...</td>\n",
              "      <td>&lt;tensorflow.python.keras.callbacks.History obj...</td>\n",
              "      <td>0.333493</td>\n",
              "      <td>0.8819</td>\n",
              "    </tr>\n",
              "    <tr>\n",
              "      <th>6</th>\n",
              "      <td>model_da2</td>\n",
              "      <td>&lt;tensorflow.python.keras.engine.sequential.Seq...</td>\n",
              "      <td>&lt;tensorflow.python.keras.callbacks.History obj...</td>\n",
              "      <td>0.359929</td>\n",
              "      <td>0.8695</td>\n",
              "    </tr>\n",
              "    <tr>\n",
              "      <th>7</th>\n",
              "      <td>model_da3</td>\n",
              "      <td>&lt;tensorflow.python.keras.engine.sequential.Seq...</td>\n",
              "      <td>&lt;tensorflow.python.keras.callbacks.History obj...</td>\n",
              "      <td>0.378181</td>\n",
              "      <td>0.8625</td>\n",
              "    </tr>\n",
              "    <tr>\n",
              "      <th>8</th>\n",
              "      <td>model_da4</td>\n",
              "      <td>&lt;tensorflow.python.keras.engine.sequential.Seq...</td>\n",
              "      <td>&lt;tensorflow.python.keras.callbacks.History obj...</td>\n",
              "      <td>0.409102</td>\n",
              "      <td>0.8496</td>\n",
              "    </tr>\n",
              "    <tr>\n",
              "      <th>9</th>\n",
              "      <td>model_da5</td>\n",
              "      <td>&lt;tensorflow.python.keras.engine.sequential.Seq...</td>\n",
              "      <td>&lt;tensorflow.python.keras.callbacks.History obj...</td>\n",
              "      <td>0.433388</td>\n",
              "      <td>0.8388</td>\n",
              "    </tr>\n",
              "  </tbody>\n",
              "</table>\n",
              "</div>"
            ],
            "text/plain": [
              "     model_names  ... model_accuracy\n",
              "0    model_wa2_4  ...         0.8760\n",
              "1   model_wa5_10  ...         0.8793\n",
              "2   model_wa8_16  ...         0.8823\n",
              "3  model_wa10_20  ...         0.8825\n",
              "4  model_wa15_30  ...         0.8779\n",
              "5      model_da1  ...         0.8819\n",
              "6      model_da2  ...         0.8695\n",
              "7      model_da3  ...         0.8625\n",
              "8      model_da4  ...         0.8496\n",
              "9      model_da5  ...         0.8388\n",
              "\n",
              "[10 rows x 5 columns]"
            ]
          },
          "metadata": {
            "tags": []
          },
          "execution_count": 55
        }
      ]
    },
    {
      "cell_type": "code",
      "metadata": {
        "colab": {
          "base_uri": "https://localhost:8080/",
          "height": 1000
        },
        "id": "gjo_RYaAn4Wn",
        "outputId": "737a97ce-5aec-4363-aa7a-a358821adc37"
      },
      "source": [
        "for history in models_dict['model_historys']:\n",
        "    #keys_list = list(history.history.keys())\n",
        "    #print(keys_list)\n",
        "    plot_history(history)"
      ],
      "execution_count": 69,
      "outputs": [
        {
          "output_type": "display_data",
          "data": {
            "image/png": "[encoded data removed]",
            "text/plain": [
              "<Figure size 432x288 with 1 Axes>"
            ]
          },
          "metadata": {
            "tags": [],
            "needs_background": "light"
          }
        },
        {
          "output_type": "display_data",
          "data": {
            "image/png": "[encoded data removed]",
            "text/plain": [
              "<Figure size 432x288 with 1 Axes>"
            ]
          },
          "metadata": {
            "tags": [],
            "needs_background": "light"
          }
        },
        {
          "output_type": "display_data",
          "data": {
            "image/png": "[encoded data removed]",
            "text/plain": [
              "<Figure size 432x288 with 1 Axes>"
            ]
          },
          "metadata": {
            "tags": [],
            "needs_background": "light"
          }
        },
        {
          "output_type": "display_data",
          "data": {
            "image/png": "[encoded data removed]",
            "text/plain": [
              "<Figure size 432x288 with 1 Axes>"
            ]
          },
          "metadata": {
            "tags": [],
            "needs_background": "light"
          }
        },
        {
          "output_type": "display_data",
          "data": {
            "image/png": "[encoded data removed]",
            "text/plain": [
              "<Figure size 432x288 with 1 Axes>"
            ]
          },
          "metadata": {
            "tags": [],
            "needs_background": "light"
          }
        },
        {
          "output_type": "display_data",
          "data": {
            "image/png": "[encoded data removed]",
            "text/plain": [
              "<Figure size 432x288 with 1 Axes>"
            ]
          },
          "metadata": {
            "tags": [],
            "needs_background": "light"
          }
        },
        {
          "output_type": "display_data",
          "data": {
            "image/png": "[encoded data removed]",
            "text/plain": [
              "<Figure size 432x288 with 1 Axes>"
            ]
          },
          "metadata": {
            "tags": [],
            "needs_background": "light"
          }
        },
        {
          "output_type": "display_data",
          "data": {
            "image/png": "[encoded data removed]",
            "text/plain": [
              "<Figure size 432x288 with 1 Axes>"
            ]
          },
          "metadata": {
            "tags": [],
            "needs_background": "light"
          }
        },
        {
          "output_type": "display_data",
          "data": {
            "image/png": "[encoded data removed]",
            "text/plain": [
              "<Figure size 432x288 with 1 Axes>"
            ]
          },
          "metadata": {
            "tags": [],
            "needs_background": "light"
          }
        },
        {
          "output_type": "display_data",
          "data": {
            "image/png": "[encoded data removed]",
            "text/plain": [
              "<Figure size 432x288 with 1 Axes>"
            ]
          },
          "metadata": {
            "tags": [],
            "needs_background": "light"
          }
        }
      ]
    },
    {
      "cell_type": "markdown",
      "metadata": {
        "id": "o7N7q73KxwaA"
      },
      "source": [
        "## Наименьший loss"
      ]
    },
    {
      "cell_type": "code",
      "metadata": {
        "colab": {
          "base_uri": "https://localhost:8080/",
          "height": 206
        },
        "id": "cGNvbuYluHL6",
        "outputId": "9b258888-5985-4012-dd7b-4a467bb79e6a"
      },
      "source": [
        "models_df.sort_values('model_loss').head(5)"
      ],
      "execution_count": 64,
      "outputs": [
        {
          "output_type": "execute_result",
          "data": {
            "text/html": [
              "<div>\n",
              "<style scoped>\n",
              "    .dataframe tbody tr th:only-of-type {\n",
              "        vertical-align: middle;\n",
              "    }\n",
              "\n",
              "    .dataframe tbody tr th {\n",
              "        vertical-align: top;\n",
              "    }\n",
              "\n",
              "    .dataframe thead th {\n",
              "        text-align: right;\n",
              "    }\n",
              "</style>\n",
              "<table border=\"1\" class=\"dataframe\">\n",
              "  <thead>\n",
              "    <tr style=\"text-align: right;\">\n",
              "      <th></th>\n",
              "      <th>model_names</th>\n",
              "      <th>models</th>\n",
              "      <th>model_historys</th>\n",
              "      <th>model_loss</th>\n",
              "      <th>model_accuracy</th>\n",
              "    </tr>\n",
              "  </thead>\n",
              "  <tbody>\n",
              "    <tr>\n",
              "      <th>2</th>\n",
              "      <td>model_wa8_16</td>\n",
              "      <td>&lt;tensorflow.python.keras.engine.sequential.Seq...</td>\n",
              "      <td>&lt;tensorflow.python.keras.callbacks.History obj...</td>\n",
              "      <td>0.323166</td>\n",
              "      <td>0.8823</td>\n",
              "    </tr>\n",
              "    <tr>\n",
              "      <th>3</th>\n",
              "      <td>model_wa10_20</td>\n",
              "      <td>&lt;tensorflow.python.keras.engine.sequential.Seq...</td>\n",
              "      <td>&lt;tensorflow.python.keras.callbacks.History obj...</td>\n",
              "      <td>0.330618</td>\n",
              "      <td>0.8825</td>\n",
              "    </tr>\n",
              "    <tr>\n",
              "      <th>1</th>\n",
              "      <td>model_wa5_10</td>\n",
              "      <td>&lt;tensorflow.python.keras.engine.sequential.Seq...</td>\n",
              "      <td>&lt;tensorflow.python.keras.callbacks.History obj...</td>\n",
              "      <td>0.331801</td>\n",
              "      <td>0.8793</td>\n",
              "    </tr>\n",
              "    <tr>\n",
              "      <th>5</th>\n",
              "      <td>model_da1</td>\n",
              "      <td>&lt;tensorflow.python.keras.engine.sequential.Seq...</td>\n",
              "      <td>&lt;tensorflow.python.keras.callbacks.History obj...</td>\n",
              "      <td>0.333493</td>\n",
              "      <td>0.8819</td>\n",
              "    </tr>\n",
              "    <tr>\n",
              "      <th>4</th>\n",
              "      <td>model_wa15_30</td>\n",
              "      <td>&lt;tensorflow.python.keras.engine.sequential.Seq...</td>\n",
              "      <td>&lt;tensorflow.python.keras.callbacks.History obj...</td>\n",
              "      <td>0.339413</td>\n",
              "      <td>0.8779</td>\n",
              "    </tr>\n",
              "  </tbody>\n",
              "</table>\n",
              "</div>"
            ],
            "text/plain": [
              "     model_names  ... model_accuracy\n",
              "2   model_wa8_16  ...         0.8823\n",
              "3  model_wa10_20  ...         0.8825\n",
              "1   model_wa5_10  ...         0.8793\n",
              "5      model_da1  ...         0.8819\n",
              "4  model_wa15_30  ...         0.8779\n",
              "\n",
              "[5 rows x 5 columns]"
            ]
          },
          "metadata": {
            "tags": []
          },
          "execution_count": 64
        }
      ]
    },
    {
      "cell_type": "code",
      "metadata": {
        "colab": {
          "base_uri": "https://localhost:8080/",
          "height": 297
        },
        "id": "F1oJKKFk6E8T",
        "outputId": "81beb3cc-1df3-4244-bc03-3d6ad042c547"
      },
      "source": [
        "print(models_df['model_names'].iloc[2])\n",
        "plot_history(models_df['model_historys'].iloc[2])"
      ],
      "execution_count": 72,
      "outputs": [
        {
          "output_type": "stream",
          "text": [
            "model_wa8_16\n"
          ],
          "name": "stdout"
        },
        {
          "output_type": "display_data",
          "data": {
            "image/png": "[encoded data removed]",
            "text/plain": [
              "<Figure size 432x288 with 1 Axes>"
            ]
          },
          "metadata": {
            "tags": [],
            "needs_background": "light"
          }
        }
      ]
    },
    {
      "cell_type": "markdown",
      "metadata": {
        "id": "mfv-290g5bFR"
      },
      "source": [
        "## Наибольший accuracy"
      ]
    },
    {
      "cell_type": "code",
      "metadata": {
        "colab": {
          "base_uri": "https://localhost:8080/",
          "height": 206
        },
        "id": "BJ7YlBuR5Rw0",
        "outputId": "72134fde-528c-4e6a-c856-7da010d4d183"
      },
      "source": [
        "models_df.sort_values('model_accuracy', ascending=False).head(5)"
      ],
      "execution_count": 63,
      "outputs": [
        {
          "output_type": "execute_result",
          "data": {
            "text/html": [
              "<div>\n",
              "<style scoped>\n",
              "    .dataframe tbody tr th:only-of-type {\n",
              "        vertical-align: middle;\n",
              "    }\n",
              "\n",
              "    .dataframe tbody tr th {\n",
              "        vertical-align: top;\n",
              "    }\n",
              "\n",
              "    .dataframe thead th {\n",
              "        text-align: right;\n",
              "    }\n",
              "</style>\n",
              "<table border=\"1\" class=\"dataframe\">\n",
              "  <thead>\n",
              "    <tr style=\"text-align: right;\">\n",
              "      <th></th>\n",
              "      <th>model_names</th>\n",
              "      <th>models</th>\n",
              "      <th>model_historys</th>\n",
              "      <th>model_loss</th>\n",
              "      <th>model_accuracy</th>\n",
              "    </tr>\n",
              "  </thead>\n",
              "  <tbody>\n",
              "    <tr>\n",
              "      <th>3</th>\n",
              "      <td>model_wa10_20</td>\n",
              "      <td>&lt;tensorflow.python.keras.engine.sequential.Seq...</td>\n",
              "      <td>&lt;tensorflow.python.keras.callbacks.History obj...</td>\n",
              "      <td>0.330618</td>\n",
              "      <td>0.8825</td>\n",
              "    </tr>\n",
              "    <tr>\n",
              "      <th>2</th>\n",
              "      <td>model_wa8_16</td>\n",
              "      <td>&lt;tensorflow.python.keras.engine.sequential.Seq...</td>\n",
              "      <td>&lt;tensorflow.python.keras.callbacks.History obj...</td>\n",
              "      <td>0.323166</td>\n",
              "      <td>0.8823</td>\n",
              "    </tr>\n",
              "    <tr>\n",
              "      <th>5</th>\n",
              "      <td>model_da1</td>\n",
              "      <td>&lt;tensorflow.python.keras.engine.sequential.Seq...</td>\n",
              "      <td>&lt;tensorflow.python.keras.callbacks.History obj...</td>\n",
              "      <td>0.333493</td>\n",
              "      <td>0.8819</td>\n",
              "    </tr>\n",
              "    <tr>\n",
              "      <th>1</th>\n",
              "      <td>model_wa5_10</td>\n",
              "      <td>&lt;tensorflow.python.keras.engine.sequential.Seq...</td>\n",
              "      <td>&lt;tensorflow.python.keras.callbacks.History obj...</td>\n",
              "      <td>0.331801</td>\n",
              "      <td>0.8793</td>\n",
              "    </tr>\n",
              "    <tr>\n",
              "      <th>4</th>\n",
              "      <td>model_wa15_30</td>\n",
              "      <td>&lt;tensorflow.python.keras.engine.sequential.Seq...</td>\n",
              "      <td>&lt;tensorflow.python.keras.callbacks.History obj...</td>\n",
              "      <td>0.339413</td>\n",
              "      <td>0.8779</td>\n",
              "    </tr>\n",
              "  </tbody>\n",
              "</table>\n",
              "</div>"
            ],
            "text/plain": [
              "     model_names  ... model_accuracy\n",
              "3  model_wa10_20  ...         0.8825\n",
              "2   model_wa8_16  ...         0.8823\n",
              "5      model_da1  ...         0.8819\n",
              "1   model_wa5_10  ...         0.8793\n",
              "4  model_wa15_30  ...         0.8779\n",
              "\n",
              "[5 rows x 5 columns]"
            ]
          },
          "metadata": {
            "tags": []
          },
          "execution_count": 63
        }
      ]
    },
    {
      "cell_type": "code",
      "metadata": {
        "colab": {
          "base_uri": "https://localhost:8080/",
          "height": 297
        },
        "id": "Wb0jGJZc517V",
        "outputId": "52511039-385e-47fb-8fd8-273b69a8f03c"
      },
      "source": [
        "print(models_df['model_names'].iloc[3])\n",
        "plot_history(models_df['model_historys'].iloc[3])"
      ],
      "execution_count": 71,
      "outputs": [
        {
          "output_type": "stream",
          "text": [
            "model_wa10_20\n"
          ],
          "name": "stdout"
        },
        {
          "output_type": "display_data",
          "data": {
            "image/png": "[encoded data removed]",
            "text/plain": [
              "<Figure size 432x288 with 1 Axes>"
            ]
          },
          "metadata": {
            "tags": [],
            "needs_background": "light"
          }
        }
      ]
    },
    {
      "cell_type": "markdown",
      "metadata": {
        "id": "d9ztbBnuhb2I"
      },
      "source": [
        "\n",
        "\n",
        "## **Сложные конструкции из простых слоев**\n",
        "\n",
        "Слой для объединения\n",
        "\n",
        "https://keras.io/api/layers/merging_layers/concatenate/"
      ]
    },
    {
      "cell_type": "code",
      "metadata": {
        "id": "b7bsxdYjh0d2"
      },
      "source": [
        "\n",
        "from tensorflow.keras.layers import Dense, Flatten, Concatenate\n",
        "\n",
        "from tensorflow.keras.utils import plot_model \n"
      ],
      "execution_count": null,
      "outputs": []
    },
    {
      "cell_type": "markdown",
      "metadata": {
        "id": "VfWax9igoidq"
      },
      "source": [
        "Строим сеть из трех нитей"
      ]
    },
    {
      "cell_type": "code",
      "metadata": {
        "colab": {
          "base_uri": "https://localhost:8080/",
          "height": 661
        },
        "id": "DoXtYL12hXTK",
        "outputId": "98ce08b8-b604-4a40-ab91-012a66694a11"
      },
      "source": [
        "first_input = Input(shape=(28,28,1 ))\n",
        "x11= Conv2D(10,3,activation='relu')(first_input)\n",
        "x11= Flatten()(x11)\n",
        "first_dense = Dense(1, )(x11)\n",
        "\n",
        "second_input = Input(shape=(28,28,1 ))\n",
        "x22= Flatten()(second_input)\n",
        "second_dense = Dense(1, )(x22)\n",
        "\n",
        "merge_one = Concatenate( )([first_dense, second_dense])\n",
        "\n",
        "third_input = Input(shape=(28,28,1 ))\n",
        "x33= Flatten()(third_input)\n",
        "x33 = Dense(1, )(x33)\n",
        "merge_two = Concatenate(axis=1)([merge_one, x33])\n",
        "merge_two=Dense(10, activation='softmax')(merge_two)\n",
        "\n",
        "\n",
        "model_stek = Model(inputs=[first_input, second_input, third_input], outputs=merge_two)\n",
        "ada_grad = tf.keras.optimizers.Adagrad(lr=0.1, epsilon=1e-08, decay=0.0)\n",
        "model_stek.compile(optimizer=ada_grad, loss=tf.keras.losses.CategoricalCrossentropy(),\n",
        "              metrics=['accuracy'])\n",
        "\n",
        "\n",
        "plot_model(model_stek,'model_stek.png')\n",
        "\n"
      ],
      "execution_count": null,
      "outputs": [
        {
          "output_type": "execute_result",
          "data": {
            "image/png": "[encoded data removed]",
            "text/plain": [
              "<IPython.core.display.Image object>"
            ]
          },
          "metadata": {
            "tags": []
          },
          "execution_count": 158
        }
      ]
    },
    {
      "cell_type": "code",
      "metadata": {
        "colab": {
          "base_uri": "https://localhost:8080/"
        },
        "id": "riX8YnRGNqXr",
        "outputId": "8db635f6-7947-4e03-ac48-a62223ef8d24"
      },
      "source": [
        "model_stek.summary()"
      ],
      "execution_count": null,
      "outputs": [
        {
          "output_type": "stream",
          "text": [
            "Model: \"model_23\"\n",
            "__________________________________________________________________________________________________\n",
            "Layer (type)                    Output Shape         Param #     Connected to                     \n",
            "==================================================================================================\n",
            "input_16 (InputLayer)           [(None, 28, 28, 1)]  0                                            \n",
            "__________________________________________________________________________________________________\n",
            "conv2d_35 (Conv2D)              (None, 26, 26, 10)   100         input_16[0][0]                   \n",
            "__________________________________________________________________________________________________\n",
            "input_17 (InputLayer)           [(None, 28, 28, 1)]  0                                            \n",
            "__________________________________________________________________________________________________\n",
            "flatten_14 (Flatten)            (None, 6760)         0           conv2d_35[0][0]                  \n",
            "__________________________________________________________________________________________________\n",
            "flatten_15 (Flatten)            (None, 784)          0           input_17[0][0]                   \n",
            "__________________________________________________________________________________________________\n",
            "input_18 (InputLayer)           [(None, 28, 28, 1)]  0                                            \n",
            "__________________________________________________________________________________________________\n",
            "dense_24 (Dense)                (None, 1)            6761        flatten_14[0][0]                 \n",
            "__________________________________________________________________________________________________\n",
            "dense_25 (Dense)                (None, 1)            785         flatten_15[0][0]                 \n",
            "__________________________________________________________________________________________________\n",
            "flatten_16 (Flatten)            (None, 784)          0           input_18[0][0]                   \n",
            "__________________________________________________________________________________________________\n",
            "concatenate_4 (Concatenate)     (None, 2)            0           dense_24[0][0]                   \n",
            "                                                                 dense_25[0][0]                   \n",
            "__________________________________________________________________________________________________\n",
            "dense_26 (Dense)                (None, 1)            785         flatten_16[0][0]                 \n",
            "__________________________________________________________________________________________________\n",
            "concatenate_5 (Concatenate)     (None, 3)            0           concatenate_4[0][0]              \n",
            "                                                                 dense_26[0][0]                   \n",
            "__________________________________________________________________________________________________\n",
            "dense_27 (Dense)                (None, 10)           40          concatenate_5[0][0]              \n",
            "==================================================================================================\n",
            "Total params: 8,471\n",
            "Trainable params: 8,471\n",
            "Non-trainable params: 0\n",
            "__________________________________________________________________________________________________\n"
          ],
          "name": "stdout"
        }
      ]
    },
    {
      "cell_type": "code",
      "metadata": {
        "colab": {
          "base_uri": "https://localhost:8080/"
        },
        "id": "bodoQSkkjzUa",
        "outputId": "02f7b885-3a13-40a1-aec8-a73d47e4b0be"
      },
      "source": [
        "hist = model_stek.fit([x_train,x_train,x_train],y_train, epochs = 5, validation_split=0.2)"
      ],
      "execution_count": null,
      "outputs": [
        {
          "output_type": "stream",
          "text": [
            "Epoch 1/5\n",
            "1500/1500 [==============================] - 5s 3ms/step - loss: 0.8880 - accuracy: 0.6718 - val_loss: 0.5768 - val_accuracy: 0.7919\n",
            "Epoch 2/5\n",
            "1500/1500 [==============================] - 4s 3ms/step - loss: 0.5605 - accuracy: 0.8045 - val_loss: 0.5190 - val_accuracy: 0.8188\n",
            "Epoch 3/5\n",
            "1500/1500 [==============================] - 4s 3ms/step - loss: 0.5060 - accuracy: 0.8262 - val_loss: 0.5007 - val_accuracy: 0.8288\n",
            "Epoch 4/5\n",
            "1500/1500 [==============================] - 4s 3ms/step - loss: 0.4977 - accuracy: 0.8293 - val_loss: 0.4892 - val_accuracy: 0.8299\n",
            "Epoch 5/5\n",
            "1500/1500 [==============================] - 4s 3ms/step - loss: 0.4684 - accuracy: 0.8382 - val_loss: 0.4768 - val_accuracy: 0.8374\n"
          ],
          "name": "stdout"
        }
      ]
    },
    {
      "cell_type": "code",
      "metadata": {
        "id": "wFjayTodn4Wq"
      },
      "source": [
        ""
      ],
      "execution_count": null,
      "outputs": []
    },
    {
      "cell_type": "code",
      "metadata": {
        "id": "7tgtsLiHn4Wq"
      },
      "source": [
        ""
      ],
      "execution_count": null,
      "outputs": []
    },
    {
      "cell_type": "code",
      "metadata": {
        "id": "VR5lww-nn4Wq"
      },
      "source": [
        ""
      ],
      "execution_count": null,
      "outputs": []
    },
    {
      "cell_type": "code",
      "metadata": {
        "id": "unSdg3aEn4Wr"
      },
      "source": [
        ""
      ],
      "execution_count": null,
      "outputs": []
    },
    {
      "cell_type": "code",
      "metadata": {
        "id": "HdEB7Vz9n4Wr"
      },
      "source": [
        ""
      ],
      "execution_count": null,
      "outputs": []
    },
    {
      "cell_type": "code",
      "metadata": {
        "id": "uD534yaBn4Ws"
      },
      "source": [
        ""
      ],
      "execution_count": null,
      "outputs": []
    },
    {
      "cell_type": "markdown",
      "metadata": {
        "id": "ExAWI8K-m5-S"
      },
      "source": [
        "## Пример на Keras более сложной сверточной нейронной сети"
      ]
    },
    {
      "cell_type": "markdown",
      "metadata": {
        "id": "bUPiXBS9m5-U"
      },
      "source": [
        "Давайте теперь попробуем сделать несколько усложненный вариант нейронной сети разобранной ранее. В ней будет на несколько слоев больше и в ней будет использоваться data augumentation, процедура позволяющая за счет искажений изображений увеличить количество тренировочных данных, а как мы знаем чем больше тренировочных данных тем лучше будет работать нейросеть. Для обучения нейросети будем использовать датасет cifar-10. В нем 10 категорий объектов, например - лошадь, лягушка, корабль. Данный датасет уже более сложен для нейронных сетей чем mnist, однако он намного проще датасетов наподобие imagenet где используются сотни классов и архитектуры нейронных сетей для подобных датасетов также понадобяться более сложные."
      ]
    },
    {
      "cell_type": "code",
      "metadata": {
        "id": "0CMCfvAPdJct"
      },
      "source": [
        "from __future__ import print_function\n",
        "#import tensorflow.keras as keras # расскоментируйте эту строку, чтобы начать обучение\n",
        "from tensorflow.keras.datasets import cifar10\n",
        "from tensorflow.keras.preprocessing.image import ImageDataGenerator\n",
        "from tensorflow.keras.models import Sequential\n",
        "from tensorflow.keras.layers import Dense, Dropout, Activation, Flatten\n",
        "from tensorflow.keras.layers import Conv2D, MaxPooling2D\n",
        "import os"
      ],
      "execution_count": null,
      "outputs": []
    },
    {
      "cell_type": "code",
      "metadata": {
        "id": "kiRCJY0WdGph"
      },
      "source": [
        "classes=['самолет', 'автомобиль', 'птица', 'кот', 'олень', 'собака', 'лягушка', 'лошадь', 'корабль', 'грузовик']"
      ],
      "execution_count": null,
      "outputs": []
    },
    {
      "cell_type": "code",
      "metadata": {
        "id": "tV5SELCun4Wt"
      },
      "source": [
        "# установка параметров нейросети\n",
        "batch_size = 32\n",
        "num_classes = 10\n",
        "epochs = 5\n",
        "data_augmentation = False\n",
        "num_predictions = 20\n",
        "save_dir = os.path.join(os.getcwd(), 'saved_models')\n",
        "model_name = 'keras_cifar10_trained_model.h5'"
      ],
      "execution_count": null,
      "outputs": []
    },
    {
      "cell_type": "code",
      "metadata": {
        "colab": {
          "base_uri": "https://localhost:8080/"
        },
        "id": "yvG4BrpCwuFz",
        "outputId": "ae369f16-7f50-4b01-fd17-8c1c36913b35"
      },
      "source": [
        "# разделение тренировочной и тестовой выборки\n",
        "(x_train, y_train), (x_test, y_test) = cifar10.load_data()\n",
        "print('x_train shape:', x_train.shape)\n",
        "print(x_train.shape[0], 'тренировочные примеры')\n",
        "print(x_test.shape[0], 'тестовые примеры')\n",
        "\n",
        "# преобразование матрицы чисел 0-9 в бинарную матрицу чисел 0-1\n",
        "y_train = keras.utils.to_categorical(y_train, num_classes)\n",
        "y_test = keras.utils.to_categorical(y_test, num_classes)\n",
        "\n",
        "\n",
        "x_train = x_train.astype('float32')\n",
        "x_test = x_test.astype('float32')\n",
        "x_train /= 255\n",
        "x_test /= 255"
      ],
      "execution_count": null,
      "outputs": [
        {
          "output_type": "stream",
          "text": [
            "x_train shape: (50000, 32, 32, 3)\n",
            "50000 тренировочные примеры\n",
            "10000 тестовые примеры\n"
          ],
          "name": "stdout"
        }
      ]
    },
    {
      "cell_type": "code",
      "metadata": {
        "colab": {
          "base_uri": "https://localhost:8080/",
          "height": 281
        },
        "id": "rDe1bd1pw5fM",
        "outputId": "e0f7c2a2-2d2e-400d-e5c1-6e23739efee1"
      },
      "source": [
        "N = 30\n",
        "\n",
        "plt.imshow(x_test[N][:,:,:])\n",
        "plt.title('это : '+classes[np.argmax(y_test[N,:])])\n",
        "plt.show()"
      ],
      "execution_count": null,
      "outputs": [
        {
          "output_type": "display_data",
          "data": {
            "image/png": "[encoded data removed]",
            "text/plain": [
              "<Figure size 432x288 with 1 Axes>"
            ]
          },
          "metadata": {
            "tags": [],
            "needs_background": "light"
          }
        }
      ]
    },
    {
      "cell_type": "code",
      "metadata": {
        "colab": {
          "base_uri": "https://localhost:8080/"
        },
        "id": "H4Ob9X-gm5-W",
        "outputId": "ea59d75f-e717-4c14-8fdb-58fc24d58d57"
      },
      "source": [
        "# конфигурирование слоев нейросети\n",
        "model = Sequential()\n",
        "\n",
        "# слои нейросети отвественные за свертку и max-pooling\n",
        "model.add(Conv2D(32, (3, 3), padding='same',\n",
        "                 input_shape=x_train.shape[1:]))\n",
        "model.add(Activation('relu'))\n",
        "\n",
        "model.add(Conv2D(32, (3, 3)))\n",
        "model.add(Activation('relu'))\n",
        "\n",
        "model.add(MaxPooling2D(pool_size=(2, 2)))\n",
        "model.add(Dropout( 0.25))\n",
        "\n",
        "model.add(Conv2D(64, (3, 3), padding='same'))\n",
        "model.add(Activation('relu'))\n",
        "\n",
        "model.add(Conv2D(64, (3, 3)))\n",
        "model.add(Activation('relu'))\n",
        "\n",
        "model.add(MaxPooling2D(pool_size=(2, 2)))\n",
        "model.add(Dropout(0.25))\n",
        "\n",
        "# полносвязные слои нейронной сети\n",
        "model.add(Flatten())\n",
        "model.add(Dense(512))\n",
        "model.add(Activation('relu'))\n",
        "model.add(Dropout(0.5))\n",
        "model.add(Dense(num_classes))\n",
        "model.add(Activation('softmax'))\n",
        "\n",
        "# инициализация RMSprop optimizer\n",
        "#opt = tensorflow.keras.optimizers.RMSprop(lr=0.0001, decay=1e-6)\n",
        "\n",
        "# компиляция модели\n",
        "model.compile(loss='categorical_crossentropy',\n",
        "              optimizer='SGD',\n",
        "              metrics=['accuracy'])\n",
        "\n",
        "\n",
        "\n",
        "\n",
        "if not data_augmentation:\n",
        "    print('Не используется data augmentation')\n",
        "    model.fit(x_train, y_train,\n",
        "              batch_size=batch_size,\n",
        "              epochs=epochs,\n",
        "              validation_data=(x_test, y_test),\n",
        "              shuffle=True)\n",
        "else:\n",
        "    print('Использование data augmentation в реальном времени')\n",
        "    # Препроцессинг и data augmentation в реальном времени:\n",
        "    datagen = ImageDataGenerator(\n",
        "        featurewise_center=False,\n",
        "        samplewise_center=False,\n",
        "        featurewise_std_normalization=False,\n",
        "        samplewise_std_normalization=False,\n",
        "        zca_whitening=False, \n",
        "        zca_epsilon=1e-06, \n",
        "        rotation_range=0, \n",
        "        width_shift_range=0.1,\n",
        "        height_shift_range=0.1,\n",
        "        shear_range=0., \n",
        "        zoom_range=0., \n",
        "        channel_shift_range=0.,\n",
        "        fill_mode='nearest',\n",
        "        cval=0.,\n",
        "        horizontal_flip=True,\n",
        "        vertical_flip=False,\n",
        "        rescale=None,\n",
        "        preprocessing_function=None,\n",
        "        data_format=None,\n",
        "        validation_split=0.0)\n",
        "\n",
        "    # запуск data augmentation через fit\n",
        "    #datagen.fit(x_train)\n",
        "\n",
        "    # запуск data augmentation через fit_generator\n",
        "    model.fit_generator(datagen.flow(x_train, y_train,\n",
        "                                     batch_size=batch_size),\n",
        "                        epochs=epochs,\n",
        "                        validation_data=(x_test, y_test),\n",
        "                        workers=4)\n",
        "\n",
        "# сохранение модели и весов\n",
        "if not os.path.isdir(save_dir):\n",
        "    os.makedirs(save_dir)\n",
        "model_path = os.path.join(save_dir, model_name)\n",
        "model.save(model_path)\n",
        "print('сохранить обученную модель как %s ' % model_path)\n",
        "\n",
        "# проверка работы обученной модели\n",
        "scores = model.evaluate(x_test, y_test, verbose=1)\n",
        "print('Test loss:', scores[0])\n",
        "print('Test accuracy:', scores[1])"
      ],
      "execution_count": null,
      "outputs": [
        {
          "output_type": "stream",
          "text": [
            "Не используется data augmentation\n",
            "Epoch 1/5\n",
            "1563/1563 [==============================] - 8s 5ms/step - loss: 2.2130 - accuracy: 0.1628 - val_loss: 1.8209 - val_accuracy: 0.3455\n",
            "Epoch 2/5\n",
            "1563/1563 [==============================] - 7s 4ms/step - loss: 1.7640 - accuracy: 0.3540 - val_loss: 1.6078 - val_accuracy: 0.4231\n",
            "Epoch 3/5\n",
            "1563/1563 [==============================] - 7s 5ms/step - loss: 1.5614 - accuracy: 0.4276 - val_loss: 1.4730 - val_accuracy: 0.4504\n",
            "Epoch 4/5\n",
            "1563/1563 [==============================] - 7s 4ms/step - loss: 1.4365 - accuracy: 0.4794 - val_loss: 1.2816 - val_accuracy: 0.5388\n",
            "Epoch 5/5\n",
            "1563/1563 [==============================] - 7s 5ms/step - loss: 1.3503 - accuracy: 0.5147 - val_loss: 1.3259 - val_accuracy: 0.5204\n",
            "сохранить обученную модель как /content/saved_models/keras_cifar10_trained_model.h5 \n",
            "313/313 [==============================] - 1s 3ms/step - loss: 1.3259 - accuracy: 0.5204\n",
            "Test loss: 1.3258932828903198\n",
            "Test accuracy: 0.5203999876976013\n"
          ],
          "name": "stdout"
        }
      ]
    },
    {
      "cell_type": "markdown",
      "metadata": {
        "id": "WEWU08zQ04SN"
      },
      "source": [
        "Что вернет ImageDataGenerator"
      ]
    },
    {
      "cell_type": "code",
      "metadata": {
        "id": "H5W8O9FRTcgZ"
      },
      "source": [
        "datagen = ImageDataGenerator(\n",
        "        featurewise_center=False,\n",
        "        samplewise_center=False,\n",
        "        featurewise_std_normalization=False,\n",
        "        samplewise_std_normalization=False,\n",
        "        zca_whitening=False, \n",
        "        zca_epsilon=1e-06, \n",
        "        rotation_range=0, \n",
        "        width_shift_range=0.1,\n",
        "        height_shift_range=0.1,\n",
        "        shear_range=0., \n",
        "        zoom_range=0., \n",
        "        channel_shift_range=0.,\n",
        "        fill_mode='nearest',\n",
        "        cval=0.,\n",
        "        horizontal_flip=True,\n",
        "        vertical_flip=False,\n",
        "        rescale=None,\n",
        "        preprocessing_function=None,\n",
        "        data_format=None,\n",
        "        validation_split=0.0)"
      ],
      "execution_count": null,
      "outputs": []
    },
    {
      "cell_type": "code",
      "metadata": {
        "colab": {
          "base_uri": "https://localhost:8080/",
          "height": 202
        },
        "id": "GYki_abawYzK",
        "outputId": "c9285647-b9bb-4553-981e-0f4279f9e50e"
      },
      "source": [
        "datagen.fit(x_test)\n",
        "for imag,y  in datagen.flow(x_test[N:N+1,:,:,:],y_test[N:N+1], batch_size=1):\n",
        "  plt.subplot(1,2,1)\n",
        "  plt.imshow(x_test[N][:,:,:])\n",
        "  plt.subplot(1,2,2)\n",
        "  plt.imshow(imag[0,:,:,:])\n",
        "\n",
        "  plt.show()\n",
        "  if True:\n",
        "    break\n"
      ],
      "execution_count": null,
      "outputs": [
        {
          "output_type": "display_data",
          "data": {
            "image/png": "[encoded data removed]",
            "text/plain": [
              "<Figure size 432x288 with 2 Axes>"
            ]
          },
          "metadata": {
            "tags": [],
            "needs_background": "light"
          }
        }
      ]
    },
    {
      "cell_type": "code",
      "metadata": {
        "colab": {
          "base_uri": "https://localhost:8080/"
        },
        "id": "K_VqY4kFwE0R",
        "outputId": "19f9b9a3-3eb8-405d-d769-a8ba64f2f80e"
      },
      "source": [
        " model.fit_generator(datagen.flow(x_train, y_train,\n",
        "                                     batch_size=batch_size),\n",
        "                        epochs=epochs,\n",
        "                        validation_data=(x_test, y_test))"
      ],
      "execution_count": null,
      "outputs": [
        {
          "output_type": "stream",
          "text": [
            "/usr/local/lib/python3.6/dist-packages/tensorflow/python/keras/engine/training.py:1844: UserWarning: `Model.fit_generator` is deprecated and will be removed in a future version. Please use `Model.fit`, which supports generators.\n",
            "  warnings.warn('`Model.fit_generator` is deprecated and '\n"
          ],
          "name": "stderr"
        },
        {
          "output_type": "stream",
          "text": [
            "Epoch 1/5\n",
            "1563/1563 [==============================] - 25s 16ms/step - loss: 1.3769 - accuracy: 0.5045 - val_loss: 1.1755 - val_accuracy: 0.5805\n",
            "Epoch 2/5\n",
            "1563/1563 [==============================] - 25s 16ms/step - loss: 1.3219 - accuracy: 0.5247 - val_loss: 1.1612 - val_accuracy: 0.5852\n",
            "Epoch 3/5\n",
            "1563/1563 [==============================] - 26s 16ms/step - loss: 1.2777 - accuracy: 0.5437 - val_loss: 1.1029 - val_accuracy: 0.6112\n",
            "Epoch 4/5\n",
            "1563/1563 [==============================] - 25s 16ms/step - loss: 1.2268 - accuracy: 0.5597 - val_loss: 1.1355 - val_accuracy: 0.5960\n",
            "Epoch 5/5\n",
            "1563/1563 [==============================] - 25s 16ms/step - loss: 1.1895 - accuracy: 0.5763 - val_loss: 1.0333 - val_accuracy: 0.6349\n"
          ],
          "name": "stdout"
        },
        {
          "output_type": "execute_result",
          "data": {
            "text/plain": [
              "<tensorflow.python.keras.callbacks.History at 0x7f9d0c0ea588>"
            ]
          },
          "metadata": {
            "tags": []
          },
          "execution_count": 176
        }
      ]
    },
    {
      "cell_type": "code",
      "metadata": {
        "colab": {
          "base_uri": "https://localhost:8080/",
          "height": 281
        },
        "id": "D3_01HTZmewa",
        "outputId": "d7625022-dd8b-4e35-d802-c3287b6337b3"
      },
      "source": [
        "N = 30\n",
        "y_p=model.predict(x_test[N:N+1][:,:,:])\n",
        "y_t = np.argmax(y_test[N:N+1], axis = 1 )\n",
        "y_i = np.argmax(y_p, axis = 1 )\n",
        "plt.imshow(x_test[N][:,:,:])\n",
        "plt.title('это : '+classes[y_t[0]]+'- опознан как : '+classes[y_i[0]])\n",
        "plt.show()"
      ],
      "execution_count": null,
      "outputs": [
        {
          "output_type": "display_data",
          "data": {
            "image/png": "[encoded data removed]",
            "text/plain": [
              "<Figure size 432x288 with 1 Axes>"
            ]
          },
          "metadata": {
            "tags": [],
            "needs_background": "light"
          }
        }
      ]
    },
    {
      "cell_type": "code",
      "metadata": {
        "id": "Ny65naI49Vil"
      },
      "source": [
        ""
      ],
      "execution_count": null,
      "outputs": []
    },
    {
      "cell_type": "markdown",
      "metadata": {
        "id": "5m6C7vmSm5-e"
      },
      "source": [
        "## Дополнительные материалы\n",
        "\n",
        "<ol>\n",
        "    <li>https://keras.io/layers/convolutional/</li>\n",
        "    <li>https://keras.io/layers/pooling/</li>\n",
        "    <li>https://keras.io/preprocessing/image/</li>\n",
        "</ol>"
      ]
    },
    {
      "cell_type": "markdown",
      "metadata": {
        "id": "ccp0jnYxm5-g"
      },
      "source": [
        "## Используемая литература \n",
        "\n",
        "Для подготовки данного методического пособия были использованы следующие ресурсы:\n",
        "<ol>\n",
        "    <li>https://keras.io</li>\n",
        "    <li>Шакла Н. — Машинное обучение и TensorFlow 2019</li>\n",
        "    <li>Николенко Сергей Игоревич, Кадурин А. А. - Глубокое обучение. Погружение в мир нейронных сетей  2018</li>\n",
        "    <li>Francois Chollet - Deep Learning with Python 2018</li>\n",
        "    <li>Alex Krizhevsky, Ilya Sutskever, Geoffrey E. Hinton - ImageNet Classification with Deep Convolutional Neural Networks</li>\n",
        "    <li>Karen Simonyan, Andrew Zisserman - Very Deep Convolutional Networks for Large-Scale Image Recognition</li>\n",
        "    <li>Википедия</li>    \n",
        "</ol>"
      ]
    },
    {
      "cell_type": "code",
      "metadata": {
        "id": "9nB_dTU9m5-i"
      },
      "source": [
        "from tensorflow.keras.datasets import imdb"
      ],
      "execution_count": null,
      "outputs": []
    },
    {
      "cell_type": "code",
      "metadata": {
        "colab": {
          "base_uri": "https://localhost:8080/"
        },
        "id": "OAMMmHyLm5-n",
        "outputId": "e8eb88be-9274-4e33-ce21-16c4e1feb5c6"
      },
      "source": [
        "(x,y),(d,h) =imdb.load_data(path='imdb.npz')"
      ],
      "execution_count": null,
      "outputs": [
        {
          "output_type": "stream",
          "text": [
            "Downloading data from https://storage.googleapis.com/tensorflow/tf-keras-datasets/imdb.npz\n",
            "17465344/17464789 [==============================] - 0s 0us/step\n"
          ],
          "name": "stdout"
        },
        {
          "output_type": "stream",
          "text": [
            "<string>:6: VisibleDeprecationWarning: Creating an ndarray from ragged nested sequences (which is a list-or-tuple of lists-or-tuples-or ndarrays with different lengths or shapes) is deprecated. If you meant to do this, you must specify 'dtype=object' when creating the ndarray\n",
            "/usr/local/lib/python3.6/dist-packages/tensorflow/python/keras/datasets/imdb.py:159: VisibleDeprecationWarning: Creating an ndarray from ragged nested sequences (which is a list-or-tuple of lists-or-tuples-or ndarrays with different lengths or shapes) is deprecated. If you meant to do this, you must specify 'dtype=object' when creating the ndarray\n",
            "  x_train, y_train = np.array(xs[:idx]), np.array(labels[:idx])\n",
            "/usr/local/lib/python3.6/dist-packages/tensorflow/python/keras/datasets/imdb.py:160: VisibleDeprecationWarning: Creating an ndarray from ragged nested sequences (which is a list-or-tuple of lists-or-tuples-or ndarrays with different lengths or shapes) is deprecated. If you meant to do this, you must specify 'dtype=object' when creating the ndarray\n",
            "  x_test, y_test = np.array(xs[idx:]), np.array(labels[idx:])\n"
          ],
          "name": "stderr"
        }
      ]
    },
    {
      "cell_type": "code",
      "metadata": {
        "colab": {
          "base_uri": "https://localhost:8080/"
        },
        "id": "0Q0DL8YDWiri",
        "outputId": "da9505d3-bf96-4dc3-f477-3c388f58baa8"
      },
      "source": [
        "(np.array(x[0])==22).sum()"
      ],
      "execution_count": null,
      "outputs": [
        {
          "output_type": "execute_result",
          "data": {
            "text/plain": [
              "6"
            ]
          },
          "metadata": {
            "tags": []
          },
          "execution_count": 191
        }
      ]
    },
    {
      "cell_type": "code",
      "metadata": {
        "colab": {
          "base_uri": "https://localhost:8080/"
        },
        "id": "QegQwyO4Wv4C",
        "outputId": "d546f50e-76a1-43c4-9bdf-7d80b01ed4f2"
      },
      "source": [
        "h[0]"
      ],
      "execution_count": null,
      "outputs": [
        {
          "output_type": "execute_result",
          "data": {
            "text/plain": [
              "0"
            ]
          },
          "metadata": {
            "tags": []
          },
          "execution_count": 192
        }
      ]
    },
    {
      "cell_type": "code",
      "metadata": {
        "id": "vLVUQo6LYOQB"
      },
      "source": [
        ""
      ],
      "execution_count": null,
      "outputs": []
    }
  ]
}