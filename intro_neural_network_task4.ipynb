{
 "cells": [
  {
   "cell_type": "markdown",
   "metadata": {
    "id": "GJqW1sHnm591"
   },
   "source": [
    "# Введение в искусственные нейронные сети\n",
    "# Урок 4. Сверточные нейронные сети"
   ]
  },
  {
   "cell_type": "markdown",
   "metadata": {
    "id": "PHqn01Vpm5-c"
   },
   "source": [
    "## Практическое задание\n",
    "\n",
    "Вариант 1. (простой)\n",
    "\n",
    "- обучить сверточную нейронную сеть в стиле AlexNet (с падением размера ядра свертки и последовательностью блоков свертка-пулинг  (conv-pool)-(conv-pool)-...) на датасете fashion-mnist\n",
    "- оценить рост точности при увеличении ширины сети (больше ядер)\n",
    "- оценить рост точности при увеличении глубины сети (больше слоев)\n",
    "- сравнить с точностью полносвязной сети для этой выборки\n",
    "    </li>\n",
    "\n",
    "Вариант 2. (сложный)\n",
    "- реализовать нейронную сеть или стек из сверток (Concatenate) на сifar10.\n",
    "- оценить рост точности при увеличении ширины сети (больше ядер), больше нитей.\n",
    "- оценить рост точности при увеличении глубины сети (больше слоев)\n",
    "    </li>\n",
    "</ol>"
   ]
  },
  {
   "cell_type": "code",
   "execution_count": 1,
   "metadata": {
    "id": "iGu1gJYrtSam"
   },
   "outputs": [
    {
     "name": "stdout",
     "output_type": "stream",
     "text": [
      "2.5.0\n"
     ]
    }
   ],
   "source": [
    "import tensorflow as tf\n",
    "import numpy as np\n",
    "import matplotlib.pyplot as plt\n",
    "\n",
    "from tensorflow import keras\n",
    "from tensorflow.keras.datasets import fashion_mnist\n",
    "from tensorflow.keras.utils import to_categorical\n",
    "from tensorflow.keras.models import Sequential, Model\n",
    "from tensorflow.keras import models, layers\n",
    "from tensorflow.keras.layers import Conv2D, Input\n",
    "from tensorflow.keras.layers import GlobalMaxPooling2D, MaxPooling2D, AveragePooling2D, GlobalAveragePooling2D \n",
    "\n",
    "print(tf.__version__)"
   ]
  },
  {
   "cell_type": "code",
   "execution_count": 2,
   "metadata": {},
   "outputs": [],
   "source": [
    "class_names = ['T-shirt/top', 'Trouser', 'Pullover', 'Dress', 'Coat',\n",
    "               'Sandal', 'Shirt', 'Sneaker', 'Bag', 'Ankle boot']"
   ]
  },
  {
   "cell_type": "code",
   "execution_count": 3,
   "metadata": {
    "id": "PdX4riMptTXy"
   },
   "outputs": [
    {
     "name": "stdout",
     "output_type": "stream",
     "text": [
      "train_images shape:\t(60000, 28, 28)\n",
      "test_images shape:\t(10000, 28, 28)\n",
      "\n",
      "\n",
      "train_images shape:\t(60000, 28, 28, 1)\n",
      "test_images shape:\t(10000, 28, 28, 1)\n",
      "train_labels shape:\t(60000, 10)\n",
      "test_labels shape:\t(10000, 10)\n"
     ]
    }
   ],
   "source": [
    "# загрузка тренировочных и тестовых данных\n",
    "(train_images,train_labels),(test_images,test_labels)=fashion_mnist.load_data()\n",
    "\n",
    "# конвертация чисел из uint8 в float32\n",
    "train_images = train_images.astype('float32')\n",
    "test_images = test_images.astype('float32')\n",
    "\n",
    "# нормализация данных [0, 1]\n",
    "train_images /= 255 \n",
    "test_images /= 255 \n",
    "\n",
    "print(f'train_images shape:\\t{train_images.shape}\\n'\n",
    "      f'test_images shape:\\t{test_images.shape}\\n\\n')\n",
    "\n",
    "# трансформация лейблов в one-hot encoding\n",
    "train_labels = to_categorical(train_labels, 10) \n",
    "test_labels = to_categorical(test_labels, 10) \n",
    "\n",
    "# изменение размерности массива в 4D массив\n",
    "train_images = train_images.reshape(train_images.shape[0], 28,28,1)\n",
    "test_images = test_images.reshape(test_images.shape[0], 28,28,1)\n",
    "\n",
    "print(f'train_images shape:\\t{train_images.shape}\\n'\n",
    "      f'test_images shape:\\t{test_images.shape}\\n'\n",
    "      f'train_labels shape:\\t{train_labels.shape}\\n'\n",
    "      f'test_labels shape:\\t{test_labels.shape}') "
   ]
  },
  {
   "cell_type": "code",
   "execution_count": 4,
   "metadata": {
    "tags": []
   },
   "outputs": [],
   "source": [
    "def model_width_analysis (filters_1, filters_2, epochs=21):\n",
    "    \"\"\"Анализ ширины модели\"\"\"\n",
    "    model_name=f'model_wa{filters_1}_{filters_2}'\n",
    "    # инициализация пустой модели\n",
    "    model = Sequential(name=model_name)\n",
    "\n",
    "    # первый сверточный слой\n",
    "    model.add(layers.Conv2D(filters_1, kernel_size=(5, 5), strides=(1, 1), activation='tanh', input_shape=(28,28,1), padding=\"same\"))\n",
    "\n",
    "    # второй пуллинговый слой\n",
    "    model.add(layers.AveragePooling2D(pool_size=(2, 2), strides=(1, 1), padding='valid'))\n",
    "\n",
    "    # пятый полносвязный слой\n",
    "    model.add(layers.Conv2D(filters_2, kernel_size=(5, 5), strides=(1, 1), activation='tanh', padding='valid'))\n",
    "\n",
    "    # сглаживание CNN выхода чтобы можно было его присоединить к полносвязногому слою\n",
    "    model.add(layers.Flatten())\n",
    "\n",
    "    # шестой полносвязный слой\n",
    "    model.add(layers.Dense(84, activation='tanh'))\n",
    "\n",
    "    # выходной слой с функцией активации softmax\n",
    "    model.add(layers.Dense(10, activation='softmax'))\n",
    "\n",
    "    # компилияция модели\n",
    "    model.compile(loss=keras.losses.categorical_crossentropy, optimizer='SGD', metrics=[\"accuracy\"])\n",
    "\n",
    "\n",
    "    hist = model.fit(x=train_images,\n",
    "                     y=train_labels,\n",
    "                     epochs=epochs,\n",
    "                     batch_size=128,\n",
    "                     validation_data=(test_images,\n",
    "                                      test_labels),\n",
    "                     verbose=1)\n",
    "\n",
    "    test_score = model.evaluate(test_images, test_labels)\n",
    "    \n",
    "    print(f\"Test loss {test_score[0]:.4f}, accuracy {test_score[1] * 100:.2f}\")  \n",
    "    return model_name, model, hist, test_score\n",
    "\n",
    "    \n",
    "def model_depth_analysis(n, epochs=21):\n",
    "    \"\"\"Анализ глубины модели\"\"\"\n",
    "    model_name=f'model_da{n}'\n",
    "    model = Sequential()\n",
    "    \n",
    "    for _ in range(n):\n",
    "        model.add(layers.Conv2D(6, kernel_size=(5, 5), strides=(1, 1), activation='tanh', input_shape=(28,28,1), padding=\"same\"))\n",
    "        model.add(layers.AveragePooling2D(pool_size=(2, 2), strides=(1, 1), padding='valid'))\n",
    "        model.add(layers.Conv2D(6, kernel_size=(5, 5), strides=(1, 1), activation='tanh', padding='valid'))\n",
    "\n",
    "    # сглаживание CNN выхода чтобы можно было его присоединить к полносвязногому слою\n",
    "    model.add(layers.Flatten())\n",
    "\n",
    "    # шестой полносвязный слой\n",
    "    model.add(layers.Dense(84, activation='tanh'))\n",
    "\n",
    "    # выходной слой с функцией активации softmax\n",
    "    model.add(layers.Dense(10, activation='softmax'))  \n",
    "    \n",
    "    # компилияция модели\n",
    "    model.compile(loss=keras.losses.categorical_crossentropy, optimizer='SGD', metrics=[\"accuracy\"])      \n",
    "    hist = model.fit(x=train_images,\n",
    "                     y=train_labels, \n",
    "                     epochs=epochs, \n",
    "                     batch_size=128, \n",
    "                     validation_data=(test_images, test_labels), \n",
    "                     verbose=1)  \n",
    "    \n",
    "    test_score = model.evaluate(test_images, test_labels) \n",
    "    \n",
    "    print(f\"Test loss {test_score[0]:.4f}, accuracy {test_score[1] * 100:.2f}\")  \n",
    "    return model_name, model, hist, test_score\n"
   ]
  },
  {
   "cell_type": "markdown",
   "metadata": {
    "tags": []
   },
   "source": [
    "## Анализ ширины модели"
   ]
  },
  {
   "cell_type": "code",
   "execution_count": 5,
   "metadata": {},
   "outputs": [],
   "source": [
    "width_analysis_list = [(2, 4), (5, 10), (8, 16), (10, 20), (15, 30)]\n",
    "models_dict = {'model_names': [], 'models':[], 'model_historys':[], 'model_test_score':[]}"
   ]
  },
  {
   "cell_type": "code",
   "execution_count": 6,
   "metadata": {},
   "outputs": [
    {
     "name": "stdout",
     "output_type": "stream",
     "text": [
      "CPU times: user 4 µs, sys: 1e+03 ns, total: 5 µs\n",
      "Wall time: 9.06 µs\n",
      "Epoch 1/21\n",
      "469/469 [==============================] - 29s 61ms/step - loss: 0.8500 - accuracy: 0.7084 - val_loss: 0.6254 - val_accuracy: 0.7722\n",
      "Epoch 2/21\n",
      "469/469 [==============================] - 27s 58ms/step - loss: 0.5487 - accuracy: 0.8061 - val_loss: 0.5448 - val_accuracy: 0.8042\n",
      "Epoch 3/21\n",
      "469/469 [==============================] - 27s 58ms/step - loss: 0.4890 - accuracy: 0.8266 - val_loss: 0.4974 - val_accuracy: 0.8266\n",
      "Epoch 4/21\n",
      "469/469 [==============================] - 27s 57ms/step - loss: 0.4533 - accuracy: 0.8405 - val_loss: 0.4777 - val_accuracy: 0.8272\n",
      "Epoch 5/21\n",
      "469/469 [==============================] - 27s 57ms/step - loss: 0.4297 - accuracy: 0.8490 - val_loss: 0.4565 - val_accuracy: 0.8397\n",
      "Epoch 6/21\n",
      "469/469 [==============================] - 27s 57ms/step - loss: 0.4129 - accuracy: 0.8554 - val_loss: 0.4516 - val_accuracy: 0.8368\n",
      "Epoch 7/21\n",
      "469/469 [==============================] - 27s 57ms/step - loss: 0.3992 - accuracy: 0.8594 - val_loss: 0.4258 - val_accuracy: 0.8507\n",
      "Epoch 8/21\n",
      "469/469 [==============================] - 27s 57ms/step - loss: 0.3881 - accuracy: 0.8631 - val_loss: 0.4158 - val_accuracy: 0.8536\n",
      "Epoch 9/21\n",
      "469/469 [==============================] - 27s 57ms/step - loss: 0.3786 - accuracy: 0.8664 - val_loss: 0.4066 - val_accuracy: 0.8578\n",
      "Epoch 10/21\n",
      "469/469 [==============================] - 27s 57ms/step - loss: 0.3700 - accuracy: 0.8696 - val_loss: 0.3991 - val_accuracy: 0.8612\n",
      "Epoch 11/21\n",
      "469/469 [==============================] - 28s 60ms/step - loss: 0.3627 - accuracy: 0.8720 - val_loss: 0.3960 - val_accuracy: 0.8603\n",
      "Epoch 12/21\n",
      "469/469 [==============================] - 29s 61ms/step - loss: 0.3560 - accuracy: 0.8738 - val_loss: 0.3917 - val_accuracy: 0.8618\n",
      "Epoch 13/21\n",
      "469/469 [==============================] - 30s 63ms/step - loss: 0.3498 - accuracy: 0.8764 - val_loss: 0.3856 - val_accuracy: 0.8618\n",
      "Epoch 14/21\n",
      "469/469 [==============================] - 29s 62ms/step - loss: 0.3439 - accuracy: 0.8784 - val_loss: 0.3850 - val_accuracy: 0.8624\n",
      "Epoch 15/21\n",
      "469/469 [==============================] - 29s 62ms/step - loss: 0.3385 - accuracy: 0.8793 - val_loss: 0.3773 - val_accuracy: 0.8653\n",
      "Epoch 16/21\n",
      "469/469 [==============================] - 29s 62ms/step - loss: 0.3338 - accuracy: 0.8809 - val_loss: 0.3723 - val_accuracy: 0.8670\n",
      "Epoch 17/21\n",
      "469/469 [==============================] - 29s 62ms/step - loss: 0.3287 - accuracy: 0.8836 - val_loss: 0.3700 - val_accuracy: 0.8688\n",
      "Epoch 18/21\n",
      "469/469 [==============================] - 30s 64ms/step - loss: 0.3242 - accuracy: 0.8848 - val_loss: 0.3658 - val_accuracy: 0.8702\n",
      "Epoch 19/21\n",
      "469/469 [==============================] - 30s 64ms/step - loss: 0.3203 - accuracy: 0.8856 - val_loss: 0.3606 - val_accuracy: 0.8717\n",
      "Epoch 20/21\n",
      "469/469 [==============================] - 29s 63ms/step - loss: 0.3162 - accuracy: 0.8865 - val_loss: 0.3643 - val_accuracy: 0.8680\n",
      "Epoch 21/21\n",
      "469/469 [==============================] - 29s 63ms/step - loss: 0.3124 - accuracy: 0.8886 - val_loss: 0.3629 - val_accuracy: 0.8690\n",
      "313/313 [==============================] - 3s 9ms/step - loss: 0.3629 - accuracy: 0.8690\n",
      "Test loss 0.3629, accuracy 86.90\n",
      "Epoch 1/21\n",
      "469/469 [==============================] - 42s 88ms/step - loss: 0.7442 - accuracy: 0.7455 - val_loss: 0.5693 - val_accuracy: 0.7985\n",
      "Epoch 2/21\n",
      "469/469 [==============================] - 41s 88ms/step - loss: 0.5092 - accuracy: 0.8185 - val_loss: 0.5353 - val_accuracy: 0.8011\n",
      "Epoch 3/21\n",
      "469/469 [==============================] - 41s 88ms/step - loss: 0.4597 - accuracy: 0.8376 - val_loss: 0.4699 - val_accuracy: 0.8347\n",
      "Epoch 4/21\n",
      "469/469 [==============================] - 41s 88ms/step - loss: 0.4296 - accuracy: 0.8487 - val_loss: 0.4509 - val_accuracy: 0.8387\n",
      "Epoch 5/21\n",
      "469/469 [==============================] - 41s 88ms/step - loss: 0.4084 - accuracy: 0.8575 - val_loss: 0.4369 - val_accuracy: 0.8405\n",
      "Epoch 6/21\n",
      "469/469 [==============================] - 42s 89ms/step - loss: 0.3916 - accuracy: 0.8622 - val_loss: 0.4173 - val_accuracy: 0.8500\n",
      "Epoch 7/21\n",
      "469/469 [==============================] - 41s 88ms/step - loss: 0.3782 - accuracy: 0.8669 - val_loss: 0.4085 - val_accuracy: 0.8544\n",
      "Epoch 8/21\n",
      "469/469 [==============================] - 41s 88ms/step - loss: 0.3663 - accuracy: 0.8706 - val_loss: 0.3950 - val_accuracy: 0.8607\n",
      "Epoch 9/21\n",
      "469/469 [==============================] - 41s 87ms/step - loss: 0.3562 - accuracy: 0.8745 - val_loss: 0.3931 - val_accuracy: 0.8592\n",
      "Epoch 10/21\n",
      "469/469 [==============================] - 41s 87ms/step - loss: 0.3471 - accuracy: 0.8774 - val_loss: 0.3827 - val_accuracy: 0.8647\n",
      "Epoch 11/21\n",
      "469/469 [==============================] - 41s 87ms/step - loss: 0.3396 - accuracy: 0.8791 - val_loss: 0.3754 - val_accuracy: 0.8671\n",
      "Epoch 12/21\n",
      "469/469 [==============================] - 41s 87ms/step - loss: 0.3320 - accuracy: 0.8821 - val_loss: 0.3697 - val_accuracy: 0.8687\n",
      "Epoch 13/21\n",
      "469/469 [==============================] - 40s 85ms/step - loss: 0.3259 - accuracy: 0.8846 - val_loss: 0.3649 - val_accuracy: 0.8685\n",
      "Epoch 14/21\n",
      "469/469 [==============================] - 38s 82ms/step - loss: 0.3196 - accuracy: 0.8868 - val_loss: 0.3606 - val_accuracy: 0.8714\n",
      "Epoch 15/21\n",
      "469/469 [==============================] - 38s 81ms/step - loss: 0.3136 - accuracy: 0.8889 - val_loss: 0.3591 - val_accuracy: 0.8707\n",
      "Epoch 16/21\n",
      "469/469 [==============================] - 38s 81ms/step - loss: 0.3081 - accuracy: 0.8914 - val_loss: 0.3559 - val_accuracy: 0.8708\n",
      "Epoch 17/21\n",
      "469/469 [==============================] - 38s 82ms/step - loss: 0.3028 - accuracy: 0.8925 - val_loss: 0.3527 - val_accuracy: 0.8716\n",
      "Epoch 18/21\n",
      "469/469 [==============================] - 38s 81ms/step - loss: 0.2981 - accuracy: 0.8940 - val_loss: 0.3448 - val_accuracy: 0.8760\n",
      "Epoch 19/21\n",
      "469/469 [==============================] - 38s 81ms/step - loss: 0.2931 - accuracy: 0.8962 - val_loss: 0.3431 - val_accuracy: 0.8756\n",
      "Epoch 20/21\n",
      "469/469 [==============================] - 38s 82ms/step - loss: 0.2890 - accuracy: 0.8970 - val_loss: 0.3382 - val_accuracy: 0.8780\n",
      "Epoch 21/21\n",
      "469/469 [==============================] - 38s 81ms/step - loss: 0.2852 - accuracy: 0.8985 - val_loss: 0.3385 - val_accuracy: 0.8797\n",
      "313/313 [==============================] - 3s 10ms/step - loss: 0.3385 - accuracy: 0.8797\n",
      "Test loss 0.3385, accuracy 87.97\n",
      "Epoch 1/21\n",
      "469/469 [==============================] - 45s 94ms/step - loss: 0.7509 - accuracy: 0.7353 - val_loss: 0.5673 - val_accuracy: 0.7925\n",
      "Epoch 2/21\n",
      "469/469 [==============================] - 44s 94ms/step - loss: 0.5094 - accuracy: 0.8176 - val_loss: 0.4996 - val_accuracy: 0.8232\n",
      "Epoch 3/21\n",
      "469/469 [==============================] - 44s 94ms/step - loss: 0.4578 - accuracy: 0.8398 - val_loss: 0.4638 - val_accuracy: 0.8381\n",
      "Epoch 4/21\n",
      "469/469 [==============================] - 44s 95ms/step - loss: 0.4270 - accuracy: 0.8495 - val_loss: 0.4502 - val_accuracy: 0.8346\n",
      "Epoch 5/21\n",
      "469/469 [==============================] - 44s 94ms/step - loss: 0.4052 - accuracy: 0.8568 - val_loss: 0.4456 - val_accuracy: 0.8366\n",
      "Epoch 6/21\n",
      "469/469 [==============================] - 44s 94ms/step - loss: 0.3902 - accuracy: 0.8621 - val_loss: 0.4176 - val_accuracy: 0.8509\n",
      "Epoch 7/21\n",
      "469/469 [==============================] - 44s 94ms/step - loss: 0.3769 - accuracy: 0.8667 - val_loss: 0.4037 - val_accuracy: 0.8588\n",
      "Epoch 8/21\n",
      "469/469 [==============================] - 44s 94ms/step - loss: 0.3652 - accuracy: 0.8712 - val_loss: 0.3995 - val_accuracy: 0.8563\n",
      "Epoch 9/21\n",
      "469/469 [==============================] - 44s 94ms/step - loss: 0.3550 - accuracy: 0.8748 - val_loss: 0.3843 - val_accuracy: 0.8619\n",
      "Epoch 10/21\n",
      "469/469 [==============================] - 44s 94ms/step - loss: 0.3458 - accuracy: 0.8776 - val_loss: 0.3786 - val_accuracy: 0.8667\n",
      "Epoch 11/21\n",
      "469/469 [==============================] - 44s 94ms/step - loss: 0.3382 - accuracy: 0.8796 - val_loss: 0.3743 - val_accuracy: 0.8669\n",
      "Epoch 12/21\n",
      "469/469 [==============================] - 44s 94ms/step - loss: 0.3309 - accuracy: 0.8830 - val_loss: 0.3771 - val_accuracy: 0.8639\n",
      "Epoch 13/21\n",
      "469/469 [==============================] - 44s 94ms/step - loss: 0.3241 - accuracy: 0.8854 - val_loss: 0.3688 - val_accuracy: 0.8676\n",
      "Epoch 14/21\n",
      "469/469 [==============================] - 44s 94ms/step - loss: 0.3180 - accuracy: 0.8880 - val_loss: 0.3659 - val_accuracy: 0.8671\n",
      "Epoch 15/21\n",
      "469/469 [==============================] - 44s 94ms/step - loss: 0.3116 - accuracy: 0.8891 - val_loss: 0.3498 - val_accuracy: 0.8748\n",
      "Epoch 16/21\n",
      "469/469 [==============================] - 44s 95ms/step - loss: 0.3061 - accuracy: 0.8911 - val_loss: 0.3471 - val_accuracy: 0.8775\n",
      "Epoch 17/21\n",
      "469/469 [==============================] - 44s 94ms/step - loss: 0.3008 - accuracy: 0.8937 - val_loss: 0.3537 - val_accuracy: 0.8725\n",
      "Epoch 18/21\n",
      "469/469 [==============================] - 44s 94ms/step - loss: 0.2954 - accuracy: 0.8945 - val_loss: 0.3504 - val_accuracy: 0.8719\n",
      "Epoch 19/21\n",
      "469/469 [==============================] - 44s 95ms/step - loss: 0.2907 - accuracy: 0.8969 - val_loss: 0.3457 - val_accuracy: 0.8756\n",
      "Epoch 20/21\n",
      "469/469 [==============================] - 44s 95ms/step - loss: 0.2857 - accuracy: 0.8988 - val_loss: 0.3368 - val_accuracy: 0.8808\n",
      "Epoch 21/21\n",
      "469/469 [==============================] - 44s 95ms/step - loss: 0.2816 - accuracy: 0.8996 - val_loss: 0.3281 - val_accuracy: 0.8821\n",
      "313/313 [==============================] - 3s 9ms/step - loss: 0.3281 - accuracy: 0.8821\n",
      "Test loss 0.3281, accuracy 88.21\n",
      "Epoch 1/21\n",
      "469/469 [==============================] - 65s 139ms/step - loss: 0.7493 - accuracy: 0.7379 - val_loss: 0.5572 - val_accuracy: 0.7944\n",
      "Epoch 2/21\n",
      "469/469 [==============================] - 65s 139ms/step - loss: 0.4976 - accuracy: 0.8219 - val_loss: 0.4988 - val_accuracy: 0.8187\n",
      "Epoch 3/21\n",
      "469/469 [==============================] - 65s 139ms/step - loss: 0.4467 - accuracy: 0.8415 - val_loss: 0.4550 - val_accuracy: 0.8398\n",
      "Epoch 4/21\n",
      "469/469 [==============================] - 65s 139ms/step - loss: 0.4173 - accuracy: 0.8529 - val_loss: 0.4410 - val_accuracy: 0.8407\n",
      "Epoch 5/21\n",
      "469/469 [==============================] - 68s 144ms/step - loss: 0.3971 - accuracy: 0.8601 - val_loss: 0.4241 - val_accuracy: 0.8462\n",
      "Epoch 6/21\n",
      "469/469 [==============================] - 69s 148ms/step - loss: 0.3825 - accuracy: 0.8654 - val_loss: 0.4075 - val_accuracy: 0.8544\n",
      "Epoch 7/21\n",
      "469/469 [==============================] - 69s 147ms/step - loss: 0.3685 - accuracy: 0.8698 - val_loss: 0.3983 - val_accuracy: 0.8560\n",
      "Epoch 8/21\n",
      "469/469 [==============================] - 69s 147ms/step - loss: 0.3573 - accuracy: 0.8738 - val_loss: 0.3869 - val_accuracy: 0.8609\n",
      "Epoch 9/21\n",
      "469/469 [==============================] - 69s 148ms/step - loss: 0.3477 - accuracy: 0.8769 - val_loss: 0.3844 - val_accuracy: 0.8606\n",
      "Epoch 10/21\n",
      "469/469 [==============================] - 69s 148ms/step - loss: 0.3390 - accuracy: 0.8794 - val_loss: 0.3777 - val_accuracy: 0.8630\n",
      "Epoch 11/21\n",
      "469/469 [==============================] - 69s 146ms/step - loss: 0.3316 - accuracy: 0.8816 - val_loss: 0.3750 - val_accuracy: 0.8629\n",
      "Epoch 12/21\n",
      "469/469 [==============================] - 68s 146ms/step - loss: 0.3242 - accuracy: 0.8854 - val_loss: 0.3612 - val_accuracy: 0.8692\n",
      "Epoch 13/21\n",
      "469/469 [==============================] - 68s 146ms/step - loss: 0.3177 - accuracy: 0.8873 - val_loss: 0.3568 - val_accuracy: 0.8705\n",
      "Epoch 14/21\n",
      "469/469 [==============================] - 68s 145ms/step - loss: 0.3111 - accuracy: 0.8894 - val_loss: 0.3771 - val_accuracy: 0.8634\n",
      "Epoch 15/21\n",
      "469/469 [==============================] - 65s 140ms/step - loss: 0.3062 - accuracy: 0.8909 - val_loss: 0.3476 - val_accuracy: 0.8760\n",
      "Epoch 16/21\n",
      "469/469 [==============================] - 65s 139ms/step - loss: 0.2999 - accuracy: 0.8929 - val_loss: 0.3456 - val_accuracy: 0.8771\n",
      "Epoch 17/21\n",
      "469/469 [==============================] - 66s 140ms/step - loss: 0.2956 - accuracy: 0.8947 - val_loss: 0.3406 - val_accuracy: 0.8745\n",
      "Epoch 18/21\n",
      "469/469 [==============================] - 65s 140ms/step - loss: 0.2900 - accuracy: 0.8972 - val_loss: 0.3439 - val_accuracy: 0.8747\n",
      "Epoch 19/21\n",
      "469/469 [==============================] - 65s 139ms/step - loss: 0.2857 - accuracy: 0.8980 - val_loss: 0.3328 - val_accuracy: 0.8812\n",
      "Epoch 20/21\n",
      "469/469 [==============================] - 66s 140ms/step - loss: 0.2810 - accuracy: 0.8998 - val_loss: 0.3350 - val_accuracy: 0.8817\n",
      "Epoch 21/21\n",
      "469/469 [==============================] - 66s 140ms/step - loss: 0.2763 - accuracy: 0.9015 - val_loss: 0.3277 - val_accuracy: 0.8806\n",
      "313/313 [==============================] - 4s 14ms/step - loss: 0.3277 - accuracy: 0.8806\n",
      "Test loss 0.3277, accuracy 88.06\n",
      "Epoch 1/21\n",
      "469/469 [==============================] - 103s 218ms/step - loss: 0.7212 - accuracy: 0.7437 - val_loss: 0.5581 - val_accuracy: 0.7984\n",
      "Epoch 2/21\n",
      "469/469 [==============================] - 102s 218ms/step - loss: 0.4921 - accuracy: 0.8232 - val_loss: 0.4811 - val_accuracy: 0.8229\n",
      "Epoch 3/21\n",
      "469/469 [==============================] - 102s 218ms/step - loss: 0.4420 - accuracy: 0.8430 - val_loss: 0.4793 - val_accuracy: 0.8253\n",
      "Epoch 4/21\n",
      "469/469 [==============================] - 102s 218ms/step - loss: 0.4139 - accuracy: 0.8524 - val_loss: 0.4576 - val_accuracy: 0.8327\n",
      "Epoch 5/21\n",
      "469/469 [==============================] - 102s 218ms/step - loss: 0.3927 - accuracy: 0.8613 - val_loss: 0.4138 - val_accuracy: 0.8517\n",
      "Epoch 6/21\n",
      "469/469 [==============================] - 102s 218ms/step - loss: 0.3781 - accuracy: 0.8664 - val_loss: 0.4048 - val_accuracy: 0.8584\n",
      "Epoch 7/21\n",
      "469/469 [==============================] - 102s 218ms/step - loss: 0.3651 - accuracy: 0.8696 - val_loss: 0.3908 - val_accuracy: 0.8600\n",
      "Epoch 8/21\n",
      "469/469 [==============================] - 102s 218ms/step - loss: 0.3543 - accuracy: 0.8728 - val_loss: 0.3862 - val_accuracy: 0.8640\n",
      "Epoch 9/21\n",
      "469/469 [==============================] - 103s 219ms/step - loss: 0.3451 - accuracy: 0.8771 - val_loss: 0.3763 - val_accuracy: 0.8620\n",
      "Epoch 10/21\n",
      "469/469 [==============================] - 102s 218ms/step - loss: 0.3366 - accuracy: 0.8796 - val_loss: 0.3699 - val_accuracy: 0.8689\n",
      "Epoch 11/21\n",
      "469/469 [==============================] - 102s 218ms/step - loss: 0.3299 - accuracy: 0.8812 - val_loss: 0.3712 - val_accuracy: 0.8655\n",
      "Epoch 12/21\n",
      "469/469 [==============================] - 102s 218ms/step - loss: 0.3224 - accuracy: 0.8845 - val_loss: 0.3604 - val_accuracy: 0.8712\n",
      "Epoch 13/21\n",
      "469/469 [==============================] - 109s 233ms/step - loss: 0.3164 - accuracy: 0.8868 - val_loss: 0.3593 - val_accuracy: 0.8719\n",
      "Epoch 14/21\n",
      "469/469 [==============================] - 107s 227ms/step - loss: 0.3104 - accuracy: 0.8885 - val_loss: 0.3496 - val_accuracy: 0.8727\n",
      "Epoch 15/21\n",
      "469/469 [==============================] - 106s 226ms/step - loss: 0.3049 - accuracy: 0.8906 - val_loss: 0.3500 - val_accuracy: 0.8749\n",
      "Epoch 16/21\n",
      "469/469 [==============================] - 106s 226ms/step - loss: 0.2998 - accuracy: 0.8919 - val_loss: 0.3482 - val_accuracy: 0.8741\n",
      "Epoch 17/21\n",
      "469/469 [==============================] - 107s 227ms/step - loss: 0.2945 - accuracy: 0.8941 - val_loss: 0.3434 - val_accuracy: 0.8761\n",
      "Epoch 18/21\n",
      "469/469 [==============================] - 106s 226ms/step - loss: 0.2897 - accuracy: 0.8973 - val_loss: 0.3426 - val_accuracy: 0.8756\n",
      "Epoch 19/21\n",
      "469/469 [==============================] - 106s 226ms/step - loss: 0.2852 - accuracy: 0.8978 - val_loss: 0.3378 - val_accuracy: 0.8771\n",
      "Epoch 20/21\n",
      "469/469 [==============================] - 104s 222ms/step - loss: 0.2816 - accuracy: 0.8978 - val_loss: 0.3435 - val_accuracy: 0.8772\n",
      "Epoch 21/21\n",
      "469/469 [==============================] - 107s 229ms/step - loss: 0.2763 - accuracy: 0.9007 - val_loss: 0.3372 - val_accuracy: 0.8794\n",
      "313/313 [==============================] - 7s 23ms/step - loss: 0.3372 - accuracy: 0.8794 0s - loss: 0.340 - ETA: 0s - loss: 0.3389 - accura\n",
      "Test loss 0.3372, accuracy 87.94\n"
     ]
    }
   ],
   "source": [
    "%time\n",
    "for f_1, f_2 in width_analysis_list:   \n",
    "    model_name, model, hist, test_score = model_width_analysis(f_1, f_2)\n",
    "    models_dict['model_names'].append(model_name)\n",
    "    models_dict['models'].append(model)\n",
    "    models_dict['model_historys'].append(hist)\n",
    "    models_dict['model_test_score'].append(test_score)\n",
    "    \n"
   ]
  },
  {
   "cell_type": "markdown",
   "metadata": {},
   "source": [
    "## Выводы:"
   ]
  },
  {
   "cell_type": "markdown",
   "metadata": {
    "tags": []
   },
   "source": [
    "## Анализ глубины модели"
   ]
  },
  {
   "cell_type": "code",
   "execution_count": 7,
   "metadata": {},
   "outputs": [
    {
     "data": {
      "text/plain": [
       "[1, 2, 3, 4, 5]"
      ]
     },
     "execution_count": 7,
     "metadata": {},
     "output_type": "execute_result"
    }
   ],
   "source": [
    "depth_analysis_list = [_ for _ in range(1,6)]\n",
    "depth_analysis_list"
   ]
  },
  {
   "cell_type": "code",
   "execution_count": null,
   "metadata": {},
   "outputs": [
    {
     "name": "stdout",
     "output_type": "stream",
     "text": [
      "CPU times: user 5 µs, sys: 0 ns, total: 5 µs\n",
      "Wall time: 9.78 µs\n",
      "Epoch 1/21\n",
      "469/469 [==============================] - 41s 86ms/step - loss: 0.7455 - accuracy: 0.7426 - val_loss: 0.5730 - val_accuracy: 0.7934\n",
      "Epoch 2/21\n",
      "469/469 [==============================] - 37s 79ms/step - loss: 0.5074 - accuracy: 0.8195 - val_loss: 0.5038 - val_accuracy: 0.8211\n",
      "Epoch 3/21\n",
      "469/469 [==============================] - 37s 79ms/step - loss: 0.4580 - accuracy: 0.8383 - val_loss: 0.4716 - val_accuracy: 0.8309\n",
      "Epoch 4/21\n",
      "469/469 [==============================] - 37s 79ms/step - loss: 0.4296 - accuracy: 0.8493 - val_loss: 0.4489 - val_accuracy: 0.8419\n",
      "Epoch 5/21\n",
      "469/469 [==============================] - 37s 80ms/step - loss: 0.4081 - accuracy: 0.8576 - val_loss: 0.4312 - val_accuracy: 0.8466\n",
      "Epoch 6/21\n",
      "469/469 [==============================] - 37s 79ms/step - loss: 0.3933 - accuracy: 0.8614 - val_loss: 0.4169 - val_accuracy: 0.8558\n",
      "Epoch 7/21\n",
      "469/469 [==============================] - 37s 79ms/step - loss: 0.3798 - accuracy: 0.8669 - val_loss: 0.4074 - val_accuracy: 0.8570\n",
      "Epoch 8/21\n",
      "469/469 [==============================] - 37s 79ms/step - loss: 0.3689 - accuracy: 0.8695 - val_loss: 0.3946 - val_accuracy: 0.8571\n",
      "Epoch 9/21\n",
      "469/469 [==============================] - 37s 79ms/step - loss: 0.3592 - accuracy: 0.8731 - val_loss: 0.3894 - val_accuracy: 0.8622\n",
      "Epoch 10/21\n",
      "469/469 [==============================] - 39s 83ms/step - loss: 0.3504 - accuracy: 0.8756 - val_loss: 0.3803 - val_accuracy: 0.8633\n",
      "Epoch 11/21\n",
      "469/469 [==============================] - 40s 84ms/step - loss: 0.3428 - accuracy: 0.8781 - val_loss: 0.3735 - val_accuracy: 0.8690\n",
      "Epoch 12/21\n",
      "469/469 [==============================] - 40s 85ms/step - loss: 0.3359 - accuracy: 0.8805 - val_loss: 0.3730 - val_accuracy: 0.8653\n",
      "Epoch 13/21\n",
      "469/469 [==============================] - 37s 79ms/step - loss: 0.3298 - accuracy: 0.8822 - val_loss: 0.3641 - val_accuracy: 0.8680\n",
      "Epoch 14/21\n",
      "469/469 [==============================] - 37s 79ms/step - loss: 0.3233 - accuracy: 0.8853 - val_loss: 0.3563 - val_accuracy: 0.8737\n",
      "Epoch 15/21\n",
      "469/469 [==============================] - 37s 79ms/step - loss: 0.3177 - accuracy: 0.8876 - val_loss: 0.3678 - val_accuracy: 0.8672\n",
      "Epoch 16/21\n",
      "469/469 [==============================] - 37s 78ms/step - loss: 0.3128 - accuracy: 0.8889 - val_loss: 0.3483 - val_accuracy: 0.8758\n",
      "Epoch 17/21\n",
      "469/469 [==============================] - 37s 78ms/step - loss: 0.3075 - accuracy: 0.8909 - val_loss: 0.3463 - val_accuracy: 0.8778\n",
      "Epoch 18/21\n",
      "469/469 [==============================] - 37s 79ms/step - loss: 0.3022 - accuracy: 0.8923 - val_loss: 0.3454 - val_accuracy: 0.8753\n",
      "Epoch 19/21\n",
      "469/469 [==============================] - 37s 79ms/step - loss: 0.2980 - accuracy: 0.8938 - val_loss: 0.3391 - val_accuracy: 0.8786\n",
      "Epoch 20/21\n",
      "469/469 [==============================] - 363s 776ms/step - loss: 0.2938 - accuracy: 0.8950 - val_loss: 0.3354 - val_accuracy: 0.8801\n",
      "Epoch 21/21\n",
      "469/469 [==============================] - 39s 83ms/step - loss: 0.2896 - accuracy: 0.8961 - val_loss: 0.3327 - val_accuracy: 0.8794\n",
      "313/313 [==============================] - 4s 11ms/step - loss: 0.3327 - accuracy: 0.8794\n",
      "Test loss 0.3327, accuracy 87.94\n",
      "Epoch 1/21\n",
      "469/469 [==============================] - 73s 155ms/step - loss: 0.8072 - accuracy: 0.7141 - val_loss: 0.6261 - val_accuracy: 0.7684\n",
      "Epoch 2/21\n",
      "469/469 [==============================] - 72s 152ms/step - loss: 0.5549 - accuracy: 0.7986 - val_loss: 0.5541 - val_accuracy: 0.7981\n",
      "Epoch 3/21\n",
      "469/469 [==============================] - 71s 152ms/step - loss: 0.5023 - accuracy: 0.8205 - val_loss: 0.5087 - val_accuracy: 0.8191\n",
      "Epoch 4/21\n",
      "469/469 [==============================] - 71s 151ms/step - loss: 0.4690 - accuracy: 0.8352 - val_loss: 0.4910 - val_accuracy: 0.8257\n",
      "Epoch 5/21\n",
      "469/469 [==============================] - 73s 156ms/step - loss: 0.4456 - accuracy: 0.8415 - val_loss: 0.4679 - val_accuracy: 0.8362\n",
      "Epoch 6/21\n",
      "469/469 [==============================] - 77s 163ms/step - loss: 0.4266 - accuracy: 0.8493 - val_loss: 0.4583 - val_accuracy: 0.8402\n",
      "Epoch 7/21\n",
      "469/469 [==============================] - 76s 163ms/step - loss: 0.4115 - accuracy: 0.8536 - val_loss: 0.4378 - val_accuracy: 0.8456\n",
      "Epoch 8/21\n",
      "469/469 [==============================] - 82s 176ms/step - loss: 0.3995 - accuracy: 0.8577 - val_loss: 0.4306 - val_accuracy: 0.8479\n",
      "Epoch 9/21\n",
      "469/469 [==============================] - 77s 163ms/step - loss: 0.3885 - accuracy: 0.8628 - val_loss: 0.4200 - val_accuracy: 0.8509\n",
      "Epoch 10/21\n",
      "469/469 [==============================] - 77s 164ms/step - loss: 0.3800 - accuracy: 0.8655 - val_loss: 0.4144 - val_accuracy: 0.8530\n",
      "Epoch 11/21\n",
      "469/469 [==============================] - 77s 164ms/step - loss: 0.3713 - accuracy: 0.8675 - val_loss: 0.4018 - val_accuracy: 0.8585\n",
      "Epoch 12/21\n",
      "469/469 [==============================] - 77s 164ms/step - loss: 0.3633 - accuracy: 0.8719 - val_loss: 0.3964 - val_accuracy: 0.8580\n",
      "Epoch 13/21\n",
      "469/469 [==============================] - 76s 163ms/step - loss: 0.3561 - accuracy: 0.8741 - val_loss: 0.3934 - val_accuracy: 0.8599\n",
      "Epoch 14/21\n",
      "469/469 [==============================] - 77s 164ms/step - loss: 0.3498 - accuracy: 0.8760 - val_loss: 0.3924 - val_accuracy: 0.8606\n",
      "Epoch 15/21\n",
      "469/469 [==============================] - 77s 164ms/step - loss: 0.3437 - accuracy: 0.8780 - val_loss: 0.3827 - val_accuracy: 0.8626\n",
      "Epoch 16/21\n",
      "469/469 [==============================] - 77s 164ms/step - loss: 0.3379 - accuracy: 0.8802 - val_loss: 0.3816 - val_accuracy: 0.8614\n",
      "Epoch 17/21\n",
      "469/469 [==============================] - 77s 165ms/step - loss: 0.3325 - accuracy: 0.8820 - val_loss: 0.3710 - val_accuracy: 0.8670\n",
      "Epoch 18/21\n",
      "469/469 [==============================] - 77s 165ms/step - loss: 0.3270 - accuracy: 0.8845 - val_loss: 0.3686 - val_accuracy: 0.8683\n",
      "Epoch 19/21\n",
      "469/469 [==============================] - 77s 164ms/step - loss: 0.3219 - accuracy: 0.8864 - val_loss: 0.3684 - val_accuracy: 0.8695\n",
      "Epoch 20/21\n",
      "469/469 [==============================] - 77s 164ms/step - loss: 0.3174 - accuracy: 0.8871 - val_loss: 0.3601 - val_accuracy: 0.8728\n",
      "Epoch 21/21\n",
      "469/469 [==============================] - 77s 164ms/step - loss: 0.3125 - accuracy: 0.8896 - val_loss: 0.3543 - val_accuracy: 0.8734\n",
      "313/313 [==============================] - 8s 26ms/step - loss: 0.3543 - accuracy: 0.8734\n",
      "Test loss 0.3543, accuracy 87.34\n",
      "Epoch 1/21\n",
      "469/469 [==============================] - 104s 221ms/step - loss: 0.9166 - accuracy: 0.6898 - val_loss: 0.6666 - val_accuracy: 0.7556\n",
      "Epoch 2/21\n",
      "469/469 [==============================] - 102s 218ms/step - loss: 0.5862 - accuracy: 0.7863 - val_loss: 0.5722 - val_accuracy: 0.7899\n",
      "Epoch 3/21\n",
      "469/469 [==============================] - 109s 233ms/step - loss: 0.5206 - accuracy: 0.8114 - val_loss: 0.5216 - val_accuracy: 0.8102\n",
      "Epoch 4/21\n",
      "469/469 [==============================] - 100s 214ms/step - loss: 0.4817 - accuracy: 0.8253 - val_loss: 0.4897 - val_accuracy: 0.8241\n",
      "Epoch 5/21\n",
      "469/469 [==============================] - 102s 217ms/step - loss: 0.4560 - accuracy: 0.8357 - val_loss: 0.4756 - val_accuracy: 0.8265\n",
      "Epoch 6/21\n",
      "469/469 [==============================] - 103s 219ms/step - loss: 0.4393 - accuracy: 0.8420 - val_loss: 0.4604 - val_accuracy: 0.8323\n",
      "Epoch 7/21\n",
      "469/469 [==============================] - 102s 217ms/step - loss: 0.4251 - accuracy: 0.8466 - val_loss: 0.4518 - val_accuracy: 0.8360\n",
      "Epoch 8/21\n",
      "469/469 [==============================] - 110s 235ms/step - loss: 0.4136 - accuracy: 0.8509 - val_loss: 0.4354 - val_accuracy: 0.8420\n",
      "Epoch 9/21\n",
      "469/469 [==============================] - 98s 208ms/step - loss: 0.4031 - accuracy: 0.8554 - val_loss: 0.4418 - val_accuracy: 0.8385\n",
      "Epoch 10/21\n",
      "469/469 [==============================] - 110s 235ms/step - loss: 0.3943 - accuracy: 0.8583 - val_loss: 0.4280 - val_accuracy: 0.8455\n",
      "Epoch 11/21\n",
      "469/469 [==============================] - 111s 236ms/step - loss: 0.3868 - accuracy: 0.8609 - val_loss: 0.4158 - val_accuracy: 0.8517\n",
      "Epoch 12/21\n",
      "469/469 [==============================] - 101s 215ms/step - loss: 0.3790 - accuracy: 0.8641 - val_loss: 0.4029 - val_accuracy: 0.8545\n",
      "Epoch 13/21\n",
      "469/469 [==============================] - 110s 235ms/step - loss: 0.3728 - accuracy: 0.8654 - val_loss: 0.4301 - val_accuracy: 0.8468\n",
      "Epoch 14/21\n",
      "469/469 [==============================] - 100s 213ms/step - loss: 0.3679 - accuracy: 0.8679 - val_loss: 0.3964 - val_accuracy: 0.8597\n",
      "Epoch 15/21\n",
      "469/469 [==============================] - 108s 231ms/step - loss: 0.3628 - accuracy: 0.8690 - val_loss: 0.3916 - val_accuracy: 0.8597\n",
      "Epoch 16/21\n",
      "469/469 [==============================] - 99s 211ms/step - loss: 0.3565 - accuracy: 0.8710 - val_loss: 0.3951 - val_accuracy: 0.8587\n",
      "Epoch 17/21\n",
      "469/469 [==============================] - 102s 217ms/step - loss: 0.3519 - accuracy: 0.8729 - val_loss: 0.3865 - val_accuracy: 0.8607\n",
      "Epoch 18/21\n",
      "469/469 [==============================] - 108s 230ms/step - loss: 0.3486 - accuracy: 0.8740 - val_loss: 0.3899 - val_accuracy: 0.8602\n",
      "Epoch 19/21\n",
      "469/469 [==============================] - 102s 218ms/step - loss: 0.3436 - accuracy: 0.8757 - val_loss: 0.3776 - val_accuracy: 0.8661\n",
      "Epoch 20/21\n",
      "469/469 [==============================] - 103s 221ms/step - loss: 0.3397 - accuracy: 0.8774 - val_loss: 0.3759 - val_accuracy: 0.8639\n",
      "Epoch 21/21\n",
      "469/469 [==============================] - 112s 239ms/step - loss: 0.3350 - accuracy: 0.8791 - val_loss: 0.3765 - val_accuracy: 0.8655\n",
      "313/313 [==============================] - 11s 36ms/step - loss: 0.3765 - accuracy: 0.8655\n",
      "Test loss 0.3765, accuracy 86.55\n",
      "Epoch 1/21\n",
      "469/469 [==============================] - 128s 271ms/step - loss: 1.0356 - accuracy: 0.6324 - val_loss: 0.7909 - val_accuracy: 0.7033\n",
      "Epoch 2/21\n",
      "469/469 [==============================] - 130s 276ms/step - loss: 0.6953 - accuracy: 0.7415 - val_loss: 0.6706 - val_accuracy: 0.7486\n",
      "Epoch 3/21\n",
      "469/469 [==============================] - 128s 274ms/step - loss: 0.6169 - accuracy: 0.7711 - val_loss: 0.6131 - val_accuracy: 0.7748\n",
      "Epoch 4/21\n",
      "469/469 [==============================] - 128s 274ms/step - loss: 0.5715 - accuracy: 0.7882 - val_loss: 0.5701 - val_accuracy: 0.7938\n",
      "Epoch 5/21\n",
      "469/469 [==============================] - 125s 266ms/step - loss: 0.5386 - accuracy: 0.8027 - val_loss: 0.5630 - val_accuracy: 0.7900\n",
      "Epoch 6/21\n",
      "469/469 [==============================] - 127s 271ms/step - loss: 0.5139 - accuracy: 0.8125 - val_loss: 0.5223 - val_accuracy: 0.8074\n",
      "Epoch 7/21\n",
      "469/469 [==============================] - 123s 263ms/step - loss: 0.4958 - accuracy: 0.8192 - val_loss: 0.5094 - val_accuracy: 0.8146\n",
      "Epoch 8/21\n",
      "469/469 [==============================] - 125s 267ms/step - loss: 0.4794 - accuracy: 0.8261 - val_loss: 0.4943 - val_accuracy: 0.8185\n",
      "Epoch 9/21\n",
      "469/469 [==============================] - 1168s 2s/step - loss: 0.4635 - accuracy: 0.8308 - val_loss: 0.4768 - val_accuracy: 0.8288\n",
      "Epoch 10/21\n",
      "469/469 [==============================] - 129s 274ms/step - loss: 0.4519 - accuracy: 0.8367 - val_loss: 0.4705 - val_accuracy: 0.8268\n",
      "Epoch 11/21\n",
      "469/469 [==============================] - 127s 271ms/step - loss: 0.4411 - accuracy: 0.8397 - val_loss: 0.4728 - val_accuracy: 0.8252\n",
      "Epoch 12/21\n",
      "469/469 [==============================] - 125s 267ms/step - loss: 0.4329 - accuracy: 0.8436 - val_loss: 0.4499 - val_accuracy: 0.8360\n",
      "Epoch 13/21\n",
      "469/469 [==============================] - 125s 267ms/step - loss: 0.4235 - accuracy: 0.8461 - val_loss: 0.4539 - val_accuracy: 0.8368\n",
      "Epoch 14/21\n",
      "469/469 [==============================] - 124s 264ms/step - loss: 0.4156 - accuracy: 0.8481 - val_loss: 0.4464 - val_accuracy: 0.8382\n",
      "Epoch 15/21\n",
      "469/469 [==============================] - 389s 830ms/step - loss: 0.4090 - accuracy: 0.8515 - val_loss: 0.4380 - val_accuracy: 0.8387\n",
      "Epoch 16/21\n",
      "469/469 [==============================] - 129s 275ms/step - loss: 0.4018 - accuracy: 0.8540 - val_loss: 0.4491 - val_accuracy: 0.8297\n",
      "Epoch 17/21\n",
      "469/469 [==============================] - 130s 276ms/step - loss: 0.3966 - accuracy: 0.8555 - val_loss: 0.4411 - val_accuracy: 0.8351\n",
      "Epoch 18/21\n",
      " 22/469 [>.............................] - ETA: 1:53 - loss: 0.4185 - accuracy: 0.8469"
     ]
    }
   ],
   "source": [
    "%time\n",
    "for n in depth_analysis_list:   \n",
    "    model_name, model, hist, test_score = model_depth_analysis(n)\n",
    "    models_dict['model_names'].append(model_name)\n",
    "    models_dict['models'].append(model)\n",
    "    models_dict['model_historys'].append(hist)\n",
    "    models_dict['model_test_score'].append(test_score)\n",
    "    \n"
   ]
  },
  {
   "cell_type": "markdown",
   "metadata": {},
   "source": [
    "## Выводы:"
   ]
  },
  {
   "cell_type": "code",
   "execution_count": null,
   "metadata": {},
   "outputs": [],
   "source": []
  },
  {
   "cell_type": "code",
   "execution_count": null,
   "metadata": {},
   "outputs": [],
   "source": [
    "models_df = pd.DataFrame(models_dict)\n",
    "models_df.to_csv('./models_df.csv')"
   ]
  },
  {
   "cell_type": "markdown",
   "metadata": {
    "id": "d9ztbBnuhb2I"
   },
   "source": [
    "\n",
    "\n",
    "## **Сложные конструкции из простых слоев**\n",
    "\n",
    "Слой для объединения\n",
    "\n",
    "https://keras.io/api/layers/merging_layers/concatenate/"
   ]
  },
  {
   "cell_type": "code",
   "execution_count": null,
   "metadata": {
    "id": "b7bsxdYjh0d2"
   },
   "outputs": [],
   "source": [
    "\n",
    "from tensorflow.keras.layers import Dense, Flatten, Concatenate\n",
    "\n",
    "from tensorflow.keras.utils import plot_model \n"
   ]
  },
  {
   "cell_type": "markdown",
   "metadata": {
    "id": "VfWax9igoidq"
   },
   "source": [
    "Строим сеть из трех нитей"
   ]
  },
  {
   "cell_type": "code",
   "execution_count": null,
   "metadata": {
    "colab": {
     "base_uri": "https://localhost:8080/",
     "height": 661
    },
    "id": "DoXtYL12hXTK",
    "outputId": "98ce08b8-b604-4a40-ab91-012a66694a11"
   },
   "outputs": [
    {
     "data": {
      "image/png": "[encoded data removed]",
      "text/plain": [
       "<IPython.core.display.Image object>"
      ]
     },
     "execution_count": 158,
     "metadata": {
      "tags": []
     },
     "output_type": "execute_result"
    }
   ],
   "source": [
    "first_input = Input(shape=(28,28,1 ))\n",
    "x11= Conv2D(10,3,activation='relu')(first_input)\n",
    "x11= Flatten()(x11)\n",
    "first_dense = Dense(1, )(x11)\n",
    "\n",
    "second_input = Input(shape=(28,28,1 ))\n",
    "x22= Flatten()(second_input)\n",
    "second_dense = Dense(1, )(x22)\n",
    "\n",
    "merge_one = Concatenate( )([first_dense, second_dense])\n",
    "\n",
    "third_input = Input(shape=(28,28,1 ))\n",
    "x33= Flatten()(third_input)\n",
    "x33 = Dense(1, )(x33)\n",
    "merge_two = Concatenate(axis=1)([merge_one, x33])\n",
    "merge_two=Dense(10, activation='softmax')(merge_two)\n",
    "\n",
    "\n",
    "model_stek = Model(inputs=[first_input, second_input, third_input], outputs=merge_two)\n",
    "ada_grad = tf.keras.optimizers.Adagrad(lr=0.1, epsilon=1e-08, decay=0.0)\n",
    "model_stek.compile(optimizer=ada_grad, loss=tf.keras.losses.CategoricalCrossentropy(),\n",
    "              metrics=['accuracy'])\n",
    "\n",
    "\n",
    "plot_model(model_stek,'model_stek.png')\n",
    "\n"
   ]
  },
  {
   "cell_type": "code",
   "execution_count": null,
   "metadata": {
    "colab": {
     "base_uri": "https://localhost:8080/"
    },
    "id": "riX8YnRGNqXr",
    "outputId": "8db635f6-7947-4e03-ac48-a62223ef8d24"
   },
   "outputs": [
    {
     "name": "stdout",
     "output_type": "stream",
     "text": [
      "Model: \"model_23\"\n",
      "__________________________________________________________________________________________________\n",
      "Layer (type)                    Output Shape         Param #     Connected to                     \n",
      "==================================================================================================\n",
      "input_16 (InputLayer)           [(None, 28, 28, 1)]  0                                            \n",
      "__________________________________________________________________________________________________\n",
      "conv2d_35 (Conv2D)              (None, 26, 26, 10)   100         input_16[0][0]                   \n",
      "__________________________________________________________________________________________________\n",
      "input_17 (InputLayer)           [(None, 28, 28, 1)]  0                                            \n",
      "__________________________________________________________________________________________________\n",
      "flatten_14 (Flatten)            (None, 6760)         0           conv2d_35[0][0]                  \n",
      "__________________________________________________________________________________________________\n",
      "flatten_15 (Flatten)            (None, 784)          0           input_17[0][0]                   \n",
      "__________________________________________________________________________________________________\n",
      "input_18 (InputLayer)           [(None, 28, 28, 1)]  0                                            \n",
      "__________________________________________________________________________________________________\n",
      "dense_24 (Dense)                (None, 1)            6761        flatten_14[0][0]                 \n",
      "__________________________________________________________________________________________________\n",
      "dense_25 (Dense)                (None, 1)            785         flatten_15[0][0]                 \n",
      "__________________________________________________________________________________________________\n",
      "flatten_16 (Flatten)            (None, 784)          0           input_18[0][0]                   \n",
      "__________________________________________________________________________________________________\n",
      "concatenate_4 (Concatenate)     (None, 2)            0           dense_24[0][0]                   \n",
      "                                                                 dense_25[0][0]                   \n",
      "__________________________________________________________________________________________________\n",
      "dense_26 (Dense)                (None, 1)            785         flatten_16[0][0]                 \n",
      "__________________________________________________________________________________________________\n",
      "concatenate_5 (Concatenate)     (None, 3)            0           concatenate_4[0][0]              \n",
      "                                                                 dense_26[0][0]                   \n",
      "__________________________________________________________________________________________________\n",
      "dense_27 (Dense)                (None, 10)           40          concatenate_5[0][0]              \n",
      "==================================================================================================\n",
      "Total params: 8,471\n",
      "Trainable params: 8,471\n",
      "Non-trainable params: 0\n",
      "__________________________________________________________________________________________________\n"
     ]
    }
   ],
   "source": [
    "model_stek.summary()"
   ]
  },
  {
   "cell_type": "code",
   "execution_count": null,
   "metadata": {
    "colab": {
     "base_uri": "https://localhost:8080/"
    },
    "id": "bodoQSkkjzUa",
    "outputId": "02f7b885-3a13-40a1-aec8-a73d47e4b0be"
   },
   "outputs": [
    {
     "name": "stdout",
     "output_type": "stream",
     "text": [
      "Epoch 1/5\n",
      "1500/1500 [==============================] - 5s 3ms/step - loss: 0.8880 - accuracy: 0.6718 - val_loss: 0.5768 - val_accuracy: 0.7919\n",
      "Epoch 2/5\n",
      "1500/1500 [==============================] - 4s 3ms/step - loss: 0.5605 - accuracy: 0.8045 - val_loss: 0.5190 - val_accuracy: 0.8188\n",
      "Epoch 3/5\n",
      "1500/1500 [==============================] - 4s 3ms/step - loss: 0.5060 - accuracy: 0.8262 - val_loss: 0.5007 - val_accuracy: 0.8288\n",
      "Epoch 4/5\n",
      "1500/1500 [==============================] - 4s 3ms/step - loss: 0.4977 - accuracy: 0.8293 - val_loss: 0.4892 - val_accuracy: 0.8299\n",
      "Epoch 5/5\n",
      "1500/1500 [==============================] - 4s 3ms/step - loss: 0.4684 - accuracy: 0.8382 - val_loss: 0.4768 - val_accuracy: 0.8374\n"
     ]
    }
   ],
   "source": [
    "hist = model_stek.fit([x_train,x_train,x_train],y_train, epochs = 5, validation_split=0.2)"
   ]
  },
  {
   "cell_type": "code",
   "execution_count": null,
   "metadata": {},
   "outputs": [],
   "source": []
  },
  {
   "cell_type": "code",
   "execution_count": null,
   "metadata": {},
   "outputs": [],
   "source": []
  },
  {
   "cell_type": "code",
   "execution_count": null,
   "metadata": {},
   "outputs": [],
   "source": []
  },
  {
   "cell_type": "code",
   "execution_count": null,
   "metadata": {},
   "outputs": [],
   "source": []
  },
  {
   "cell_type": "code",
   "execution_count": null,
   "metadata": {},
   "outputs": [],
   "source": []
  },
  {
   "cell_type": "code",
   "execution_count": null,
   "metadata": {},
   "outputs": [],
   "source": []
  },
  {
   "cell_type": "markdown",
   "metadata": {
    "id": "ExAWI8K-m5-S"
   },
   "source": [
    "## Пример на Keras более сложной сверточной нейронной сети"
   ]
  },
  {
   "cell_type": "markdown",
   "metadata": {
    "id": "bUPiXBS9m5-U"
   },
   "source": [
    "Давайте теперь попробуем сделать несколько усложненный вариант нейронной сети разобранной ранее. В ней будет на несколько слоев больше и в ней будет использоваться data augumentation, процедура позволяющая за счет искажений изображений увеличить количество тренировочных данных, а как мы знаем чем больше тренировочных данных тем лучше будет работать нейросеть. Для обучения нейросети будем использовать датасет cifar-10. В нем 10 категорий объектов, например - лошадь, лягушка, корабль. Данный датасет уже более сложен для нейронных сетей чем mnist, однако он намного проще датасетов наподобие imagenet где используются сотни классов и архитектуры нейронных сетей для подобных датасетов также понадобяться более сложные."
   ]
  },
  {
   "cell_type": "code",
   "execution_count": null,
   "metadata": {
    "id": "0CMCfvAPdJct"
   },
   "outputs": [],
   "source": [
    "from __future__ import print_function\n",
    "#import tensorflow.keras as keras # расскоментируйте эту строку, чтобы начать обучение\n",
    "from tensorflow.keras.datasets import cifar10\n",
    "from tensorflow.keras.preprocessing.image import ImageDataGenerator\n",
    "from tensorflow.keras.models import Sequential\n",
    "from tensorflow.keras.layers import Dense, Dropout, Activation, Flatten\n",
    "from tensorflow.keras.layers import Conv2D, MaxPooling2D\n",
    "import os"
   ]
  },
  {
   "cell_type": "code",
   "execution_count": null,
   "metadata": {
    "id": "kiRCJY0WdGph"
   },
   "outputs": [],
   "source": [
    "classes=['самолет', 'автомобиль', 'птица', 'кот', 'олень', 'собака', 'лягушка', 'лошадь', 'корабль', 'грузовик']"
   ]
  },
  {
   "cell_type": "code",
   "execution_count": null,
   "metadata": {},
   "outputs": [],
   "source": [
    "# установка параметров нейросети\n",
    "batch_size = 32\n",
    "num_classes = 10\n",
    "epochs = 5\n",
    "data_augmentation = False\n",
    "num_predictions = 20\n",
    "save_dir = os.path.join(os.getcwd(), 'saved_models')\n",
    "model_name = 'keras_cifar10_trained_model.h5'"
   ]
  },
  {
   "cell_type": "code",
   "execution_count": null,
   "metadata": {
    "colab": {
     "base_uri": "https://localhost:8080/"
    },
    "id": "yvG4BrpCwuFz",
    "outputId": "ae369f16-7f50-4b01-fd17-8c1c36913b35"
   },
   "outputs": [
    {
     "name": "stdout",
     "output_type": "stream",
     "text": [
      "x_train shape: (50000, 32, 32, 3)\n",
      "50000 тренировочные примеры\n",
      "10000 тестовые примеры\n"
     ]
    }
   ],
   "source": [
    "# разделение тренировочной и тестовой выборки\n",
    "(x_train, y_train), (x_test, y_test) = cifar10.load_data()\n",
    "print('x_train shape:', x_train.shape)\n",
    "print(x_train.shape[0], 'тренировочные примеры')\n",
    "print(x_test.shape[0], 'тестовые примеры')\n",
    "\n",
    "# преобразование матрицы чисел 0-9 в бинарную матрицу чисел 0-1\n",
    "y_train = keras.utils.to_categorical(y_train, num_classes)\n",
    "y_test = keras.utils.to_categorical(y_test, num_classes)\n",
    "\n",
    "\n",
    "x_train = x_train.astype('float32')\n",
    "x_test = x_test.astype('float32')\n",
    "x_train /= 255\n",
    "x_test /= 255"
   ]
  },
  {
   "cell_type": "code",
   "execution_count": null,
   "metadata": {
    "colab": {
     "base_uri": "https://localhost:8080/",
     "height": 281
    },
    "id": "rDe1bd1pw5fM",
    "outputId": "e0f7c2a2-2d2e-400d-e5c1-6e23739efee1"
   },
   "outputs": [
    {
     "data": {
      "image/png": "[encoded data removed]",
      "text/plain": [
       "<Figure size 432x288 with 1 Axes>"
      ]
     },
     "metadata": {
      "needs_background": "light",
      "tags": []
     },
     "output_type": "display_data"
    }
   ],
   "source": [
    "N = 30\n",
    "\n",
    "plt.imshow(x_test[N][:,:,:])\n",
    "plt.title('это : '+classes[np.argmax(y_test[N,:])])\n",
    "plt.show()"
   ]
  },
  {
   "cell_type": "code",
   "execution_count": null,
   "metadata": {
    "colab": {
     "base_uri": "https://localhost:8080/"
    },
    "id": "H4Ob9X-gm5-W",
    "outputId": "ea59d75f-e717-4c14-8fdb-58fc24d58d57"
   },
   "outputs": [
    {
     "name": "stdout",
     "output_type": "stream",
     "text": [
      "Не используется data augmentation\n",
      "Epoch 1/5\n",
      "1563/1563 [==============================] - 8s 5ms/step - loss: 2.2130 - accuracy: 0.1628 - val_loss: 1.8209 - val_accuracy: 0.3455\n",
      "Epoch 2/5\n",
      "1563/1563 [==============================] - 7s 4ms/step - loss: 1.7640 - accuracy: 0.3540 - val_loss: 1.6078 - val_accuracy: 0.4231\n",
      "Epoch 3/5\n",
      "1563/1563 [==============================] - 7s 5ms/step - loss: 1.5614 - accuracy: 0.4276 - val_loss: 1.4730 - val_accuracy: 0.4504\n",
      "Epoch 4/5\n",
      "1563/1563 [==============================] - 7s 4ms/step - loss: 1.4365 - accuracy: 0.4794 - val_loss: 1.2816 - val_accuracy: 0.5388\n",
      "Epoch 5/5\n",
      "1563/1563 [==============================] - 7s 5ms/step - loss: 1.3503 - accuracy: 0.5147 - val_loss: 1.3259 - val_accuracy: 0.5204\n",
      "сохранить обученную модель как /content/saved_models/keras_cifar10_trained_model.h5 \n",
      "313/313 [==============================] - 1s 3ms/step - loss: 1.3259 - accuracy: 0.5204\n",
      "Test loss: 1.3258932828903198\n",
      "Test accuracy: 0.5203999876976013\n"
     ]
    }
   ],
   "source": [
    "# конфигурирование слоев нейросети\n",
    "model = Sequential()\n",
    "\n",
    "# слои нейросети отвественные за свертку и max-pooling\n",
    "model.add(Conv2D(32, (3, 3), padding='same',\n",
    "                 input_shape=x_train.shape[1:]))\n",
    "model.add(Activation('relu'))\n",
    "\n",
    "model.add(Conv2D(32, (3, 3)))\n",
    "model.add(Activation('relu'))\n",
    "\n",
    "model.add(MaxPooling2D(pool_size=(2, 2)))\n",
    "model.add(Dropout( 0.25))\n",
    "\n",
    "model.add(Conv2D(64, (3, 3), padding='same'))\n",
    "model.add(Activation('relu'))\n",
    "\n",
    "model.add(Conv2D(64, (3, 3)))\n",
    "model.add(Activation('relu'))\n",
    "\n",
    "model.add(MaxPooling2D(pool_size=(2, 2)))\n",
    "model.add(Dropout(0.25))\n",
    "\n",
    "# полносвязные слои нейронной сети\n",
    "model.add(Flatten())\n",
    "model.add(Dense(512))\n",
    "model.add(Activation('relu'))\n",
    "model.add(Dropout(0.5))\n",
    "model.add(Dense(num_classes))\n",
    "model.add(Activation('softmax'))\n",
    "\n",
    "# инициализация RMSprop optimizer\n",
    "#opt = tensorflow.keras.optimizers.RMSprop(lr=0.0001, decay=1e-6)\n",
    "\n",
    "# компиляция модели\n",
    "model.compile(loss='categorical_crossentropy',\n",
    "              optimizer='SGD',\n",
    "              metrics=['accuracy'])\n",
    "\n",
    "\n",
    "\n",
    "\n",
    "if not data_augmentation:\n",
    "    print('Не используется data augmentation')\n",
    "    model.fit(x_train, y_train,\n",
    "              batch_size=batch_size,\n",
    "              epochs=epochs,\n",
    "              validation_data=(x_test, y_test),\n",
    "              shuffle=True)\n",
    "else:\n",
    "    print('Использование data augmentation в реальном времени')\n",
    "    # Препроцессинг и data augmentation в реальном времени:\n",
    "    datagen = ImageDataGenerator(\n",
    "        featurewise_center=False,\n",
    "        samplewise_center=False,\n",
    "        featurewise_std_normalization=False,\n",
    "        samplewise_std_normalization=False,\n",
    "        zca_whitening=False, \n",
    "        zca_epsilon=1e-06, \n",
    "        rotation_range=0, \n",
    "        width_shift_range=0.1,\n",
    "        height_shift_range=0.1,\n",
    "        shear_range=0., \n",
    "        zoom_range=0., \n",
    "        channel_shift_range=0.,\n",
    "        fill_mode='nearest',\n",
    "        cval=0.,\n",
    "        horizontal_flip=True,\n",
    "        vertical_flip=False,\n",
    "        rescale=None,\n",
    "        preprocessing_function=None,\n",
    "        data_format=None,\n",
    "        validation_split=0.0)\n",
    "\n",
    "    # запуск data augmentation через fit\n",
    "    #datagen.fit(x_train)\n",
    "\n",
    "    # запуск data augmentation через fit_generator\n",
    "    model.fit_generator(datagen.flow(x_train, y_train,\n",
    "                                     batch_size=batch_size),\n",
    "                        epochs=epochs,\n",
    "                        validation_data=(x_test, y_test),\n",
    "                        workers=4)\n",
    "\n",
    "# сохранение модели и весов\n",
    "if not os.path.isdir(save_dir):\n",
    "    os.makedirs(save_dir)\n",
    "model_path = os.path.join(save_dir, model_name)\n",
    "model.save(model_path)\n",
    "print('сохранить обученную модель как %s ' % model_path)\n",
    "\n",
    "# проверка работы обученной модели\n",
    "scores = model.evaluate(x_test, y_test, verbose=1)\n",
    "print('Test loss:', scores[0])\n",
    "print('Test accuracy:', scores[1])"
   ]
  },
  {
   "cell_type": "markdown",
   "metadata": {
    "id": "WEWU08zQ04SN"
   },
   "source": [
    "Что вернет ImageDataGenerator"
   ]
  },
  {
   "cell_type": "code",
   "execution_count": null,
   "metadata": {
    "id": "H5W8O9FRTcgZ"
   },
   "outputs": [],
   "source": [
    "datagen = ImageDataGenerator(\n",
    "        featurewise_center=False,\n",
    "        samplewise_center=False,\n",
    "        featurewise_std_normalization=False,\n",
    "        samplewise_std_normalization=False,\n",
    "        zca_whitening=False, \n",
    "        zca_epsilon=1e-06, \n",
    "        rotation_range=0, \n",
    "        width_shift_range=0.1,\n",
    "        height_shift_range=0.1,\n",
    "        shear_range=0., \n",
    "        zoom_range=0., \n",
    "        channel_shift_range=0.,\n",
    "        fill_mode='nearest',\n",
    "        cval=0.,\n",
    "        horizontal_flip=True,\n",
    "        vertical_flip=False,\n",
    "        rescale=None,\n",
    "        preprocessing_function=None,\n",
    "        data_format=None,\n",
    "        validation_split=0.0)"
   ]
  },
  {
   "cell_type": "code",
   "execution_count": null,
   "metadata": {
    "colab": {
     "base_uri": "https://localhost:8080/",
     "height": 202
    },
    "id": "GYki_abawYzK",
    "outputId": "c9285647-b9bb-4553-981e-0f4279f9e50e"
   },
   "outputs": [
    {
     "data": {
      "image/png": "[encoded data removed]",
      "text/plain": [
       "<Figure size 432x288 with 2 Axes>"
      ]
     },
     "metadata": {
      "needs_background": "light",
      "tags": []
     },
     "output_type": "display_data"
    }
   ],
   "source": [
    "datagen.fit(x_test)\n",
    "for imag,y  in datagen.flow(x_test[N:N+1,:,:,:],y_test[N:N+1], batch_size=1):\n",
    "  plt.subplot(1,2,1)\n",
    "  plt.imshow(x_test[N][:,:,:])\n",
    "  plt.subplot(1,2,2)\n",
    "  plt.imshow(imag[0,:,:,:])\n",
    "\n",
    "  plt.show()\n",
    "  if True:\n",
    "    break\n"
   ]
  },
  {
   "cell_type": "code",
   "execution_count": null,
   "metadata": {
    "colab": {
     "base_uri": "https://localhost:8080/"
    },
    "id": "K_VqY4kFwE0R",
    "outputId": "19f9b9a3-3eb8-405d-d769-a8ba64f2f80e"
   },
   "outputs": [
    {
     "name": "stderr",
     "output_type": "stream",
     "text": [
      "/usr/local/lib/python3.6/dist-packages/tensorflow/python/keras/engine/training.py:1844: UserWarning: `Model.fit_generator` is deprecated and will be removed in a future version. Please use `Model.fit`, which supports generators.\n",
      "  warnings.warn('`Model.fit_generator` is deprecated and '\n"
     ]
    },
    {
     "name": "stdout",
     "output_type": "stream",
     "text": [
      "Epoch 1/5\n",
      "1563/1563 [==============================] - 25s 16ms/step - loss: 1.3769 - accuracy: 0.5045 - val_loss: 1.1755 - val_accuracy: 0.5805\n",
      "Epoch 2/5\n",
      "1563/1563 [==============================] - 25s 16ms/step - loss: 1.3219 - accuracy: 0.5247 - val_loss: 1.1612 - val_accuracy: 0.5852\n",
      "Epoch 3/5\n",
      "1563/1563 [==============================] - 26s 16ms/step - loss: 1.2777 - accuracy: 0.5437 - val_loss: 1.1029 - val_accuracy: 0.6112\n",
      "Epoch 4/5\n",
      "1563/1563 [==============================] - 25s 16ms/step - loss: 1.2268 - accuracy: 0.5597 - val_loss: 1.1355 - val_accuracy: 0.5960\n",
      "Epoch 5/5\n",
      "1563/1563 [==============================] - 25s 16ms/step - loss: 1.1895 - accuracy: 0.5763 - val_loss: 1.0333 - val_accuracy: 0.6349\n"
     ]
    },
    {
     "data": {
      "text/plain": [
       "<tensorflow.python.keras.callbacks.History at 0x7f9d0c0ea588>"
      ]
     },
     "execution_count": 176,
     "metadata": {
      "tags": []
     },
     "output_type": "execute_result"
    }
   ],
   "source": [
    " model.fit_generator(datagen.flow(x_train, y_train,\n",
    "                                     batch_size=batch_size),\n",
    "                        epochs=epochs,\n",
    "                        validation_data=(x_test, y_test))"
   ]
  },
  {
   "cell_type": "code",
   "execution_count": null,
   "metadata": {
    "colab": {
     "base_uri": "https://localhost:8080/",
     "height": 281
    },
    "id": "D3_01HTZmewa",
    "outputId": "d7625022-dd8b-4e35-d802-c3287b6337b3"
   },
   "outputs": [
    {
     "data": {
      "image/png": "[encoded data removed]",
      "text/plain": [
       "<Figure size 432x288 with 1 Axes>"
      ]
     },
     "metadata": {
      "needs_background": "light",
      "tags": []
     },
     "output_type": "display_data"
    }
   ],
   "source": [
    "N = 30\n",
    "y_p=model.predict(x_test[N:N+1][:,:,:])\n",
    "y_t = np.argmax(y_test[N:N+1], axis = 1 )\n",
    "y_i = np.argmax(y_p, axis = 1 )\n",
    "plt.imshow(x_test[N][:,:,:])\n",
    "plt.title('это : '+classes[y_t[0]]+'- опознан как : '+classes[y_i[0]])\n",
    "plt.show()"
   ]
  },
  {
   "cell_type": "code",
   "execution_count": null,
   "metadata": {
    "id": "Ny65naI49Vil"
   },
   "outputs": [],
   "source": []
  },
  {
   "cell_type": "markdown",
   "metadata": {
    "id": "5m6C7vmSm5-e"
   },
   "source": [
    "## Дополнительные материалы\n",
    "\n",
    "<ol>\n",
    "    <li>https://keras.io/layers/convolutional/</li>\n",
    "    <li>https://keras.io/layers/pooling/</li>\n",
    "    <li>https://keras.io/preprocessing/image/</li>\n",
    "</ol>"
   ]
  },
  {
   "cell_type": "markdown",
   "metadata": {
    "id": "ccp0jnYxm5-g"
   },
   "source": [
    "## Используемая литература \n",
    "\n",
    "Для подготовки данного методического пособия были использованы следующие ресурсы:\n",
    "<ol>\n",
    "    <li>https://keras.io</li>\n",
    "    <li>Шакла Н. — Машинное обучение и TensorFlow 2019</li>\n",
    "    <li>Николенко Сергей Игоревич, Кадурин А. А. - Глубокое обучение. Погружение в мир нейронных сетей  2018</li>\n",
    "    <li>Francois Chollet - Deep Learning with Python 2018</li>\n",
    "    <li>Alex Krizhevsky, Ilya Sutskever, Geoffrey E. Hinton - ImageNet Classification with Deep Convolutional Neural Networks</li>\n",
    "    <li>Karen Simonyan, Andrew Zisserman - Very Deep Convolutional Networks for Large-Scale Image Recognition</li>\n",
    "    <li>Википедия</li>    \n",
    "</ol>"
   ]
  },
  {
   "cell_type": "code",
   "execution_count": null,
   "metadata": {
    "id": "9nB_dTU9m5-i"
   },
   "outputs": [],
   "source": [
    "from tensorflow.keras.datasets import imdb"
   ]
  },
  {
   "cell_type": "code",
   "execution_count": null,
   "metadata": {
    "colab": {
     "base_uri": "https://localhost:8080/"
    },
    "id": "OAMMmHyLm5-n",
    "outputId": "e8eb88be-9274-4e33-ce21-16c4e1feb5c6"
   },
   "outputs": [
    {
     "name": "stdout",
     "output_type": "stream",
     "text": [
      "Downloading data from https://storage.googleapis.com/tensorflow/tf-keras-datasets/imdb.npz\n",
      "17465344/17464789 [==============================] - 0s 0us/step\n"
     ]
    },
    {
     "name": "stderr",
     "output_type": "stream",
     "text": [
      "<string>:6: VisibleDeprecationWarning: Creating an ndarray from ragged nested sequences (which is a list-or-tuple of lists-or-tuples-or ndarrays with different lengths or shapes) is deprecated. If you meant to do this, you must specify 'dtype=object' when creating the ndarray\n",
      "/usr/local/lib/python3.6/dist-packages/tensorflow/python/keras/datasets/imdb.py:159: VisibleDeprecationWarning: Creating an ndarray from ragged nested sequences (which is a list-or-tuple of lists-or-tuples-or ndarrays with different lengths or shapes) is deprecated. If you meant to do this, you must specify 'dtype=object' when creating the ndarray\n",
      "  x_train, y_train = np.array(xs[:idx]), np.array(labels[:idx])\n",
      "/usr/local/lib/python3.6/dist-packages/tensorflow/python/keras/datasets/imdb.py:160: VisibleDeprecationWarning: Creating an ndarray from ragged nested sequences (which is a list-or-tuple of lists-or-tuples-or ndarrays with different lengths or shapes) is deprecated. If you meant to do this, you must specify 'dtype=object' when creating the ndarray\n",
      "  x_test, y_test = np.array(xs[idx:]), np.array(labels[idx:])\n"
     ]
    }
   ],
   "source": [
    "(x,y),(d,h) =imdb.load_data(path='imdb.npz')"
   ]
  },
  {
   "cell_type": "code",
   "execution_count": null,
   "metadata": {
    "colab": {
     "base_uri": "https://localhost:8080/"
    },
    "id": "0Q0DL8YDWiri",
    "outputId": "da9505d3-bf96-4dc3-f477-3c388f58baa8"
   },
   "outputs": [
    {
     "data": {
      "text/plain": [
       "6"
      ]
     },
     "execution_count": 191,
     "metadata": {
      "tags": []
     },
     "output_type": "execute_result"
    }
   ],
   "source": [
    "(np.array(x[0])==22).sum()"
   ]
  },
  {
   "cell_type": "code",
   "execution_count": null,
   "metadata": {
    "colab": {
     "base_uri": "https://localhost:8080/"
    },
    "id": "QegQwyO4Wv4C",
    "outputId": "d546f50e-76a1-43c4-9bdf-7d80b01ed4f2"
   },
   "outputs": [
    {
     "data": {
      "text/plain": [
       "0"
      ]
     },
     "execution_count": 192,
     "metadata": {
      "tags": []
     },
     "output_type": "execute_result"
    }
   ],
   "source": [
    "h[0]"
   ]
  },
  {
   "cell_type": "code",
   "execution_count": null,
   "metadata": {
    "id": "vLVUQo6LYOQB"
   },
   "outputs": [],
   "source": []
  }
 ],
 "metadata": {
  "accelerator": "GPU",
  "colab": {
   "collapsed_sections": [],
   "name": "metodich4_colab.ipynb",
   "provenance": []
  },
  "kernelspec": {
   "display_name": "Python 3",
   "language": "python",
   "name": "python3"
  },
  "language_info": {
   "codemirror_mode": {
    "name": "ipython",
    "version": 3
   },
   "file_extension": ".py",
   "mimetype": "text/x-python",
   "name": "python",
   "nbconvert_exporter": "python",
   "pygments_lexer": "ipython3",
   "version": "3.8.11"
  }
 },
 "nbformat": 4,
 "nbformat_minor": 4
}
